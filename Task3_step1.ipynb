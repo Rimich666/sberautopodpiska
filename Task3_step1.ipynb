{
  "nbformat": 4,
  "nbformat_minor": 0,
  "metadata": {
    "colab": {
      "provenance": []
    },
    "kernelspec": {
      "name": "python3",
      "display_name": "Python 3"
    },
    "language_info": {
      "name": "python"
    }
  },
  "cells": [
    {
      "cell_type": "code",
      "source": [
        "import pandas as pd\n",
        "import numpy as np\n",
        "import matplotlib.pyplot as plt\n",
        "import seaborn as sns\n",
        "import scipy.stats as ss\n",
        "import os"
      ],
      "metadata": {
        "id": "hONYPqzbgnEM"
      },
      "execution_count": null,
      "outputs": []
    },
    {
      "cell_type": "code",
      "source": [
        "from google.colab import drive\n",
        "drive.mount('/content/drive', force_remount=True)  # Принудительное перемонтирование"
      ],
      "metadata": {
        "colab": {
          "base_uri": "https://localhost:8080/"
        },
        "id": "Uoih7dJaIp-w",
        "outputId": "39c3b00e-2bc6-4a07-a455-4b163cbaa7e4"
      },
      "execution_count": null,
      "outputs": [
        {
          "output_type": "stream",
          "name": "stdout",
          "text": [
            "Mounted at /content/drive\n"
          ]
        }
      ]
    },
    {
      "cell_type": "code",
      "source": [
        "df_sessions = pd.read_csv('/content/drive/MyDrive/Проектный практикум (хакатон)/ga_sessions.csv', low_memory=False)"
      ],
      "metadata": {
        "id": "RDQqRlE0JIHn"
      },
      "execution_count": null,
      "outputs": []
    },
    {
      "cell_type": "code",
      "source": [
        "df_sessions.shape"
      ],
      "metadata": {
        "colab": {
          "base_uri": "https://localhost:8080/"
        },
        "id": "ZybPenPC8FYF",
        "outputId": "2190b6a1-2c32-417f-e502-dfb081923baf"
      },
      "execution_count": null,
      "outputs": [
        {
          "output_type": "execute_result",
          "data": {
            "text/plain": [
              "(1860042, 18)"
            ]
          },
          "metadata": {},
          "execution_count": 4
        }
      ]
    },
    {
      "cell_type": "code",
      "source": [
        "df_hits = pd.read_csv('/content/drive/MyDrive/Проектный практикум (хакатон)/ga_hits.csv', low_memory=False)"
      ],
      "metadata": {
        "id": "LovqzxW3lbQ4"
      },
      "execution_count": null,
      "outputs": []
    },
    {
      "cell_type": "code",
      "source": [
        "df_hits.shape"
      ],
      "metadata": {
        "colab": {
          "base_uri": "https://localhost:8080/"
        },
        "id": "l7pVOxMMlb4P",
        "outputId": "1b46cbab-08b9-4b42-bb5c-8adedeeef540"
      },
      "execution_count": null,
      "outputs": [
        {
          "output_type": "execute_result",
          "data": {
            "text/plain": [
              "(15726470, 11)"
            ]
          },
          "metadata": {},
          "execution_count": 6
        }
      ]
    },
    {
      "cell_type": "markdown",
      "source": [
        "### **Обработка датасета df_sessions**"
      ],
      "metadata": {
        "id": "jSQM1_pgNN0a"
      }
    },
    {
      "cell_type": "code",
      "source": [
        "# Просмотр колонок датасета\n",
        "print(df_sessions.columns)"
      ],
      "metadata": {
        "colab": {
          "base_uri": "https://localhost:8080/"
        },
        "id": "PNsQcwhAJxHy",
        "outputId": "402835f6-7a6c-4673-e5dd-38beb9a6e48a"
      },
      "execution_count": null,
      "outputs": [
        {
          "output_type": "stream",
          "name": "stdout",
          "text": [
            "Index(['session_id', 'client_id', 'visit_date', 'visit_time', 'visit_number',\n",
            "       'utm_source', 'utm_medium', 'utm_campaign', 'utm_adcontent',\n",
            "       'utm_keyword', 'device_category', 'device_os', 'device_brand',\n",
            "       'device_model', 'device_screen_resolution', 'device_browser',\n",
            "       'geo_country', 'geo_city'],\n",
            "      dtype='object')\n"
          ]
        }
      ]
    },
    {
      "cell_type": "code",
      "source": [
        "# Подсчёт пропусков и сортировка по убыванию\n",
        "missing_values = df_sessions.isnull().sum()\n",
        "\n",
        "# Оставляем только колонки с пропусками и сортируем\n",
        "missing_sorted = missing_values[missing_values > 0].sort_values(ascending=False)\n",
        "\n",
        "print(\"Колонки с пропусками, отсортированные по убыванию:\")\n",
        "print(missing_sorted)\n"
      ],
      "metadata": {
        "colab": {
          "base_uri": "https://localhost:8080/"
        },
        "id": "mYq0m1QzgnKD",
        "outputId": "f30fd3b1-ea0f-4278-9e2b-bece81f7cd8b"
      },
      "execution_count": null,
      "outputs": [
        {
          "output_type": "stream",
          "name": "stdout",
          "text": [
            "Колонки с пропусками, отсортированные по убыванию:\n",
            "device_model     1843704\n",
            "utm_keyword      1082061\n",
            "device_os        1070138\n",
            "device_brand      367178\n",
            "utm_adcontent     335615\n",
            "utm_campaign      219603\n",
            "utm_source            97\n",
            "dtype: int64\n"
          ]
        }
      ]
    },
    {
      "cell_type": "markdown",
      "source": [
        "Обработка пропуска в поле device_model (замена на \"noname\")"
      ],
      "metadata": {
        "id": "v_XUswSMPoj6"
      }
    },
    {
      "cell_type": "code",
      "source": [
        "df_sessions['device_model'] = df_sessions['device_model'].fillna('noname')"
      ],
      "metadata": {
        "id": "0J-Y5XoAPzsq"
      },
      "execution_count": null,
      "outputs": []
    },
    {
      "cell_type": "markdown",
      "source": [
        "Проверим заполнение данных одновременно по полям device_brand и\tdevice_os"
      ],
      "metadata": {
        "id": "snchrMP2SuTi"
      }
    },
    {
      "cell_type": "code",
      "source": [
        "df_sessions.loc[df_sessions['device_category'] == 'desktop', ['device_brand', 'device_os']].value_counts(dropna=False)"
      ],
      "metadata": {
        "colab": {
          "base_uri": "https://localhost:8080/",
          "height": 930
        },
        "id": "By3OBUKqSuiL",
        "outputId": "e2c0e513-b244-469f-a6c6-9fd091c667b1"
      },
      "execution_count": null,
      "outputs": [
        {
          "output_type": "execute_result",
          "data": {
            "text/plain": [
              "device_brand  device_os\n",
              "NaN           NaN          248136\n",
              "              Windows       88291\n",
              "              Macintosh     24804\n",
              "              Linux          5063\n",
              "              (not set)       344\n",
              "              Chrome OS        83\n",
              "Apple         NaN              39\n",
              "              iOS              33\n",
              "Huawei        NaN              16\n",
              "(not set)     NaN               8\n",
              "Xiaomi        Android           6\n",
              "Samsung       NaN               5\n",
              "OPPO          NaN               4\n",
              "Realme        NaN               4\n",
              "Xiaomi        NaN               4\n",
              "Google        Android           4\n",
              "Flexymove     Android           3\n",
              "Huawei        Android           3\n",
              "Samsung       Android           3\n",
              "OnePlus       NaN               2\n",
              "(not set)     Tizen             2\n",
              "Beelink       NaN               2\n",
              "Asus          NaN               1\n",
              "Realme        Android           1\n",
              "Nokia         NaN               1\n",
              "Philips       NaN               1\n",
              "Name: count, dtype: int64"
            ],
            "text/html": [
              "<div>\n",
              "<style scoped>\n",
              "    .dataframe tbody tr th:only-of-type {\n",
              "        vertical-align: middle;\n",
              "    }\n",
              "\n",
              "    .dataframe tbody tr th {\n",
              "        vertical-align: top;\n",
              "    }\n",
              "\n",
              "    .dataframe thead th {\n",
              "        text-align: right;\n",
              "    }\n",
              "</style>\n",
              "<table border=\"1\" class=\"dataframe\">\n",
              "  <thead>\n",
              "    <tr style=\"text-align: right;\">\n",
              "      <th></th>\n",
              "      <th></th>\n",
              "      <th>count</th>\n",
              "    </tr>\n",
              "    <tr>\n",
              "      <th>device_brand</th>\n",
              "      <th>device_os</th>\n",
              "      <th></th>\n",
              "    </tr>\n",
              "  </thead>\n",
              "  <tbody>\n",
              "    <tr>\n",
              "      <th rowspan=\"6\" valign=\"top\">NaN</th>\n",
              "      <th>NaN</th>\n",
              "      <td>248136</td>\n",
              "    </tr>\n",
              "    <tr>\n",
              "      <th>Windows</th>\n",
              "      <td>88291</td>\n",
              "    </tr>\n",
              "    <tr>\n",
              "      <th>Macintosh</th>\n",
              "      <td>24804</td>\n",
              "    </tr>\n",
              "    <tr>\n",
              "      <th>Linux</th>\n",
              "      <td>5063</td>\n",
              "    </tr>\n",
              "    <tr>\n",
              "      <th>(not set)</th>\n",
              "      <td>344</td>\n",
              "    </tr>\n",
              "    <tr>\n",
              "      <th>Chrome OS</th>\n",
              "      <td>83</td>\n",
              "    </tr>\n",
              "    <tr>\n",
              "      <th rowspan=\"2\" valign=\"top\">Apple</th>\n",
              "      <th>NaN</th>\n",
              "      <td>39</td>\n",
              "    </tr>\n",
              "    <tr>\n",
              "      <th>iOS</th>\n",
              "      <td>33</td>\n",
              "    </tr>\n",
              "    <tr>\n",
              "      <th>Huawei</th>\n",
              "      <th>NaN</th>\n",
              "      <td>16</td>\n",
              "    </tr>\n",
              "    <tr>\n",
              "      <th>(not set)</th>\n",
              "      <th>NaN</th>\n",
              "      <td>8</td>\n",
              "    </tr>\n",
              "    <tr>\n",
              "      <th>Xiaomi</th>\n",
              "      <th>Android</th>\n",
              "      <td>6</td>\n",
              "    </tr>\n",
              "    <tr>\n",
              "      <th>Samsung</th>\n",
              "      <th>NaN</th>\n",
              "      <td>5</td>\n",
              "    </tr>\n",
              "    <tr>\n",
              "      <th>OPPO</th>\n",
              "      <th>NaN</th>\n",
              "      <td>4</td>\n",
              "    </tr>\n",
              "    <tr>\n",
              "      <th>Realme</th>\n",
              "      <th>NaN</th>\n",
              "      <td>4</td>\n",
              "    </tr>\n",
              "    <tr>\n",
              "      <th>Xiaomi</th>\n",
              "      <th>NaN</th>\n",
              "      <td>4</td>\n",
              "    </tr>\n",
              "    <tr>\n",
              "      <th>Google</th>\n",
              "      <th>Android</th>\n",
              "      <td>4</td>\n",
              "    </tr>\n",
              "    <tr>\n",
              "      <th>Flexymove</th>\n",
              "      <th>Android</th>\n",
              "      <td>3</td>\n",
              "    </tr>\n",
              "    <tr>\n",
              "      <th>Huawei</th>\n",
              "      <th>Android</th>\n",
              "      <td>3</td>\n",
              "    </tr>\n",
              "    <tr>\n",
              "      <th>Samsung</th>\n",
              "      <th>Android</th>\n",
              "      <td>3</td>\n",
              "    </tr>\n",
              "    <tr>\n",
              "      <th>OnePlus</th>\n",
              "      <th>NaN</th>\n",
              "      <td>2</td>\n",
              "    </tr>\n",
              "    <tr>\n",
              "      <th>(not set)</th>\n",
              "      <th>Tizen</th>\n",
              "      <td>2</td>\n",
              "    </tr>\n",
              "    <tr>\n",
              "      <th>Beelink</th>\n",
              "      <th>NaN</th>\n",
              "      <td>2</td>\n",
              "    </tr>\n",
              "    <tr>\n",
              "      <th>Asus</th>\n",
              "      <th>NaN</th>\n",
              "      <td>1</td>\n",
              "    </tr>\n",
              "    <tr>\n",
              "      <th>Realme</th>\n",
              "      <th>Android</th>\n",
              "      <td>1</td>\n",
              "    </tr>\n",
              "    <tr>\n",
              "      <th>Nokia</th>\n",
              "      <th>NaN</th>\n",
              "      <td>1</td>\n",
              "    </tr>\n",
              "    <tr>\n",
              "      <th>Philips</th>\n",
              "      <th>NaN</th>\n",
              "      <td>1</td>\n",
              "    </tr>\n",
              "  </tbody>\n",
              "</table>\n",
              "</div><br><label><b>dtype:</b> int64</label>"
            ]
          },
          "metadata": {},
          "execution_count": 10
        }
      ]
    },
    {
      "cell_type": "markdown",
      "source": [
        "Обработка пропусков в device_os для устройств Apple"
      ],
      "metadata": {
        "id": "XWInlOS0S8a7"
      }
    },
    {
      "cell_type": "code",
      "source": [
        "# Обработка пропусков в device_os для устройств Apple\n",
        "mask = df_sessions['device_os'].isnull() & (df_sessions['device_brand'] == 'Apple')\n",
        "df_sessions.loc[mask, 'device_os'] = 'iOS'\n",
        "\n",
        "# Проверка результата\n",
        "print(\"Заполнено записей:\", mask.sum())\n",
        "print(df_sessions.loc[mask, ['device_brand', 'device_os']].head())\n"
      ],
      "metadata": {
        "colab": {
          "base_uri": "https://localhost:8080/"
        },
        "id": "u-XxTKx1S8l0",
        "outputId": "16bcb0fd-9b62-4319-a771-61f40f159408"
      },
      "execution_count": null,
      "outputs": [
        {
          "output_type": "stream",
          "name": "stdout",
          "text": [
            "Заполнено записей: 343990\n",
            "   device_brand device_os\n",
            "5         Apple       iOS\n",
            "32        Apple       iOS\n",
            "33        Apple       iOS\n",
            "34        Apple       iOS\n",
            "45        Apple       iOS\n"
          ]
        }
      ]
    },
    {
      "cell_type": "markdown",
      "source": [
        "Переобозначение пропусков в поле device_brand и device_os"
      ],
      "metadata": {
        "id": "fUUgF9pjTHmd"
      }
    },
    {
      "cell_type": "code",
      "source": [
        "# Маска для строк, где оба поля device_brand и device_os пусты\n",
        "mask_both_nan = df_sessions['device_brand'].isnull() & df_sessions['device_os'].isnull()\n",
        "\n",
        "# Заполняем пропуски\n",
        "df_sessions.loc[mask_both_nan, 'device_brand'] = 'noname_device_brand'\n",
        "df_sessions.loc[mask_both_nan, 'device_os']    = 'noname_device_os'\n",
        "\n",
        "# Проверка результата\n",
        "print(f\"Заполнено строк: {mask_both_nan.sum()}\")\n",
        "print(df_sessions.loc[mask_both_nan, ['device_brand', 'device_os']].head())\n"
      ],
      "metadata": {
        "colab": {
          "base_uri": "https://localhost:8080/"
        },
        "id": "Lsg7s5K4THxe",
        "outputId": "de63f3d3-35ed-4bc1-ef2e-fda0d9b0e97b"
      },
      "execution_count": null,
      "outputs": [
        {
          "output_type": "stream",
          "name": "stdout",
          "text": [
            "Заполнено строк: 248500\n",
            "           device_brand         device_os\n",
            "63  noname_device_brand  noname_device_os\n",
            "64  noname_device_brand  noname_device_os\n",
            "73  noname_device_brand  noname_device_os\n",
            "74  noname_device_brand  noname_device_os\n",
            "78  noname_device_brand  noname_device_os\n"
          ]
        }
      ]
    },
    {
      "cell_type": "markdown",
      "source": [
        "Заполнение device_brand для десктопных ОС"
      ],
      "metadata": {
        "id": "pZRgS4FOVexT"
      }
    },
    {
      "cell_type": "code",
      "source": [
        "# Заполнение device_brand = 'PC' для десктопных ОС\n",
        "desktop_oses = ['Windows', 'Macintosh', 'Linux', 'Chrome OS']\n",
        "mask_desktop = df_sessions['device_os'].isin(desktop_oses)\n",
        "\n",
        "df_sessions.loc[mask_desktop, 'device_brand'] = 'PC'\n",
        "\n",
        "# Проверка результата\n",
        "print(f\"Строк обновлено: {mask_desktop.sum()}\")\n",
        "print(df_sessions.loc[mask_desktop, ['device_os', 'device_brand']].drop_duplicates().head())\n"
      ],
      "metadata": {
        "colab": {
          "base_uri": "https://localhost:8080/"
        },
        "id": "qZ1LF-8KUy29",
        "outputId": "a47d05bd-16ad-4818-d99b-415e02c5b73f"
      },
      "execution_count": null,
      "outputs": [
        {
          "output_type": "stream",
          "name": "stdout",
          "text": [
            "Строк обновлено: 118334\n",
            "       device_os device_brand\n",
            "28       Windows           PC\n",
            "206        Linux           PC\n",
            "225    Macintosh           PC\n",
            "23600  Chrome OS           PC\n"
          ]
        }
      ]
    },
    {
      "cell_type": "code",
      "source": [
        "# Маска: device_os пустой, device_brand заполнен и не равен '(not set)'\n",
        "mask_android = (\n",
        "    df_sessions['device_os'].isnull() &\n",
        "    df_sessions['device_brand'].notnull() &\n",
        "    (df_sessions['device_brand'] != '(not set)')\n",
        ")\n",
        "\n",
        "# Заполняем пропуски в device_os значением 'Android'\n",
        "df_sessions.loc[mask_android, 'device_os'] = 'Android'\n",
        "\n",
        "# Проверка\n",
        "print(f\"Заполнено строк: {mask_android.sum()}\")\n",
        "print(df_sessions.loc[mask_android, ['device_brand', 'device_os']].drop_duplicates().head())\n"
      ],
      "metadata": {
        "colab": {
          "base_uri": "https://localhost:8080/"
        },
        "id": "GDdNf5rYWLSF",
        "outputId": "1cfa5a2a-58a2-49ba-827d-b1438d5030a6"
      },
      "execution_count": null,
      "outputs": [
        {
          "output_type": "stream",
          "name": "stdout",
          "text": [
            "Заполнено строк: 469881\n",
            "   device_brand device_os\n",
            "3        Xiaomi   Android\n",
            "7       Samsung   Android\n",
            "47       Huawei   Android\n",
            "53         Vivo   Android\n",
            "86           BQ   Android\n"
          ]
        }
      ]
    },
    {
      "cell_type": "markdown",
      "source": [
        "Удаляем строки с device_brand равным NaN (их количество некритично для выборки)"
      ],
      "metadata": {
        "id": "acDL3Cx8Y278"
      }
    },
    {
      "cell_type": "code",
      "source": [
        "# Сохраним исходное количество строк\n",
        "initial_count = len(df_sessions)\n",
        "\n",
        "# Фильтруем: оставляем только строки, где device_brand не NaN\n",
        "df_sessions = df_sessions[df_sessions['device_brand'].notnull()]\n",
        "\n",
        "# Считаем оставшиеся и удалённые строки\n",
        "remaining_count = len(df_sessions)\n",
        "deleted_count = initial_count - remaining_count\n",
        "\n",
        "print(f\"Удалено строк: {deleted_count}\")\n",
        "print(f\"Осталось строк: {remaining_count}\")\n"
      ],
      "metadata": {
        "colab": {
          "base_uri": "https://localhost:8080/"
        },
        "id": "9-FeYVUOWrVk",
        "outputId": "5cb8c8b5-b759-422b-d8d1-c390ef167f88"
      },
      "execution_count": null,
      "outputs": [
        {
          "output_type": "stream",
          "name": "stdout",
          "text": [
            "Удалено строк: 344\n",
            "Осталось строк: 1859698\n"
          ]
        }
      ]
    },
    {
      "cell_type": "markdown",
      "source": [
        "Удаляем строки с device_brand равным not set  (их количество некритично для выборки)"
      ],
      "metadata": {
        "id": "4UUHkI0fZCBl"
      }
    },
    {
      "cell_type": "code",
      "source": [
        "# Удаляем все строки, где device_brand == '(not set)'\n",
        "mask_notset = df_sessions['device_brand'] == '(not set)'\n",
        "df_sessions = df_sessions.loc[~mask_notset].reset_index(drop=True)\n",
        "\n",
        "# Проверка: сколько строк было удалено и сколько осталось\n",
        "print(f\"Удалено строк: {mask_notset.sum()}\")\n",
        "print(f\"Осталось строк: {len(df_sessions)}\")\n"
      ],
      "metadata": {
        "colab": {
          "base_uri": "https://localhost:8080/"
        },
        "id": "eaTj7BhRW6lJ",
        "outputId": "33109f47-4b58-4042-f39d-9bdebbebd8ec"
      },
      "execution_count": null,
      "outputs": [
        {
          "output_type": "stream",
          "name": "stdout",
          "text": [
            "Удалено строк: 17545\n",
            "Осталось строк: 1842153\n"
          ]
        }
      ]
    },
    {
      "cell_type": "code",
      "source": [
        "df_sessions.loc[df_sessions['device_category'] == 'desktop', ['device_brand', 'device_os']].value_counts(dropna=False)"
      ],
      "metadata": {
        "colab": {
          "base_uri": "https://localhost:8080/",
          "height": 680
        },
        "id": "E2msmXHQVqqd",
        "outputId": "f8ed5d88-d1fe-4725-ee36-4f43ae2c703f"
      },
      "execution_count": null,
      "outputs": [
        {
          "output_type": "execute_result",
          "data": {
            "text/plain": [
              "device_brand         device_os       \n",
              "noname_device_brand  noname_device_os    248136\n",
              "PC                   Windows              88291\n",
              "                     Macintosh            24804\n",
              "                     Linux                 5063\n",
              "                     Chrome OS               83\n",
              "Apple                iOS                     72\n",
              "Huawei               Android                 19\n",
              "Xiaomi               Android                 10\n",
              "Samsung              Android                  8\n",
              "Realme               Android                  5\n",
              "Google               Android                  4\n",
              "OPPO                 Android                  4\n",
              "Flexymove            Android                  3\n",
              "Beelink              Android                  2\n",
              "OnePlus              Android                  2\n",
              "Asus                 Android                  1\n",
              "Nokia                Android                  1\n",
              "Philips              Android                  1\n",
              "Name: count, dtype: int64"
            ],
            "text/html": [
              "<div>\n",
              "<style scoped>\n",
              "    .dataframe tbody tr th:only-of-type {\n",
              "        vertical-align: middle;\n",
              "    }\n",
              "\n",
              "    .dataframe tbody tr th {\n",
              "        vertical-align: top;\n",
              "    }\n",
              "\n",
              "    .dataframe thead th {\n",
              "        text-align: right;\n",
              "    }\n",
              "</style>\n",
              "<table border=\"1\" class=\"dataframe\">\n",
              "  <thead>\n",
              "    <tr style=\"text-align: right;\">\n",
              "      <th></th>\n",
              "      <th></th>\n",
              "      <th>count</th>\n",
              "    </tr>\n",
              "    <tr>\n",
              "      <th>device_brand</th>\n",
              "      <th>device_os</th>\n",
              "      <th></th>\n",
              "    </tr>\n",
              "  </thead>\n",
              "  <tbody>\n",
              "    <tr>\n",
              "      <th>noname_device_brand</th>\n",
              "      <th>noname_device_os</th>\n",
              "      <td>248136</td>\n",
              "    </tr>\n",
              "    <tr>\n",
              "      <th rowspan=\"4\" valign=\"top\">PC</th>\n",
              "      <th>Windows</th>\n",
              "      <td>88291</td>\n",
              "    </tr>\n",
              "    <tr>\n",
              "      <th>Macintosh</th>\n",
              "      <td>24804</td>\n",
              "    </tr>\n",
              "    <tr>\n",
              "      <th>Linux</th>\n",
              "      <td>5063</td>\n",
              "    </tr>\n",
              "    <tr>\n",
              "      <th>Chrome OS</th>\n",
              "      <td>83</td>\n",
              "    </tr>\n",
              "    <tr>\n",
              "      <th>Apple</th>\n",
              "      <th>iOS</th>\n",
              "      <td>72</td>\n",
              "    </tr>\n",
              "    <tr>\n",
              "      <th>Huawei</th>\n",
              "      <th>Android</th>\n",
              "      <td>19</td>\n",
              "    </tr>\n",
              "    <tr>\n",
              "      <th>Xiaomi</th>\n",
              "      <th>Android</th>\n",
              "      <td>10</td>\n",
              "    </tr>\n",
              "    <tr>\n",
              "      <th>Samsung</th>\n",
              "      <th>Android</th>\n",
              "      <td>8</td>\n",
              "    </tr>\n",
              "    <tr>\n",
              "      <th>Realme</th>\n",
              "      <th>Android</th>\n",
              "      <td>5</td>\n",
              "    </tr>\n",
              "    <tr>\n",
              "      <th>Google</th>\n",
              "      <th>Android</th>\n",
              "      <td>4</td>\n",
              "    </tr>\n",
              "    <tr>\n",
              "      <th>OPPO</th>\n",
              "      <th>Android</th>\n",
              "      <td>4</td>\n",
              "    </tr>\n",
              "    <tr>\n",
              "      <th>Flexymove</th>\n",
              "      <th>Android</th>\n",
              "      <td>3</td>\n",
              "    </tr>\n",
              "    <tr>\n",
              "      <th>Beelink</th>\n",
              "      <th>Android</th>\n",
              "      <td>2</td>\n",
              "    </tr>\n",
              "    <tr>\n",
              "      <th>OnePlus</th>\n",
              "      <th>Android</th>\n",
              "      <td>2</td>\n",
              "    </tr>\n",
              "    <tr>\n",
              "      <th>Asus</th>\n",
              "      <th>Android</th>\n",
              "      <td>1</td>\n",
              "    </tr>\n",
              "    <tr>\n",
              "      <th>Nokia</th>\n",
              "      <th>Android</th>\n",
              "      <td>1</td>\n",
              "    </tr>\n",
              "    <tr>\n",
              "      <th>Philips</th>\n",
              "      <th>Android</th>\n",
              "      <td>1</td>\n",
              "    </tr>\n",
              "  </tbody>\n",
              "</table>\n",
              "</div><br><label><b>dtype:</b> int64</label>"
            ]
          },
          "metadata": {},
          "execution_count": 17
        }
      ]
    },
    {
      "cell_type": "markdown",
      "source": [
        "Обработка пропуска в поле utm_keyword"
      ],
      "metadata": {
        "id": "tZ2JSLN2QL5J"
      }
    },
    {
      "cell_type": "code",
      "source": [
        "# 1. Маска строк с непустым utm_campaign\n",
        "mask_campaign = df_sessions['utm_campaign'].notnull()\n",
        "\n",
        "# 2. Всего таких строк\n",
        "total_campaign = mask_campaign.sum()\n",
        "\n",
        "# 3. Среди них — сколько с непустым utm_keyword\n",
        "with_keyword = df_sessions.loc[mask_campaign, 'utm_keyword'].notnull().sum()\n",
        "\n",
        "# 4. Сколько без utm_keyword\n",
        "without_keyword = total_campaign - with_keyword\n",
        "\n",
        "print(f'Всего строк с utm_campaign: {total_campaign}')\n",
        "print(f'Из них строк с utm_keyword: {with_keyword}')\n",
        "print(f'Строк без utm_keyword при существующем utm_campaign: {without_keyword}')\n",
        "\n",
        "# 5. Процент неполных записей\n",
        "pct = without_keyword / total_campaign * 100\n",
        "print(f'Процент строк, где utm_campaign есть, а utm_keyword нет: {pct:.2f}%')\n"
      ],
      "metadata": {
        "colab": {
          "base_uri": "https://localhost:8080/"
        },
        "id": "oN5kRuc_Qmn6",
        "outputId": "df0432b5-5bb1-4a36-aab2-4c3b4f623102"
      },
      "execution_count": null,
      "outputs": [
        {
          "output_type": "stream",
          "name": "stdout",
          "text": [
            "Всего строк с utm_campaign: 1624036\n",
            "Из них строк с utm_keyword: 692895\n",
            "Строк без utm_keyword при существующем utm_campaign: 931141\n",
            "Процент строк, где utm_campaign есть, а utm_keyword нет: 57.33%\n"
          ]
        }
      ]
    },
    {
      "cell_type": "markdown",
      "source": [
        "Таким образом, utm_keyword присутствует не всегда, поэтому его можно заменить на значение \"without_utm_keyword\"\n"
      ],
      "metadata": {
        "id": "6mGl6KNIQ6f5"
      }
    },
    {
      "cell_type": "code",
      "source": [
        "df_sessions['utm_keyword'] = df_sessions['utm_keyword'].fillna('without_utm_keyword')"
      ],
      "metadata": {
        "id": "tcGYr3bORCdq"
      },
      "execution_count": null,
      "outputs": []
    },
    {
      "cell_type": "markdown",
      "source": [
        "Попробуем обработать пропуски в utm_source.\n",
        "Предположим, что пропуски по полю utm_source можно подставить, если клиент (client_id) с такой же сессией (session_id) имеет заполненной колонку utm_source"
      ],
      "metadata": {
        "id": "zND9wyO_NpAa"
      }
    },
    {
      "cell_type": "code",
      "source": [
        "# 1) Для каждой группы (client_id, session_id) найдём первое ненулевое значение utm_source\n",
        "## first_sources = (\n",
        "##    df_sessions\n",
        "##    .groupby(['client_id', 'session_id'])['utm_source']\n",
        "##    .transform(lambda col: col.dropna().iloc[0] if col.dropna().any() else np.nan)\n",
        "##)\n",
        "\n",
        "# 2) Заполним пропуски в utm_source этим значением\n",
        "##df_sessions['utm_source'] = df_sessions['utm_source'].fillna(first_sources)\n",
        "\n",
        "# Проверка:\n",
        "##print(df_sessions['utm_source'].isnull().sum(), \"— осталось пропусков\")"
      ],
      "metadata": {
        "id": "bCDUJwK3NQP5"
      },
      "execution_count": null,
      "outputs": []
    },
    {
      "cell_type": "markdown",
      "source": [
        "Пропусков осталось то же количество (97), т.к. не оказалом одинаковых сочетаний client_id и session_id."
      ],
      "metadata": {
        "id": "lI1b3LTpqDJY"
      }
    },
    {
      "cell_type": "markdown",
      "source": [
        "Тогда удалим строки с пропусками в utm_source  (их количество некритично для выборки)\n"
      ],
      "metadata": {
        "id": "O-OrOAHvZlOU"
      }
    },
    {
      "cell_type": "code",
      "source": [
        "# Сохраняем исходное количество строк\n",
        "initial_count = len(df_sessions)\n",
        "\n",
        "# Удаляем строки с пропущенным utm_source\n",
        "df_sessions = df_sessions[df_sessions['utm_source'].notnull()]\n",
        "\n",
        "# Считаем удалённые и оставшиеся строки\n",
        "remaining_count = len(df_sessions)\n",
        "deleted_count = initial_count - remaining_count\n",
        "\n",
        "print(f\"Удалено строк с пропущенным utm_source: {deleted_count}\")\n",
        "print(f\"Осталось строк: {remaining_count}\")\n"
      ],
      "metadata": {
        "colab": {
          "base_uri": "https://localhost:8080/"
        },
        "id": "kCs6Cvs9ZljD",
        "outputId": "5418844c-4a95-4445-d825-d5ba603b0927"
      },
      "execution_count": null,
      "outputs": [
        {
          "output_type": "stream",
          "name": "stdout",
          "text": [
            "Удалено строк с пропущенным utm_source: 97\n",
            "Осталось строк: 1842056\n"
          ]
        }
      ]
    },
    {
      "cell_type": "markdown",
      "source": [
        "Проверим оставшиеся пропуски"
      ],
      "metadata": {
        "id": "tVdcBWALcEER"
      }
    },
    {
      "cell_type": "code",
      "source": [
        "# Проверка количества пропусков в каждой колонке\n",
        "missing_values = df_sessions.isnull().sum()\n",
        "print(\"Количество пропусков (NaN/None) в каждой колонке:\")\n",
        "print(missing_values[missing_values > 0])  # Показываем только колонки с пропусками"
      ],
      "metadata": {
        "colab": {
          "base_uri": "https://localhost:8080/"
        },
        "id": "ZEarhQ-8K5yL",
        "outputId": "4b0f6f60-70aa-48fc-a11a-0866713a1d42"
      },
      "execution_count": null,
      "outputs": [
        {
          "output_type": "stream",
          "name": "stdout",
          "text": [
            "Количество пропусков (NaN/None) в каждой колонке:\n",
            "utm_campaign     218117\n",
            "utm_adcontent    333613\n",
            "dtype: int64\n"
          ]
        }
      ]
    },
    {
      "cell_type": "markdown",
      "source": [
        "Проставим значение without_utm_campaign в поле utm_campaign, в которых есть пропуски"
      ],
      "metadata": {
        "id": "ntpsgEV6cRmF"
      }
    },
    {
      "cell_type": "code",
      "source": [
        "# Маска строк с пропущенным utm_campaign\n",
        "mask_no_campaign = df_sessions['utm_campaign'].isnull()\n",
        "\n",
        "# Заполняем их значением 'without_utm_campaign'\n",
        "df_sessions.loc[mask_no_campaign, 'utm_campaign'] = 'without_utm_campaign'\n",
        "\n",
        "# Проверка результата\n",
        "print(f\"Заполнено строк: {mask_no_campaign.sum()}\")\n",
        "print(df_sessions['utm_campaign'].value_counts().head())\n"
      ],
      "metadata": {
        "colab": {
          "base_uri": "https://localhost:8080/"
        },
        "id": "7zFk6nrvcqyF",
        "outputId": "d05505b2-d25f-4bf8-c1b8-7b7c6c9a9b01"
      },
      "execution_count": null,
      "outputs": [
        {
          "output_type": "stream",
          "name": "stdout",
          "text": [
            "Заполнено строк: 218117\n",
            "utm_campaign\n",
            "LTuZkdKfxRGVceoWkVyg    460503\n",
            "LEoPHuyFvzoNfnzGgfcd    319490\n",
            "FTjNLDyTrXaWYgZymFkV    243917\n",
            "without_utm_campaign    218117\n",
            "gecBYcKZCPMcVYdSSzKP    132505\n",
            "Name: count, dtype: int64\n"
          ]
        }
      ]
    },
    {
      "cell_type": "markdown",
      "source": [
        "Проставим значение without_utm_adcontent в поле utm_adcontent, в которых есть пропуски"
      ],
      "metadata": {
        "id": "GsWHBMAsc-D6"
      }
    },
    {
      "cell_type": "code",
      "source": [
        "# Маска строк с пропущенным utm_campaign\n",
        "mask_no_adconten = df_sessions['utm_adcontent'].isnull()\n",
        "\n",
        "# Заполняем их значением 'without_utm_campaign'\n",
        "df_sessions.loc[mask_no_adconten, 'utm_adcontent'] = 'without_utm_adcontent'\n",
        "\n",
        "# Проверка результата\n",
        "print(f\"Заполнено строк: {mask_no_adconten.sum()}\")\n",
        "print(df_sessions['utm_adcontent'].value_counts().head())"
      ],
      "metadata": {
        "colab": {
          "base_uri": "https://localhost:8080/"
        },
        "id": "Gfg_xPW1dJMb",
        "outputId": "e68bd8f5-f0f8-4c00-ba3d-330333fc9552"
      },
      "execution_count": null,
      "outputs": [
        {
          "output_type": "stream",
          "name": "stdout",
          "text": [
            "Заполнено строк: 333613\n",
            "utm_adcontent\n",
            "JNHcPlZPxEMWDnRiyoBf     998250\n",
            "without_utm_adcontent    333613\n",
            "vCIpmpaGBnIQhyYNkXqp     177757\n",
            "xhoenQgDQsgfEPYNPwKO     111268\n",
            "PkybGvWbaqORmxjNunqZ      59302\n",
            "Name: count, dtype: int64\n"
          ]
        }
      ]
    },
    {
      "cell_type": "markdown",
      "source": [
        "Добавим новую колонку has_utm_campaign с бинарными признаками, если рекламная кампания 1 - была, 2 - не было"
      ],
      "metadata": {
        "id": "0iwaMzBbzxlN"
      }
    },
    {
      "cell_type": "code",
      "source": [
        "# Добавляем отдельный бинарный признак: 1, если utm_campaign не пустой, 0 если пустой\n",
        "df_sessions['has_utm_campaign'] = df_sessions['utm_campaign'].notna().astype(int)\n",
        "\n",
        "# Проверка результата\n",
        "print(df_sessions[['utm_campaign', 'has_utm_campaign']].head())\n",
        "print(\"Уникальные значения в has_utm_campaign:\", df_sessions['has_utm_campaign'].unique())\n",
        "\n"
      ],
      "metadata": {
        "colab": {
          "base_uri": "https://localhost:8080/"
        },
        "id": "ieNJ2l8ZzxQa",
        "outputId": "7e45194e-4bd9-451f-aa1f-bc63372629f9"
      },
      "execution_count": null,
      "outputs": [
        {
          "output_type": "stream",
          "name": "stdout",
          "text": [
            "           utm_campaign  has_utm_campaign\n",
            "0  LEoPHuyFvzoNfnzGgfcd                 1\n",
            "1  FTjNLDyTrXaWYgZymFkV                 1\n",
            "2  LEoPHuyFvzoNfnzGgfcd                 1\n",
            "3  without_utm_campaign                 1\n",
            "4  without_utm_campaign                 1\n",
            "Уникальные значения в has_utm_campaign: [1]\n"
          ]
        }
      ]
    },
    {
      "cell_type": "markdown",
      "source": [
        "Контрольная проверка пропусков в датасете"
      ],
      "metadata": {
        "id": "dOaQ-BlZdauW"
      }
    },
    {
      "cell_type": "code",
      "source": [
        "# Проверка количества пропусков в каждой колонке\n",
        "missing_values = df_sessions.isnull().sum()\n",
        "print(\"Количество пропусков (NaN/None) в каждой колонке:\")\n",
        "print(missing_values[missing_values > 0])  # Показываем только колонки с пропусками"
      ],
      "metadata": {
        "colab": {
          "base_uri": "https://localhost:8080/"
        },
        "id": "rmS_cifIdhCO",
        "outputId": "f83bbbea-fc54-40d1-a044-8f7289bc5b7a"
      },
      "execution_count": null,
      "outputs": [
        {
          "output_type": "stream",
          "name": "stdout",
          "text": [
            "Количество пропусков (NaN/None) в каждой колонке:\n",
            "Series([], dtype: int64)\n"
          ]
        }
      ]
    },
    {
      "cell_type": "markdown",
      "source": [
        "Обработка типов данных в датасете df_sessions"
      ],
      "metadata": {
        "id": "ETRodMS7dr9b"
      }
    },
    {
      "cell_type": "code",
      "source": [
        "# Просмотр колонок датасета\n",
        "print(df_sessions.columns)"
      ],
      "metadata": {
        "colab": {
          "base_uri": "https://localhost:8080/"
        },
        "id": "52Fb9ydfIG_A",
        "outputId": "e448bc8b-c077-4ac8-d1e8-a29d1b01d150"
      },
      "execution_count": null,
      "outputs": [
        {
          "output_type": "stream",
          "name": "stdout",
          "text": [
            "Index(['session_id', 'client_id', 'visit_date', 'visit_time', 'visit_number',\n",
            "       'utm_source', 'utm_medium', 'utm_campaign', 'utm_adcontent',\n",
            "       'utm_keyword', 'device_category', 'device_os', 'device_brand',\n",
            "       'device_model', 'device_screen_resolution', 'device_browser',\n",
            "       'geo_country', 'geo_city', 'has_utm_campaign'],\n",
            "      dtype='object')\n"
          ]
        }
      ]
    },
    {
      "cell_type": "code",
      "source": [
        "df_sessions.info()"
      ],
      "metadata": {
        "colab": {
          "base_uri": "https://localhost:8080/"
        },
        "id": "Paxfb0pHeHKF",
        "outputId": "3beeefec-e3df-402e-8902-1cbbce3f9e1a"
      },
      "execution_count": null,
      "outputs": [
        {
          "output_type": "stream",
          "name": "stdout",
          "text": [
            "<class 'pandas.core.frame.DataFrame'>\n",
            "Index: 1842056 entries, 0 to 1842152\n",
            "Data columns (total 19 columns):\n",
            " #   Column                    Dtype \n",
            "---  ------                    ----- \n",
            " 0   session_id                object\n",
            " 1   client_id                 object\n",
            " 2   visit_date                object\n",
            " 3   visit_time                object\n",
            " 4   visit_number              int64 \n",
            " 5   utm_source                object\n",
            " 6   utm_medium                object\n",
            " 7   utm_campaign              object\n",
            " 8   utm_adcontent             object\n",
            " 9   utm_keyword               object\n",
            " 10  device_category           object\n",
            " 11  device_os                 object\n",
            " 12  device_brand              object\n",
            " 13  device_model              object\n",
            " 14  device_screen_resolution  object\n",
            " 15  device_browser            object\n",
            " 16  geo_country               object\n",
            " 17  geo_city                  object\n",
            " 18  has_utm_campaign          int64 \n",
            "dtypes: int64(2), object(17)\n",
            "memory usage: 281.1+ MB\n"
          ]
        }
      ]
    },
    {
      "cell_type": "code",
      "source": [
        "# Изменение настроек типов для отдельных колонок\n",
        "dtype_settings = {\n",
        "    'client_id': 'str',\n",
        "    'session_id': 'str',\n",
        "}"
      ],
      "metadata": {
        "id": "-slgwYWZki4F"
      },
      "execution_count": null,
      "outputs": []
    },
    {
      "cell_type": "code",
      "source": [
        "# Проверка изменения настроек типов\n",
        "print(df_sessions['client_id'].dtype)  # должно быть object или str\n",
        "print(df_sessions['client_id'].head())  # провека первых значений"
      ],
      "metadata": {
        "id": "IVf7VLxOkuEl",
        "colab": {
          "base_uri": "https://localhost:8080/"
        },
        "outputId": "841e5f55-a2fa-4681-bb27-4b02f306370e"
      },
      "execution_count": null,
      "outputs": [
        {
          "output_type": "stream",
          "name": "stdout",
          "text": [
            "object\n",
            "0    2108382700.1637753791\n",
            "1     210838531.1636867288\n",
            "2    2108385331.1640648523\n",
            "3    2108385564.1622255328\n",
            "4    2108385564.1622255328\n",
            "Name: client_id, dtype: object\n"
          ]
        }
      ]
    },
    {
      "cell_type": "code",
      "source": [
        "# Преобразуем visit_date в datetime (дата)\n",
        "df_sessions['visit_date'] = pd.to_datetime(\n",
        "    df_sessions['visit_date'],\n",
        "    format='%Y-%m-%d',  # или оставьте без format, если формат может варьироваться\n",
        "    errors='raise'\n",
        ")\n",
        "\n",
        "# Преобразуем строку вида \"HH:MM:SS\" в timedelta (время с полуночи)\n",
        "df_sessions['visit_time'] = pd.to_timedelta(df_sessions['visit_time'], errors='coerce')\n",
        "\n",
        "# Проверим типы\n",
        "print(df_sessions[['visit_date','visit_time']].dtypes)"
      ],
      "metadata": {
        "id": "4rzXzhRvqUs7",
        "colab": {
          "base_uri": "https://localhost:8080/"
        },
        "outputId": "f28852f6-31dd-46a7-c112-5430db40296c"
      },
      "execution_count": null,
      "outputs": [
        {
          "output_type": "stream",
          "name": "stdout",
          "text": [
            "visit_date     datetime64[ns]\n",
            "visit_time    timedelta64[ns]\n",
            "dtype: object\n"
          ]
        }
      ]
    },
    {
      "cell_type": "code",
      "source": [
        "df_sessions.info()"
      ],
      "metadata": {
        "id": "2hphdEkVx-Mi",
        "colab": {
          "base_uri": "https://localhost:8080/"
        },
        "outputId": "6e1b94c6-cdf2-4b58-b0cf-6e53bc9eb9db"
      },
      "execution_count": null,
      "outputs": [
        {
          "output_type": "stream",
          "name": "stdout",
          "text": [
            "<class 'pandas.core.frame.DataFrame'>\n",
            "Index: 1842056 entries, 0 to 1842152\n",
            "Data columns (total 19 columns):\n",
            " #   Column                    Dtype          \n",
            "---  ------                    -----          \n",
            " 0   session_id                object         \n",
            " 1   client_id                 object         \n",
            " 2   visit_date                datetime64[ns] \n",
            " 3   visit_time                timedelta64[ns]\n",
            " 4   visit_number              int64          \n",
            " 5   utm_source                object         \n",
            " 6   utm_medium                object         \n",
            " 7   utm_campaign              object         \n",
            " 8   utm_adcontent             object         \n",
            " 9   utm_keyword               object         \n",
            " 10  device_category           object         \n",
            " 11  device_os                 object         \n",
            " 12  device_brand              object         \n",
            " 13  device_model              object         \n",
            " 14  device_screen_resolution  object         \n",
            " 15  device_browser            object         \n",
            " 16  geo_country               object         \n",
            " 17  geo_city                  object         \n",
            " 18  has_utm_campaign          int64          \n",
            "dtypes: datetime64[ns](1), int64(2), object(15), timedelta64[ns](1)\n",
            "memory usage: 281.1+ MB\n"
          ]
        }
      ]
    },
    {
      "cell_type": "markdown",
      "source": [
        "# **Обработка датасета df_hits**"
      ],
      "metadata": {
        "id": "4P-GvyKwhSc1"
      }
    },
    {
      "cell_type": "code",
      "source": [
        "# Просмотр колонок датасета\n",
        "print(df_hits.columns)"
      ],
      "metadata": {
        "id": "7oHf7h-Alkw_",
        "colab": {
          "base_uri": "https://localhost:8080/"
        },
        "outputId": "1d0889a8-3f00-4ce0-e7dd-82998dfeac1a"
      },
      "execution_count": null,
      "outputs": [
        {
          "output_type": "stream",
          "name": "stdout",
          "text": [
            "Index(['session_id', 'hit_date', 'hit_time', 'hit_number', 'hit_type',\n",
            "       'hit_referer', 'hit_page_path', 'event_category', 'event_action',\n",
            "       'event_label', 'event_value'],\n",
            "      dtype='object')\n"
          ]
        }
      ]
    },
    {
      "cell_type": "code",
      "source": [
        "# Подсчёт пропусков и сортировка по убыванию\n",
        "missing_values = df_hits.isnull().sum()\n",
        "\n",
        "# Оставляем только колонки с пропусками и сортируем\n",
        "missing_sorted = missing_values[missing_values > 0].sort_values(ascending=False)\n",
        "\n",
        "print(\"Колонки с пропусками, отсортированные по убыванию:\")\n",
        "print(missing_sorted)\n"
      ],
      "metadata": {
        "id": "GVhINMs4lvgk",
        "colab": {
          "base_uri": "https://localhost:8080/"
        },
        "outputId": "022a52a1-3b1d-4fb1-9da2-4a5f6d948d3f"
      },
      "execution_count": null,
      "outputs": [
        {
          "output_type": "stream",
          "name": "stdout",
          "text": [
            "Колонки с пропусками, отсортированные по убыванию:\n",
            "event_value    15726470\n",
            "hit_time        9160322\n",
            "hit_referer     6274804\n",
            "event_label     3760184\n",
            "dtype: int64\n"
          ]
        }
      ]
    },
    {
      "cell_type": "markdown",
      "source": [
        "Обработаем пропуски"
      ],
      "metadata": {
        "id": "CsZ0m_npoDr2"
      }
    },
    {
      "cell_type": "code",
      "source": [
        "# 0. Смотрим изначальное число строк\n",
        "initial_hits = len(df_hits)\n",
        "\n",
        "# 1. Заполняем event_value нулями\n",
        "df_hits['event_value'] = df_hits['event_value'].fillna(0)\n",
        "\n",
        "# 2. Преобразуем hit_time в timedelta и заполняем 0\n",
        "df_hits['hit_time'] = pd.to_timedelta(df_hits['hit_time'], errors='coerce')\n",
        "df_hits['hit_time'] = df_hits['hit_time'].fillna(pd.Timedelta(seconds=0))\n",
        "\n",
        "# 3. Заполняем текстовые поля\n",
        "df_hits['hit_referer']  = df_hits['hit_referer'].fillna('unknown')\n",
        "df_hits['event_label']  = df_hits['event_label'].fillna('unknown')\n",
        "\n",
        "# 4. Проверяем результат\n",
        "missing_after = df_hits.isnull().sum()\n",
        "print(\"Пропуски после заполнения:\\n\", missing_after[missing_after > 0])\n",
        "\n",
        "# 5. Сохраняем очищенный df_hits\n",
        "print(f\"Строк обработано: {initial_hits} → {len(df_hits)} (не удалили ни одной)\")"
      ],
      "metadata": {
        "id": "2Ibk0q-doDEc",
        "colab": {
          "base_uri": "https://localhost:8080/"
        },
        "outputId": "737410d0-164b-4884-b54b-f38d117a0e90"
      },
      "execution_count": null,
      "outputs": [
        {
          "output_type": "stream",
          "name": "stdout",
          "text": [
            "Пропуски после заполнения:\n",
            " Series([], dtype: int64)\n",
            "Строк обработано: 15726470 → 15726470 (не удалили ни одной)\n"
          ]
        }
      ]
    },
    {
      "cell_type": "code",
      "source": [
        "# Подсчёт пропусков и сортировка по убыванию\n",
        "missing_values = df_hits.isnull().sum()\n",
        "\n",
        "# Оставляем только колонки с пропусками и сортируем\n",
        "missing_sorted = missing_values[missing_values > 0].sort_values(ascending=False)\n",
        "\n",
        "print(\"Колонки с пропусками, отсортированные по убыванию:\")\n",
        "print(missing_sorted)"
      ],
      "metadata": {
        "id": "Nt9jm7DPogDP",
        "colab": {
          "base_uri": "https://localhost:8080/"
        },
        "outputId": "01dc55c3-51bf-46da-b511-3f6aeded2ec3"
      },
      "execution_count": null,
      "outputs": [
        {
          "output_type": "stream",
          "name": "stdout",
          "text": [
            "Колонки с пропусками, отсортированные по убыванию:\n",
            "Series([], dtype: int64)\n"
          ]
        }
      ]
    },
    {
      "cell_type": "markdown",
      "source": [
        "Ограничим датасет до 2х колонок: session_id и event_action"
      ],
      "metadata": {
        "id": "U3bUiZPuCsbG"
      }
    },
    {
      "cell_type": "code",
      "source": [
        "# Оставляем только нужные колонки\n",
        "df_hits = df_hits[['session_id', 'event_action']]"
      ],
      "metadata": {
        "id": "9VfEVQxdCp4R"
      },
      "execution_count": null,
      "outputs": []
    },
    {
      "cell_type": "code",
      "source": [
        "print(df_hits.columns)  # Должно вывести: Index(['session_id', 'event_action'], dtype='object')"
      ],
      "metadata": {
        "colab": {
          "base_uri": "https://localhost:8080/"
        },
        "id": "icH0iYZXCrpC",
        "outputId": "af067ec7-4f5a-439d-e54e-f55fcaf6679c"
      },
      "execution_count": null,
      "outputs": [
        {
          "output_type": "stream",
          "name": "stdout",
          "text": [
            "Index(['session_id', 'event_action'], dtype='object')\n"
          ]
        }
      ]
    },
    {
      "cell_type": "markdown",
      "source": [
        "### **Объедение 2х датасетов**"
      ],
      "metadata": {
        "id": "qM_FmrmJroRK"
      }
    },
    {
      "cell_type": "code",
      "source": [
        "# Проверка уникальности session_id в обоих датасетах\n",
        "print(f\"Уникальных session_id в датасете hits: {df_hits['session_id'].nunique()}\")\n",
        "print(f\"Уникальных session_id в датасете sessions: {df_sessions['session_id'].nunique()}\")\n",
        "\n",
        "# Проверка наличия пропусков\n",
        "print(f\"Пропуски в session_id (датасет hits): {df_hits['session_id'].isnull().sum()}\")\n",
        "print(f\"Пропуски в session_id (датасет sessions): {df_sessions['session_id'].isnull().sum()}\")"
      ],
      "metadata": {
        "id": "Fic60CjGzM_n",
        "colab": {
          "base_uri": "https://localhost:8080/"
        },
        "outputId": "1dab214e-3114-40ad-b04c-ca9a9924b1e3"
      },
      "execution_count": null,
      "outputs": [
        {
          "output_type": "stream",
          "name": "stdout",
          "text": [
            "Уникальных session_id в датасете hits: 1734610\n",
            "Уникальных session_id в датасете sessions: 1842056\n",
            "Пропуски в session_id (датасет hits): 0\n",
            "Пропуски в session_id (датасет sessions): 0\n"
          ]
        }
      ]
    },
    {
      "cell_type": "code",
      "source": [
        "# Объединение датасетов hits и sessions по session_id (left join, чтобы сохранить все события)\n",
        "\n",
        "df = pd.merge(\n",
        "    left=df_hits,\n",
        "    right=df_sessions,\n",
        "    on='session_id',\n",
        "    how='left',\n",
        "    suffixes=('_hit', '_session')\n",
        ")"
      ],
      "metadata": {
        "id": "4hSYvQL7zNKU"
      },
      "execution_count": null,
      "outputs": []
    },
    {
      "cell_type": "markdown",
      "source": [
        "Обработаем дубликаты в объединенном датасете"
      ],
      "metadata": {
        "id": "SIcPjBrhovGD"
      }
    },
    {
      "cell_type": "code",
      "source": [
        "print(f\"До удаления: {df.shape[0]} строк\")\n",
        "df = df.drop_duplicates(subset=['session_id'])"
      ],
      "metadata": {
        "id": "TMwSCRIB0aLx",
        "colab": {
          "base_uri": "https://localhost:8080/"
        },
        "outputId": "2ebb57b6-3b4c-4300-dedb-cf5b0a7ec15c"
      },
      "execution_count": null,
      "outputs": [
        {
          "output_type": "stream",
          "name": "stdout",
          "text": [
            "До удаления: 15726470 строк\n"
          ]
        }
      ]
    },
    {
      "cell_type": "code",
      "source": [
        "# Удаление дубликатов\n",
        "df = df.drop_duplicates(subset=['session_id'])"
      ],
      "metadata": {
        "id": "4MwKTxryw97c"
      },
      "execution_count": null,
      "outputs": []
    },
    {
      "cell_type": "code",
      "source": [
        "print(f\"После удаления: {df.shape[0]} строк\")\n",
        "print(f\"Удалено дубликатов: {df.duplicated(subset=['session_id']).sum()}\")"
      ],
      "metadata": {
        "id": "QhnwIhx01nNL",
        "colab": {
          "base_uri": "https://localhost:8080/"
        },
        "outputId": "918b6883-9eec-4dcf-ef0b-139f98bfcd60"
      },
      "execution_count": null,
      "outputs": [
        {
          "output_type": "stream",
          "name": "stdout",
          "text": [
            "После удаления: 1734610 строк\n",
            "Удалено дубликатов: 0\n"
          ]
        }
      ]
    },
    {
      "cell_type": "code",
      "source": [
        "df.drop_duplicates(subset=['session_id']).to_csv(\n",
        "    'cleaned_sessions_new.csv',  # Имя файла\n",
        "    index=False              # Не сохранять индексы\n",
        ")"
      ],
      "metadata": {
        "id": "0pWdG02r_1nW"
      },
      "execution_count": null,
      "outputs": []
    },
    {
      "cell_type": "code",
      "source": [
        "from google.colab import drive\n",
        "drive.mount('/content/drive')\n",
        "\n",
        "path = '/content/drive/MyDrive/Проектный практикум (хакатон)/cleaned_sessions_new1.csv'\n",
        "df.drop_duplicates(subset=['session_id']).to_csv(path, index=False)"
      ],
      "metadata": {
        "id": "VSg_L7GryicP",
        "colab": {
          "base_uri": "https://localhost:8080/"
        },
        "outputId": "7c7772c9-d42d-45d4-a932-d89cc54b90ba"
      },
      "execution_count": null,
      "outputs": [
        {
          "output_type": "stream",
          "name": "stdout",
          "text": [
            "Drive already mounted at /content/drive; to attempt to forcibly remount, call drive.mount(\"/content/drive\", force_remount=True).\n"
          ]
        }
      ]
    },
    {
      "cell_type": "code",
      "source": [
        "df.info()"
      ],
      "metadata": {
        "colab": {
          "base_uri": "https://localhost:8080/"
        },
        "id": "UD91mfrdZaKd",
        "outputId": "5f286f38-5adb-47af-b5d8-0e4bcd9cb85e"
      },
      "execution_count": null,
      "outputs": [
        {
          "output_type": "stream",
          "name": "stdout",
          "text": [
            "<class 'pandas.core.frame.DataFrame'>\n",
            "Index: 1734610 entries, 0 to 15726432\n",
            "Data columns (total 20 columns):\n",
            " #   Column                    Dtype          \n",
            "---  ------                    -----          \n",
            " 0   session_id                object         \n",
            " 1   event_action              object         \n",
            " 2   client_id                 object         \n",
            " 3   visit_date                datetime64[ns] \n",
            " 4   visit_time                timedelta64[ns]\n",
            " 5   visit_number              float64        \n",
            " 6   utm_source                object         \n",
            " 7   utm_medium                object         \n",
            " 8   utm_campaign              object         \n",
            " 9   utm_adcontent             object         \n",
            " 10  utm_keyword               object         \n",
            " 11  device_category           object         \n",
            " 12  device_os                 object         \n",
            " 13  device_brand              object         \n",
            " 14  device_model              object         \n",
            " 15  device_screen_resolution  object         \n",
            " 16  device_browser            object         \n",
            " 17  geo_country               object         \n",
            " 18  geo_city                  object         \n",
            " 19  has_utm_campaign          float64        \n",
            "dtypes: datetime64[ns](1), float64(2), object(16), timedelta64[ns](1)\n",
            "memory usage: 277.9+ MB\n"
          ]
        }
      ]
    }
  ]
}