{
 "cells": [
  {
   "cell_type": "markdown",
   "source": [
    "## Выберем данных для теста демки"
   ],
   "metadata": {
    "collapsed": false
   },
   "id": "6a0f7b286134a85"
  },
  {
   "cell_type": "code",
   "outputs": [],
   "source": [
    "import pandas as pd\n",
    "import numpy as np\n",
    "import matplotlib.pyplot as plt\n",
    "from notebooks.helpers import explore_data_modern, load_latest_params\n",
    "from catboost import Pool,CatBoostClassifier\n",
    "from sklearn.metrics import roc_auc_score\n",
    "from sklearn.model_selection import StratifiedKFold"
   ],
   "metadata": {
    "collapsed": true,
    "ExecuteTime": {
     "end_time": "2025-07-13T06:50:16.127469Z",
     "start_time": "2025-07-13T06:50:15.876207Z"
    }
   },
   "id": "initial_id",
   "execution_count": 1
  },
  {
   "cell_type": "markdown",
   "source": [
    "Настройки отображения"
   ],
   "metadata": {
    "collapsed": false
   },
   "id": "cf3a3067864b7099"
  },
  {
   "cell_type": "code",
   "outputs": [],
   "source": [
    "pd.set_option('display.max_columns', 50)\n",
    "plt.style.use('ggplot') "
   ],
   "metadata": {
    "collapsed": false,
    "ExecuteTime": {
     "end_time": "2025-07-13T06:50:20.155729Z",
     "start_time": "2025-07-13T06:50:20.151904Z"
    }
   },
   "id": "64cefa722de5141a",
   "execution_count": 2
  },
  {
   "cell_type": "markdown",
   "source": [
    "Загрузка данных"
   ],
   "metadata": {
    "collapsed": false
   },
   "id": "6031f1e7a0801cdd"
  },
  {
   "cell_type": "code",
   "outputs": [
    {
     "name": "stdout",
     "output_type": "stream",
     "text": [
      "✅ Данные загружены!\n",
      "Cross validation frame: 1385812 строк\n"
     ]
    }
   ],
   "source": [
    "try:\n",
    "    CHOICE = pd.read_parquet('../data/datasets/cross.parquet')\n",
    "            \n",
    "    print(\"✅ Данные загружены!\")\n",
    "    print(f\"Cross validation frame: {CHOICE.shape[0]} строк\")\n",
    "except Exception as e:\n",
    "    print(f\"❌ Ошибка: {e}\")"
   ],
   "metadata": {
    "collapsed": false,
    "ExecuteTime": {
     "end_time": "2025-07-13T06:50:25.921541Z",
     "start_time": "2025-07-13T06:50:22.932730Z"
    }
   },
   "id": "45c3d1b36eb55c88",
   "execution_count": 3
  },
  {
   "cell_type": "code",
   "outputs": [
    {
     "name": "stdout",
     "output_type": "stream",
     "text": [
      "\n",
      "🔍 Анализ датафрейма: Choice\n"
     ]
    },
    {
     "data": {
      "text/plain": "<pandas.io.formats.style.Styler at 0x24bbc651760>",
      "text/html": "<style type=\"text/css\">\n#T_8dac3_row0_col2, #T_8dac3_row0_col3, #T_8dac3_row1_col2, #T_8dac3_row1_col3, #T_8dac3_row2_col2, #T_8dac3_row2_col3, #T_8dac3_row3_col2, #T_8dac3_row3_col3, #T_8dac3_row4_col2, #T_8dac3_row4_col3, #T_8dac3_row5_col2, #T_8dac3_row5_col3, #T_8dac3_row6_col2, #T_8dac3_row6_col3, #T_8dac3_row7_col2, #T_8dac3_row7_col3, #T_8dac3_row8_col2, #T_8dac3_row8_col3, #T_8dac3_row9_col2, #T_8dac3_row9_col3, #T_8dac3_row10_col2, #T_8dac3_row10_col3, #T_8dac3_row11_col2, #T_8dac3_row11_col3, #T_8dac3_row12_col2, #T_8dac3_row12_col3, #T_8dac3_row13_col2, #T_8dac3_row13_col3, #T_8dac3_row14_col2, #T_8dac3_row14_col3, #T_8dac3_row15_col2, #T_8dac3_row15_col3, #T_8dac3_row16_col2, #T_8dac3_row16_col3, #T_8dac3_row17_col2, #T_8dac3_row17_col3, #T_8dac3_row18_col2, #T_8dac3_row18_col3, #T_8dac3_row19_col2, #T_8dac3_row19_col3, #T_8dac3_row20_col2, #T_8dac3_row20_col3, #T_8dac3_row21_col2, #T_8dac3_row21_col3, #T_8dac3_row22_col2, #T_8dac3_row22_col3, #T_8dac3_row23_col2, #T_8dac3_row23_col3, #T_8dac3_row24_col2, #T_8dac3_row24_col3 {\n  background-color: #fff5f0;\n  color: #000000;\n}\n</style>\n<table id=\"T_8dac3\">\n  <thead>\n    <tr>\n      <th class=\"blank level0\" >&nbsp;</th>\n      <th id=\"T_8dac3_level0_col0\" class=\"col_heading level0 col0\" >Тип данных</th>\n      <th id=\"T_8dac3_level0_col1\" class=\"col_heading level0 col1\" >Уникальных</th>\n      <th id=\"T_8dac3_level0_col2\" class=\"col_heading level0 col2\" >Пропусков</th>\n      <th id=\"T_8dac3_level0_col3\" class=\"col_heading level0 col3\" >% Пропусков</th>\n      <th id=\"T_8dac3_level0_col4\" class=\"col_heading level0 col4\" >Пример значения</th>\n    </tr>\n  </thead>\n  <tbody>\n    <tr>\n      <th id=\"T_8dac3_level0_row0\" class=\"row_heading level0 row0\" >client_id</th>\n      <td id=\"T_8dac3_row0_col0\" class=\"data row0 col0\" >object</td>\n      <td id=\"T_8dac3_row0_col1\" class=\"data row0 col1\" >1091884</td>\n      <td id=\"T_8dac3_row0_col2\" class=\"data row0 col2\" >0</td>\n      <td id=\"T_8dac3_row0_col3\" class=\"data row0 col3\" >0.0%</td>\n      <td id=\"T_8dac3_row0_col4\" class=\"data row0 col4\" >1338357431.1640964866</td>\n    </tr>\n    <tr>\n      <th id=\"T_8dac3_level0_row1\" class=\"row_heading level0 row1\" >device_screen_resolution</th>\n      <td id=\"T_8dac3_row1_col0\" class=\"data row1 col0\" >object</td>\n      <td id=\"T_8dac3_row1_col1\" class=\"data row1 col1\" >4414</td>\n      <td id=\"T_8dac3_row1_col2\" class=\"data row1 col2\" >0</td>\n      <td id=\"T_8dac3_row1_col3\" class=\"data row1 col3\" >0.0%</td>\n      <td id=\"T_8dac3_row1_col4\" class=\"data row1 col4\" >1792x1120</td>\n    </tr>\n    <tr>\n      <th id=\"T_8dac3_level0_row2\" class=\"row_heading level0 row2\" >brand_tier</th>\n      <td id=\"T_8dac3_row2_col0\" class=\"data row2 col0\" >object</td>\n      <td id=\"T_8dac3_row2_col1\" class=\"data row2 col1\" >3</td>\n      <td id=\"T_8dac3_row2_col2\" class=\"data row2 col2\" >0</td>\n      <td id=\"T_8dac3_row2_col3\" class=\"data row2 col3\" >0.0%</td>\n      <td id=\"T_8dac3_row2_col4\" class=\"data row2 col4\" >other</td>\n    </tr>\n    <tr>\n      <th id=\"T_8dac3_level0_row3\" class=\"row_heading level0 row3\" >is_returning</th>\n      <td id=\"T_8dac3_row3_col0\" class=\"data row3 col0\" >int32</td>\n      <td id=\"T_8dac3_row3_col1\" class=\"data row3 col1\" >2</td>\n      <td id=\"T_8dac3_row3_col2\" class=\"data row3 col2\" >0</td>\n      <td id=\"T_8dac3_row3_col3\" class=\"data row3 col3\" >0.0%</td>\n      <td id=\"T_8dac3_row3_col4\" class=\"data row3 col4\" >0</td>\n    </tr>\n    <tr>\n      <th id=\"T_8dac3_level0_row4\" class=\"row_heading level0 row4\" >visit_time_minutes</th>\n      <td id=\"T_8dac3_row4_col0\" class=\"data row4 col0\" >int64</td>\n      <td id=\"T_8dac3_row4_col1\" class=\"data row4 col1\" >1440</td>\n      <td id=\"T_8dac3_row4_col2\" class=\"data row4 col2\" >0</td>\n      <td id=\"T_8dac3_row4_col3\" class=\"data row4 col3\" >0.0%</td>\n      <td id=\"T_8dac3_row4_col4\" class=\"data row4 col4\" >1114</td>\n    </tr>\n    <tr>\n      <th id=\"T_8dac3_level0_row5\" class=\"row_heading level0 row5\" >has_utm_keyword</th>\n      <td id=\"T_8dac3_row5_col0\" class=\"data row5 col0\" >int32</td>\n      <td id=\"T_8dac3_row5_col1\" class=\"data row5 col1\" >2</td>\n      <td id=\"T_8dac3_row5_col2\" class=\"data row5 col2\" >0</td>\n      <td id=\"T_8dac3_row5_col3\" class=\"data row5 col3\" >0.0%</td>\n      <td id=\"T_8dac3_row5_col4\" class=\"data row5 col4\" >1</td>\n    </tr>\n    <tr>\n      <th id=\"T_8dac3_level0_row6\" class=\"row_heading level0 row6\" >utm_keyword_campaign_fill</th>\n      <td id=\"T_8dac3_row6_col0\" class=\"data row6 col0\" >object</td>\n      <td id=\"T_8dac3_row6_col1\" class=\"data row6 col1\" >1164</td>\n      <td id=\"T_8dac3_row6_col2\" class=\"data row6 col2\" >0</td>\n      <td id=\"T_8dac3_row6_col3\" class=\"data row6 col3\" >0.0%</td>\n      <td id=\"T_8dac3_row6_col4\" class=\"data row6 col4\" >qUcotcWimEOQiboVPcCx</td>\n    </tr>\n    <tr>\n      <th id=\"T_8dac3_level0_row7\" class=\"row_heading level0 row7\" >utm_keyword_notset_fill</th>\n      <td id=\"T_8dac3_row7_col0\" class=\"data row7 col0\" >object</td>\n      <td id=\"T_8dac3_row7_col1\" class=\"data row7 col1\" >1143</td>\n      <td id=\"T_8dac3_row7_col2\" class=\"data row7 col2\" >0</td>\n      <td id=\"T_8dac3_row7_col3\" class=\"data row7 col3\" >0.0%</td>\n      <td id=\"T_8dac3_row7_col4\" class=\"data row7 col4\" >qUcotcWimEOQiboVPcCx</td>\n    </tr>\n    <tr>\n      <th id=\"T_8dac3_level0_row8\" class=\"row_heading level0 row8\" >target</th>\n      <td id=\"T_8dac3_row8_col0\" class=\"data row8 col0\" >int32</td>\n      <td id=\"T_8dac3_row8_col1\" class=\"data row8 col1\" >2</td>\n      <td id=\"T_8dac3_row8_col2\" class=\"data row8 col2\" >0</td>\n      <td id=\"T_8dac3_row8_col3\" class=\"data row8 col3\" >0.0%</td>\n      <td id=\"T_8dac3_row8_col4\" class=\"data row8 col4\" >0</td>\n    </tr>\n    <tr>\n      <th id=\"T_8dac3_level0_row9\" class=\"row_heading level0 row9\" >geo_city</th>\n      <td id=\"T_8dac3_row9_col0\" class=\"data row9 col0\" >object</td>\n      <td id=\"T_8dac3_row9_col1\" class=\"data row9 col1\" >2201</td>\n      <td id=\"T_8dac3_row9_col2\" class=\"data row9 col2\" >0</td>\n      <td id=\"T_8dac3_row9_col3\" class=\"data row9 col3\" >0.0%</td>\n      <td id=\"T_8dac3_row9_col4\" class=\"data row9 col4\" >Tula</td>\n    </tr>\n    <tr>\n      <th id=\"T_8dac3_level0_row10\" class=\"row_heading level0 row10\" >geo_country</th>\n      <td id=\"T_8dac3_row10_col0\" class=\"data row10 col0\" >object</td>\n      <td id=\"T_8dac3_row10_col1\" class=\"data row10 col1\" >155</td>\n      <td id=\"T_8dac3_row10_col2\" class=\"data row10 col2\" >0</td>\n      <td id=\"T_8dac3_row10_col3\" class=\"data row10 col3\" >0.0%</td>\n      <td id=\"T_8dac3_row10_col4\" class=\"data row10 col4\" >Russia</td>\n    </tr>\n    <tr>\n      <th id=\"T_8dac3_level0_row11\" class=\"row_heading level0 row11\" >device_browser</th>\n      <td id=\"T_8dac3_row11_col0\" class=\"data row11 col0\" >object</td>\n      <td id=\"T_8dac3_row11_col1\" class=\"data row11 col1\" >54</td>\n      <td id=\"T_8dac3_row11_col2\" class=\"data row11 col2\" >0</td>\n      <td id=\"T_8dac3_row11_col3\" class=\"data row11 col3\" >0.0%</td>\n      <td id=\"T_8dac3_row11_col4\" class=\"data row11 col4\" >Chrome</td>\n    </tr>\n    <tr>\n      <th id=\"T_8dac3_level0_row12\" class=\"row_heading level0 row12\" >device_model</th>\n      <td id=\"T_8dac3_row12_col0\" class=\"data row12 col0\" >object</td>\n      <td id=\"T_8dac3_row12_col1\" class=\"data row12 col1\" >102</td>\n      <td id=\"T_8dac3_row12_col2\" class=\"data row12 col2\" >0</td>\n      <td id=\"T_8dac3_row12_col3\" class=\"data row12 col3\" >0.0%</td>\n      <td id=\"T_8dac3_row12_col4\" class=\"data row12 col4\" >unknown</td>\n    </tr>\n    <tr>\n      <th id=\"T_8dac3_level0_row13\" class=\"row_heading level0 row13\" >visit_date</th>\n      <td id=\"T_8dac3_row13_col0\" class=\"data row13 col0\" >object</td>\n      <td id=\"T_8dac3_row13_col1\" class=\"data row13 col1\" >226</td>\n      <td id=\"T_8dac3_row13_col2\" class=\"data row13 col2\" >0</td>\n      <td id=\"T_8dac3_row13_col3\" class=\"data row13 col3\" >0.0%</td>\n      <td id=\"T_8dac3_row13_col4\" class=\"data row13 col4\" >2021-12-31</td>\n    </tr>\n    <tr>\n      <th id=\"T_8dac3_level0_row14\" class=\"row_heading level0 row14\" >device_brand</th>\n      <td id=\"T_8dac3_row14_col0\" class=\"data row14 col0\" >object</td>\n      <td id=\"T_8dac3_row14_col1\" class=\"data row14 col1\" >194</td>\n      <td id=\"T_8dac3_row14_col2\" class=\"data row14 col2\" >0</td>\n      <td id=\"T_8dac3_row14_col3\" class=\"data row14 col3\" >0.0%</td>\n      <td id=\"T_8dac3_row14_col4\" class=\"data row14 col4\" >unknown</td>\n    </tr>\n    <tr>\n      <th id=\"T_8dac3_level0_row15\" class=\"row_heading level0 row15\" >device_os</th>\n      <td id=\"T_8dac3_row15_col0\" class=\"data row15 col0\" >object</td>\n      <td id=\"T_8dac3_row15_col1\" class=\"data row15 col1\" >14</td>\n      <td id=\"T_8dac3_row15_col2\" class=\"data row15 col2\" >0</td>\n      <td id=\"T_8dac3_row15_col3\" class=\"data row15 col3\" >0.0%</td>\n      <td id=\"T_8dac3_row15_col4\" class=\"data row15 col4\" >Macintosh</td>\n    </tr>\n    <tr>\n      <th id=\"T_8dac3_level0_row16\" class=\"row_heading level0 row16\" >device_category</th>\n      <td id=\"T_8dac3_row16_col0\" class=\"data row16 col0\" >object</td>\n      <td id=\"T_8dac3_row16_col1\" class=\"data row16 col1\" >3</td>\n      <td id=\"T_8dac3_row16_col2\" class=\"data row16 col2\" >0</td>\n      <td id=\"T_8dac3_row16_col3\" class=\"data row16 col3\" >0.0%</td>\n      <td id=\"T_8dac3_row16_col4\" class=\"data row16 col4\" >desktop</td>\n    </tr>\n    <tr>\n      <th id=\"T_8dac3_level0_row17\" class=\"row_heading level0 row17\" >utm_keyword</th>\n      <td id=\"T_8dac3_row17_col0\" class=\"data row17 col0\" >object</td>\n      <td id=\"T_8dac3_row17_col1\" class=\"data row17 col1\" >1143</td>\n      <td id=\"T_8dac3_row17_col2\" class=\"data row17 col2\" >0</td>\n      <td id=\"T_8dac3_row17_col3\" class=\"data row17 col3\" >0.0%</td>\n      <td id=\"T_8dac3_row17_col4\" class=\"data row17 col4\" >qUcotcWimEOQiboVPcCx</td>\n    </tr>\n    <tr>\n      <th id=\"T_8dac3_level0_row18\" class=\"row_heading level0 row18\" >utm_adcontent</th>\n      <td id=\"T_8dac3_row18_col0\" class=\"data row18 col0\" >object</td>\n      <td id=\"T_8dac3_row18_col1\" class=\"data row18 col1\" >273</td>\n      <td id=\"T_8dac3_row18_col2\" class=\"data row18 col2\" >0</td>\n      <td id=\"T_8dac3_row18_col3\" class=\"data row18 col3\" >0.0%</td>\n      <td id=\"T_8dac3_row18_col4\" class=\"data row18 col4\" >yYdBRbPmBMUZHXwqGxNx</td>\n    </tr>\n    <tr>\n      <th id=\"T_8dac3_level0_row19\" class=\"row_heading level0 row19\" >utm_campaign</th>\n      <td id=\"T_8dac3_row19_col0\" class=\"data row19 col0\" >object</td>\n      <td id=\"T_8dac3_row19_col1\" class=\"data row19 col1\" >400</td>\n      <td id=\"T_8dac3_row19_col2\" class=\"data row19 col2\" >0</td>\n      <td id=\"T_8dac3_row19_col3\" class=\"data row19 col3\" >0.0%</td>\n      <td id=\"T_8dac3_row19_col4\" class=\"data row19 col4\" >FTjNLDyTrXaWYgZymFkV</td>\n    </tr>\n    <tr>\n      <th id=\"T_8dac3_level0_row20\" class=\"row_heading level0 row20\" >utm_medium</th>\n      <td id=\"T_8dac3_row20_col0\" class=\"data row20 col0\" >object</td>\n      <td id=\"T_8dac3_row20_col1\" class=\"data row20 col1\" >50</td>\n      <td id=\"T_8dac3_row20_col2\" class=\"data row20 col2\" >0</td>\n      <td id=\"T_8dac3_row20_col3\" class=\"data row20 col3\" >0.0%</td>\n      <td id=\"T_8dac3_row20_col4\" class=\"data row20 col4\" >cpm</td>\n    </tr>\n    <tr>\n      <th id=\"T_8dac3_level0_row21\" class=\"row_heading level0 row21\" >utm_source</th>\n      <td id=\"T_8dac3_row21_col0\" class=\"data row21 col0\" >object</td>\n      <td id=\"T_8dac3_row21_col1\" class=\"data row21 col1\" >263</td>\n      <td id=\"T_8dac3_row21_col2\" class=\"data row21 col2\" >0</td>\n      <td id=\"T_8dac3_row21_col3\" class=\"data row21 col3\" >0.0%</td>\n      <td id=\"T_8dac3_row21_col4\" class=\"data row21 col4\" >fgymSoTvjKPEgaIJqsiH</td>\n    </tr>\n    <tr>\n      <th id=\"T_8dac3_level0_row22\" class=\"row_heading level0 row22\" >visit_number</th>\n      <td id=\"T_8dac3_row22_col0\" class=\"data row22 col0\" >int64</td>\n      <td id=\"T_8dac3_row22_col1\" class=\"data row22 col1\" >502</td>\n      <td id=\"T_8dac3_row22_col2\" class=\"data row22 col2\" >0</td>\n      <td id=\"T_8dac3_row22_col3\" class=\"data row22 col3\" >0.0%</td>\n      <td id=\"T_8dac3_row22_col4\" class=\"data row22 col4\" >1</td>\n    </tr>\n    <tr>\n      <th id=\"T_8dac3_level0_row23\" class=\"row_heading level0 row23\" >visit_time</th>\n      <td id=\"T_8dac3_row23_col0\" class=\"data row23 col0\" >object</td>\n      <td id=\"T_8dac3_row23_col1\" class=\"data row23 col1\" >84081</td>\n      <td id=\"T_8dac3_row23_col2\" class=\"data row23 col2\" >0</td>\n      <td id=\"T_8dac3_row23_col3\" class=\"data row23 col3\" >0.0%</td>\n      <td id=\"T_8dac3_row23_col4\" class=\"data row23 col4\" >18:34:37</td>\n    </tr>\n    <tr>\n      <th id=\"T_8dac3_level0_row24\" class=\"row_heading level0 row24\" >frequent_visitor</th>\n      <td id=\"T_8dac3_row24_col0\" class=\"data row24 col0\" >int32</td>\n      <td id=\"T_8dac3_row24_col1\" class=\"data row24 col1\" >2</td>\n      <td id=\"T_8dac3_row24_col2\" class=\"data row24 col2\" >0</td>\n      <td id=\"T_8dac3_row24_col3\" class=\"data row24 col3\" >0.0%</td>\n      <td id=\"T_8dac3_row24_col4\" class=\"data row24 col4\" >0</td>\n    </tr>\n  </tbody>\n</table>\n"
     },
     "metadata": {},
     "output_type": "display_data"
    }
   ],
   "source": [
    "display(explore_data_modern(CHOICE, 'Choice'))"
   ],
   "metadata": {
    "collapsed": false,
    "ExecuteTime": {
     "end_time": "2025-07-13T06:50:33.179845Z",
     "start_time": "2025-07-13T06:50:28.786208Z"
    }
   },
   "id": "a7918a4d4bb12402",
   "execution_count": 4
  },
  {
   "cell_type": "code",
   "outputs": [],
   "source": [
    "choice = CHOICE[['utm_source', 'utm_medium', 'device_brand', 'visit_number', 'utm_campaign', 'utm_keyword', 'target']] "
   ],
   "metadata": {
    "collapsed": false,
    "ExecuteTime": {
     "end_time": "2025-07-13T06:52:46.755374Z",
     "start_time": "2025-07-13T06:52:46.684169Z"
    }
   },
   "id": "992303ac1f6b0d8e",
   "execution_count": 8
  },
  {
   "cell_type": "code",
   "outputs": [
    {
     "name": "stdout",
     "output_type": "stream",
     "text": [
      "\n",
      "🔍 Анализ датафрейма: Choice\n"
     ]
    },
    {
     "data": {
      "text/plain": "<pandas.io.formats.style.Styler at 0x24bb4bf57c0>",
      "text/html": "<style type=\"text/css\">\n#T_8554e_row0_col2, #T_8554e_row0_col3, #T_8554e_row1_col2, #T_8554e_row1_col3, #T_8554e_row2_col2, #T_8554e_row2_col3, #T_8554e_row3_col2, #T_8554e_row3_col3, #T_8554e_row4_col2, #T_8554e_row4_col3, #T_8554e_row5_col2, #T_8554e_row5_col3, #T_8554e_row6_col2, #T_8554e_row6_col3 {\n  background-color: #fff5f0;\n  color: #000000;\n}\n</style>\n<table id=\"T_8554e\">\n  <thead>\n    <tr>\n      <th class=\"blank level0\" >&nbsp;</th>\n      <th id=\"T_8554e_level0_col0\" class=\"col_heading level0 col0\" >Тип данных</th>\n      <th id=\"T_8554e_level0_col1\" class=\"col_heading level0 col1\" >Уникальных</th>\n      <th id=\"T_8554e_level0_col2\" class=\"col_heading level0 col2\" >Пропусков</th>\n      <th id=\"T_8554e_level0_col3\" class=\"col_heading level0 col3\" >% Пропусков</th>\n      <th id=\"T_8554e_level0_col4\" class=\"col_heading level0 col4\" >Пример значения</th>\n    </tr>\n  </thead>\n  <tbody>\n    <tr>\n      <th id=\"T_8554e_level0_row0\" class=\"row_heading level0 row0\" >utm_source</th>\n      <td id=\"T_8554e_row0_col0\" class=\"data row0 col0\" >object</td>\n      <td id=\"T_8554e_row0_col1\" class=\"data row0 col1\" >263</td>\n      <td id=\"T_8554e_row0_col2\" class=\"data row0 col2\" >0</td>\n      <td id=\"T_8554e_row0_col3\" class=\"data row0 col3\" >0.0%</td>\n      <td id=\"T_8554e_row0_col4\" class=\"data row0 col4\" >fgymSoTvjKPEgaIJqsiH</td>\n    </tr>\n    <tr>\n      <th id=\"T_8554e_level0_row1\" class=\"row_heading level0 row1\" >utm_medium</th>\n      <td id=\"T_8554e_row1_col0\" class=\"data row1 col0\" >object</td>\n      <td id=\"T_8554e_row1_col1\" class=\"data row1 col1\" >50</td>\n      <td id=\"T_8554e_row1_col2\" class=\"data row1 col2\" >0</td>\n      <td id=\"T_8554e_row1_col3\" class=\"data row1 col3\" >0.0%</td>\n      <td id=\"T_8554e_row1_col4\" class=\"data row1 col4\" >cpm</td>\n    </tr>\n    <tr>\n      <th id=\"T_8554e_level0_row2\" class=\"row_heading level0 row2\" >device_brand</th>\n      <td id=\"T_8554e_row2_col0\" class=\"data row2 col0\" >object</td>\n      <td id=\"T_8554e_row2_col1\" class=\"data row2 col1\" >194</td>\n      <td id=\"T_8554e_row2_col2\" class=\"data row2 col2\" >0</td>\n      <td id=\"T_8554e_row2_col3\" class=\"data row2 col3\" >0.0%</td>\n      <td id=\"T_8554e_row2_col4\" class=\"data row2 col4\" >unknown</td>\n    </tr>\n    <tr>\n      <th id=\"T_8554e_level0_row3\" class=\"row_heading level0 row3\" >visit_number</th>\n      <td id=\"T_8554e_row3_col0\" class=\"data row3 col0\" >int64</td>\n      <td id=\"T_8554e_row3_col1\" class=\"data row3 col1\" >502</td>\n      <td id=\"T_8554e_row3_col2\" class=\"data row3 col2\" >0</td>\n      <td id=\"T_8554e_row3_col3\" class=\"data row3 col3\" >0.0%</td>\n      <td id=\"T_8554e_row3_col4\" class=\"data row3 col4\" >1</td>\n    </tr>\n    <tr>\n      <th id=\"T_8554e_level0_row4\" class=\"row_heading level0 row4\" >utm_campaign</th>\n      <td id=\"T_8554e_row4_col0\" class=\"data row4 col0\" >object</td>\n      <td id=\"T_8554e_row4_col1\" class=\"data row4 col1\" >400</td>\n      <td id=\"T_8554e_row4_col2\" class=\"data row4 col2\" >0</td>\n      <td id=\"T_8554e_row4_col3\" class=\"data row4 col3\" >0.0%</td>\n      <td id=\"T_8554e_row4_col4\" class=\"data row4 col4\" >FTjNLDyTrXaWYgZymFkV</td>\n    </tr>\n    <tr>\n      <th id=\"T_8554e_level0_row5\" class=\"row_heading level0 row5\" >utm_keyword</th>\n      <td id=\"T_8554e_row5_col0\" class=\"data row5 col0\" >object</td>\n      <td id=\"T_8554e_row5_col1\" class=\"data row5 col1\" >1143</td>\n      <td id=\"T_8554e_row5_col2\" class=\"data row5 col2\" >0</td>\n      <td id=\"T_8554e_row5_col3\" class=\"data row5 col3\" >0.0%</td>\n      <td id=\"T_8554e_row5_col4\" class=\"data row5 col4\" >qUcotcWimEOQiboVPcCx</td>\n    </tr>\n    <tr>\n      <th id=\"T_8554e_level0_row6\" class=\"row_heading level0 row6\" >target</th>\n      <td id=\"T_8554e_row6_col0\" class=\"data row6 col0\" >int32</td>\n      <td id=\"T_8554e_row6_col1\" class=\"data row6 col1\" >2</td>\n      <td id=\"T_8554e_row6_col2\" class=\"data row6 col2\" >0</td>\n      <td id=\"T_8554e_row6_col3\" class=\"data row6 col3\" >0.0%</td>\n      <td id=\"T_8554e_row6_col4\" class=\"data row6 col4\" >0</td>\n    </tr>\n  </tbody>\n</table>\n"
     },
     "metadata": {},
     "output_type": "display_data"
    }
   ],
   "source": [
    "display(explore_data_modern(choice, 'Choice'))"
   ],
   "metadata": {
    "collapsed": false,
    "ExecuteTime": {
     "end_time": "2025-07-13T06:52:49.388728Z",
     "start_time": "2025-07-13T06:52:48.371878Z"
    }
   },
   "id": "785df2e62d9af241",
   "execution_count": 9
  },
  {
   "cell_type": "code",
   "outputs": [],
   "source": [
    "yes = choice[choice['target'] == 1]\n",
    "no = choice[choice['target'] == 0] "
   ],
   "metadata": {
    "collapsed": false,
    "ExecuteTime": {
     "end_time": "2025-07-13T06:56:56.403505Z",
     "start_time": "2025-07-13T06:56:56.313631Z"
    }
   },
   "id": "ebea9e5bc12da161",
   "execution_count": 10
  },
  {
   "cell_type": "code",
   "outputs": [
    {
     "data": {
      "text/plain": "                   utm_source utm_medium device_brand  visit_number  \\\n19       ZpYIoDJMcFzVoPFsHGJL     banner       Huawei             1   \n35       ZpYIoDJMcFzVoPFsHGJL     banner       Xiaomi             1   \n83       kjsLglQLzykiRbcDiGcD        cpc        Apple             3   \n111      bByPQxmDaMXgpHeypKSM   referral                          1   \n112      kjsLglQLzykiRbcDiGcD        cpc         Asus             1   \n...                       ...        ...          ...           ...   \n1385585  QxAxdyPLuQMEcrdZWdWb        cpc      Samsung             1   \n1385611  ZpYIoDJMcFzVoPFsHGJL     banner       Huawei             1   \n1385652  ZpYIoDJMcFzVoPFsHGJL     banner        Apple             1   \n1385684  ZpYIoDJMcFzVoPFsHGJL     banner       Huawei             1   \n1385766  ZpYIoDJMcFzVoPFsHGJL     banner    (not set)             2   \n\n                 utm_campaign           utm_keyword  target  \n19       LEoPHuyFvzoNfnzGgfcd  puhZPIYqKXeFPaUviSjo       1  \n35       SgIUDYUKnyWHVowUOqid               unknown       1  \n83                    unknown               unknown       1  \n111      LTuZkdKfxRGVceoWkVyg               unknown       1  \n112      bJJuEXRheRIxXEaYIXqM               unknown       1  \n...                       ...                   ...     ...  \n1385585  IWLzPAfDfwypTzMxtiQE  JTBldRAXvttfVmCNgppl       1  \n1385611  LEoPHuyFvzoNfnzGgfcd  puhZPIYqKXeFPaUviSjo       1  \n1385652  WiILFRDQbcHDHNvHzGpX               unknown       1  \n1385684  LEoPHuyFvzoNfnzGgfcd  puhZPIYqKXeFPaUviSjo       1  \n1385766  LEoPHuyFvzoNfnzGgfcd  puhZPIYqKXeFPaUviSjo       1  \n\n[24586 rows x 7 columns]",
      "text/html": "<div>\n<style scoped>\n    .dataframe tbody tr th:only-of-type {\n        vertical-align: middle;\n    }\n\n    .dataframe tbody tr th {\n        vertical-align: top;\n    }\n\n    .dataframe thead th {\n        text-align: right;\n    }\n</style>\n<table border=\"1\" class=\"dataframe\">\n  <thead>\n    <tr style=\"text-align: right;\">\n      <th></th>\n      <th>utm_source</th>\n      <th>utm_medium</th>\n      <th>device_brand</th>\n      <th>visit_number</th>\n      <th>utm_campaign</th>\n      <th>utm_keyword</th>\n      <th>target</th>\n    </tr>\n  </thead>\n  <tbody>\n    <tr>\n      <th>19</th>\n      <td>ZpYIoDJMcFzVoPFsHGJL</td>\n      <td>banner</td>\n      <td>Huawei</td>\n      <td>1</td>\n      <td>LEoPHuyFvzoNfnzGgfcd</td>\n      <td>puhZPIYqKXeFPaUviSjo</td>\n      <td>1</td>\n    </tr>\n    <tr>\n      <th>35</th>\n      <td>ZpYIoDJMcFzVoPFsHGJL</td>\n      <td>banner</td>\n      <td>Xiaomi</td>\n      <td>1</td>\n      <td>SgIUDYUKnyWHVowUOqid</td>\n      <td>unknown</td>\n      <td>1</td>\n    </tr>\n    <tr>\n      <th>83</th>\n      <td>kjsLglQLzykiRbcDiGcD</td>\n      <td>cpc</td>\n      <td>Apple</td>\n      <td>3</td>\n      <td>unknown</td>\n      <td>unknown</td>\n      <td>1</td>\n    </tr>\n    <tr>\n      <th>111</th>\n      <td>bByPQxmDaMXgpHeypKSM</td>\n      <td>referral</td>\n      <td></td>\n      <td>1</td>\n      <td>LTuZkdKfxRGVceoWkVyg</td>\n      <td>unknown</td>\n      <td>1</td>\n    </tr>\n    <tr>\n      <th>112</th>\n      <td>kjsLglQLzykiRbcDiGcD</td>\n      <td>cpc</td>\n      <td>Asus</td>\n      <td>1</td>\n      <td>bJJuEXRheRIxXEaYIXqM</td>\n      <td>unknown</td>\n      <td>1</td>\n    </tr>\n    <tr>\n      <th>...</th>\n      <td>...</td>\n      <td>...</td>\n      <td>...</td>\n      <td>...</td>\n      <td>...</td>\n      <td>...</td>\n      <td>...</td>\n    </tr>\n    <tr>\n      <th>1385585</th>\n      <td>QxAxdyPLuQMEcrdZWdWb</td>\n      <td>cpc</td>\n      <td>Samsung</td>\n      <td>1</td>\n      <td>IWLzPAfDfwypTzMxtiQE</td>\n      <td>JTBldRAXvttfVmCNgppl</td>\n      <td>1</td>\n    </tr>\n    <tr>\n      <th>1385611</th>\n      <td>ZpYIoDJMcFzVoPFsHGJL</td>\n      <td>banner</td>\n      <td>Huawei</td>\n      <td>1</td>\n      <td>LEoPHuyFvzoNfnzGgfcd</td>\n      <td>puhZPIYqKXeFPaUviSjo</td>\n      <td>1</td>\n    </tr>\n    <tr>\n      <th>1385652</th>\n      <td>ZpYIoDJMcFzVoPFsHGJL</td>\n      <td>banner</td>\n      <td>Apple</td>\n      <td>1</td>\n      <td>WiILFRDQbcHDHNvHzGpX</td>\n      <td>unknown</td>\n      <td>1</td>\n    </tr>\n    <tr>\n      <th>1385684</th>\n      <td>ZpYIoDJMcFzVoPFsHGJL</td>\n      <td>banner</td>\n      <td>Huawei</td>\n      <td>1</td>\n      <td>LEoPHuyFvzoNfnzGgfcd</td>\n      <td>puhZPIYqKXeFPaUviSjo</td>\n      <td>1</td>\n    </tr>\n    <tr>\n      <th>1385766</th>\n      <td>ZpYIoDJMcFzVoPFsHGJL</td>\n      <td>banner</td>\n      <td>(not set)</td>\n      <td>2</td>\n      <td>LEoPHuyFvzoNfnzGgfcd</td>\n      <td>puhZPIYqKXeFPaUviSjo</td>\n      <td>1</td>\n    </tr>\n  </tbody>\n</table>\n<p>24586 rows × 7 columns</p>\n</div>"
     },
     "execution_count": 11,
     "metadata": {},
     "output_type": "execute_result"
    }
   ],
   "source": [
    "yes"
   ],
   "metadata": {
    "collapsed": false,
    "ExecuteTime": {
     "end_time": "2025-07-13T06:56:57.831993Z",
     "start_time": "2025-07-13T06:56:57.821081Z"
    }
   },
   "id": "3e30587634fe5135",
   "execution_count": 11
  },
  {
   "cell_type": "code",
   "outputs": [
    {
     "name": "stdout",
     "output_type": "stream",
     "text": [
      "[\n",
      "  {\n",
      "    \"utm_source\":\"ZpYIoDJMcFzVoPFsHGJL\",\n",
      "    \"utm_medium\":\"banner\",\n",
      "    \"device_brand\":\"Huawei\",\n",
      "    \"visit_number\":1,\n",
      "    \"utm_campaign\":\"LEoPHuyFvzoNfnzGgfcd\",\n",
      "    \"utm_keyword\":\"puhZPIYqKXeFPaUviSjo\"\n",
      "  },\n",
      "  {\n",
      "    \"utm_source\":\"ZpYIoDJMcFzVoPFsHGJL\",\n",
      "    \"utm_medium\":\"banner\",\n",
      "    \"device_brand\":\"Xiaomi\",\n",
      "    \"visit_number\":1,\n",
      "    \"utm_campaign\":\"SgIUDYUKnyWHVowUOqid\",\n",
      "    \"utm_keyword\":\"unknown\"\n",
      "  },\n",
      "  {\n",
      "    \"utm_source\":\"kjsLglQLzykiRbcDiGcD\",\n",
      "    \"utm_medium\":\"cpc\",\n",
      "    \"device_brand\":\"Apple\",\n",
      "    \"visit_number\":3,\n",
      "    \"utm_campaign\":\"unknown\",\n",
      "    \"utm_keyword\":\"unknown\"\n",
      "  },\n",
      "  {\n",
      "    \"utm_source\":\"bByPQxmDaMXgpHeypKSM\",\n",
      "    \"utm_medium\":\"referral\",\n",
      "    \"device_brand\":\"\",\n",
      "    \"visit_number\":1,\n",
      "    \"utm_campaign\":\"LTuZkdKfxRGVceoWkVyg\",\n",
      "    \"utm_keyword\":\"unknown\"\n",
      "  },\n",
      "  {\n",
      "    \"utm_source\":\"kjsLglQLzykiRbcDiGcD\",\n",
      "    \"utm_medium\":\"cpc\",\n",
      "    \"device_brand\":\"Asus\",\n",
      "    \"visit_number\":1,\n",
      "    \"utm_campaign\":\"bJJuEXRheRIxXEaYIXqM\",\n",
      "    \"utm_keyword\":\"unknown\"\n",
      "  }\n",
      "]\n"
     ]
    }
   ],
   "source": [
    "print(yes.drop('target', axis=1).head(5).to_json(orient='records', indent=2))"
   ],
   "metadata": {
    "collapsed": false,
    "ExecuteTime": {
     "end_time": "2025-07-13T07:05:08.921688Z",
     "start_time": "2025-07-13T07:05:08.915355Z"
    }
   },
   "id": "fc80f48a74379c0d",
   "execution_count": 13
  },
  {
   "cell_type": "code",
   "outputs": [
    {
     "name": "stdout",
     "output_type": "stream",
     "text": [
      "[\n",
      "  {\n",
      "    \"utm_source\":\"fgymSoTvjKPEgaIJqsiH\",\n",
      "    \"utm_medium\":\"cpm\",\n",
      "    \"device_brand\":\"unknown\",\n",
      "    \"visit_number\":1,\n",
      "    \"utm_campaign\":\"FTjNLDyTrXaWYgZymFkV\",\n",
      "    \"utm_keyword\":\"qUcotcWimEOQiboVPcCx\"\n",
      "  },\n",
      "  {\n",
      "    \"utm_source\":\"fDLlAcSmythWSCVMvqvL\",\n",
      "    \"utm_medium\":\"(none)\",\n",
      "    \"device_brand\":\"Apple\",\n",
      "    \"visit_number\":2,\n",
      "    \"utm_campaign\":\"LTuZkdKfxRGVceoWkVyg\",\n",
      "    \"utm_keyword\":\"unknown\"\n",
      "  },\n",
      "  {\n",
      "    \"utm_source\":\"fDLlAcSmythWSCVMvqvL\",\n",
      "    \"utm_medium\":\"(none)\",\n",
      "    \"device_brand\":\"\",\n",
      "    \"visit_number\":1,\n",
      "    \"utm_campaign\":\"LTuZkdKfxRGVceoWkVyg\",\n",
      "    \"utm_keyword\":\"unknown\"\n",
      "  },\n",
      "  {\n",
      "    \"utm_source\":\"fDLlAcSmythWSCVMvqvL\",\n",
      "    \"utm_medium\":\"(none)\",\n",
      "    \"device_brand\":\"Xiaomi\",\n",
      "    \"visit_number\":1,\n",
      "    \"utm_campaign\":\"LTuZkdKfxRGVceoWkVyg\",\n",
      "    \"utm_keyword\":\"unknown\"\n",
      "  },\n",
      "  {\n",
      "    \"utm_source\":\"fDLlAcSmythWSCVMvqvL\",\n",
      "    \"utm_medium\":\"(none)\",\n",
      "    \"device_brand\":\"\",\n",
      "    \"visit_number\":1,\n",
      "    \"utm_campaign\":\"LTuZkdKfxRGVceoWkVyg\",\n",
      "    \"utm_keyword\":\"unknown\"\n",
      "  }\n",
      "]\n"
     ]
    }
   ],
   "source": [
    "print(no.drop('target', axis=1).head(5).to_json(orient='records', indent=2))"
   ],
   "metadata": {
    "collapsed": false,
    "ExecuteTime": {
     "end_time": "2025-07-13T07:54:01.647465Z",
     "start_time": "2025-07-13T07:54:01.569724Z"
    }
   },
   "id": "59d02d87081a14aa",
   "execution_count": 15
  },
  {
   "cell_type": "code",
   "outputs": [
    {
     "name": "stdout",
     "output_type": "stream",
     "text": [
      "{'utm_source': ['fgymSoTvjKPEgaIJqsiH', 'fDLlAcSmythWSCVMvqvL', 'ZpYIoDJMcFzVoPFsHGJL', 'MvfHsxITijuriZxsqZqt', 'kjsLglQLzykiRbcDiGcD', 'bByPQxmDaMXgpHeypKSM', 'fbFKcMumlScApQMqFIqp', 'BHcvLfOaCWvWTykYqHVe', 'QxAxdyPLuQMEcrdZWdWb', 'hTjLvqNxGggkGnxSCaTm', 'PlbkrSYoHuZBWfYjYnfw', 'ghoaGAksqhKomdFrxgyJ', 'eLzNJHzPelJpEyBwMrKo', 'geDcueAOghDzHkGMmdOq', 'jaSOmLICuBzCFqHfBdRg', 'RmEBuqrriAfAVsLQQmhk', 'zwpKjjsMoRVCdipntaHt', 'aXQzDWsJuGXeBXexNHjc', 'SzZERoLMmrEUEhDaYcyN', 'qVXuCoVQtPxcUkAXiXBa', 'nmfptFmSirEqNzAzqbXA', 'TTtiRKFZIaQpIWggfCoF', 'NwLFDlNWnYxuLZEAZppl', 'gDBGzjFKYabGgSPZvrDH', 'IZEXUFLARCUMynmHNBGo', 'juYouSPHPfKdXivEPJjt', 'iNFgfQPqHPBuvGCYtrQE', 'nSReTmyFtbSjlPrTKoaX', 'oCqKpnSZJeYOVZTgTmKR', 'gVRrcxiDQubJiljoTbGm', 'NwuIyBhuPCXhJVPLtXCC', 'TxKUcPpthBDPieTGmVhx', 'FTAuYVNoYYxgvKMpKSLW', 'KgicpPxiEQfzPlPwQZJq', 'vFcAhRxLfOWKhvxjELkx', 'GpAkIXsclxDGyILfNlrR', 'oZCzWSykfixnjMPDNjSU', 'ISrKoXQCxqqYvAZICvjs', 'BKeImrJuRDZcHiSSTdzm', 'maiZOsuEAMdeoRVsYoFk', 'RxecHElWobBxIeAkqFXV', 'GmILPdZyuAVJCPsUBHeN', 'nrKihqcWGIzDsOqljdAv', 'DnEUulZAecfGPvdtZBYS', 'klTrhUaShgnjIbaPmqjc', 'WeIwsqEbpZGZwhcQktNS', 'ZHCJROlbqnkXTqIuVxnm', 'HFaOtpcChAlcMuxEAlpu', 'YlsczTIyBSwTLNtuDkCd', 'dyicZQGoeASogoSafjEh', 'XiUifkjKLLnomcDRhswp', 'xQnKzPSrehWizZOmwHkM', 'faqsogjxCvbseFqupueU', 'unknown', 'fUhxIMXvMivfzvXbtxXS', 'akoPqAqaJrLGbjrrIVPH', 'eimRuUrNhZLAYcwRrNXu', 'SgIUDYUKnyWHVowUOqid', 'IsHcZJuNYwanAAEDxuOE', 'woJzIcuFapkhnraMjtKA', 'LIWKeifdTCbuNeniIUqm', 'QYfbqJXuLdJGfOSFgZOs', 'WEXkMlsnJodrzBgKJBpG', 'YECMcEASiXejEJmgUmEG', 'vEBWkLmuIpqNdxZZdlnW', 'DnxUhHWInKVDAWzwROOC', 'ngkgBNjlzLYBofkljaBo', 'RVKHNCFOYpjJjjAtwCgE', 'GYkgJdhSxirUFPHFiYSe', 'PsRRjEPKVbKXDDjZTzqz', 'pvCdohkUBGPPZOsCzVAu', 'InLrxElufkSAvhfyFcOA', 'LqFAuDnKaWBLMIsdIrqS', 'EvhrtRzIJnQYHziPiLzV', 'dGlVSdmIlgWDyOPjfwwy', 'OtrdXnwzWFjzhNlHVLfd', 'hONgZhBaHwLGhvJSefNE', 'vNNYHvZtTVtJICHsjBBL', 'LkGnzVRewoaOHnMCwadT', 'DlnuGwaJBHGNEKdWfOpe', 'cAqxcRdSSFAyCPUxQHqy', 'azajeHUvPOKkHBvWFbjz', 'vDZlJSHSNetCcaizwODS', 'oSQBbhIkNionRJpNbQfT', 'hzrqPZyPrRXcOdyjRQRg', 'bxOTvPtyGSdUrbwoXCPO', 'cdPAGAvKeBGoqAkQBuGR', 'IRGUHqwEMepMjgCYBVRn', 'tzIeQUUHahhBuEkJqDVp', 'CFeqZLBNQdYHxJrTOHjY', 'NGNkCWwKgYFmiCCeZVxg', 'zslzdtckVsyxcYqKBRRn', 'xEbgdGZJlqXAaRmeJQdW', 'rGDSdilqpnHoxSsEYvjb', 'YclHumxPxSxgzHfvCaeF', 'QzPMrfYhYSLYYPtPaBxI', 'tYfqTBjAxWbmBruissGm', 'ANoZJgYuPrWNkAAchryx', 'ArbfvYgWhqxkzywKqpQf', 'eYRDXZIocNyHVjEHzesr', 'PKriXrefSFPLBYtCRGSE', 'hIlpdXTVGwzYWIOqvhtN', 'IijdaxEpmKKxJWOGIWwC', 'QKpFeggpjKAvhtjHKHZC', 'GWZGdHKPgmZPNPwkJshU', 'ZSALOpDDuJdQyGxrsDWn', 'MYrKypXYDhDVwJMUhCqu', 'ZeHvxPFwjACxsjFESmAv', 'LlBOVIARRTjfgnQNjJre', 'tZFBLFXQHwkIPobFAmib', 'HbolMJUevblAbkHClEQa', 'ySpKPVDYCgmkHVSeLjnJ', 'mNTexKeDdCADhrBgkEeA', 'fcwjEERKGqQLIBYNygQV', 'MlvrtLODeciGJoIzwoNf', 'wlyUPieAGrQNIlkbmySd', 'KclpemfoHstknWHFiLit', 'bgTYkDHjOsJzMUtoGhiQ', 'WiILFRDQbcHDHNvHzGpX', 'MQvSjpHGoGjbcBjfnLLm', 'pZxsQwZOmQEsKGihkkds', 'ULAUPJGgNiZYQgwZwZGR', 'YDhRPNErghvKCwWcfSFO', 'gLXXuZYbFVYlDWhMmZiU', 'GkGprIZHXAKqgsyDIvMR', 'FTjNLDyTrXaWYgZymFkV', 'CgsxHpdTmXHvrHqEKRxp', 'fcXWTQaKfxbkBkBnzLhK', 'UbQpozKfTgYxQovHjkQM', 'MEitHbTnBcZIHbJvtCyh', 'vjIFJEOjxEWepttdwCpg', 'YCKgTzTDywjcWyQudGch', 'gPinzYOcsxiWLoYRKIhm', 'NTQAiqAhSTbkRRmxVKoQ', 'GbuDbHhyctlqNtNRnebC', 'mtQufDECJCXyKwpKQPvz', 'JbyYOOELEiGGRhJbXfaq', 'bZGRDuESNKqbvzmxXlpf', 'HVQdipMDpgJKXAzecwqn', 'RAeIjhqmnmNXpLaHKdgp', 'eTMcXJUftGtjDdKkZmfy', 'zhqxcsahQYAzJvRzebNp', 'rgsINTLYFsElIlfRtNDP', 'pcvPxfVFaAmhwFmvIeYd', 'NCOBaqbWTRpdTXezdNNg', 'VCREhgqUPSUkmfOTvGiW', 'YQXPpoLsxnykCWKhGEmI', 'UphNUPPFIJLIZnvubKDj', 'SYQTbMrWPSQnOfTSlQxp', 'hkvDVxqLOzGjGaoNiNzN', 'mfMzuDnnxZoVzgSxUxeJ', 'aLJBnHfwxXTnAjVTpHFh', 'DfoBrvtzFbohFKcUrmMV', 'fJCYsujgSxIHFbOmgDdN', 'BqQyRtXZyotBYQPhnHTC', 'DpZgNFPlBxxSZpGFMXkk', 'hYVrCkhCPSqKBhZYhWVq', 'CqeIpFwJscTsZoYXdHsP', 'FArFiZMprRBKpQtJYEPL', 'QuIQZzbAETTwBxLvIiyY', 'MBMyOAfAXcOTBxYdyuJz', 'JXhFObdOttDFJXtNDBuH', 'dIOSwfBKYOHWMhxrecPD', 'aEIcioPGcIauoSISaTHm', 'sOTrgtUMUuYzzWBPLeFQ', 'CXgqTLNTvvxWUWoOfjNF', 'yfjcpPqMeNcSIiswGTeQ', 'kUSlfGqiogPacOyFteie', 'xKilurCKKiYaehWwdleb', 'KkNQdfTjqxnSBHFFEsRG', 'BellrslNBZQZaIxVFGXJ', 'YAQGTUQbCohUIetXFGlm', 'jOyKGQdOxpckcWAZCnNj', 'oBixMNCffOQtQcLCZfRN', 'gaFBXpMUrvHAilRkjPSS', 'eGPqcrOyAyMvXPpbVMLD', 'nnaPUJiwrEHwnRkuzmDD', 'FNIjOzNNxWDHGSGhdwpo', 'opEZzhCrCCxqjKDmOcMK', 'vGkKzmIaNOfwjXAcmSxP', 'YmnqPKMqodkOEiiyvBYk', 'DBLWVjTjVZuzWYWTaDfZ', 'LBaWJEeycBIqEqUqkoqw', 'zGUBrOvMRpLqBkJPUsYo', 'MSMDmOPoIWuXYqCanGOT', 'BAZCuyHZnaPrMGOMrcCQ', 'mIKayglJaKQZvgdtLfqT', 'yxJKymlSGVuKIPTxbysx', 'CHdbSXINvRmKaAtGIGzz', 'XwZreaZvgptCcKQsSTmK', 'WZxCpdfLzrgIfGUqxGpE', 'TkzfDRIBKntFdWkzUePd', 'HJnvbONaVHFanPpYHwts', 'pczkWraIVRIheALfnmZp', 'yEzOkUNmavmsRTXaISLf', 'qkJqOqfMTtlyzUhWxuhL', 'BmzdZLeVUBKtYeegQdDw', 'AHgbtEjTEsiUMJouiDYS', 'wVcghiqKrWURnHCgpBAi', 'oetAUjPZXdyoRrCakDpG', 'eBckTUycdWUDbWqXENLu', 'nVVduuqoxTOGBvvhENWW', 'XrGPrrQSYhqXkqYYpKzD', 'XzfzEBYZWgSDtJNXOadn', 'MmyPhaRZgQtGHEnQbdUx', 'nSwtoJNvOztCnprKMSIM', 'ShCnUddaAbEvEVCCZyOt', 'nDmmJsJyAFLtSzhkbNao', 'RzLAoRYmCtVATSoPvWAQ', 'JcVHXwVSrnfIuOMMEkrJ', 'RqsdCUSLWHPAgkhPbCtP', 'EyveFmCGCQchHbSIRpVc', 'NmOxMbxOBZyJqqGcWBnH', 'rHNgiupMNBtKyhTaWxJY', 'DWvtKQncdpXXfLBjBmGj', 'RYQFHbWRnjKqraTDuhGb', 'NJzEnvxGTeAoWtXraOMM', 'uqttCIyjtWRiZIgdaLzw', 'yjIcHowrPNcMWjOzgULE', 'ZsHOHNXkbhgIDlKNiFMf', 'zPJpddwzkFqLMSYgtDqy', 'RTbrNgtiROQiwvJmxoMx', 'OwOCmIeWDzEyCQjXdfQO', 'LPiQJDVEpMDecOsQvTTl', 'OOVxbzAjWMBOhTQWJgLx', 'WDnvfdpXPXTQDKYDONXx', 'PXQWdUxeUoXfoKzTBGpY', 'SHJidRpqXditMCUeEFzb', 'VdeFdoGCqZBxFfKSHNLl', 'LigOnUObPodLDexszDtn', 'gzgFRUOHBtcBlPPtEMNK', 'nyJQufAIRtHFpfdZHSnK', 'IFkbipeRquzIeCjUtxny', 'WufphiXPXHjYKWOlEjpJ', 'tjKUGseGMhkLEzdCqBRx', 'gSwaXkJgHiWoIntUiupK', 'EiQppLFrUZrUsjXVulLg', 'DsqwamlMwRgMTyspCjFR', 'jCIRaffxlokbeWIRXHKg', 'XGOsamgBesNClOIokPJY', 'YWSizludtZnOxvXZCLip', 'nJVPLgfxsBtPAXttNVDI', 'AuJjYKxJakEqFnCmyFtz', 'LpqvupgvWJUGpCaowEIy', 'CtYDKfzJhMZZOyeUeyMX', 'lndNIerCYECRQvBTyTye', 'SbQJoCCWibshtEmQeuVM', 'xIsdBlwlnRrEDzrJcfOx', 'tasNSXvMCFllwbrJviyg', 'yCnTwlCLkqZHwAglrEll', 'KoBBKFfLGZzJWZoFqBZs', 'cqgnjDbqrtCipVvzhxqa', 'hdfUrLAimwwBitovrFPH', 'IEQWfmbTDVldQVpvhXpz', 'OboZzsWwJIeGPLeiLGMq', 'YpBKcihLLfFjWuxOLfvW', 'KGpIIoFhRfLgffkknBkK', 'ZbcOcgPIxJThEWbhHyVc', 'tYqhoeCFFOJSIpAAMpcU', 'labpJCBQmsoWLfQvNTak', 'COtBsnAzfZyRVtvDlhnW', 'FNCczGzZUTzZVolDcPyC', 'cnjXFDaLIoexZTiRFPQj'], 'utm_medium': ['cpm', '(none)', 'banner', 'cpc', 'referral', 'stories', 'organic', 'email', 'push', 'smartbanner', 'cpa', 'blogger_channel', 'cpv', '(not set)', 'app', 'blogger_header', 'post', 'tg', 'smm', 'clicks', 'blogger_stories', 'outlook', 'CPM', 'link', 'landing', 'sms', 'partner', 'info_text', 'static', 'google_cpc', 'medium', 'yandex_cpc', 'nkp', 'fb_smm', 'web_polka', 'cbaafe', 'vk_smm', 'ok_smm', 'social', 'article', 'landing_interests', 'linktest', 'promo_sber', 'catalogue', 'dom_click', 'users_msk', 'qr', 'reach', 'main_polka', 'qrcodevideo'], 'device_brand': ['unknown', 'Apple', '', 'Xiaomi', 'Huawei', 'Samsung', 'ZTE', 'Alcatel', 'Meizu', '(not set)', 'LG', 'Realme', 'Asus', 'BQ', 'OnePlus', 'Google', 'itel', 'Sony', 'Vivo', 'Cubot', 'OPPO', 'Motorola', 'Tecno', 'HTC', 'Nokia', 'Lenovo', 'Kata', 'LeTV', 'Blackview', 'Prestigio', 'Vsmart', 'Leagoo', 'LeEco', 'Neffos', 'Umidigi', 'BlackBerry', 'Ulefone', 'DEXP', 'TP-Link', 'Highscreen', 'DOOGEE', 'TCL', 'HOMTOM', 'POCO', 'Vertex', 'Oukitel', 'Coolpad', 'Infinix', 'Philips', 'Mozilla', 'Micromax', 'Gome', 'Tanix', 'Mito', 'Hisense', 'Komu', 'Sharp', 'Haier', 'AGM', 'Wileyfox', 'Black Fox', 'Celkon', 'Fly', 'Jiake', 'Kyocera', 'Oysters', 'CAT', 'Inoi', 'Acer', 'Vernee', 'Chuwi', 'Kingplay', 'Vestel', 'Teclast', 'Elephone', 'InFocus', 'Karbonn', 'Olla', 'iNew', 'Fairphone', 'Fujitsu', 'Tagital', 'Qbex', 'Ark', 'Pantech', 'Egreat', 'China Phone', 'PPTV', 'Lava', 'Razer', 'Gionee', 'Nuu', 'M-HORSE', 'Evertek', 'BLU', 'Advan', 'Wiko', 'RED', 'E&L', 'Land Rover', 'Nomu', 'Yota Devices', 'Digma', 'Ananda', 'Guophone', 'Digiland', 'A1', 'Amazon', 'Symphony', 'Geotel', 'Iris', 'Condor', 'SenseIT', 'Smartisan', 'Walton', 'How', 'Orbic', 'Wigor', 'General Mobile', 'Panasonic', 'teXet', 'QMobile', 'Tonbux', 'H96', 'ThL', 'NOA', 'Caterpillar', 'Billion', 'ZOJI', 'Vertu', 'Flexymove', 'Archos', 'Dark', 'Maze', 'MTC', 'Wieppo', 'Essential', 'Mobiistar', 'Unihertz', 'Explay', 'SonyEricsson', 'Tele2', 'Alldocube', 'Kenxinda', 'BLUBOO', 'China Mobile', 'Keecoo', 'Irbis', 'UGOOS', 'MXQ', 'Yuntab', 'Wexler', 'MediaTek', 'Beelink', 'Xgody', 'Corn', 'Gigaset', 'Ken Xin Da', 'Poptel', 'Dynamic', 'Verizon', 'Flylion', 'INUI', 'Star', 'Itoos', 'InnJoo', 'Evercoss', 'Artel', 'Fero', 'MLS', 'Honeywell', 'AT&T', 'UMI', 'Nomi', 'TurboPad', 'MTS', 'Wings Mobile', 'Hafury', 'Jiayu', 'China TVBox', 'Krip', 'FREETEL', 'Tesla', 'Xiaolajiao', 'Honor', 'Sonim', 'Dell', 'Mlais', 'Dragon Touch', 'LTC', 'Gretel', 'Cube', 'Winnovo', 'Smarteo'], 'visit_number': [1, 2, 3, 9, 6, 8, 11, 4, 53, 5, 143, 23, 77, 17, 13, 78, 63, 10, 83, 25, 14, 7, 49, 21, 85, 79, 20, 67, 51, 15, 24, 81, 39, 16, 166, 185, 28, 31, 80, 195, 19, 64, 12, 92, 22, 55, 30, 18, 29, 40, 32, 65, 207, 174, 104, 59, 87, 47, 183, 105, 58, 110, 69, 44, 75, 34, 38, 37, 36, 124, 33, 72, 41, 27, 212, 508, 191, 57, 192, 159, 26, 237, 84, 126, 35, 74, 54, 149, 241, 247, 45, 161, 128, 220, 76, 62, 320, 91, 135, 139, 98, 46, 56, 48, 269, 43, 50, 120, 153, 52, 96, 254, 148, 106, 179, 229, 417, 60, 248, 137, 88, 99, 97, 129, 61, 90, 42, 196, 140, 131, 184, 134, 262, 116, 164, 234, 73, 223, 109, 181, 142, 178, 112, 205, 199, 177, 256, 108, 70, 71, 180, 94, 95, 119, 103, 82, 132, 68, 230, 316, 494, 107, 175, 122, 217, 89, 311, 309, 213, 246, 141, 280, 225, 172, 167, 176, 157, 218, 204, 198, 302, 277, 228, 249, 276, 154, 224, 127, 169, 201, 165, 296, 287, 151, 86, 222, 117, 66, 203, 102, 388, 297, 555, 121, 284, 145, 193, 115, 186, 318, 171, 300, 144, 552, 150, 210, 162, 190, 182, 136, 160, 189, 295, 173, 100, 267, 209, 304, 130, 270, 219, 111, 146, 188, 101, 231, 258, 437, 243, 290, 265, 138, 240, 158, 395, 152, 244, 272, 292, 273, 125, 133, 214, 285, 466, 279, 266, 168, 113, 291, 468, 235, 242, 519, 264, 561, 376, 114, 232, 354, 123, 335, 93, 429, 239, 345, 194, 227, 374, 252, 163, 355, 250, 527, 118, 315, 409, 253, 187, 147, 155, 211, 216, 236, 412, 289, 310, 293, 278, 156, 299, 488, 334, 259, 416, 496, 314, 447, 170, 435, 215, 251, 306, 197, 255, 257, 532, 313, 245, 208, 321, 294, 510, 317, 226, 524, 418, 238, 483, 312, 260, 559, 459, 333, 233, 558, 206, 486, 283, 202, 445, 365, 282, 221, 431, 419, 301, 521, 326, 401, 263, 522, 398, 399, 538, 327, 200, 358, 286, 472, 378, 523, 271, 469, 485, 549, 342, 381, 481, 406, 458, 303, 275, 478, 533, 392, 477, 463, 444, 503, 506, 322, 356, 360, 329, 325, 471, 377, 489, 364, 357, 529, 446, 261, 452, 383, 298, 515, 307, 331, 350, 531, 505, 405, 371, 372, 544, 536, 507, 539, 460, 482, 467, 332, 422, 475, 563, 274, 323, 341, 324, 363, 387, 479, 514, 526, 319, 415, 373, 308, 375, 517, 502, 518, 501, 440, 336, 464, 484, 474, 420, 338, 443, 361, 473, 288, 268, 433, 400, 340, 454, 349, 346, 347, 434, 330, 562, 513, 439, 414, 462, 436, 348, 451, 461, 411, 564, 490, 504, 385, 305, 281, 512, 391, 448, 453, 487, 428, 499, 390, 402, 553, 534, 456, 450, 528, 421, 389, 393, 557, 370, 455, 362, 344, 470, 328, 408, 339, 476, 343, 441, 509], 'utm_campaign': ['FTjNLDyTrXaWYgZymFkV', 'LTuZkdKfxRGVceoWkVyg', 'LEoPHuyFvzoNfnzGgfcd', 'vVspBWANjeNCTQJpJJeE', 'TmThBvoCcwkCZZUWACYq', 'gecBYcKZCPMcVYdSSzKP', 'unknown', 'PXQWdUxeUoXfoKzTBGpY', 'zmnpxOKDENholtspXiGy', 'VzoFtfHotWfgMqOvhhpk', 'SgIUDYUKnyWHVowUOqid', 'WlbWUObZWvsimzdFdLYw', 'QEejXfOCtOMFLZqIPApp', 'vRLTQQKAsFQMxbcHGPhu', 'XHNUiSKKGTEpSAlaVMFQ', 'IKQsApKuPmZqqmhieEgf', 'ascPqxFuFewWWZSVMpkh', 'YCKgTzTDywjcWyQudGch', 'sbJRYgVfvcnqKJNDDYIr', 'zxoiLxhuSIFrCeTLQVWZ', 'DsqwamlMwRgMTyspCjFR', 'KgicpPxiEQfzPlPwQZJq', 'LwJZxKuWmvOhPsaCeRjG', 'bJJuEXRheRIxXEaYIXqM', 'jfLxUKobDdJlutbwyjaU', 'RoDitORHdzGfGhNCyEMy', 'JwYIveaHVpeeRZloQCfF', 'jqlUOdZBNZYfInQVcZlS', 'vXsFkagGabkcWKlgLzSg', 'iNaIAFVuZgYukekFQQbX', 'DnEUulZAecfGPvdtZBYS', 'HEimDfYZIzuQXDZAAcEW', 'dMIPlIFgKzafYgowsqtp', 'mSVMBvlHFgftJaQAZEdp', 'UbQpozKfTgYxQovHjkQM', 'kVOrIKZFrEYGvixPclal', 'WiILFRDQbcHDHNvHzGpX', 'uHkXFqmjVyPishvUseQg', 'bxOTvPtyGSdUrbwoXCPO', 'hkvDVxqLOzGjGaoNiNzN', 'LliRUcMuIXWdLyWHGyiO', 'sTkjcuMUikyInvCPLqNT', 'IZEXUFLARCUMynmHNBGo', 'nSReTmyFtbSjlPrTKoaX', 'gVwpGdJDpteNmFIatPTG', 'eimRuUrNhZLAYcwRrNXu', 'KUROllwAYyecYcjFOgAi', 'MXqmDyetMTICSSitTjWV', 'mrrsABvDmholqItQOtcL', 'poPacoEcpwIansoSINie', 'QejVLgNgzFMqjZPsnfxa', 'BVKxkCOHKUOvkpbrLMgZ', 'QdLfySaGXolfTBSNVfHn', 'MZTDkjezphpnUHlvfRck', 'IWLzPAfDfwypTzMxtiQE', 'YDIkQmcjRkpdxGbLLtNN', 'bgTYkDHjOsJzMUtoGhiQ', 'qUcotcWimEOQiboVPcCx', 'okTXSMadDkjvntEHzIjp', 'UvuMsOSDBWQGOIbDbXfV', 'GWZGdHKPgmZPNPwkJshU', 'VBmazutCflYumtDHrQYe', 'ngkgBNjlzLYBofkljaBo', 'zPJpddwzkFqLMSYgtDqy', 'tnAqgCNATsNXcJwptHrh', 'vNNYHvZtTVtJICHsjBBL', 'XwZreaZvgptCcKQsSTmK', 'WjjvSVHOFOxHwlNJQcyk', 'UjApcvnaHtkydRkrLYuv', 'VlqBmecIOXWjCWUmQkLd', 'ESphyUeLTPINiYALHWrO', 'wpmatvDuiMutnvmNVPJo', 'jvsVVQVKRfBIqBDBuCkq', 'JajANoFxoqXfKRNBUhzx', 'XGYOaJEasWTwAKNdCGVX', 'labpJCBQmsoWLfQvNTak', 'EiQppLFrUZrUsjXVulLg', 'TIRYvHSoLonAvRZefPmz', 'MmyPhaRZgQtGHEnQbdUx', 'izpGVnqOrUbTVctFBiaU', 'aLJBnHfwxXTnAjVTpHFh', 'aPqwsNrUDOqqlOPbgStP', 'CdkIkBrvEVomSgvHzYvj', 'NSbcaLfXREiOVOXTmbnD', 'RwJRitibjRveidvwKiLL', 'iYBYglGljMDRQyqHRiPH', 'EvhrtRzIJnQYHziPiLzV', 'wWzYQhgKgKSglyMXtXFv', 'mIKayglJaKQZvgdtLfqT', 'VYDithpzdwvzdnmGEkfp', 'akoPqAqaJrLGbjrrIVPH', 'DZlFqIVHUBIDaQoarvIZ', 'NPCqHqKASZefKtNiMiwY', 'LUlvACDKkkOkiSuiwaBs', 'MWLEpQPyjGkjHseVyeyQ', 'cKnGYQSWZGzyTNPbbUhM', 'ULAUPJGgNiZYQgwZwZGR', 'AqudXfUnmXWSDWVGYaXr', 'hyNLyXfbJfGYiUJTEZnz', 'pQhDyEDSvgnXNvMXPAhy', 'ZWwGecvpGmryAHpoosvq', 'kwdmElMUPDZaLQdgjcsI', 'TmLcOgercnkJQrPmRxsU', 'hIlpdXTVGwzYWIOqvhtN', 'isYoUwVPnRHJczHiHQbB', 'QKpFeggpjKAvhtjHKHZC', 'EcEOnwFpCaiUbrbFLICY', 'zfwIehuEfWYdYrEZgRLo', 'qQToznZzQEwXqmrMVfCd', 'PTQlxxEuqjyfVHcNKQQW', 'UjNgcKjhqljTjpKnzEsH', 'nmfptFmSirEqNzAzqbXA', 'NPcEIgnbIECWdLNSGoam', 'pPhTYiQubZFNCSnIbPJs', 'DXVdsSTQphSYVmRchYKt', 'FNCczGzZUTzZVolDcPyC', 'foFTSdUvNqqkPzZvgiqt', 'tVtbIKrPSOvrXLCznVVe', 'qjmBmKWCivQiONdxBwQN', 'sbBROyEMXrSwnajIqxMA', 'ISrKoXQCxqqYvAZICvjs', 'TBuBeLHkANSfemZzCoVD', 'WZxCpdfLzrgIfGUqxGpE', 'TzXEvSoFiirteePaCzeY', 'NCOBaqbWTRpdTXezdNNg', 'wWtqUernqIfFLJdJysKt', 'LJZfurSmjxvomWxSCcZR', 'WJUKqfeOrjXIOHjgcgdR', 'rcPTSYUkeyIdANHAzyqt', 'hBWmNYrvNzCBHuiQQxfV', 'BtHktUgMgEVIjKWdCrLZ', 'CTxTNVPeWxOUJWpkjRjV', 'BAZCuyHZnaPrMGOMrcCQ', 'yEzOkUNmavmsRTXaISLf', 'emlBaVkgLVRqbEVOSSXt', 'kzqtiVtETHDUrZfgudlz', 'KXRJMPPRGoMIgkFfvZpk', 'MvfHsxITijuriZxsqZqt', 'WYZTTdhWPjttFYmcGjBP', 'UKNBOHebRIIsQRsjNKay', 'qpUkxmFZPYAfFrViyYab', 'hnthrvdBdqpbZrLTWFSs', 'dZqEgyoxhtbeLFMtnnVR', 'GqeiAYRNSJPqyMnJQPkv', 'RzLAoRYmCtVATSoPvWAQ', 'WfdbkkrpQJoKZZNMVapQ', 'TxKUcPpthBDPieTGmVhx', 'BKeImrJuRDZcHiSSTdzm', 'ydXTgkwKyFWEAJoahduP', 'PRXiQFoujNLNNkgZGmhg', 'tlfQioxYValDMNqdTGFZ', 'HKUDoNXhPeIzUdnZpRdl', 'hJvOVTMdhkqIBqjVrsOL', 'NJzEnvxGTeAoWtXraOMM', 'nGFPxtyrBsOYBtJhrWEk', 'rmVZWYFMcnGputYDEnAW', 'FhMPkFqqAboknIypeYDz', 'jpjTolpOezlrOPAunDZi', 'RhRtRKaMduWUvXxkhSyj', 'XrGPrrQSYhqXkqYYpKzD', 'MrKkyDxiricJGgQfpARh', 'jXKhPqSdMbcUvJsaNCVA', 'iNFgfQPqHPBuvGCYtrQE', 'qTERPbkOaRvjtQXXEwdb', 'RxecHElWobBxIeAkqFXV', 'yxtFdhyijaALzWWYtzHE', 'ggnicnIiTUFLsyaNdcJJ', 'IRGUHqwEMepMjgCYBVRn', 'qwXNqUOhqrtaEJcARSvk', 'lDZWtjMawBaqetnVFboy', 'lndNIerCYECRQvBTyTye', 'fJCYsujgSxIHFbOmgDdN', 'UEtHtwAEXfprDUERwqqj', 'OrvHyYGicWVbFQAOAErl', 'fDLlAcSmythWSCVMvqvL', 'PuSsXRwSpZeHuyXoHqhm', 'XoTrAOMBRCYqwPhPaAug', 'BHcvLfOaCWvWTykYqHVe', 'vFcAhRxLfOWKhvxjELkx', 'kPFxaNFzjAAXpTmoDqwY', 'KCcrgoFqYxCpSjdRyJjZ', 'xGRbRuBkKsQPkKARPeOn', 'gkrlxvSUaPCJLtsTAaHI', 'yfjcpPqMeNcSIiswGTeQ', 'QOFLjxQSwjjdcmUyBzfz', 'ukwEyFczbqbKStCfJGsY', 'rKHSSStqLNTbdGVZMwfG', 'vbDXvNFpmAgCDpNuuaPT', 'niQdLVcBlNylrEuNcCYH', 'agnCWMgbwJZgTVVsuCLg', 'muXSoqIAVnfVKUwxNbDi', 'quxdQHtdlpFZfBZSiXFZ', 'KGpIIoFhRfLgffkknBkK', 'NLWjXuYiXlKrFJfSWfKt', 'REOxIXhzBcWRzAVjELgu', 'vDDUOyLFNAxxxTqPIvmu', 'KiQeSeROtpITKBTCBZpa', 'IXTKLknIYjJQZcDSDKPL', 'GboXzNKRyCWKEtblNdau', 'TdiFPEJuNonAMXzGxOdj', 'KTPxKBplKCicmchTWoPH', 'zzcBKEnbRkpqxqrfLtUQ', 'DBLWVjTjVZuzWYWTaDfZ', 'YHobSrmCVImJLFtqxaTd', 'rnfmrcrPXOGNGEedbqSd', 'iSHFQRYsNeVeKceWxpSo', 'yCnTwlCLkqZHwAglrEll', 'iOMuvNvFqsfUXNqBuSzy', 'aCaBoYaQJPVffhjBQnut', 'zDGMDYOBPSeVFZNNwoxT', 'cccMlyVfjXspfaCSrMsO', 'DWdObWJnYkxegWsWkVuy', 'TOtlRhDcJiAMnHYarArU', 'wpMKhptHblpEnLMZvGir', 'JdLDXLLzKXZlxBJrDTXh', 'phrsMxwuvNvYsPYNbKkL', 'mpFygdnCzMsVlLWOpHBn', 'UrZcnCerRbiVophgfqbk', 'HtyIDWOBgqXsGucSiffW', 'MQvSjpHGoGjbcBjfnLLm', 'QLIXctrnAHCfkfINcoBS', 'NIgzwPqJgIRAzUyDvNQF', 'gNOygIoePsujXLVGYNZi', 'zeAhgziIlupwjQfwRisw', 'YpBKcihLLfFjWuxOLfvW', 'klTrhUaShgnjIbaPmqjc', 'CtcATIzjbQqVOMPZfiQY', 'LbYgXRsCfbfDfXBVePCv', 'hSkxjvIamxEAKPuQRbPZ', 'QhutXutiTDeqkGEUiqFI', 'NTQAiqAhSTbkRRmxVKoQ', 'MXDkcHqcdXtujYTeSiOo', 'xEbpvlxtkygYVvQKMatl', 'RRQpCHVxearEpYWQPPkz', 'vuriSCpYEnMEbLACpaMZ', 'eBgdbiFvTJMytFSiMBgO', 'CHdbSXINvRmKaAtGIGzz', 'MBHgRPNeTcONuVFFXgmz', 'exUGYSXnDUQrIBIREJPO', 'YAQGTUQbCohUIetXFGlm', 'pbDudNzVMOgnBNGCXLTy', 'qxnAydKMtMSuafVrMzdC', 'gaFBXpMUrvHAilRkjPSS', 'KSpBvMRGOrzuwPcKggOa', 'FybWmKxPurtzLVenltZy', 'HMzbTCtidyLIdSFumcrH', 'zBKTCFUiXurMYBESygaA', 'nRMQduiDPkgzAtCtRRVx', 'kGhkeERWmeLqLmjmoxHo', 'YDaQaUATKHxvsCBNfjwj', 'ZggPbXStNGQhzWMEBOLM', 'vZqcBrFwxYPoYzJyhYGI', 'BrdyisDlGWoQTEpGunCI', 'TOSjvKcurFlcKJijjpYP', 'UCpELiEcSpcQwocxJRuB', 'ySpKPVDYCgmkHVSeLjnJ', 'OztZDxVyKavDuqIwuDEW', 'bSnjzIuKqgqYvqVDKaOX', 'kLcjCnTSVYUxLVdvWAbF', 'geDcueAOghDzHkGMmdOq', 'deUhHtuyPVpBrqXAuTJK', 'maiZOsuEAMdeoRVsYoFk', 'mzJXHtJPIOSHoHtgezIA', 'UUEGZcMsxvxRpygjNVWe', 'sYTAOjoipTHhTMmUjbIx', 'vsIeXLhfMWBRXWnTmgPr', 'UFjBFJhIpQsfVIWQKdaW', 'vRnpYItqvTLeHOrhMWuq', 'yNZQMmUjUNvdFfSdNFRW', 'IOQFgDqnjywyYyRldWoF', 'RTbrNgtiROQiwvJmxoMx', 'xhbLYKykcxmylecTsBop', 'QzAELPgNYUjFjCPggkiD', 'sbYfAAzphmSQppvMthfe', 'MBGYWAQSYWUphNxTsAWD', 'WxlboVseFpLmzsoVKkkQ', 'CXUMHTKDPKDgDkGDcDjy', 'qWwWPqRITbGahtXJnhQM', 'fkhLOTqvIJxkHksTSIzX', 'KyobiyHqbFtWswycTXJo', 'vzVHtUqdxJZtwimyfRnw', 'sLQbYFRIWJPmCqXsQgTS', 'fHHhKlkKELjsiivkpZSF', 'LPiQJDVEpMDecOsQvTTl', 'TPmcSCdCeBenCRczRhPK', 'bPGeWWXPmJNDEUOxhfYY', 'UDwbPOvNChIeCDrGWlDQ', 'KCcEkEaKEtUilBVMoCAi', 'ZdOcFAQpRQWuFZHHkEJQ', 'nffihnepviFqbduqvqtR', 'viJRyeJfSPaqDtxzXuOp', 'mtQufDECJCXyKwpKQPvz', 'REDghzZLrGbRqqQpScpY', 'vjIFJEOjxEWepttdwCpg', 'hIquLOydEXoeZjuqwKvP', 'ssImHEVdprbqxSDUnKEZ', 'GpiDILvimvLtLBlqOeTQ', 'vHbfNwUgmVpYgEczIXDW', 'NGNkCWwKgYFmiCCeZVxg', 'eGPqcrOyAyMvXPpbVMLD', 'oCqKpnSZJeYOVZTgTmKR', 'pJnsGDvdAPPSfypxXruE', 'IRKNegNgOUQLwudzMElF', 'nwKBdMZKktIQFvhZwbFe', 'enrUjlPmoRCCSQCEJpCp', 'XGOsamgBesNClOIokPJY', 'XBoxutCxHSTnvyJumCQY', 'JcVHXwVSrnfIuOMMEkrJ', 'CXgqTLNTvvxWUWoOfjNF', 'YWSizludtZnOxvXZCLip', 'kjULrCjbRVbJtOfWpmQI', 'CqFuKxSYgtGbcafqJwij', 'qOAPxwpizrrMICrEYPqL', 'zhmDvzviWNMgxXuZASKu', 'FrZxVhBshHjYZTtbPhxK', 'vAUKqgVpFlghMFvCyBIl', 'KAcUKGokhYlMktQhYKHx', 'GYkgJdhSxirUFPHFiYSe', 'HFaOtpcChAlcMuxEAlpu', 'zMFmwQTCTSjJqblNXbOE', 'jOKkxDtEgXaQRrvJuOBq', 'eYRDXZIocNyHVjEHzesr', 'cXxuwXPoQCvAXPHpFcZl', 'DfoBrvtzFbohFKcUrmMV', 'fBaFZNWyrwtUZQWItcsr', 'YflAKtEwXjstllfZgfhN', 'BHqsCPwtnpaQSryaVXya', 'PntUWqsXgSZmBgZOAyqP', 'jUuukNIbGoOYdGYzBthG', 'PVFXnspnruelCtUpjRiI', 'FTAuYVNoYYxgvKMpKSLW', 'DlOlXJaBJgWQVhgtCeWo', 'uZlTllnydJIwxWaShyFN', 'fzbotReoFzSuckjwcpCs', 'XHoTMOgwgpjFLwhdjpdo', 'RmEBuqrriAfAVsLQQmhk', 'UJEPFwUhLuXISIccsLnP', 'xKilurCKKiYaehWwdleb', 'oVRrinVXnwQkBsdFlKCa', 'chmITvDSGkTMoJvvoUQz', 'gEydMgyogRBSsihrQQwd', 'QftOBnqPiHPTqiRZihxu', 'PKriXrefSFPLBYtCRGSE', 'nRpmmNsxMgmMTssAVHFx', 'NgvIEWbVuckjhbPiqDzr', 'twJlyhuKiWhbEOmUvhDk', 'VfhMXDwtKbBKHfyoCvdn', 'HXlcbndflGLufMTnkOso', 'GbuDbHhyctlqNtNRnebC', 'NAGIDBigiKYOOmeMVBQq', 'ZNhSIPchlbnKwZWcsKzz', 'jCIRaffxlokbeWIRXHKg', 'YwbyBjVdPyyaRwqdjxpq', 'nnaPUJiwrEHwnRkuzmDD', 'UgWjaOmKUxPFucSbwvSq', 'SoCnOWJkUDarGowlGDnC', 'pZxsQwZOmQEsKGihkkds', 'JvXenhWHxCJUrVZhrGMS', 'mfMzuDnnxZoVzgSxUxeJ', 'DWLxnPuFDXvGQTIRHNMJ', 'DHyodCvEfFUSiyuabgaG', 'vgnFYqlaqdoLREHruWar', 'DYPQuQTZCBDnCWMJOzqR', 'CIAskiBSlPVrlMWbbWfu', 'pSXvqeeLXicMCzTYwAMy', 'BTRXXRKRDzPJDwsbtyIL', 'xEbgdGZJlqXAaRmeJQdW', 'zFCiMWkbbAhTflrlLWnz', 'JXhFObdOttDFJXtNDBuH', 'WUAADskMKtAjHudRNZNk', 'opDQAVOMtCAjZrYyRdJb', 'wiaGHeLepWDNwXuBHvDB', 'MHdHrBKQwbDaRalwnlJq', 'nrKihqcWGIzDsOqljdAv', 'RkpOyeEPgcMBSDuHLQcj', 'TwMQGFwDtGdibAEpQHYs', 'riZJIarZWJvhdHWdDrux', 'SbYAsCvXapXBOIxEKBZs', 'CqeIpFwJscTsZoYXdHsP', 'UNcVvIncdXEfyysCnEDP', 'ehLonfPENrOEoPTIyiOZ', 'cqgnjDbqrtCipVvzhxqa', 'kKtSojgDlfomwthXhPjz', 'ZHCJROlbqnkXTqIuVxnm', 'azajeHUvPOKkHBvWFbjz', 'XzfzEBYZWgSDtJNXOadn', 'zXjuoqEaPElBnwpSHMpx', 'FGuKxIlHfUzjrXnJWuBo', 'tWBQlsvNfHxRUjaPAfhd', 'dITetAFbdxWiRaArKHRu', 'NUYvxgBEIYqMlnpeDTIM', 'pZusNNTculJrJpXVbetv', 'kGgpyeEtacYWhzbuuWMR', 'vaWGoewhkfsUoVkjyUBy', 'JSpqZazJfaFgfkyRxcgv', 'qPDTdivQVeflLjTYIJnG', 'YlsczTIyBSwTLNtuDkCd', 'KLznuVEblkSupUDWtCge', 'cQRpDybanXRyHUvzJmgo', 'EsbMmeeLGwoYJmQRMBxd'], 'utm_keyword': ['qUcotcWimEOQiboVPcCx', 'unknown', 'puhZPIYqKXeFPaUviSjo', 'RkpOyeEPgcMBSDuHLQcj', 'zXjuoqEaPElBnwpSHMpx', 'iDrLOaeBXQjJLmhvuWWP', 'ggnicnIiTUFLsyaNdcJJ', 'ITfrGJNwVsHBGJMAKoct', 'DpZgNFPlBxxSZpGFMXkk', 'IGUCNvHlhfHpROGclCit', 'UKNBOHebRIIsQRsjNKay', 'PwnMssDiYIooQNfKzkCB', 'ZSDLIJSjXvtQGZkIUmUP', 'pucKZkLDtpMDBTobJAJG', 'tVtbIKrPSOvrXLCznVVe', 'YQXPpoLsxnykCWKhGEmI', 'ObIWuFTMgFPUHNiFoOwb', 'hAmNSZmQkKQKAjZEGlgb', 'fzbotReoFzSuckjwcpCs', 'RrhnkuoaqckNtJpAZDzH', 'iYCvLHKtSHnVUTFbZVoL', 'qjmBmKWCivQiONdxBwQN', 'wGOVzylWvLKbuWLbPaDc', 'pHqgLcdBQPSLcrTpLkdr', 'UqEDVmhQNfPuPSCjTnCF', 'jpZoxCaowxXvglZVUJyq', 'KCcEkEaKEtUilBVMoCAi', 'MBHgRPNeTcONuVFFXgmz', 'RTgeTjiAoUEEYBDvdNJU', 'MWLEpQPyjGkjHseVyeyQ', 'BmWKiKCvBVipoWOpNUIL', 'qxnAydKMtMSuafVrMzdC', 'DBLWVjTjVZuzWYWTaDfZ', 'fkhLOTqvIJxkHksTSIzX', 'ZNhSIPchlbnKwZWcsKzz', 'rUCkqFnIxCaJcjmMyyMC', 'UbQpozKfTgYxQovHjkQM', 'QeNLaMeEVsJJdnRxMyzN', 'jfLxUKobDdJlutbwyjaU', 'cccMlyVfjXspfaCSrMsO', 'TxTOfgKkMeeXaPmceqBy', 'PVFXnspnruelCtUpjRiI', 'BmOOOIoWGHEfxEfoUezs', 'tLZnuWoZXHEmUWQpqqLc', 'TxKUcPpthBDPieTGmVhx', 'VqNQWUxGEjiymWiLTHcm', 'jlrTVFDUKTjhQbcBXWPq', 'KCcrgoFqYxCpSjdRyJjZ', 'LIWKeifdTCbuNeniIUqm', 'ISrKoXQCxqqYvAZICvjs', 'mIKayglJaKQZvgdtLfqT', 'MJvozWXqNszfYnwacBrO', 'DBHgBJHOdbPwsRDUbEgX', 'hkRNbUXCPaRbkWDMBRpf', 'JajANoFxoqXfKRNBUhzx', 'NnplfljjtYPiMnRvogpA', 'COtBsnAzfZyRVtvDlhnW', 'gDchtZpzPhEcUUlQzgsT', 'aXQzDWsJuGXeBXexNHjc', 'ANoZJgYuPrWNkAAchryx', 'IYYfbpSgwcuMNWNXkFLg', 'MlfnVvZHUUeWFenFMWmy', 'QYfbqJXuLdJGfOSFgZOs', 'AOIxUCLuCjwgydJkOLWI', 'gDBGzjFKYabGgSPZvrDH', 'RmEBuqrriAfAVsLQQmhk', 'OrLYsUIlmiHOxKjBFasy', 'oKjXDUsycmahkgMhGdAR', 'MXDkcHqcdXtujYTeSiOo', 'xkXwwebfDFpZOOKBcXpE', 'JbyYOOELEiGGRhJbXfaq', 'fVHJqnfOFSWcsCBViJGr', 'LwJZxKuWmvOhPsaCeRjG', 'IKQsApKuPmZqqmhieEgf', 'muXSoqIAVnfVKUwxNbDi', 'RAeIjhqmnmNXpLaHKdgp', 'mQwoWpYZcEPnQCRlXyhf', 'uqttCIyjtWRiZIgdaLzw', 'xzPgENzfsiSHNQylthOw', 'XEayFbemrPYbxFeNbxif', 'JcVHXwVSrnfIuOMMEkrJ', 'psjAUzFZVWWCuxgCrtmQ', 'NUYvxgBEIYqMlnpeDTIM', 'zMWFwwrXUdIvCHXUfOpo', 'GqeiAYRNSJPqyMnJQPkv', 'QRSrGMRlRfLHqzjtnKsP', 'UJEPFwUhLuXISIccsLnP', 'yRBmwScXnSKHfXPbsxGX', 'kpwoWlshUwRtxMMtxukt', 'xVVRROBlkIufrdCBMTYc', 'faqsogjxCvbseFqupueU', 'fBCsmbCkMTIBLHlRmDIe', 'fBaFZNWyrwtUZQWItcsr', 'DmnMJHmJxcFCejRdUBdl', 'yanmcYQNpOUjhHarlENh', 'vEBWkLmuIpqNdxZZdlnW', 'TzXEvSoFiirteePaCzeY', 'LrQqvDikGXFrFbLPeKVN', 'fxKLUhFToKQtGIyvjZXQ', 'BHIVroWlaKjxMZThkEBV', 'TzrnweKbRBhjkuRxkdjX', 'oetAUjPZXdyoRrCakDpG', 'PwscUHjoUJDrtfWESIHj', 'jqlUOdZBNZYfInQVcZlS', 'ZiHEFAowQMBIYnNddrMG', 'zmnpxOKDENholtspXiGy', 'tzIeQUUHahhBuEkJqDVp', 'OcqUiVhDTSWvCbYTFmhX', 'lVHkqXlZapieOXCrCJWG', 'vMZNdWZTzqxmvcMtqFME', 'xGRbRuBkKsQPkKARPeOn', 'cNnFgtOKWsbSOkYXWiHE', 'mpFygdnCzMsVlLWOpHBn', 'HVQdipMDpgJKXAzecwqn', 'nSReTmyFtbSjlPrTKoaX', 'RDtiixmNlhPJpjleHVhu', 'FaQCXVOEpNCoDMRFwHJs', 'PBaNPrhAxWZMFutYwEFn', 'eKHUxnmdnfauMYTztCfy', 'TPmcSCdCeBenCRczRhPK', 'DAIZfHKtpxGxIvUlrFbX', 'CHdbSXINvRmKaAtGIGzz', 'yfjcpPqMeNcSIiswGTeQ', 'rcScqexpyNHshwBMMfPx', 'IImAYOkbDeDVIHZljeSM', 'QVwnwuQeEBRKybYuwqrE', 'AkYqqzcVfhlHqcuZfGuW', 'pSXvqeeLXicMCzTYwAMy', 'xsEyGwyvPqtjmHseRAHO', 'DWvtKQncdpXXfLBjBmGj', 'ucuwacMUeGnaCgSEEZdM', 'MQvSjpHGoGjbcBjfnLLm', 'wvtWRwiRmvPIsSQuXnvd', 'RhCqlPQkGXeMYozeRlxi', 'ECtRJwoGWSZPfHGvzNWf', 'KAcUKGokhYlMktQhYKHx', 'YCKgTzTDywjcWyQudGch', 'HKFjmDlYppkKqsWPogJt', 'vjIFJEOjxEWepttdwCpg', 'rsSwUOukFdhGzPhTCYOe', 'pExIGnYTjjMFTfBagiyJ', 'cHHaSQImQdWjMabjcXwr', 'wwcrylJizGBpwVyhgURB', 'KwOuxpFLtSkOaFtiQohJ', 'KTPxKBplKCicmchTWoPH', 'tasNSXvMCFllwbrJviyg', 'nffihnepviFqbduqvqtR', 'NtrQFNVHhjkwrIwouQbX', 'TYFzGYsJJupgafaYSkHH', 'tjKUGseGMhkLEzdCqBRx', 'wtXxmHSQmzjsTfpuJcgA', 'kqALsUFfDyenmUAvGSJm', 'GkGprIZHXAKqgsyDIvMR', 'iTeZzhIwhAqCnUUZzgaQ', 'StfzifHXYlYJGjeSIRwK', 'zPJpddwzkFqLMSYgtDqy', 'zIuKfvwbxDapHUGcVYyL', 'UtUZWTnOfXdrFQoihxgS', 'ucKfyVnbrnrNhCMWITmd', 'tYqhoeCFFOJSIpAAMpcU', 'GboXzNKRyCWKEtblNdau', 'qdjNoTgGhGcfcJSEcLdL', 'opEZzhCrCCxqjKDmOcMK', 'eiHDTGalKiXSAZaBoPOj', 'EuMmvhjYwnEztXqwJYTW', 'AjDzSwDUGZRpYgpCPZOr', 'rDKDygeLjEYNPlteLmRH', 'XPQPVaxiiPpTdQLVnTyO', 'RRQpCHVxearEpYWQPPkz', 'VdeFdoGCqZBxFfKSHNLl', 'iNFgfQPqHPBuvGCYtrQE', 'BVzVcmpxwcMNxeCgYGMa', 'oCqKpnSZJeYOVZTgTmKR', 'WXMCloWoCAwIbOuBpyHG', 'cKnGYQSWZGzyTNPbbUhM', 'vFyWZIBOBSomfaUDgJfy', 'sCLNivyWkSxKtjEIHJtZ', 'JTBldRAXvttfVmCNgppl', 'wiaGHeLepWDNwXuBHvDB', 'SblgoHUrnSRJHlKomgGV', 'MEitHbTnBcZIHbJvtCyh', 'ZxCjNTHeXPmooDEOFIuR', 'vuriSCpYEnMEbLACpaMZ', 'jPLfhIDoTujxnCRtjIfc', 'jfwEkSjbjvXDCeYnJnRd', 'BrdyisDlGWoQTEpGunCI', 'NgvIEWbVuckjhbPiqDzr', 'hFlBLRFvIbnVBuJjKOOn', 'zhqxcsahQYAzJvRzebNp', 'TTdDpTIUjOpzCSWKLaVY', 'YHobSrmCVImJLFtqxaTd', 'kKtSojgDlfomwthXhPjz', 'avdxWEjUtZVXIiVFXClN', 'VoQVgSgJYnEcUkwwlvsM', 'gSwaXkJgHiWoIntUiupK', 'LEsskURNuvTFJhzzqvaY', 'LkGnzVRewoaOHnMCwadT', 'WDnvfdpXPXTQDKYDONXx', 'pyjbQxDwuRntrJpYTNUA', 'IwbzyuCJqFFqfQmlaRYo', 'yjIcHowrPNcMWjOzgULE', 'kQOaPriQjNwDHndtMdqT', 'pPhTYiQubZFNCSnIbPJs', 'zFCiMWkbbAhTflrlLWnz', 'HYMtoHpbghxWZVgHXPTW', 'zzSZlxHwXHhatAMitkXB', 'EFePHapVShTKxBNclrhX', 'ifwJecAlGiEmDdqlxOfb', 'vsIeXLhfMWBRXWnTmgPr', 'jTXTlXWHGVYkKiuwnetX', 'WzFRtsGEAcMDpughCowF', 'BqQyRtXZyotBYQPhnHTC', 'pQhDyEDSvgnXNvMXPAhy', 'VYDithpzdwvzdnmGEkfp', 'HedvpLTBInReUrNisvyJ', 'LPiQJDVEpMDecOsQvTTl', 'gfCdHsroTlatYtfWjLpQ', 'BKeImrJuRDZcHiSSTdzm', 'vOXubAVUYXkYNgrXYqNP', 'xhdOJELwgHXCEWkybijd', 'pcdcfweIDnneAfIjjueT', 'opDQAVOMtCAjZrYyRdJb', 'OpveHkYtZOBwVxayRpYa', 'LlBOVIARRTjfgnQNjJre', 'LEoPHuyFvzoNfnzGgfcd', 'vzVHtUqdxJZtwimyfRnw', 'aOyuIrXcEKpTEyGVbZFT', 'quxdQHtdlpFZfBZSiXFZ', 'gLwVxJgLjSOozgSFZoJv', 'nDmmJsJyAFLtSzhkbNao', 'HXlcbndflGLufMTnkOso', 'gzgFRUOHBtcBlPPtEMNK', 'dGlVSdmIlgWDyOPjfwwy', 'DXVdsSTQphSYVmRchYKt', 'vFcAhRxLfOWKhvxjELkx', 'XzqYyidwpWxHCjONlAqB', 'CXkewGEbKVetMgxGsmUp', 'ZQRCQJSGwHjQIiMCypIX', 'fpFDiiNOSFiXZHPOoWyS', 'lDZWtjMawBaqetnVFboy', 'NoFBvywTYJgyZVAoxbMw', 'gEydMgyogRBSsihrQQwd', 'HbolMJUevblAbkHClEQa', 'uvnriqNzqdhszQWyCKoB', 'NTQAiqAhSTbkRRmxVKoQ', 'BdbHTxxcTmYPGsAnYDpV', 'dMIPlIFgKzafYgowsqtp', 'gpMxZPZDUGBEsoOLILBm', 'eLzNJHzPelJpEyBwMrKo', 'xlrxvewIthVdRefMQCED', 'gkNEzNufdyvzvmUnYJmC', 'xHPZvITolPtHHrBQzajM', 'gVNBGeZVkkGsiOjLFjLS', 'QLIXctrnAHCfkfINcoBS', 'IOQFgDqnjywyYyRldWoF', 'LJZfurSmjxvomWxSCcZR', 'AqudXfUnmXWSDWVGYaXr', 'NCOBaqbWTRpdTXezdNNg', 'hnthrvdBdqpbZrLTWFSs', 'agnCWMgbwJZgTVVsuCLg', 'zPBqzGRFtKFKtOkqvmpm', 'fQjgyNLhWmaSNAbAchci', 'CsMvreizWdqUwQiybWgm', 'kFrrngobFHAvjcPMTkDM', 'btjGQwanFiZmVMoOQKOK', 'dQWyqsQUFNrKbQlShlgg', 'THkPRjHzmzoDBhFnYQZa', 'pZxsQwZOmQEsKGihkkds', 'FBPfMWVDSTeSxQvFYoJf', 'ZGuaPIiEjeuhrbupXClz', 'IsHcZJuNYwanAAEDxuOE', 'FGuKxIlHfUzjrXnJWuBo', 'FhIPKFqZgZKyRzKtZrRk', 'ckZBkuTeTbixqMfjlUsQ', 'JdKLSdewxFqMMgKKiXBO', 'KOzPzvmpAUOdOnquwuVn', 'CGjymvOrjtXtrSnNuiOT', 'bGiswZbYCzmVgFSflZDj', 'yKdEQkzxbZELgvIZYObh', 'AjxKuIoMDiuOkvyTgWqW', 'FrBsNPqdZbjnyMaxoVNN', 'GrdMWqbrGEhQVKvlPXXl', 'GuCMpZXXTCynmcVQYAJm', 'qOAPxwpizrrMICrEYPqL', 'YXWqiDDFMTXMPIEHmCmi', 'aWSBcBZlKorTFjJGlWKG', 'jkIwTdmBChYcJvBGiWth', 'rpXJcKibLtmQWKejaehw', 'vQRqvxpSivVakPdAbtka', 'rWOxrkfEdPkDHnvLxmPd', 'ysUnXJVzkMTkkmGifVJI', 'zGUBrOvMRpLqBkJPUsYo', 'UphNUPPFIJLIZnvubKDj', 'IFkbipeRquzIeCjUtxny', 'kPFxaNFzjAAXpTmoDqwY', 'qTERPbkOaRvjtQXXEwdb', 'rmVZWYFMcnGputYDEnAW', 'vAUKqgVpFlghMFvCyBIl', 'LyTtSpIxkHBexJXZhmxM', 'qZjEcsyyWSYyUxhNvbhq', 'fUhxIMXvMivfzvXbtxXS', 'JkhCpeDGCtTwhwqWLywv', 'laztSirlGRdltnUjfBjd', 'fRTNPqrWgROuhEOSoUSR', 'MmyPhaRZgQtGHEnQbdUx', 'nnJSsLFsexAmqtQvHThq', 'CHqnpYToIIioQNaFwsUe', 'bFUVVQENrRwwLMcfuLJS', 'fsObuLDoENelooyIRIkJ', 'qKlFgKZzCeUguscYDwgw', 'enrUjlPmoRCCSQCEJpCp', 'sKuhgZXGwZSwSoGyRIEH', 'kUSlfGqiogPacOyFteie', 'HwAaYWqVHOvKPlrcQMnj', 'APGNmHDNvDcuqsaRbeNw', 'OtrdXnwzWFjzhNlHVLfd', 'KyobiyHqbFtWswycTXJo', 'WSjCUTAUJTkQvMAHTYVN', 'kwdmElMUPDZaLQdgjcsI', 'VALiRqDzMPBJaHJPtKTI', 'vHbfNwUgmVpYgEczIXDW', 'NPCqHqKASZefKtNiMiwY', 'sbBROyEMXrSwnajIqxMA', 'eGPqcrOyAyMvXPpbVMLD', 'eBckTUycdWUDbWqXENLu', 'mQBasFteKCLvFqcQQlYj', 'kzqtiVtETHDUrZfgudlz', 'FNCczGzZUTzZVolDcPyC', 'AHgbtEjTEsiUMJouiDYS', 'ZFBQHXFgMMkPoPvQanhb', 'RPdScaVSDDKvfbqPGRVe', 'clSPQqYMrdLkWYOWnCzj', 'LdDVrwaWeLEkqCsjyahn', 'RwJRitibjRveidvwKiLL', 'EEyBOqGkgekClzDESfUO', 'aEIcioPGcIauoSISaTHm', 'jDnZdGlPAplpIFBUaIrq', 'TTRPTdarbkGCjfpSBtEZ', 'cThGNeDlcHUafruyOBJK', 'xMYlmvNxReLFGfXkQTYj', 'DsqwamlMwRgMTyspCjFR', 'CfeoAZORGVGXCGBPmYuG', 'qKtZDknwokiQQjEGIkQU', 'ZdOcFAQpRQWuFZHHkEJQ', 'TdiFPEJuNonAMXzGxOdj', 'cdPAGAvKeBGoqAkQBuGR', 'kQzwzjJiuPJvgRdFBnbS', 'xKilurCKKiYaehWwdleb', 'BDSAgPpICTixgImlNIew', 'tNaVptgNJcsKwAeBwtWJ', 'PRXiQFoujNLNNkgZGmhg', 'iSzmhGyLDmNnqrhqDvaJ', 'dputzklpJdxOJjItplFZ', 'hQMZkADGfogowUpVZNWI', 'KJYKrHTqSzrFEtHmEZmG', 'ftzglDOsVtFrEijJtTQp', 'nkrmgYZXYjtcBlnkQQme', 'WaWpHWszYFymgCSbpGVL', 'lOMpyAuAISPFiAxjXIYM', 'WxlboVseFpLmzsoVKkkQ', 'YDIkQmcjRkpdxGbLLtNN', 'QZjiTqIoPjSguqMBaXzf', 'xEbgdGZJlqXAaRmeJQdW', 'MlvrtLODeciGJoIzwoNf', 'nnaPUJiwrEHwnRkuzmDD', 'FJApgTrMAGHoxCxQVKws', 'KXRJMPPRGoMIgkFfvZpk', 'vgnFYqlaqdoLREHruWar', 'yNZQMmUjUNvdFfSdNFRW', 'XmvQCfQbbgjOdnXvsuKp', 'hBWmNYrvNzCBHuiQQxfV', 'KsdeJdRBOPkqvKgAntcz', 'sOTrgtUMUuYzzWBPLeFQ', 'dIOSwfBKYOHWMhxrecPD', 'MoetQCtULCqHvEtZNhIU', 'hurQFxzmxJgNAvhwEugu', 'MrKkyDxiricJGgQfpARh', 'qLYpjhwZSpQbGrazMGkM', 'mjvFyZalgsblREApOQah', 'UqMNGdtphkbWFXMroHNB', 'izpGVnqOrUbTVctFBiaU', 'AZUKvGVMLKMmMXQTBFFY', 'oVRrinVXnwQkBsdFlKCa', 'ORBCXqrWIHctQutShjLf', 'UgWjaOmKUxPFucSbwvSq', 'uZlTllnydJIwxWaShyFN', 'ZQwSXQdlhqlzITsXtKiV', 'MUjpabeKqLrWufBqoXWt', 'vXsFkagGabkcWKlgLzSg', 'mNTexKeDdCADhrBgkEeA', 'wGPjpyybihKYySEkDRca', 'SbQJoCCWibshtEmQeuVM', 'geXDXuvKhresKTzjulZG', 'prfiRkzaOPVOcjrJRlxK', 'CXUMHTKDPKDgDkGDcDjy', 'ZSALOpDDuJdQyGxrsDWn', 'cbRFuVJFxfpihgpvCNVs', 'poPacoEcpwIansoSINie', 'bPGeWWXPmJNDEUOxhfYY', 'ghoaGAksqhKomdFrxgyJ', 'YTRoTAhsLxzAoLvZXmbu', 'ZHCJROlbqnkXTqIuVxnm', 'CtcATIzjbQqVOMPZfiQY', 'cAqxcRdSSFAyCPUxQHqy', 'uyAvCSUajQZbfOfgFWmt', 'VEOyBaONwCphBDGiFOBC', 'mfMzuDnnxZoVzgSxUxeJ', 'rNBbFZdtiYBaubVDSXjG', 'yVXgTAhgMHVkOdxedRLo', 'gfRXeeTqICtnANYqYjnS', 'UXdihiXCHORRqXIbhAEr', 'aLJBnHfwxXTnAjVTpHFh', 'npASmPtyNwMOoIFVJova', 'cAVCuXGKbxChqFrYtJKk', 'CluRsWvvMxusquLkljkT', 'BTOBxRcZAuMDAGcpupRx', 'hkvDVxqLOzGjGaoNiNzN', 'ybiyAexOUyqMsGztSWqG', 'cEHphBEjpttSOMCwzcPn', 'jHeivNstnTyIeSIoRaQA', 'EWwjismtDedQOjJRPOpo', 'FjgXVYQwrhSTcPtlHmXg', 'RuzbdXdJtqVQjajDFbYZ', 'egBSphzKOFYyAzpwFmPe', 'wJHezewswdgndmqxnKYM', 'QhutXutiTDeqkGEUiqFI', 'tLMtHDSQlgeeMWMgtSXD', 'NLWjXuYiXlKrFJfSWfKt', 'NIgzwPqJgIRAzUyDvNQF', 'YmnqPKMqodkOEiiyvBYk', 'OVIUIeaWOfcFiGcTkACA', 'RxecHElWobBxIeAkqFXV', 'rBJkZNsruNfAQljHOMdZ', 'GYkgJdhSxirUFPHFiYSe', 'zeAhgziIlupwjQfwRisw', 'vNNYHvZtTVtJICHsjBBL', 'lIVzOuHkcxasZWHvRYSe', 'vRnpYItqvTLeHOrhMWuq', 'WfdbkkrpQJoKZZNMVapQ', 'UjNgcKjhqljTjpKnzEsH', 'xgunRrRYskdRHamdMelt', 'uTDzCIDJDdgdnDlBOjJZ', 'hTjLvqNxGggkGnxSCaTm', 'VCREhgqUPSUkmfOTvGiW', 'jZgMWwsgInBtzwNlQUVN', 'BYXsFLMNBvAzPkFtpFvt', 'QxAxdyPLuQMEcrdZWdWb', 'cQRpDybanXRyHUvzJmgo', 'mrrsABvDmholqItQOtcL', 'gVwpGdJDpteNmFIatPTG', 'DPkJmaGViugRdTvtgfqU', 'kfeFSboCdFNqCHbnYDDP', 'tcHeGdMcvjGkExvhLloa', 'TTtiRKFZIaQpIWggfCoF', 'aVpHHMXeGTRlQvVjmqUe', 'KBnDxWHXcWwZoJysNTlo', 'cqUAkGOtyESgmcowpWhF', 'lHlambFRvCDvSEGUYMKZ', 'zhmDvzviWNMgxXuZASKu', 'BVTxDMoTxKLpFQjmUMxV', 'DnEHkBlEOJMRKRFeFKwE', 'DQhMshfMxSSBEjEGRYCw', 'IXTKLknIYjJQZcDSDKPL', 'FMeAKypVmqdjUhayrjne', 'HaYspDNjwCRZwDAyLbgy', 'MkWnbnqCDEUWlCOmbCzF', 'vVbSknpGcowdrrAwZRzG', 'iKfCcTvbJiaaWMCkuTaG', 'LBaWJEeycBIqEqUqkoqw', 'vpQKKTAzuMqZqbIphRKd', 'UUEGZcMsxvxRpygjNVWe', 'hYVrCkhCPSqKBhZYhWVq', 'PLIRyoFGciTfgoSPZsMC', 'XGYOaJEasWTwAKNdCGVX', 'qVXuCoVQtPxcUkAXiXBa', 'kViZhKoblBbuPxGocAgw', 'lWwBIseITOiWiiwwAJaK', 'ePhiTqUcAwIrAgDtuyqB', 'PntUWqsXgSZmBgZOAyqP', 'eZfyZSBgFHqyUgItFLyM', 'MZOvyhswbkQysPNyZNzL', 'VzoFtfHotWfgMqOvhhpk', 'LwXiYdXdqypmXPvaqiGJ', 'bZGRDuESNKqbvzmxXlpf', 'BtHktUgMgEVIjKWdCrLZ', 'wtArSQfXHRKwMYoQBzwM', 'jWWxZEoDkcwZEyugjsPc', 'tCpvtflocynmjqjMYIEE', 'ZWwGecvpGmryAHpoosvq', 'blrZDKbZyEghlILLnVmL', 'PjKbDjBBswwnbgakITku', 'rcFBbFTMlIaOHQyzRQDz', 'klTrhUaShgnjIbaPmqjc', 'IAtFgyYLfIkJvDTrkBcf', 'nRpmmNsxMgmMTssAVHFx', 'eqWiosejOnynTHhgDcSu', 'cJgKeRQGYTekShufrorc', 'QKCeAVHAFNYhUhBAdnqh', 'WjjvSVHOFOxHwlNJQcyk', 'yXGkBQVvnYYbIChYahvv', 'kTfXiLxOFMYJGQewONmp', 'jDuXmToGpVKLlzZCZdfN', 'VzFfZgEomhsTdmVlcFwI', 'fAlqqAkGaVAqofRxneWb', 'kZFjoJSdjajkhCYKKdjq', 'ZkRlaMsFhSBPslXBtfiG', 'LAHwghnQNfivrVPkfHdU', 'kqlCAoXcilYvojLadiMz', 'pdKhPCfdmCgicNfmtfqh', 'ZpYIoDJMcFzVoPFsHGJL', 'RoDitORHdzGfGhNCyEMy', 'lvaHtxgihTgphlvhRrIK', 'QzPMrfYhYSLYYPtPaBxI', 'KclpemfoHstknWHFiLit', 'hJvOVTMdhkqIBqjVrsOL', 'DnEUulZAecfGPvdtZBYS', 'oiNLWzZPUfAlDaKWNCiM', 'VBiaBLRqHTKPoDiHlYwM', 'nUvGGTiptorEyIfdNaEZ', 'FxcLczxFSOSZjsxPwMNR', 'qQToznZzQEwXqmrMVfCd', 'vGPyTWVFmqExpHclVnnB', 'DfgQTXCzgZyflRjNPmFw', 'yEzOkUNmavmsRTXaISLf', 'krIMABUZFFwXPxLCCNcr', 'HXVaqRiMeObvbqnMDaZu', 'PlbkrSYoHuZBWfYjYnfw', 'jCIRaffxlokbeWIRXHKg', 'EwDTQUrKsBXMRchwEMFU', 'vVspBWANjeNCTQJpJJeE', 'LpqvupgvWJUGpCaowEIy', 'qANNyMNIkJbMgmEaXBSZ', 'oTQPiwpwTTTtPzZqrYVz', 'PhQRULAAnunYCkNvxDbP', 'rEQsfLRedUyxtBEAunzw', 'yOYvEgEDzVUVhcnFuivG', 'roRajqcfMIyBxFXfqAwn', 'hAxaHsEGLtknqaZaOtPm', 'hIquLOydEXoeZjuqwKvP', 'shSttosYTeLxZPpPYwUh', 'nmHCcRlclmhTAqNIbNzI', 'TkzfDRIBKntFdWkzUePd', 'pXkDvQhCnVadSnzdyZWz', 'QLxcogztUJnrpQCjsaqH', 'KOztuVeJAFDkmGKGCYYR', 'eRJguVxwJGkXgaRPZliO', 'tWBQlsvNfHxRUjaPAfhd', 'qpUkxmFZPYAfFrViyYab', 'KxHUrXWvAdkYyWxyhylp', 'BellrslNBZQZaIxVFGXJ', 'eBgdbiFvTJMytFSiMBgO', 'xEbpvlxtkygYVvQKMatl', 'WufphiXPXHjYKWOlEjpJ', 'vmKDVsYhtMpgzCxluurQ', 'mpzPuszffTNoYqIgyqfK', 'dqkuEDUGwYrFDPJfBCyE', 'VQdCLycKmynJLXIDpEYt', 'wVxhyYtMSheCKnPqWPEM', 'gLXXuZYbFVYlDWhMmZiU', 'JTZSdvnLgOHBbzLpuQNs', 'ySpKPVDYCgmkHVSeLjnJ', 'tnAqgCNATsNXcJwptHrh', 'eOpglFrlWVnKdTYdDSWA', 'JSpqZazJfaFgfkyRxcgv', 'MHdHrBKQwbDaRalwnlJq', 'tpfmPyjVBDyURHNlSRXP', 'AuJjYKxJakEqFnCmyFtz', 'DKxVzhYqHVIYaDbvrZfb', 'hFCadcrxmNtUeqxelIdE', 'JGAQudUObktGjEZbXmtt', 'YGYMDHtQgUvxgMZvXaZM', 'hgKadOfIEaThVSPjyyfu', 'IRGUHqwEMepMjgCYBVRn', 'PuSsXRwSpZeHuyXoHqhm', 'dTlBAHLbndoodvUrJRjG', 'bOVhXrGFFTYkuBjfDxUe', 'YfBLQFtbQNHcmehGaYXf', 'opVHQSDfdRikLUTbhEOL', 'KgcDPKMuJTYiNtOuojil', 'UeQusJbSbvsKybMYDGYw', 'WymtaMEpzzcbgnLOYVxw', 'LigOnUObPodLDexszDtn', 'nrKihqcWGIzDsOqljdAv', 'BTRXXRKRDzPJDwsbtyIL', 'QuIQZzbAETTwBxLvIiyY', 'JYtJhGfdNNPkIznrSCXb', 'NGNkCWwKgYFmiCCeZVxg', 'zxoiLxhuSIFrCeTLQVWZ', 'EiplOTMeEiijsNBsPWvN', 'bgTYkDHjOsJzMUtoGhiQ', 'jUuukNIbGoOYdGYzBthG', 'bFPlLAhGlSTaSSOMALuy', 'GpAkIXsclxDGyILfNlrR', 'VlqBmecIOXWjCWUmQkLd', 'FLLHCZyDcGzwXiDDcsTh', 'SzZERoLMmrEUEhDaYcyN', 'wpMKhptHblpEnLMZvGir', 'uVuYneQmkUVGTNvbTQWy', 'zwpKjjsMoRVCdipntaHt', 'bwQQjmDtGgrbnrREsYSG', 'svCdjLVHzRDysGDhdwtd', 'yPdHBoJzfmzqSXOHqaIl', 'ukwEyFczbqbKStCfJGsY', 'shhJpwqRdkvQHnFvfjmR', 'akoPqAqaJrLGbjrrIVPH', 'dZqEgyoxhtbeLFMtnnVR', 'QsTkMnkpMlWsCwivzwup', 'LliRUcMuIXWdLyWHGyiO', 'hfNRRHzFYfiOiTtpRvCb', 'wTKyuNFufjKftYAXBAud', 'jXKhPqSdMbcUvJsaNCVA', 'fmtDQNglGDdHVWHoGxMJ', 'iAfsPilCjCoByTBsFEbo', 'WVMzAVdRHTUERfkBYiCM', 'SklgWleeuUfljIrYIBET', 'TgqBhgcgTRMWoTFNnqUq', 'aKxSHTTwcSGVeYlBPXWx', 'iujgEupxJZhqFyayoKpL', 'KiQeSeROtpITKBTCBZpa', 'xIsdBlwlnRrEDzrJcfOx', 'UgMXhxINagqfGyIpgMxd', 'nVVduuqoxTOGBvvhENWW', 'LTuZkdKfxRGVceoWkVyg', 'yCWbGywrhkzCEdhQAoAv', 'VkifWqCCdZTSamOPXYfx', 'vGkKzmIaNOfwjXAcmSxP', 'EIfOKDRtAWtFEPXDgNsI', 'foFTSdUvNqqkPzZvgiqt', 'gaFBXpMUrvHAilRkjPSS', 'MSMDmOPoIWuXYqCanGOT', 'nvpbLEJIYeOXpZFboOFv', 'qiSQyBaAFmOHOFlRnmYw', 'DfoBrvtzFbohFKcUrmMV', 'WJUKqfeOrjXIOHjgcgdR', 'rPImvzBBQuEvEKMKmaZa', 'YflAKtEwXjstllfZgfhN', 'JMIbucpMPqEDrkhTuHLT', 'PiCQMjdkhRapetaemniL', 'rGDSdilqpnHoxSsEYvjb', 'NmOxMbxOBZyJqqGcWBnH', 'YpCzwGRkkmiEDssGcrLI', 'DnxUhHWInKVDAWzwROOC', 'MBMyOAfAXcOTBxYdyuJz', 'eptPpVmCWHHeAczvNSHk', 'wlyUPieAGrQNIlkbmySd', 'yxJKymlSGVuKIPTxbysx', 'QKpFeggpjKAvhtjHKHZC', 'ngjHgIgcZMMJglXDHLRa', 'QzAELPgNYUjFjCPggkiD', 'hONgZhBaHwLGhvJSefNE', 'BfWYwzGJXKvmZkeFZtsQ', 'CTxTNVPeWxOUJWpkjRjV', 'HRHQrsagkwlBKbVDJRBa', 'GRNhWFSoXXpUYUyhWanC', 'EvhrtRzIJnQYHziPiLzV', 'rHNgiupMNBtKyhTaWxJY', 'GLYSMECpzzEFJQzLBvqd', 'CgsxHpdTmXHvrHqEKRxp', 'XoTrAOMBRCYqwPhPaAug', 'WykZVJeitlvQYqyCYtjx', 'wJmSVsMThqMRUQuaWlsY', 'LUlvACDKkkOkiSuiwaBs', 'CErkgqGYlEmQzybAeNGe', 'HMzbTCtidyLIdSFumcrH', 'IWNWkGLbDwrBIxTQOfNo', 'RJUQscGDTnAqljrzLLxu', 'lVPGSvhcrxxocsGssukj', 'UEtHtwAEXfprDUERwqqj', 'KSpBvMRGOrzuwPcKggOa', 'DZlFqIVHUBIDaQoarvIZ', 'NicCFBGRlIinozokgMBf', 'sbJRYgVfvcnqKJNDDYIr', 'OFOGYJSYeKXiBsntYbQD', 'YBYOOfMtHTGCQlnEQNim', 'IRKNegNgOUQLwudzMElF', 'JsOGXjRENmGabKymcfzH', 'zslzdtckVsyxcYqKBRRn', 'jseRWXsiALmDfEaljoUB', 'nyNwyFdLpbonUBKHmTtV', 'eTMcXJUftGtjDdKkZmfy', 'NSbcaLfXREiOVOXTmbnD', 'REOxIXhzBcWRzAVjELgu', 'zzcBKEnbRkpqxqrfLtUQ', 'TMDlgkQzhHCgECHRtiOW', 'UCHMBcpjYcQTMBjtKVfX', 'WiILFRDQbcHDHNvHzGpX', 'zNbOLDdYWtIwLnhVetuc', 'IogmZDrCkJeHXbgMnIIv', 'BUNyAphtsrqGEbvhgLly', 'YECMcEASiXejEJmgUmEG', 'rnfmrcrPXOGNGEedbqSd', 'oZkEelysQHvYfnpqDJqE', 'XwZreaZvgptCcKQsSTmK', 'KLznuVEblkSupUDWtCge', 'IlTPRiivfrDjkCWglsju', 'TBUEYErxREIlxiRxqFWP', 'gCBaGnSjXzWAtNBdnidK', 'zbczVyCeLLVxMmZbqOSl', 'RWwlbskfCSyoZihJWNpt', 'CqFuKxSYgtGbcafqJwij', 'KRxwnSZMgsePLrAoGAOK', 'keedlzvGXaPexcIGqprx', 'WpQWiuxAzSOBVgxHHdIY', 'MLdyKNWbXzuHvGtEaUBf', 'InOGyxvxAfYvSHCpIjJZ', 'OrvHyYGicWVbFQAOAErl', 'KGpIIoFhRfLgffkknBkK', 'BAZCuyHZnaPrMGOMrcCQ', 'mhUeulhWoJXWxNZCZxSS', 'wnwiORMBkfoojNyNdxpl', 'XrGPrrQSYhqXkqYYpKzD', 'hVrYHcjrmDzwFPGnVuVD', 'UFjBFJhIpQsfVIWQKdaW', 'qwXNqUOhqrtaEJcARSvk', 'nhJSHXBzZXGMWhmqQeFJ', 'pJnsGDvdAPPSfypxXruE', 'GbuDbHhyctlqNtNRnebC', 'SoCnOWJkUDarGowlGDnC', 'ascPqxFuFewWWZSVMpkh', 'qPDTdivQVeflLjTYIJnG', 'HFaOtpcChAlcMuxEAlpu', 'PXQWdUxeUoXfoKzTBGpY', 'MBnTojKdJSsqoLhEfmRA', 'iChICoBNhQpGctcwbFan', 'XcBUOVUeNpMQDLDvPPZg', 'emlBaVkgLVRqbEVOSSXt', 'FArFiZMprRBKpQtJYEPL', 'pczkWraIVRIheALfnmZp', 'jvsVVQVKRfBIqBDBuCkq', 'WYZTTdhWPjttFYmcGjBP', 'ZEKdPvqkBZTCGcxkAsdz', 'okTXSMadDkjvntEHzIjp', 'GqqTFPkQOwlglEUffLEW', 'kmLgcjZpSAAcNwcLFzYF', 'vDZlJSHSNetCcaizwODS', 'tlfQioxYValDMNqdTGFZ', 'GWZGdHKPgmZPNPwkJshU', 'tuDQfJrANrFswzSORBoc', 'CqeIpFwJscTsZoYXdHsP', 'zVuNYbgxgzhCuFmoKISI', 'ehLonfPENrOEoPTIyiOZ', 'asqmvbqXFnEKSwhcdhTL', 'vrOKoiTbNAaRJTCRVAKw', 'sbYfAAzphmSQppvMthfe', 'FhMPkFqqAboknIypeYDz', 'wAwaiQncyyeRRteEeHei', 'eYRDXZIocNyHVjEHzesr', 'ULdkkHaVkJWamQRZZQtR', 'yCnTwlCLkqZHwAglrEll', 'kVOrIKZFrEYGvixPclal', 'ZulMeRerdPykPHpPwCku', 'labpJCBQmsoWLfQvNTak', 'RIqNFYnwpwiQEKRbvhav', 'nsPPIRqjxBefONGPpnsF', 'asLdRZbsClOmSwWFGphD', 'adBSYqsJPBFluBxhXRzx', 'pFdRjBnBOaTDjIczICmE', 'ESphyUeLTPINiYALHWrO', 'IAIYvoFDfzkCKUyqRgRZ', 'YVroZtUfyETJPNlfZFFs', 'DWWVperNEqWDuRjSmxZh', 'gVRrcxiDQubJiljoTbGm', 'MYrKypXYDhDVwJMUhCqu', 'fHHhKlkKELjsiivkpZSF', 'IqAfQPfdtiPOSaaPTGiG', 'CJqaFLsgYFBLMmFNjjHz', 'mRaqUgoaNFPCjPbktNNM', 'YpBKcihLLfFjWuxOLfvW', 'gecBYcKZCPMcVYdSSzKP', 'OztZDxVyKavDuqIwuDEW', 'TOtlRhDcJiAMnHYarArU', 'jNeZubUpcYKWhGMdPMIS', 'ZnzsasKUOSUEfJLbYSIh', 'GQExlGCgoNWrUnPzCIIr', 'bjqPsdItOgqaryPUDuFB', 'WAfGJxBEEPWDDcznNVSG', 'jaSOmLICuBzCFqHfBdRg', 'UDwbPOvNChIeCDrGWlDQ', 'oeCBNibPEmOLZfdtGscH', 'mzxSCvNtaVpBtndKvbfZ', 'FTAuYVNoYYxgvKMpKSLW', 'pcvPxfVFaAmhwFmvIeYd', 'GhawjMojPJClmktWMtUn', 'GmILPdZyuAVJCPsUBHeN', 'jOKkxDtEgXaQRrvJuOBq', 'BuVfXQUpDeZxcCIozRZm', 'vaWGoewhkfsUoVkjyUBy', 'oZCzWSykfixnjMPDNjSU', 'NYayAuKZgTiEWxOaPxZv', 'VeohqbbMxrVDBVhmKknr', 'iKsKuaOFeIGqZWMMqhxh', 'OwOCmIeWDzEyCQjXdfQO', 'XXtvOzctUPspWlrdtwCB', 'iOMuvNvFqsfUXNqBuSzy', 'xQnKzPSrehWizZOmwHkM', 'DlOlXJaBJgWQVhgtCeWo', 'slkLspXnNYPQGEqeIWrs', 'IZEXUFLARCUMynmHNBGo', 'mSVMBvlHFgftJaQAZEdp', 'OYraIUfbyicwbeDBxbLM', 'yKnoYgLvaGltPgdqdgBO', 'XzfzEBYZWgSDtJNXOadn', 'YclHumxPxSxgzHfvCaeF', 'QdLfySaGXolfTBSNVfHn', 'HJnvbONaVHFanPpYHwts', 'iuduyeyHUyeMVVNkrqZz', 'cnjXFDaLIoexZTiRFPQj', 'BkfQmjpRXFlsgGdntUue', 'gNOygIoePsujXLVGYNZi', 'RqsdCUSLWHPAgkhPbCtP', 'UbYPXZPNRQONbpkABdzC', 'dITetAFbdxWiRaArKHRu', 'nSOyqNgkYlJhXVAHNpZr', 'NhttibJQWEjUYXDUZUdh', 'oCluyRENviLWFAdxrveW', 'DHyodCvEfFUSiyuabgaG', 'ZMhvmZMsbLvzyTAyTgBQ', 'WFsEGnsFMUffjVXMmCjb', 'sYTAOjoipTHhTMmUjbIx', 'TmLcOgercnkJQrPmRxsU', 'QIRMJBHwssjlXzlheRfO', 'hqFzpCjCXBqWVWpOfXuz', 'juYouSPHPfKdXivEPJjt', 'TBuBeLHkANSfemZzCoVD', 'pwAMfHrhSwvNmQrAetNs', 'ySAuzYGsYqbcRsMbUrfr', 'sLQbYFRIWJPmCqXsQgTS', 'zBKTCFUiXurMYBESygaA', 'HKmEUkCqvzHMTlQpWDnn', 'UPIvFKHkKwfAuZAveDQu', 'vxakeDbMYwdmiqGfyQEG', 'WyDDAitMWgaPXemCruGs', 'dEtZNGiQknAvBSXJuhEJ', 'LtUejjSjzLHbijuFddmV', 'CtYDKfzJhMZZOyeUeyMX', 'blUskkaiscQVPrYfUlrr', 'DdRBirxpbgcSSCTZwitR', 'FLBnyWWLShBRavhdYqjK', 'exUGYSXnDUQrIBIREJPO', 'hniuKhKDsyPHZKqTJPNp', 'IhNvlPvvxSPsbhaPXeqZ', 'ehxvGeNxJZrbabIbQbqN', 'AAAErobiSFtAsFTjJzGU', 'GCPhgASdAZDmNRslndwT', 'EcEOnwFpCaiUbrbFLICY', 'jHRMZGuKrvVjfhWSEUau', 'eimRuUrNhZLAYcwRrNXu', 'JSEYEzmfQDZRBihepMxM', 'fJCYsujgSxIHFbOmgDdN', 'ebHiZzgHqvJfJygUXQVl', 'foPJGhraIZhogREKtYLR', 'ngkgBNjlzLYBofkljaBo', 'nRMQduiDPkgzAtCtRRVx', 'wVtqtxbCSpKzgLzfJIJD', 'woJzIcuFapkhnraMjtKA', 'aCaBoYaQJPVffhjBQnut', 'ptqPqDklASfmqyLyYcIJ', 'VfhMXDwtKbBKHfyoCvdn', 'nmfptFmSirEqNzAzqbXA', 'fcXWTQaKfxbkBkBnzLhK', 'SbYAsCvXapXBOIxEKBZs', 'FybWmKxPurtzLVenltZy', 'SgIUDYUKnyWHVowUOqid', 'BVKxkCOHKUOvkpbrLMgZ', 'nJVPLgfxsBtPAXttNVDI', 'sMBIidTLSrYkjsCEvwht', 'NwuIyBhuPCXhJVPLtXCC', 'xccRHrfpzrdMJMckhMzl', 'bByPQxmDaMXgpHeypKSM', 'QejVLgNgzFMqjZPsnfxa', 'LDJZhXwRWeYjcYHEYGvb', 'SHJiZmjiDXmvjHwbFkEu', 'rpFTgNNeIoCPoTgbeACF', 'kLcjCnTSVYUxLVdvWAbF', 'qFcyispArlKUQmFENgzo', 'fgymSoTvjKPEgaIJqsiH', 'WRHPhoRKhKxaenRCLBfo', 'boDYuHrZiSvkgDtUaXHb', 'vcVuDkwnVLAzJKHWMmbQ', 'NPcEIgnbIECWdLNSGoam', 'vZqcBrFwxYPoYzJyhYGI', 'NAGIDBigiKYOOmeMVBQq', 'JdLDXLLzKXZlxBJrDTXh', 'AWuRIdQALexokAiMRaos', 'jWOFGreTCiDPBuINAgQH', 'nyJQufAIRtHFpfdZHSnK', 'kHRPEgHYjVAwfPAGORGn', 'WeIwsqEbpZGZwhcQktNS', 'HEimDfYZIzuQXDZAAcEW', 'EsbMmeeLGwoYJmQRMBxd', 'emDNnBpbOdOKqSVxTjyx', 'EekyTZdXNevVvCKNhjtC', 'hyNLyXfbJfGYiUJTEZnz', 'GxNjaKSDlYMyWBFNwDGB', 'yDwHbihnPIjSYzbSeFTU', 'FTjNLDyTrXaWYgZymFkV', 'lnarRNcIwiGoHQcmeVFN', 'rmBQFlCtXAEUPoXqceAi', 'xIODsTThOkjbFROCXrql', 'JvXenhWHxCJUrVZhrGMS', 'JAIKWwxRffFOXQcfGTVi', 'VbwhIlTuTQfiffXsGgWV', 'cwiPzMCupwpVJBFtHhBk', 'NNOefSJAfUAkybbPytyi', 'yaImlJPASPLBoPBZvTaS', 'tqkawHhSPMHpmalwzyyT', 'mXhQRiafpBueNJhslbJl', 'IijdaxEpmKKxJWOGIWwC', 'NlxbNhjRvkwuZheqyYLN', 'PLSnQrYmxcxZnPkOCqus', 'WFIDyezrAGnnopAqVVDs', 'xiahTpemkemJRtyryJKV', 'spPDkpUkrzBlgleOJmHV', 'rKHSSStqLNTbdGVZMwfG', 'iSqtTziBjUaXrqloOPHs', 'tbFiApGeQHPpcUoJTyNA', 'tzdsDKXeDYFRUfQejeTM', 'keYdalQjfkEBSNqxiAVl', 'gKaZbjDqrUhynJImlzSN', 'WhaUakldaAmpLumfaADO', 'oSQBbhIkNionRJpNbQfT', 'ryswqHdLvbezpDLjokYF', 'fbFKcMumlScApQMqFIqp', 'CtqLCGHuqRboDDTcLgdd', 'axeriLCjwXfPLisVOBVL', 'KkNQdfTjqxnSBHFFEsRG', 'hXrExQTVnMngQspzRqOg', 'KRQHLUuqcaONWtmevZrj', 'jOyKGQdOxpckcWAZCnNj', 'ZbcOcgPIxJThEWbhHyVc', 'HUWKoFtmnFbxqdaDfhZs', 'yxtFdhyijaALzWWYtzHE', 'idNIHUdGLIBpuJCpMVao', 'MNnfNbngYIuaGdDeRmPm', 'DYPQuQTZCBDnCWMJOzqR', 'TIRYvHSoLonAvRZefPmz', 'kGgpyeEtacYWhzbuuWMR', 'KUROllwAYyecYcjFOgAi', 'IWLzPAfDfwypTzMxtiQE', 'CIAskiBSlPVrlMWbbWfu', 'BCmsqJCiEpJsLqvYrted', 'QECrNfzKLIFUfefOWeZa', 'JcSmVkNsRnqKulhfeFBL', 'RYQFHbWRnjKqraTDuhGb', 'GpiDILvimvLtLBlqOeTQ', 'hIlpdXTVGwzYWIOqvhtN', 'fCNPAcbVPCfuNeiACAQI', 'UCpELiEcSpcQwocxJRuB', 'pvCdohkUBGPPZOsCzVAu', 'MBGYWAQSYWUphNxTsAWD', 'qVFXdvhQNPXmOHukRdYo', 'igQalUaJuwfVAGIDPzua', 'deJoLIVTrEhsYKuEWqtP', 'NJzEnvxGTeAoWtXraOMM', 'uHkXFqmjVyPishvUseQg', 'aPqwsNrUDOqqlOPbgStP', 'smmIOAouIeVKrcJCnwCF', 'FMTJOeaScSqUkhlRsVER', 'YwbyBjVdPyyaRwqdjxpq', 'XHNUiSKKGTEpSAlaVMFQ', 'HhhFrJNxtyFmfHjucLwg', 'UjApcvnaHtkydRkrLYuv', 'MJEexgiyAbBxEZucRrxF', 'WZxCpdfLzrgIfGUqxGpE', 'BHqsCPwtnpaQSryaVXya', 'zmMYsMkXHYTJUxXBnJUu', 'gkrlxvSUaPCJLtsTAaHI', 'vDDUOyLFNAxxxTqPIvmu', 'MNfFFlVAeRkSKHUcBXKf', 'vRLTQQKAsFQMxbcHGPhu', 'XiUifkjKLLnomcDRhswp', 'iNaIAFVuZgYukekFQQbX', 'viJRyeJfSPaqDtxzXuOp', 'YsQzpqQZEhqMYoorAgaD', 'VBdrpMRxOgpNkFVVIYwv', 'vIcDHlGzzFaHjErfhRtL', 'LqFAuDnKaWBLMIsdIrqS', 'UkMhhhbZmYgIctIeIFcd', 'MlpoGnAFMLmBJhlwvyRU', 'jiuZfEGBRodFnHKeFJbS', 'hdfUrLAimwwBitovrFPH', 'XsCpMzAukiJUouENqPXz', 'WUAADskMKtAjHudRNZNk', 'MZTDkjezphpnUHlvfRck', 'zFUXnxOPohSdmGrQzhoq', 'TNuLrxbIiUjMSnjBxuhQ', 'UvuMsOSDBWQGOIbDbXfV', 'KkmURVtLRkaVcbcQEdxf', 'QftOBnqPiHPTqiRZihxu', 'jWQZKvbKuDnnQLCqeuOF', 'FNIjOzNNxWDHGSGhdwpo', 'QxWjoBryiVtHYvHGhGZF', 'XGOsamgBesNClOIokPJY', 'KoBBKFfLGZzJWZoFqBZs', 'pmvTbUlmnwAkuHIbvKUg', 'geDcueAOghDzHkGMmdOq', 'icDKqLuuLakGISOQwadh', 'NVHOSamWzgildkIqvazz', 'gDrBrfQcvgxvzFmqbwOn', 'lndNIerCYECRQvBTyTye', 'QHZajgZtJQsDcUrcEZFQ', 'eFGuYtbktaqRjJGmKrgt', 'cqgnjDbqrtCipVvzhxqa', 'lGmMXrMkjZsdbfpkENcb', 'ZsHOHNXkbhgIDlKNiFMf', 'UbPITRDRRxEthSWElPeR', 'bJJuEXRheRIxXEaYIXqM', 'PTQlxxEuqjyfVHcNKQQW', 'phrsMxwuvNvYsPYNbKkL', 'GckvSDGOaGHWWjdncguR', 'isYoUwVPnRHJczHiHQbB', 'HNeyVhGCENfooKxigXgT', 'RPlOOwDXcGbDiHxvUHjl', 'ydXTgkwKyFWEAJoahduP', 'qkJqOqfMTtlyzUhWxuhL', 'MQKcTjzuZISZCrJZNuBo', 'QaAtzrVfiljUFRBBCNfx', 'ozAtYqLEGUloOLYhmYHy', 'RTbrNgtiROQiwvJmxoMx', 'ZeHvxPFwjACxsjFESmAv', 'SHJidRpqXditMCUeEFzb', 'HDNNCuLbujddNEYUajQE', 'SVgtRXtJAnTJGHMmQaSp', 'RaeBwzCLChMDgYYukNOw', 'fDLlAcSmythWSCVMvqvL', 'ZdMEDTGyKgADRidqThio', 'mtQufDECJCXyKwpKQPvz', 'vzZhTmFXVLvOGKPtazQA', 'ArbfvYgWhqxkzywKqpQf', 'ZrFUXsNmtDhsddYDEHuw', 'HulRNDjXOKXfHzcrldVc', 'DWLxnPuFDXvGQTIRHNMJ', 'riZJIarZWJvhdHWdDrux', 'KKvNTDUMikVNuWhfyixH', 'gPinzYOcsxiWLoYRKIhm', 'OfKezkhKEqSahVIaYBPe', 'VlaymmnstMeJpRhenOxA', 'QqlhtdysPCupLmIWSmCe', 'iSHFQRYsNeVeKceWxpSo', 'RzLAoRYmCtVATSoPvWAQ', 'yKpfDUhvBGiCyZJUYIhx', 'bYtKIdRTbseeDQhjMMKp', 'zMFmwQTCTSjJqblNXbOE', 'maiZOsuEAMdeoRVsYoFk', 'qngiJQKcRremsAJnZbvx', 'TOSjvKcurFlcKJijjpYP', 'lizzeFOgHJbXKYByCsRW', 'PKriXrefSFPLBYtCRGSE', 'tYfqTBjAxWbmBruissGm', 'niQdLVcBlNylrEuNcCYH', 'xlgxosywJUuXxqcFVVFQ', 'SsNBzwDJfUmTkvZdJYwh', 'sTkjcuMUikyInvCPLqNT', 'sasMLQqRnLGImIVczyca', 'VwFAZFZbfZKrxWVksAUS', 'qWwWPqRITbGahtXJnhQM', 'VGDDruVvwprnUWMpndUF', 'OnUWpnidqddyZfRWfVte', 'XsuVVTgiDIxZtndPjvDm', 'FjmXJMSPRlWCUDfvnJVj', 'InLrxElufkSAvhfyFcOA', 'wdjyUvgOieKqCvdLdgdf', 'rgsINTLYFsElIlfRtNDP', 'WlbWUObZWvsimzdFdLYw', 'oTnRPvmUvahtQQFrXZmY', 'JwYIveaHVpeeRZloQCfF', 'wpmatvDuiMutnvmNVPJo', 'WEXkMlsnJodrzBgKJBpG', 'PsRRjEPKVbKXDDjZTzqz', 'NjxmCYfYjIPklFfCAYsj', 'hSkxjvIamxEAKPuQRbPZ', 'WPZFTVRTmwVTvqqeSvcx', 'ZggPbXStNGQhzWMEBOLM', 'YDhRPNErghvKCwWcfSFO', 'pZusNNTculJrJpXVbetv', 'BmzdZLeVUBKtYeegQdDw', 'iYBYglGljMDRQyqHRiPH', 'DoHSZVoRuUVcHdePLoNu', 'maHDiFwmjQJFyOgDSpcT', 'vhpnGVtJxagqKJLKMned', 'NSeBhOEHDhDpOUDPSXUf', 'dsMBEPbykptynjgMDCHV', 'EsbpyHMkFkavykEeYhch', 'wWtqUernqIfFLJdJysKt', 'EqdTaaqmzwekKPAdLBYe', 'MXqmDyetMTICSSitTjWV', 'gSRDomjfmHNdtaxPJuCv', 'vBgJsvsqiUSnOEyphSkB', 'pPFwanAwnMLEswxIGTmI', 'BfcDPnLXSzldnCfaoIEI', 'pbDudNzVMOgnBNGCXLTy', 'dWtHIcbhSjgqqIXgbpYJ', 'nGFPxtyrBsOYBtJhrWEk', 'hFcWNjkqDXrXVskHuhpd', 'RbLtZeeWlADCvMSBcyBw', 'yRMfsZmhXOVclJLNuETF', 'thYHTtYeWMvbXnHTRwgj', 'cXxuwXPoQCvAXPHpFcZl', 'RSBvtLtyLVDnrxEUPnOU', 'XBoxutCxHSTnvyJumCQY', 'YbcOQBSJMCcNKwwhwUZt', 'kHeuQiCHJLYapEQDfqGy', 'uWENmKSoxlTTnBJIDhcr', 'ssImHEVdprbqxSDUnKEZ', 'fRSoNoVhwXlxsbcAmZtb', 'GJKHnxJnFXRaOHVuEUAj', 'uucOIlRysdLPcqDPWItw', 'pIIpItvaeWXxmjVDvQKm', 'xhbLYKykcxmylecTsBop', 'rcPTSYUkeyIdANHAzyqt', 'oBixMNCffOQtQcLCZfRN', 'kjsLglQLzykiRbcDiGcD', 'MDlpWHQbyGzsGrsaUjsf', 'sMpOrnpSyTEXdUATtpcS', 'HKUDoNXhPeIzUdnZpRdl', 'FrZxVhBshHjYZTtbPhxK', 'JDwOAktCeEqMJyKeCccZ', 'EyveFmCGCQchHbSIRpVc', 'DlnuGwaJBHGNEKdWfOpe', 'VZxaKViwZIbyAQCieciI', 'UvyzWsKbojrmlVrFRIgp', 'UNcVvIncdXEfyysCnEDP', 'DWdObWJnYkxegWsWkVuy', 'YAQGTUQbCohUIetXFGlm', 'YlsczTIyBSwTLNtuDkCd', 'cYTulBWaDljoeQISJkTk', 'UrZcnCerRbiVophgfqbk', 'qXxxKIhpFOfIRCoFEWwj', 'hkgJKxyIcFMefugjgLxL', 'bSnjzIuKqgqYvqVDKaOX', 'wVcghiqKrWURnHCgpBAi', 'QEejXfOCtOMFLZqIPApp', 'YWSizludtZnOxvXZCLip', 'eooqChmKKdvCvkvVEKSN', 'sxyMkKInbSYGDrkZtpqJ', 'xAEYTlJDbQNwQTLGxICQ', 'AWRuffbiANmJrYMwpzNm', 'tZFBLFXQHwkIPobFAmib', 'LbYgXRsCfbfDfXBVePCv', 'ChlboyuFHSppOzVqTaoj', 'XVKNbZXFFeCXocbAHwpS', 'zFUMqscEAxumOoFLkvJJ', 'IDWhodWXNlhqNKuwyLiv']}\n"
     ]
    }
   ],
   "source": [
    "features = ['utm_source', 'utm_medium', 'device_brand', 'visit_number', 'utm_campaign', 'utm_keyword']\n",
    "print({feature: CHOICE[feature].unique().tolist() for feature in features})"
   ],
   "metadata": {
    "collapsed": false,
    "ExecuteTime": {
     "end_time": "2025-07-13T12:32:59.472830Z",
     "start_time": "2025-07-13T12:32:59.145234Z"
    }
   },
   "id": "2f012bab98e84be6",
   "execution_count": 23
  },
  {
   "cell_type": "code",
   "outputs": [],
   "source": [
    "del CHOICE, choice, yes, no"
   ],
   "metadata": {
    "collapsed": false
   },
   "id": "ba1cd1c22d33f90f"
  }
 ],
 "metadata": {
  "kernelspec": {
   "display_name": "Python 3",
   "language": "python",
   "name": "python3"
  },
  "language_info": {
   "codemirror_mode": {
    "name": "ipython",
    "version": 2
   },
   "file_extension": ".py",
   "mimetype": "text/x-python",
   "name": "python",
   "nbconvert_exporter": "python",
   "pygments_lexer": "ipython2",
   "version": "2.7.6"
  }
 },
 "nbformat": 4,
 "nbformat_minor": 5
}
