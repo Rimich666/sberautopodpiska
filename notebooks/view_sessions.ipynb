{
 "cells": [
  {
   "cell_type": "code",
   "execution_count": 1,
   "id": "initial_id",
   "metadata": {
    "collapsed": true,
    "ExecuteTime": {
     "end_time": "2025-07-09T10:26:20.888238Z",
     "start_time": "2025-07-09T10:26:20.885187Z"
    }
   },
   "outputs": [],
   "source": [
    "import pandas as pd\n",
    "import numpy as np\n",
    "import matplotlib.pyplot as plt\n",
    "import seaborn as sns\n",
    "import os\n",
    "from pathlib import Path"
   ]
  },
  {
   "cell_type": "code",
   "outputs": [],
   "source": [
    "pd.set_option('display.max_columns', 50)\n",
    "plt.style.use('ggplot') "
   ],
   "metadata": {
    "collapsed": false,
    "ExecuteTime": {
     "end_time": "2025-07-09T10:26:20.897538Z",
     "start_time": "2025-07-09T10:26:20.889248Z"
    }
   },
   "id": "799e65773031da75",
   "execution_count": 2
  },
  {
   "cell_type": "code",
   "outputs": [
    {
     "name": "stdout",
     "output_type": "stream",
     "text": [
      "✅ Данные загружены!\n",
      "Сессии: 1860042 строк, 18 колонок\n"
     ]
    }
   ],
   "source": [
    "try:\n",
    "    sessions = pd.read_pickle('../data/raw/ga_sessions.pkl')\n",
    "    print(\"✅ Данные загружены!\")\n",
    "    print(f\"Сессии: {sessions.shape[0]} строк, {sessions.shape[1]} колонок\")\n",
    "except Exception as e:\n",
    "    print(f\"❌ Ошибка: {e}\")"
   ],
   "metadata": {
    "collapsed": false,
    "ExecuteTime": {
     "end_time": "2025-07-09T10:27:16.098427Z",
     "start_time": "2025-07-09T10:26:20.898613Z"
    }
   },
   "id": "5e1f723123b426cd",
   "execution_count": 3
  },
  {
   "cell_type": "code",
   "outputs": [
    {
     "name": "stdout",
     "output_type": "stream",
     "text": [
      "\n",
      "🔍 Анализ датафрейма: sessions\n"
     ]
    },
    {
     "data": {
      "text/plain": "<pandas.io.formats.style.Styler at 0x23258d7f380>",
      "text/html": "<style type=\"text/css\">\n#T_b9d78_row0_col2, #T_b9d78_row0_col3 {\n  background-color: #67000d;\n  color: #f1f1f1;\n}\n#T_b9d78_row1_col2, #T_b9d78_row1_col3 {\n  background-color: #f34935;\n  color: #f1f1f1;\n}\n#T_b9d78_row2_col2, #T_b9d78_row2_col3 {\n  background-color: #f34c37;\n  color: #f1f1f1;\n}\n#T_b9d78_row3_col2, #T_b9d78_row3_col3 {\n  background-color: #fdd0bc;\n  color: #000000;\n}\n#T_b9d78_row4_col2, #T_b9d78_row4_col3 {\n  background-color: #fee1d4;\n  color: #000000;\n}\n#T_b9d78_row5_col2, #T_b9d78_row5_col3 {\n  background-color: #feeae1;\n  color: #000000;\n}\n#T_b9d78_row6_col2, #T_b9d78_row6_col3, #T_b9d78_row7_col2, #T_b9d78_row7_col3, #T_b9d78_row8_col2, #T_b9d78_row8_col3, #T_b9d78_row9_col2, #T_b9d78_row9_col3, #T_b9d78_row10_col2, #T_b9d78_row10_col3, #T_b9d78_row11_col2, #T_b9d78_row11_col3, #T_b9d78_row12_col2, #T_b9d78_row12_col3, #T_b9d78_row13_col2, #T_b9d78_row13_col3, #T_b9d78_row14_col2, #T_b9d78_row14_col3, #T_b9d78_row15_col2, #T_b9d78_row15_col3, #T_b9d78_row16_col2, #T_b9d78_row16_col3, #T_b9d78_row17_col2, #T_b9d78_row17_col3 {\n  background-color: #fff5f0;\n  color: #000000;\n}\n</style>\n<table id=\"T_b9d78\">\n  <thead>\n    <tr>\n      <th class=\"blank level0\" >&nbsp;</th>\n      <th id=\"T_b9d78_level0_col0\" class=\"col_heading level0 col0\" >Тип данных</th>\n      <th id=\"T_b9d78_level0_col1\" class=\"col_heading level0 col1\" >Уникальных</th>\n      <th id=\"T_b9d78_level0_col2\" class=\"col_heading level0 col2\" >Пропусков</th>\n      <th id=\"T_b9d78_level0_col3\" class=\"col_heading level0 col3\" >% Пропусков</th>\n      <th id=\"T_b9d78_level0_col4\" class=\"col_heading level0 col4\" >Пример значения</th>\n    </tr>\n  </thead>\n  <tbody>\n    <tr>\n      <th id=\"T_b9d78_level0_row0\" class=\"row_heading level0 row0\" >device_model</th>\n      <td id=\"T_b9d78_row0_col0\" class=\"data row0 col0\" >object</td>\n      <td id=\"T_b9d78_row0_col1\" class=\"data row0 col1\" >104</td>\n      <td id=\"T_b9d78_row0_col2\" class=\"data row0 col2\" >1843704</td>\n      <td id=\"T_b9d78_row0_col3\" class=\"data row0 col3\" >99.1%</td>\n      <td id=\"T_b9d78_row0_col4\" class=\"data row0 col4\" >nan</td>\n    </tr>\n    <tr>\n      <th id=\"T_b9d78_level0_row1\" class=\"row_heading level0 row1\" >utm_keyword</th>\n      <td id=\"T_b9d78_row1_col0\" class=\"data row1 col0\" >object</td>\n      <td id=\"T_b9d78_row1_col1\" class=\"data row1 col1\" >1219</td>\n      <td id=\"T_b9d78_row1_col2\" class=\"data row1 col2\" >1082061</td>\n      <td id=\"T_b9d78_row1_col3\" class=\"data row1 col3\" >58.2%</td>\n      <td id=\"T_b9d78_row1_col4\" class=\"data row1 col4\" >puhZPIYqKXeFPaUviSjo</td>\n    </tr>\n    <tr>\n      <th id=\"T_b9d78_level0_row2\" class=\"row_heading level0 row2\" >device_os</th>\n      <td id=\"T_b9d78_row2_col0\" class=\"data row2 col0\" >object</td>\n      <td id=\"T_b9d78_row2_col1\" class=\"data row2 col1\" >13</td>\n      <td id=\"T_b9d78_row2_col2\" class=\"data row2 col2\" >1070138</td>\n      <td id=\"T_b9d78_row2_col3\" class=\"data row2 col3\" >57.5%</td>\n      <td id=\"T_b9d78_row2_col4\" class=\"data row2 col4\" >Android</td>\n    </tr>\n    <tr>\n      <th id=\"T_b9d78_level0_row3\" class=\"row_heading level0 row3\" >utm_adcontent</th>\n      <td id=\"T_b9d78_row3_col0\" class=\"data row3 col0\" >object</td>\n      <td id=\"T_b9d78_row3_col1\" class=\"data row3 col1\" >286</td>\n      <td id=\"T_b9d78_row3_col2\" class=\"data row3 col2\" >335615</td>\n      <td id=\"T_b9d78_row3_col3\" class=\"data row3 col3\" >18.0%</td>\n      <td id=\"T_b9d78_row3_col4\" class=\"data row3 col4\" >vCIpmpaGBnIQhyYNkXqp</td>\n    </tr>\n    <tr>\n      <th id=\"T_b9d78_level0_row4\" class=\"row_heading level0 row4\" >utm_campaign</th>\n      <td id=\"T_b9d78_row4_col0\" class=\"data row4 col0\" >object</td>\n      <td id=\"T_b9d78_row4_col1\" class=\"data row4 col1\" >412</td>\n      <td id=\"T_b9d78_row4_col2\" class=\"data row4 col2\" >219603</td>\n      <td id=\"T_b9d78_row4_col3\" class=\"data row4 col3\" >11.8%</td>\n      <td id=\"T_b9d78_row4_col4\" class=\"data row4 col4\" >LEoPHuyFvzoNfnzGgfcd</td>\n    </tr>\n    <tr>\n      <th id=\"T_b9d78_level0_row5\" class=\"row_heading level0 row5\" >device_brand</th>\n      <td id=\"T_b9d78_row5_col0\" class=\"data row5 col0\" >object</td>\n      <td id=\"T_b9d78_row5_col1\" class=\"data row5 col1\" >206</td>\n      <td id=\"T_b9d78_row5_col2\" class=\"data row5 col2\" >118678</td>\n      <td id=\"T_b9d78_row5_col3\" class=\"data row5 col3\" >6.4%</td>\n      <td id=\"T_b9d78_row5_col4\" class=\"data row5 col4\" >Huawei</td>\n    </tr>\n    <tr>\n      <th id=\"T_b9d78_level0_row6\" class=\"row_heading level0 row6\" >utm_source</th>\n      <td id=\"T_b9d78_row6_col0\" class=\"data row6 col0\" >object</td>\n      <td id=\"T_b9d78_row6_col1\" class=\"data row6 col1\" >293</td>\n      <td id=\"T_b9d78_row6_col2\" class=\"data row6 col2\" >97</td>\n      <td id=\"T_b9d78_row6_col3\" class=\"data row6 col3\" >0.0%</td>\n      <td id=\"T_b9d78_row6_col4\" class=\"data row6 col4\" >ZpYIoDJMcFzVoPFsHGJL</td>\n    </tr>\n    <tr>\n      <th id=\"T_b9d78_level0_row7\" class=\"row_heading level0 row7\" >geo_country</th>\n      <td id=\"T_b9d78_row7_col0\" class=\"data row7 col0\" >object</td>\n      <td id=\"T_b9d78_row7_col1\" class=\"data row7 col1\" >166</td>\n      <td id=\"T_b9d78_row7_col2\" class=\"data row7 col2\" >0</td>\n      <td id=\"T_b9d78_row7_col3\" class=\"data row7 col3\" >0.0%</td>\n      <td id=\"T_b9d78_row7_col4\" class=\"data row7 col4\" >Russia</td>\n    </tr>\n    <tr>\n      <th id=\"T_b9d78_level0_row8\" class=\"row_heading level0 row8\" >device_browser</th>\n      <td id=\"T_b9d78_row8_col0\" class=\"data row8 col0\" >object</td>\n      <td id=\"T_b9d78_row8_col1\" class=\"data row8 col1\" >57</td>\n      <td id=\"T_b9d78_row8_col2\" class=\"data row8 col2\" >0</td>\n      <td id=\"T_b9d78_row8_col3\" class=\"data row8 col3\" >0.0%</td>\n      <td id=\"T_b9d78_row8_col4\" class=\"data row8 col4\" >Chrome</td>\n    </tr>\n    <tr>\n      <th id=\"T_b9d78_level0_row9\" class=\"row_heading level0 row9\" >device_screen_resolution</th>\n      <td id=\"T_b9d78_row9_col0\" class=\"data row9 col0\" >object</td>\n      <td id=\"T_b9d78_row9_col1\" class=\"data row9 col1\" >5039</td>\n      <td id=\"T_b9d78_row9_col2\" class=\"data row9 col2\" >0</td>\n      <td id=\"T_b9d78_row9_col3\" class=\"data row9 col3\" >0.0%</td>\n      <td id=\"T_b9d78_row9_col4\" class=\"data row9 col4\" >360x720</td>\n    </tr>\n    <tr>\n      <th id=\"T_b9d78_level0_row10\" class=\"row_heading level0 row10\" >session_id</th>\n      <td id=\"T_b9d78_row10_col0\" class=\"data row10 col0\" >object</td>\n      <td id=\"T_b9d78_row10_col1\" class=\"data row10 col1\" >1860042</td>\n      <td id=\"T_b9d78_row10_col2\" class=\"data row10 col2\" >0</td>\n      <td id=\"T_b9d78_row10_col3\" class=\"data row10 col3\" >0.0%</td>\n      <td id=\"T_b9d78_row10_col4\" class=\"data row10 col4\" >9055434745589932991.1637753792.1637753792</td>\n    </tr>\n    <tr>\n      <th id=\"T_b9d78_level0_row11\" class=\"row_heading level0 row11\" >device_category</th>\n      <td id=\"T_b9d78_row11_col0\" class=\"data row11 col0\" >object</td>\n      <td id=\"T_b9d78_row11_col1\" class=\"data row11 col1\" >3</td>\n      <td id=\"T_b9d78_row11_col2\" class=\"data row11 col2\" >0</td>\n      <td id=\"T_b9d78_row11_col3\" class=\"data row11 col3\" >0.0%</td>\n      <td id=\"T_b9d78_row11_col4\" class=\"data row11 col4\" >mobile</td>\n    </tr>\n    <tr>\n      <th id=\"T_b9d78_level0_row12\" class=\"row_heading level0 row12\" >client_id</th>\n      <td id=\"T_b9d78_row12_col0\" class=\"data row12 col0\" >object</td>\n      <td id=\"T_b9d78_row12_col1\" class=\"data row12 col1\" >1391719</td>\n      <td id=\"T_b9d78_row12_col2\" class=\"data row12 col2\" >0</td>\n      <td id=\"T_b9d78_row12_col3\" class=\"data row12 col3\" >0.0%</td>\n      <td id=\"T_b9d78_row12_col4\" class=\"data row12 col4\" >2108382700.1637753791</td>\n    </tr>\n    <tr>\n      <th id=\"T_b9d78_level0_row13\" class=\"row_heading level0 row13\" >utm_medium</th>\n      <td id=\"T_b9d78_row13_col0\" class=\"data row13 col0\" >object</td>\n      <td id=\"T_b9d78_row13_col1\" class=\"data row13 col1\" >56</td>\n      <td id=\"T_b9d78_row13_col2\" class=\"data row13 col2\" >0</td>\n      <td id=\"T_b9d78_row13_col3\" class=\"data row13 col3\" >0.0%</td>\n      <td id=\"T_b9d78_row13_col4\" class=\"data row13 col4\" >banner</td>\n    </tr>\n    <tr>\n      <th id=\"T_b9d78_level0_row14\" class=\"row_heading level0 row14\" >visit_number</th>\n      <td id=\"T_b9d78_row14_col0\" class=\"data row14 col0\" >int64</td>\n      <td id=\"T_b9d78_row14_col1\" class=\"data row14 col1\" >537</td>\n      <td id=\"T_b9d78_row14_col2\" class=\"data row14 col2\" >0</td>\n      <td id=\"T_b9d78_row14_col3\" class=\"data row14 col3\" >0.0%</td>\n      <td id=\"T_b9d78_row14_col4\" class=\"data row14 col4\" >1</td>\n    </tr>\n    <tr>\n      <th id=\"T_b9d78_level0_row15\" class=\"row_heading level0 row15\" >visit_time</th>\n      <td id=\"T_b9d78_row15_col0\" class=\"data row15 col0\" >object</td>\n      <td id=\"T_b9d78_row15_col1\" class=\"data row15 col1\" >85318</td>\n      <td id=\"T_b9d78_row15_col2\" class=\"data row15 col2\" >0</td>\n      <td id=\"T_b9d78_row15_col3\" class=\"data row15 col3\" >0.0%</td>\n      <td id=\"T_b9d78_row15_col4\" class=\"data row15 col4\" >14:36:32</td>\n    </tr>\n    <tr>\n      <th id=\"T_b9d78_level0_row16\" class=\"row_heading level0 row16\" >visit_date</th>\n      <td id=\"T_b9d78_row16_col0\" class=\"data row16 col0\" >object</td>\n      <td id=\"T_b9d78_row16_col1\" class=\"data row16 col1\" >226</td>\n      <td id=\"T_b9d78_row16_col2\" class=\"data row16 col2\" >0</td>\n      <td id=\"T_b9d78_row16_col3\" class=\"data row16 col3\" >0.0%</td>\n      <td id=\"T_b9d78_row16_col4\" class=\"data row16 col4\" >2021-11-24</td>\n    </tr>\n    <tr>\n      <th id=\"T_b9d78_level0_row17\" class=\"row_heading level0 row17\" >geo_city</th>\n      <td id=\"T_b9d78_row17_col0\" class=\"data row17 col0\" >object</td>\n      <td id=\"T_b9d78_row17_col1\" class=\"data row17 col1\" >2548</td>\n      <td id=\"T_b9d78_row17_col2\" class=\"data row17 col2\" >0</td>\n      <td id=\"T_b9d78_row17_col3\" class=\"data row17 col3\" >0.0%</td>\n      <td id=\"T_b9d78_row17_col4\" class=\"data row17 col4\" >Zlatoust</td>\n    </tr>\n  </tbody>\n</table>\n"
     },
     "metadata": {},
     "output_type": "display_data"
    }
   ],
   "source": [
    "from notebooks.helpers import explore_data_modern, SESSIONS_FRAME\n",
    "\n",
    "display(explore_data_modern(sessions, SESSIONS_FRAME))"
   ],
   "metadata": {
    "collapsed": false,
    "ExecuteTime": {
     "end_time": "2025-07-09T10:27:20.273110Z",
     "start_time": "2025-07-09T10:27:16.099436Z"
    }
   },
   "id": "667bf0816e20e97f",
   "execution_count": 4
  },
  {
   "cell_type": "code",
   "outputs": [],
   "source": [
    "sessions['utm_keyword'] = sessions['utm_keyword'].fillna('(not_set)')"
   ],
   "metadata": {
    "collapsed": false
   },
   "id": "b7881184c3a04e6f"
  },
  {
   "cell_type": "code",
   "outputs": [],
   "source": [
    "del sessions"
   ],
   "metadata": {
    "collapsed": false
   },
   "id": "32c1306822c7cca2"
  }
 ],
 "metadata": {
  "kernelspec": {
   "display_name": "Python 3",
   "language": "python",
   "name": "python3"
  },
  "language_info": {
   "codemirror_mode": {
    "name": "ipython",
    "version": 2
   },
   "file_extension": ".py",
   "mimetype": "text/x-python",
   "name": "python",
   "nbconvert_exporter": "python",
   "pygments_lexer": "ipython2",
   "version": "2.7.6"
  }
 },
 "nbformat": 4,
 "nbformat_minor": 5
}
