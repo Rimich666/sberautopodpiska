{
 "cells": [
  {
   "cell_type": "markdown",
   "source": [
    "## Подготовим dataset для стартового baseline"
   ],
   "metadata": {
    "collapsed": false
   },
   "id": "4026c67fd9097917"
  },
  {
   "cell_type": "code",
   "outputs": [],
   "source": [
    "%load_ext autoreload\n",
    "%autoreload 2\n",
    "import pandas as pd\n",
    "import matplotlib.pyplot as plt\n",
    "from notebooks.helpers import save_frame, SESSIONS_FRAME, explore_data_modern\n",
    "from notebooks.prepare_sesions import prepare_sessions"
   ],
   "metadata": {
    "collapsed": false,
    "ExecuteTime": {
     "end_time": "2025-07-15T13:53:54.254180Z",
     "start_time": "2025-07-15T13:53:53.997977Z"
    }
   },
   "id": "7ccdff1956b4f11a",
   "execution_count": 2
  },
  {
   "cell_type": "markdown",
   "source": [
    "Настройки отображения"
   ],
   "metadata": {
    "collapsed": false
   },
   "id": "830514095fb90850"
  },
  {
   "cell_type": "code",
   "outputs": [],
   "source": [
    "pd.set_option('display.max_columns', 50)\n",
    "plt.style.use('ggplot') "
   ],
   "metadata": {
    "collapsed": false,
    "ExecuteTime": {
     "end_time": "2025-07-15T13:53:56.302982Z",
     "start_time": "2025-07-15T13:53:56.195068Z"
    }
   },
   "id": "36a38e0448182a9b",
   "execution_count": 3
  },
  {
   "cell_type": "markdown",
   "source": [
    "Загрузка данных"
   ],
   "metadata": {
    "collapsed": false
   },
   "id": "91732a4715db39e1"
  },
  {
   "cell_type": "code",
   "outputs": [
    {
     "name": "stdout",
     "output_type": "stream",
     "text": [
      "✅ Данные загружены!\n",
      "Сессии: 1860042 строк, 18 колонок\n",
      "События: 15726470 строк, 11 колонок\n"
     ]
    }
   ],
   "source": [
    "try:\n",
    "    sessions = pd.read_pickle('../data/raw/ga_sessions.pkl')\n",
    "    hits = pd.read_pickle('../data/raw/ga_hits.pkl')\n",
    "    print(\"✅ Данные загружены!\")\n",
    "    print(f\"Сессии: {sessions.shape[0]} строк, {sessions.shape[1]} колонок\")\n",
    "    print(f\"События: {hits.shape[0]} строк, {hits.shape[1]} колонок\")\n",
    "except Exception as e:\n",
    "    print(f\"❌ Ошибка: {e}\")"
   ],
   "metadata": {
    "collapsed": false,
    "ExecuteTime": {
     "end_time": "2025-07-15T13:59:58.779039Z",
     "start_time": "2025-07-15T13:53:57.875541Z"
    }
   },
   "id": "35f404aea2d3969c",
   "execution_count": 4
  },
  {
   "cell_type": "code",
   "outputs": [],
   "source": [
    "def save_session(comment):\n",
    "    save_frame(sessions, SESSIONS_FRAME, comment)"
   ],
   "metadata": {
    "collapsed": false,
    "ExecuteTime": {
     "end_time": "2025-07-15T10:42:34.627683Z",
     "start_time": "2025-07-15T10:42:34.447009Z"
    }
   },
   "id": "26cff1a620e0e0e",
   "execution_count": 4
  },
  {
   "cell_type": "code",
   "outputs": [
    {
     "name": "stdout",
     "output_type": "stream",
     "text": [
      "Сохранено: ../data/processed/sessions_20250715_1442.pkl | Лог: ../data/processed/log_sessions.txt\n"
     ]
    }
   ],
   "source": [
    "save_session(\"Свеже загруженный фрейм\")"
   ],
   "metadata": {
    "collapsed": false,
    "ExecuteTime": {
     "end_time": "2025-07-15T10:43:03.459667Z",
     "start_time": "2025-07-15T10:42:50.668206Z"
    }
   },
   "id": "f29021741163a3ed",
   "execution_count": 5
  },
  {
   "cell_type": "markdown",
   "source": [
    "## Посмотрим сырой sessions"
   ],
   "metadata": {
    "collapsed": false
   },
   "id": "354b4e9b3995b639"
  },
  {
   "cell_type": "code",
   "outputs": [
    {
     "name": "stdout",
     "output_type": "stream",
     "text": [
      "\n",
      "🔍 Анализ датафрейма: sessions\n"
     ]
    },
    {
     "data": {
      "text/plain": "<pandas.io.formats.style.Styler at 0x1ec84ef6bd0>",
      "text/html": "<style type=\"text/css\">\n#T_30479_row0_col2, #T_30479_row0_col3 {\n  background-color: #67000d;\n  color: #f1f1f1;\n}\n#T_30479_row1_col2, #T_30479_row1_col3 {\n  background-color: #f34935;\n  color: #f1f1f1;\n}\n#T_30479_row2_col2, #T_30479_row2_col3 {\n  background-color: #f34c37;\n  color: #f1f1f1;\n}\n#T_30479_row3_col2, #T_30479_row3_col3 {\n  background-color: #fdd0bc;\n  color: #000000;\n}\n#T_30479_row4_col2, #T_30479_row4_col3 {\n  background-color: #fee1d4;\n  color: #000000;\n}\n#T_30479_row5_col2, #T_30479_row5_col3 {\n  background-color: #feeae1;\n  color: #000000;\n}\n#T_30479_row6_col2, #T_30479_row6_col3, #T_30479_row7_col2, #T_30479_row7_col3, #T_30479_row8_col2, #T_30479_row8_col3, #T_30479_row9_col2, #T_30479_row9_col3, #T_30479_row10_col2, #T_30479_row10_col3, #T_30479_row11_col2, #T_30479_row11_col3, #T_30479_row12_col2, #T_30479_row12_col3, #T_30479_row13_col2, #T_30479_row13_col3, #T_30479_row14_col2, #T_30479_row14_col3, #T_30479_row15_col2, #T_30479_row15_col3, #T_30479_row16_col2, #T_30479_row16_col3, #T_30479_row17_col2, #T_30479_row17_col3 {\n  background-color: #fff5f0;\n  color: #000000;\n}\n</style>\n<table id=\"T_30479\">\n  <thead>\n    <tr>\n      <th class=\"blank level0\" >&nbsp;</th>\n      <th id=\"T_30479_level0_col0\" class=\"col_heading level0 col0\" >Тип данных</th>\n      <th id=\"T_30479_level0_col1\" class=\"col_heading level0 col1\" >Уникальных</th>\n      <th id=\"T_30479_level0_col2\" class=\"col_heading level0 col2\" >Пропусков</th>\n      <th id=\"T_30479_level0_col3\" class=\"col_heading level0 col3\" >% Пропусков</th>\n      <th id=\"T_30479_level0_col4\" class=\"col_heading level0 col4\" >Пример значения</th>\n    </tr>\n  </thead>\n  <tbody>\n    <tr>\n      <th id=\"T_30479_level0_row0\" class=\"row_heading level0 row0\" >device_model</th>\n      <td id=\"T_30479_row0_col0\" class=\"data row0 col0\" >object</td>\n      <td id=\"T_30479_row0_col1\" class=\"data row0 col1\" >104</td>\n      <td id=\"T_30479_row0_col2\" class=\"data row0 col2\" >1843704</td>\n      <td id=\"T_30479_row0_col3\" class=\"data row0 col3\" >99.1%</td>\n      <td id=\"T_30479_row0_col4\" class=\"data row0 col4\" >nan</td>\n    </tr>\n    <tr>\n      <th id=\"T_30479_level0_row1\" class=\"row_heading level0 row1\" >utm_keyword</th>\n      <td id=\"T_30479_row1_col0\" class=\"data row1 col0\" >object</td>\n      <td id=\"T_30479_row1_col1\" class=\"data row1 col1\" >1219</td>\n      <td id=\"T_30479_row1_col2\" class=\"data row1 col2\" >1082061</td>\n      <td id=\"T_30479_row1_col3\" class=\"data row1 col3\" >58.2%</td>\n      <td id=\"T_30479_row1_col4\" class=\"data row1 col4\" >puhZPIYqKXeFPaUviSjo</td>\n    </tr>\n    <tr>\n      <th id=\"T_30479_level0_row2\" class=\"row_heading level0 row2\" >device_os</th>\n      <td id=\"T_30479_row2_col0\" class=\"data row2 col0\" >object</td>\n      <td id=\"T_30479_row2_col1\" class=\"data row2 col1\" >13</td>\n      <td id=\"T_30479_row2_col2\" class=\"data row2 col2\" >1070138</td>\n      <td id=\"T_30479_row2_col3\" class=\"data row2 col3\" >57.5%</td>\n      <td id=\"T_30479_row2_col4\" class=\"data row2 col4\" >Android</td>\n    </tr>\n    <tr>\n      <th id=\"T_30479_level0_row3\" class=\"row_heading level0 row3\" >utm_adcontent</th>\n      <td id=\"T_30479_row3_col0\" class=\"data row3 col0\" >object</td>\n      <td id=\"T_30479_row3_col1\" class=\"data row3 col1\" >286</td>\n      <td id=\"T_30479_row3_col2\" class=\"data row3 col2\" >335615</td>\n      <td id=\"T_30479_row3_col3\" class=\"data row3 col3\" >18.0%</td>\n      <td id=\"T_30479_row3_col4\" class=\"data row3 col4\" >vCIpmpaGBnIQhyYNkXqp</td>\n    </tr>\n    <tr>\n      <th id=\"T_30479_level0_row4\" class=\"row_heading level0 row4\" >utm_campaign</th>\n      <td id=\"T_30479_row4_col0\" class=\"data row4 col0\" >object</td>\n      <td id=\"T_30479_row4_col1\" class=\"data row4 col1\" >412</td>\n      <td id=\"T_30479_row4_col2\" class=\"data row4 col2\" >219603</td>\n      <td id=\"T_30479_row4_col3\" class=\"data row4 col3\" >11.8%</td>\n      <td id=\"T_30479_row4_col4\" class=\"data row4 col4\" >LEoPHuyFvzoNfnzGgfcd</td>\n    </tr>\n    <tr>\n      <th id=\"T_30479_level0_row5\" class=\"row_heading level0 row5\" >device_brand</th>\n      <td id=\"T_30479_row5_col0\" class=\"data row5 col0\" >object</td>\n      <td id=\"T_30479_row5_col1\" class=\"data row5 col1\" >206</td>\n      <td id=\"T_30479_row5_col2\" class=\"data row5 col2\" >118678</td>\n      <td id=\"T_30479_row5_col3\" class=\"data row5 col3\" >6.4%</td>\n      <td id=\"T_30479_row5_col4\" class=\"data row5 col4\" >Huawei</td>\n    </tr>\n    <tr>\n      <th id=\"T_30479_level0_row6\" class=\"row_heading level0 row6\" >utm_source</th>\n      <td id=\"T_30479_row6_col0\" class=\"data row6 col0\" >object</td>\n      <td id=\"T_30479_row6_col1\" class=\"data row6 col1\" >293</td>\n      <td id=\"T_30479_row6_col2\" class=\"data row6 col2\" >97</td>\n      <td id=\"T_30479_row6_col3\" class=\"data row6 col3\" >0.0%</td>\n      <td id=\"T_30479_row6_col4\" class=\"data row6 col4\" >ZpYIoDJMcFzVoPFsHGJL</td>\n    </tr>\n    <tr>\n      <th id=\"T_30479_level0_row7\" class=\"row_heading level0 row7\" >geo_country</th>\n      <td id=\"T_30479_row7_col0\" class=\"data row7 col0\" >object</td>\n      <td id=\"T_30479_row7_col1\" class=\"data row7 col1\" >166</td>\n      <td id=\"T_30479_row7_col2\" class=\"data row7 col2\" >0</td>\n      <td id=\"T_30479_row7_col3\" class=\"data row7 col3\" >0.0%</td>\n      <td id=\"T_30479_row7_col4\" class=\"data row7 col4\" >Russia</td>\n    </tr>\n    <tr>\n      <th id=\"T_30479_level0_row8\" class=\"row_heading level0 row8\" >device_browser</th>\n      <td id=\"T_30479_row8_col0\" class=\"data row8 col0\" >object</td>\n      <td id=\"T_30479_row8_col1\" class=\"data row8 col1\" >57</td>\n      <td id=\"T_30479_row8_col2\" class=\"data row8 col2\" >0</td>\n      <td id=\"T_30479_row8_col3\" class=\"data row8 col3\" >0.0%</td>\n      <td id=\"T_30479_row8_col4\" class=\"data row8 col4\" >Chrome</td>\n    </tr>\n    <tr>\n      <th id=\"T_30479_level0_row9\" class=\"row_heading level0 row9\" >device_screen_resolution</th>\n      <td id=\"T_30479_row9_col0\" class=\"data row9 col0\" >object</td>\n      <td id=\"T_30479_row9_col1\" class=\"data row9 col1\" >5039</td>\n      <td id=\"T_30479_row9_col2\" class=\"data row9 col2\" >0</td>\n      <td id=\"T_30479_row9_col3\" class=\"data row9 col3\" >0.0%</td>\n      <td id=\"T_30479_row9_col4\" class=\"data row9 col4\" >360x720</td>\n    </tr>\n    <tr>\n      <th id=\"T_30479_level0_row10\" class=\"row_heading level0 row10\" >session_id</th>\n      <td id=\"T_30479_row10_col0\" class=\"data row10 col0\" >object</td>\n      <td id=\"T_30479_row10_col1\" class=\"data row10 col1\" >1860042</td>\n      <td id=\"T_30479_row10_col2\" class=\"data row10 col2\" >0</td>\n      <td id=\"T_30479_row10_col3\" class=\"data row10 col3\" >0.0%</td>\n      <td id=\"T_30479_row10_col4\" class=\"data row10 col4\" >9055434745589932991.1637753792.1637753792</td>\n    </tr>\n    <tr>\n      <th id=\"T_30479_level0_row11\" class=\"row_heading level0 row11\" >device_category</th>\n      <td id=\"T_30479_row11_col0\" class=\"data row11 col0\" >object</td>\n      <td id=\"T_30479_row11_col1\" class=\"data row11 col1\" >3</td>\n      <td id=\"T_30479_row11_col2\" class=\"data row11 col2\" >0</td>\n      <td id=\"T_30479_row11_col3\" class=\"data row11 col3\" >0.0%</td>\n      <td id=\"T_30479_row11_col4\" class=\"data row11 col4\" >mobile</td>\n    </tr>\n    <tr>\n      <th id=\"T_30479_level0_row12\" class=\"row_heading level0 row12\" >client_id</th>\n      <td id=\"T_30479_row12_col0\" class=\"data row12 col0\" >object</td>\n      <td id=\"T_30479_row12_col1\" class=\"data row12 col1\" >1391719</td>\n      <td id=\"T_30479_row12_col2\" class=\"data row12 col2\" >0</td>\n      <td id=\"T_30479_row12_col3\" class=\"data row12 col3\" >0.0%</td>\n      <td id=\"T_30479_row12_col4\" class=\"data row12 col4\" >2108382700.1637753791</td>\n    </tr>\n    <tr>\n      <th id=\"T_30479_level0_row13\" class=\"row_heading level0 row13\" >utm_medium</th>\n      <td id=\"T_30479_row13_col0\" class=\"data row13 col0\" >object</td>\n      <td id=\"T_30479_row13_col1\" class=\"data row13 col1\" >56</td>\n      <td id=\"T_30479_row13_col2\" class=\"data row13 col2\" >0</td>\n      <td id=\"T_30479_row13_col3\" class=\"data row13 col3\" >0.0%</td>\n      <td id=\"T_30479_row13_col4\" class=\"data row13 col4\" >banner</td>\n    </tr>\n    <tr>\n      <th id=\"T_30479_level0_row14\" class=\"row_heading level0 row14\" >visit_number</th>\n      <td id=\"T_30479_row14_col0\" class=\"data row14 col0\" >int64</td>\n      <td id=\"T_30479_row14_col1\" class=\"data row14 col1\" >537</td>\n      <td id=\"T_30479_row14_col2\" class=\"data row14 col2\" >0</td>\n      <td id=\"T_30479_row14_col3\" class=\"data row14 col3\" >0.0%</td>\n      <td id=\"T_30479_row14_col4\" class=\"data row14 col4\" >1</td>\n    </tr>\n    <tr>\n      <th id=\"T_30479_level0_row15\" class=\"row_heading level0 row15\" >visit_time</th>\n      <td id=\"T_30479_row15_col0\" class=\"data row15 col0\" >object</td>\n      <td id=\"T_30479_row15_col1\" class=\"data row15 col1\" >85318</td>\n      <td id=\"T_30479_row15_col2\" class=\"data row15 col2\" >0</td>\n      <td id=\"T_30479_row15_col3\" class=\"data row15 col3\" >0.0%</td>\n      <td id=\"T_30479_row15_col4\" class=\"data row15 col4\" >14:36:32</td>\n    </tr>\n    <tr>\n      <th id=\"T_30479_level0_row16\" class=\"row_heading level0 row16\" >visit_date</th>\n      <td id=\"T_30479_row16_col0\" class=\"data row16 col0\" >object</td>\n      <td id=\"T_30479_row16_col1\" class=\"data row16 col1\" >226</td>\n      <td id=\"T_30479_row16_col2\" class=\"data row16 col2\" >0</td>\n      <td id=\"T_30479_row16_col3\" class=\"data row16 col3\" >0.0%</td>\n      <td id=\"T_30479_row16_col4\" class=\"data row16 col4\" >2021-11-24</td>\n    </tr>\n    <tr>\n      <th id=\"T_30479_level0_row17\" class=\"row_heading level0 row17\" >geo_city</th>\n      <td id=\"T_30479_row17_col0\" class=\"data row17 col0\" >object</td>\n      <td id=\"T_30479_row17_col1\" class=\"data row17 col1\" >2548</td>\n      <td id=\"T_30479_row17_col2\" class=\"data row17 col2\" >0</td>\n      <td id=\"T_30479_row17_col3\" class=\"data row17 col3\" >0.0%</td>\n      <td id=\"T_30479_row17_col4\" class=\"data row17 col4\" >Zlatoust</td>\n    </tr>\n  </tbody>\n</table>\n"
     },
     "metadata": {},
     "output_type": "display_data"
    }
   ],
   "source": [
    "display(explore_data_modern(sessions, SESSIONS_FRAME))    "
   ],
   "metadata": {
    "collapsed": false,
    "ExecuteTime": {
     "end_time": "2025-07-15T10:43:15.972266Z",
     "start_time": "2025-07-15T10:43:11.937616Z"
    }
   },
   "id": "175e48c2e5e64130",
   "execution_count": 6
  },
  {
   "cell_type": "code",
   "outputs": [
    {
     "name": "stdout",
     "output_type": "stream",
     "text": [
      "full сохранён в F:\\Projects\\tgu\\hahaton25_2\\sberautopodpiska\\data\\datasets\\lite\\full.parquet\n",
      "Доля сессий с chat и вариантом очистки lite: 0.01774092431531878\n",
      "train сохранён в F:\\Projects\\tgu\\hahaton25_2\\sberautopodpiska\\data\\datasets\\lite\\chat\\train.parquet\n",
      "val сохранён в F:\\Projects\\tgu\\hahaton25_2\\sberautopodpiska\\data\\datasets\\lite\\chat\\val.parquet\n",
      "test сохранён в F:\\Projects\\tgu\\hahaton25_2\\sberautopodpiska\\data\\datasets\\lite\\chat\\test.parquet\n",
      "cross сохранён в F:\\Projects\\tgu\\hahaton25_2\\sberautopodpiska\\data\\datasets\\lite\\chat\\cross.parquet\n",
      "Доля сессий с sub8 и вариантом очистки lite: 0.02904519282835315\n",
      "train сохранён в F:\\Projects\\tgu\\hahaton25_2\\sberautopodpiska\\data\\datasets\\lite\\sub8\\train.parquet\n",
      "val сохранён в F:\\Projects\\tgu\\hahaton25_2\\sberautopodpiska\\data\\datasets\\lite\\sub8\\val.parquet\n",
      "test сохранён в F:\\Projects\\tgu\\hahaton25_2\\sberautopodpiska\\data\\datasets\\lite\\sub8\\test.parquet\n",
      "cross сохранён в F:\\Projects\\tgu\\hahaton25_2\\sberautopodpiska\\data\\datasets\\lite\\sub8\\cross.parquet\n",
      "full сохранён в F:\\Projects\\tgu\\hahaton25_2\\sberautopodpiska\\data\\datasets\\hard\\full.parquet\n",
      "Доля сессий с chat и вариантом очистки hard: 0.01772857447574822\n",
      "train сохранён в F:\\Projects\\tgu\\hahaton25_2\\sberautopodpiska\\data\\datasets\\hard\\chat\\train.parquet\n",
      "val сохранён в F:\\Projects\\tgu\\hahaton25_2\\sberautopodpiska\\data\\datasets\\hard\\chat\\val.parquet\n",
      "test сохранён в F:\\Projects\\tgu\\hahaton25_2\\sberautopodpiska\\data\\datasets\\hard\\chat\\test.parquet\n",
      "cross сохранён в F:\\Projects\\tgu\\hahaton25_2\\sberautopodpiska\\data\\datasets\\hard\\chat\\cross.parquet\n",
      "Доля сессий с sub8 и вариантом очистки hard: 0.02905807769101927\n",
      "train сохранён в F:\\Projects\\tgu\\hahaton25_2\\sberautopodpiska\\data\\datasets\\hard\\sub8\\train.parquet\n",
      "val сохранён в F:\\Projects\\tgu\\hahaton25_2\\sberautopodpiska\\data\\datasets\\hard\\sub8\\val.parquet\n",
      "test сохранён в F:\\Projects\\tgu\\hahaton25_2\\sberautopodpiska\\data\\datasets\\hard\\sub8\\test.parquet\n",
      "cross сохранён в F:\\Projects\\tgu\\hahaton25_2\\sberautopodpiska\\data\\datasets\\hard\\sub8\\cross.parquet\n"
     ]
    }
   ],
   "source": [
    "prepare_sessions(sessions, hits)"
   ],
   "metadata": {
    "collapsed": false,
    "ExecuteTime": {
     "end_time": "2025-07-15T11:02:16.199513Z",
     "start_time": "2025-07-15T11:00:33.836540Z"
    }
   },
   "id": "3ad4229fa4039f0a",
   "execution_count": 11
  },
  {
   "cell_type": "code",
   "outputs": [
    {
     "ename": "NameError",
     "evalue": "name 'hits' is not defined",
     "output_type": "error",
     "traceback": [
      "\u001B[1;31m---------------------------------------------------------------------------\u001B[0m",
      "\u001B[1;31mNameError\u001B[0m                                 Traceback (most recent call last)",
      "Cell \u001B[1;32mIn[6], line 1\u001B[0m\n\u001B[1;32m----> 1\u001B[0m \u001B[38;5;28;01mdel\u001B[39;00m hits, sessions\n",
      "\u001B[1;31mNameError\u001B[0m: name 'hits' is not defined"
     ]
    }
   ],
   "source": [
    "del hits, sessions"
   ],
   "metadata": {
    "collapsed": false,
    "ExecuteTime": {
     "end_time": "2025-07-15T14:01:43.742782Z",
     "start_time": "2025-07-15T14:01:43.592728Z"
    }
   },
   "id": "ba71c2466aac0626",
   "execution_count": 6
  }
 ],
 "metadata": {
  "kernelspec": {
   "display_name": "Python 3",
   "language": "python",
   "name": "python3"
  },
  "language_info": {
   "codemirror_mode": {
    "name": "ipython",
    "version": 2
   },
   "file_extension": ".py",
   "mimetype": "text/x-python",
   "name": "python",
   "nbconvert_exporter": "python",
   "pygments_lexer": "ipython2",
   "version": "2.7.6"
  }
 },
 "nbformat": 4,
 "nbformat_minor": 5
}
