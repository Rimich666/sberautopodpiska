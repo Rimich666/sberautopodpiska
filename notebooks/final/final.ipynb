{
 "cells": [
  {
   "cell_type": "markdown",
   "source": [
    "## Финализация"
   ],
   "metadata": {
    "collapsed": false
   },
   "id": "4026c67fd9097917"
  },
  {
   "cell_type": "code",
   "outputs": [],
   "source": [
    "%load_ext autoreload\n",
    "%autoreload 2\n",
    "import pandas as pd\n",
    "import matplotlib.pyplot as plt\n",
    "from notebooks.final.final import final_learn"
   ],
   "metadata": {
    "collapsed": false,
    "ExecuteTime": {
     "end_time": "2025-07-21T04:12:22.582611Z",
     "start_time": "2025-07-21T04:12:20.623771Z"
    }
   },
   "id": "7ccdff1956b4f11a",
   "execution_count": 1
  },
  {
   "cell_type": "markdown",
   "source": [
    "Настройки отображения"
   ],
   "metadata": {
    "collapsed": false
   },
   "id": "830514095fb90850"
  },
  {
   "cell_type": "code",
   "outputs": [],
   "source": [
    "pd.set_option('display.max_columns', 50)\n",
    "plt.style.use('ggplot') "
   ],
   "metadata": {
    "collapsed": false,
    "ExecuteTime": {
     "end_time": "2025-07-21T04:12:26.470808Z",
     "start_time": "2025-07-21T04:12:25.483981Z"
    }
   },
   "id": "36a38e0448182a9b",
   "execution_count": 2
  },
  {
   "cell_type": "code",
   "outputs": [
    {
     "name": "stdout",
     "output_type": "stream",
     "text": [
      "F:\\Projects\\tgu\\hahaton25_2\\sberautopodpiska\\data\\models\\hyper\\catboost\\hard\\sub8\\f1_1\\0\\f1_1\n",
      "F:\\Projects\\tgu\\hahaton25_2\\sberautopodpiska\\data\\datasets\\hard\\sub8\n",
      "{'iterations': 304, 'depth': 7, 'learning_rate': 0.05801503017959423, 'l2_leaf_reg': 5, 'random_seed': 42, 'task_type': 'GPU', 'devices': '0', 'auto_class_weights': 'Balanced', 'verbose': 0}\n",
      "🔧 Финальные параметры модели:\n",
      "iterations: 304\n",
      "depth: 7\n",
      "learning_rate: 0.05801503017959423\n",
      "l2_leaf_reg: 5\n",
      "random_seed: 42\n",
      "task_type: GPU\n",
      "devices: 0\n",
      "auto_class_weights: Balanced\n",
      "verbose: 0\n",
      "\n",
      "🚀 Обучение финальной модели на всех тренировочных данных...\n"
     ]
    },
    {
     "data": {
      "text/plain": "MetricVisualizer(layout=Layout(align_self='stretch', height='500px'))",
      "application/vnd.jupyter.widget-view+json": {
       "version_major": 2,
       "version_minor": 0,
       "model_id": "8a6c2f67f92a4c52a890a1c257a1e439"
      }
     },
     "metadata": {},
     "output_type": "display_data"
    },
    {
     "name": "stdout",
     "output_type": "stream",
     "text": [
      "\n",
      "🧪 Тестирование на отложенной выборке...\n",
      "\n",
      "📊 Результаты на тестовых данных:\n",
      "- ROC-AUC: 0.6756\n",
      "\n",
      "📝 Classification Report:\n",
      "              precision    recall  f1-score   support\n",
      "\n",
      "           0       0.98      0.58      0.73    333203\n",
      "           1       0.04      0.66      0.08      9972\n",
      "\n",
      "    accuracy                           0.58    343175\n",
      "   macro avg       0.51      0.62      0.40    343175\n",
      "weighted avg       0.96      0.58      0.71    343175\n",
      "\n",
      "\n",
      "📝 Classification Report с оптимизированным порогом: 0.6707434452882818:\n",
      "              precision    recall  f1-score   support\n",
      "\n",
      "           0       0.97      0.95      0.96    333203\n",
      "           1       0.09      0.15      0.11      9972\n",
      "\n",
      "    accuracy                           0.93    343175\n",
      "   macro avg       0.53      0.55      0.54    343175\n",
      "weighted avg       0.95      0.93      0.94    343175\n",
      "\n",
      "\n",
      "💾 Сохраненные артефакты:\n",
      "- Модель: F:\\Projects\\tgu\\hahaton25_2\\sberautopodpiska\\notebooks\\data\\models\\hard\\sub8\\model_20250721_084547.cbm\n",
      "- Параметры: F:\\Projects\\tgu\\hahaton25_2\\sberautopodpiska\\notebooks\\data\\models\\hard\\sub8\\params_20250721_084547.json\n",
      "- Метрики: F:\\Projects\\tgu\\hahaton25_2\\sberautopodpiska\\notebooks\\data\\models\\hard\\sub8\\metrics_20250721_084547.json\n"
     ]
    }
   ],
   "source": [
    "final_learn()"
   ],
   "metadata": {
    "collapsed": false,
    "ExecuteTime": {
     "end_time": "2025-07-21T04:46:27.381202Z",
     "start_time": "2025-07-21T04:45:44.006653Z"
    }
   },
   "id": "a9015c95bfa4ac0d",
   "execution_count": 7
  }
 ],
 "metadata": {
  "kernelspec": {
   "display_name": "Python 3",
   "language": "python",
   "name": "python3"
  },
  "language_info": {
   "codemirror_mode": {
    "name": "ipython",
    "version": 2
   },
   "file_extension": ".py",
   "mimetype": "text/x-python",
   "name": "python",
   "nbconvert_exporter": "python",
   "pygments_lexer": "ipython2",
   "version": "2.7.6"
  }
 },
 "nbformat": 4,
 "nbformat_minor": 5
}
