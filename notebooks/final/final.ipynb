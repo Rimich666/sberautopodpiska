{
 "cells": [
  {
   "cell_type": "markdown",
   "source": [
    "## Финализация"
   ],
   "metadata": {
    "collapsed": false
   },
   "id": "4026c67fd9097917"
  },
  {
   "cell_type": "code",
   "outputs": [],
   "source": [
    "%load_ext autoreload\n",
    "%autoreload 2\n",
    "import pandas as pd\n",
    "import matplotlib.pyplot as plt\n",
    "from notebooks.final.final import final_learn\n",
    "from notebooks.ensemble.ensemble import final_ensemble_learn"
   ],
   "metadata": {
    "collapsed": false,
    "ExecuteTime": {
     "end_time": "2025-07-24T02:55:57.888759Z",
     "start_time": "2025-07-24T02:55:54.946219Z"
    }
   },
   "id": "7ccdff1956b4f11a",
   "execution_count": 1
  },
  {
   "cell_type": "markdown",
   "source": [
    "Настройки отображения"
   ],
   "metadata": {
    "collapsed": false
   },
   "id": "830514095fb90850"
  },
  {
   "cell_type": "code",
   "outputs": [],
   "source": [
    "pd.set_option('display.max_columns', 50)\n",
    "plt.style.use('ggplot') "
   ],
   "metadata": {
    "collapsed": false,
    "ExecuteTime": {
     "end_time": "2025-07-24T02:56:01.522344Z",
     "start_time": "2025-07-24T02:56:00.283636Z"
    }
   },
   "id": "36a38e0448182a9b",
   "execution_count": 2
  },
  {
   "cell_type": "code",
   "outputs": [
    {
     "name": "stdout",
     "output_type": "stream",
     "text": [
      "F:\\Projects\\tgu\\hahaton25_2\\sberautopodpiska\\data\\models\\hyper\\catboost\\hard\\sub8\\f1_1\\0\\f1_1\n",
      "F:\\Projects\\tgu\\hahaton25_2\\sberautopodpiska\\data\\datasets\\hard\\sub8\n",
      "{'iterations': 304, 'depth': 7, 'learning_rate': 0.05801503017959423, 'l2_leaf_reg': 5, 'random_seed': 42, 'task_type': 'GPU', 'devices': '0', 'auto_class_weights': 'Balanced', 'verbose': 0}\n",
      "🔧 Финальные параметры модели:\n",
      "iterations: 304\n",
      "depth: 7\n",
      "learning_rate: 0.05801503017959423\n",
      "l2_leaf_reg: 5\n",
      "random_seed: 42\n",
      "task_type: GPU\n",
      "devices: 0\n",
      "auto_class_weights: Balanced\n",
      "verbose: 0\n",
      "\n",
      "🚀 Обучение финальной модели на всех тренировочных данных...\n"
     ]
    },
    {
     "data": {
      "text/plain": "MetricVisualizer(layout=Layout(align_self='stretch', height='500px'))",
      "application/vnd.jupyter.widget-view+json": {
       "version_major": 2,
       "version_minor": 0,
       "model_id": "8a6c2f67f92a4c52a890a1c257a1e439"
      }
     },
     "metadata": {},
     "output_type": "display_data"
    },
    {
     "name": "stdout",
     "output_type": "stream",
     "text": [
      "\n",
      "🧪 Тестирование на отложенной выборке...\n",
      "\n",
      "📊 Результаты на тестовых данных:\n",
      "- ROC-AUC: 0.6756\n",
      "\n",
      "📝 Classification Report:\n",
      "              precision    recall  f1-score   support\n",
      "\n",
      "           0       0.98      0.58      0.73    333203\n",
      "           1       0.04      0.66      0.08      9972\n",
      "\n",
      "    accuracy                           0.58    343175\n",
      "   macro avg       0.51      0.62      0.40    343175\n",
      "weighted avg       0.96      0.58      0.71    343175\n",
      "\n",
      "\n",
      "📝 Classification Report с оптимизированным порогом: 0.6707434452882818:\n",
      "              precision    recall  f1-score   support\n",
      "\n",
      "           0       0.97      0.95      0.96    333203\n",
      "           1       0.09      0.15      0.11      9972\n",
      "\n",
      "    accuracy                           0.93    343175\n",
      "   macro avg       0.53      0.55      0.54    343175\n",
      "weighted avg       0.95      0.93      0.94    343175\n",
      "\n",
      "\n",
      "💾 Сохраненные артефакты:\n",
      "- Модель: F:\\Projects\\tgu\\hahaton25_2\\sberautopodpiska\\notebooks\\data\\models\\hard\\sub8\\model_20250721_084547.cbm\n",
      "- Параметры: F:\\Projects\\tgu\\hahaton25_2\\sberautopodpiska\\notebooks\\data\\models\\hard\\sub8\\params_20250721_084547.json\n",
      "- Метрики: F:\\Projects\\tgu\\hahaton25_2\\sberautopodpiska\\notebooks\\data\\models\\hard\\sub8\\metrics_20250721_084547.json\n"
     ]
    }
   ],
   "source": [
    "final_learn()"
   ],
   "metadata": {
    "collapsed": false,
    "ExecuteTime": {
     "end_time": "2025-07-21T04:46:27.381202Z",
     "start_time": "2025-07-21T04:45:44.006653Z"
    }
   },
   "id": "a9015c95bfa4ac0d",
   "execution_count": 7
  },
  {
   "cell_type": "code",
   "outputs": [
    {
     "name": "stdout",
     "output_type": "stream",
     "text": [
      "Вариант 1\n",
      "F:\\Projects\\tgu\\hahaton25_2\\sberautopodpiska\\data\\models\\hyper\\catboost\\hard\\sub8\\f1_1\\0\\f1_1\n",
      "F:\\Projects\\tgu\\hahaton25_2\\sberautopodpiska\\data\\models\\hyper\\lightgbm\\hard\\sub8\\f1_1\\0\\f1_1\n",
      "\n",
      "🌀 Обучение catboost...\n",
      "Гипера: {'auto_class_weights': 'Balanced', 'random_seed': 42, 'task_type': 'GPU', 'devices': '0', 'early_stopping_rounds': 50, 'border_count': 128, 'verbose': 0, 'iterations': 645, 'depth': 6, 'learning_rate': 0.14703266835718107, 'l2_leaf_reg': 3, 'cat_features': [0, 1, 2, 3, 4]}\n"
     ]
    },
    {
     "data": {
      "text/plain": "MetricVisualizer(layout=Layout(align_self='stretch', height='500px'))",
      "application/vnd.jupyter.widget-view+json": {
       "version_major": 2,
       "version_minor": 0,
       "model_id": "0d4a403db42847ecb2dcad78d60e738e"
      }
     },
     "metadata": {},
     "output_type": "display_data"
    },
    {
     "name": "stdout",
     "output_type": "stream",
     "text": [
      "💾 Модель сохранена: F:\\Projects\\tgu\\hahaton25_2\\sberautopodpiska\\data\\models\\ensemble\\hard\\sub8\\20250724_065609\\catboost.cbm\n",
      "\n",
      "🌀 Обучение lightgbm...\n",
      "Гипера: {'objective': 'binary', 'random_state': 42, 'device': 'gpu', 'n_jobs': -1, 'verbosity': -1, 'boosting_type': 'gbdt', 'class_weight': 'balanced', 'n_estimators': 843, 'max_depth': 4, 'learning_rate': 0.010002311589549463, 'reg_lambda': 1}\n",
      "💾 Модель сохранена: F:\\Projects\\tgu\\hahaton25_2\\sberautopodpiska\\data\\models\\ensemble\\hard\\sub8\\20250724_065609\\lightgbm.cbm\n",
      "\n",
      "🌀 Обучение стекинг-модели...\n",
      "\n",
      "🔹 Начало генерации мета-признаков для CatBoost\n",
      "🔸 Размер данных: 1372699 строк, 5 признаков\n",
      "🔸 Категориальные признаки: ['visit_month', 'utm_medium', 'utm_campaign', 'utm_keyword', 'utm_source']\n",
      "🔸 Параметры модели: {'iterations': 645, 'learning_rate': 0.14703266835718107, 'depth': 6, 'l2_leaf_reg': 3, 'border_count': 128, 'random_seed': 42, 'verbose': 0, 'auto_class_weights': 'Balanced', 'task_type': 'GPU', 'devices': '0', 'early_stopping_rounds': 50, 'cat_features': [0, 1, 2, 3, 4]}\n",
      "\n",
      "🔹 Обработка fold #1\n",
      "🔸 Размер train: 1098159, val: 274540\n",
      "⏱ Время обработки fold #1: 44.62 сек\n",
      "\n",
      "🔹 Обработка fold #2\n",
      "🔸 Размер train: 1098159, val: 274540\n",
      "⏱ Время обработки fold #2: 46.15 сек\n",
      "\n",
      "🔹 Обработка fold #3\n",
      "🔸 Размер train: 1098159, val: 274540\n",
      "⏱ Время обработки fold #3: 45.65 сек\n",
      "\n",
      "🔹 Обработка fold #4\n",
      "🔸 Размер train: 1098159, val: 274540\n",
      "⏱ Время обработки fold #4: 45.57 сек\n",
      "\n",
      "🔹 Обработка fold #5\n",
      "🔸 Размер train: 1098160, val: 274539\n",
      "⏱ Время обработки fold #5: 44.83 сек\n",
      "\n",
      "✅ Все folds обработаны\n",
      "🔸 Общее время: 226.81 сек\n",
      "🔸 Среднее время на fold: 45.36 сек\n",
      "🔸 Статистика итоговых мета-признаков: min=0.0000, max=0.9946, mean=0.4447\n",
      "Категориальные признаки: ['visit_month', 'utm_medium', 'utm_campaign', 'utm_keyword', 'utm_source']\n",
      "💾 Стекинг-модель сохранена: F:\\Projects\\tgu\\hahaton25_2\\sberautopodpiska\\data\\models\\ensemble\\hard\\sub8\\20250724_065609\\stacking_model.joblib\n",
      "Оценка базовых моделей\n",
      "\n",
      "🧪 Тестирование catboost:\n",
      "📊 ROC-AUC: 0.6720\n",
      "📌 Оптимальный порог: 0.6433\n",
      "\n",
      "📝 Classification Report (порог 0.5):\n",
      "              precision    recall  f1-score   support\n",
      "\n",
      "     Class 0       0.98      0.58      0.73    333203\n",
      "     Class 1       0.04      0.66      0.08      9972\n",
      "\n",
      "    accuracy                           0.58    343175\n",
      "   macro avg       0.51      0.62      0.41    343175\n",
      "weighted avg       0.96      0.58      0.71    343175\n",
      "\n",
      "\n",
      "📝 Classification Report (оптимальный порог):\n",
      "              precision    recall  f1-score   support\n",
      "\n",
      "     Class 0       0.98      0.90      0.94    333203\n",
      "     Class 1       0.07      0.25      0.11      9972\n",
      "\n",
      "    accuracy                           0.88    343175\n",
      "   macro avg       0.52      0.58      0.52    343175\n",
      "weighted avg       0.95      0.88      0.91    343175\n",
      "\n",
      "🧪 Тестирование lightgbm:\n",
      "📊 ROC-AUC: 0.6727\n",
      "📌 Оптимальный порог: 0.6041\n",
      "\n",
      "📝 Classification Report (порог 0.5):\n",
      "              precision    recall  f1-score   support\n",
      "\n",
      "     Class 0       0.98      0.59      0.74    333203\n",
      "     Class 1       0.05      0.65      0.08      9972\n",
      "\n",
      "    accuracy                           0.59    343175\n",
      "   macro avg       0.51      0.62      0.41    343175\n",
      "weighted avg       0.96      0.59      0.72    343175\n",
      "\n",
      "\n",
      "📝 Classification Report (оптимальный порог):\n",
      "              precision    recall  f1-score   support\n",
      "\n",
      "     Class 0       0.98      0.89      0.93    333203\n",
      "     Class 1       0.07      0.27      0.11      9972\n",
      "\n",
      "    accuracy                           0.87    343175\n",
      "   macro avg       0.52      0.58      0.52    343175\n",
      "weighted avg       0.95      0.87      0.91    343175\n",
      "\n",
      "Оценка стекинга если есть\n",
      "\n",
      "=== ЭКСПРЕСС-ПРОВЕРКА ДАННЫХ ===\n",
      "Классы в target: 0=333203, 1=9972\n",
      "\n",
      "Модель catboost:\n",
      "Фичи: 5 | Примеры: 343175\n",
      "Типы данных: {dtype('O'): 4, dtype('int64'): 1}\n",
      "Проблемы в данных: NaN=0 Inf=0\n",
      "\n",
      "Модель lightgbm:\n",
      "Фичи: 5 | Примеры: 343175\n",
      "Типы данных: {dtype('O'): 4, dtype('int64'): 1}\n",
      "Проблемы в данных: NaN=0 Inf=0\n",
      "\n",
      "Стекинг-модель: Готова=True\n",
      "Сбор предсказаний с диагностикой\n",
      "\n",
      "🔍 catboost:\n",
      "Predictions min=0.000 max=0.974\n",
      "Mean=0.446 | Std=0.171\n",
      "Кол-во 0=196352 | Кол-во 1=146823\n",
      "\n",
      "🔍 lightgbm:\n",
      "Predictions min=0.029 max=0.853\n",
      "Mean=0.456 | Std=0.151\n",
      "Кол-во 0=199584 | Кол-во 1=143591\n",
      "\n",
      "🔥 Итоговые мета-признаки:\n",
      "Размер: (343175, 2) (примеры × модели)\n",
      "Пример первых 3 строк:\n",
      "          0         1\n",
      "0  0.452495  0.499472\n",
      "1  0.445482  0.394884\n",
      "2  0.410687  0.419404\n",
      "\n",
      "🧹 Проверка проблем:\n",
      "NaN: 0\n",
      "Inf: 0\n",
      "Все нули: 0 колонок\n",
      "Предсказание стекинг-модели\n",
      "\n",
      "=== ЭКСПРЕСС-ПРОВЕРКА ДАННЫХ ===\n",
      "Расчет метрик\n",
      "<class 'numpy.float64'>\n",
      "{'auc': 0.6742543414800097, 'report': {'Class 0': {'precision': 0.9823293409640687, 'recall': 0.5996164500319625, 'f1-score': 0.7446789081441918, 'support': 333203.0}, 'Class 1': {'precision': 0.04562656040976629, 'recall': 0.6395908543922985, 'f1-score': 0.08517685080696319, 'support': 9972.0}, 'accuracy': 0.600778028702557, 'macro avg': {'precision': 0.5139779506869174, 'recall': 0.6196036522121304, 'f1-score': 0.4149278794755775, 'support': 343175.0}, 'weighted avg': {'precision': 0.9551105746562446, 'recall': 0.600778028702557, 'f1-score': 0.7255150572932649, 'support': 343175.0}}, 'optimal_threshold': 0.6287228138991514, 'optimal_report': {'Class 0': {'precision': 0.9760198131379975, 'recall': 0.8941456109338751, 'f1-score': 0.9332905216499205, 'support': 333203.0}, 'Class 1': {'precision': 0.06993117633098647, 'recall': 0.26594464500601683, 'f1-score': 0.11074224866896336, 'support': 9972.0}, 'accuracy': 0.8758913090988563, 'macro avg': {'precision': 0.522975494734492, 'recall': 0.580045127969946, 'f1-score': 0.5220163851594419, 'support': 343175.0}, 'weighted avg': {'precision': 0.9496906344791805, 'recall': 0.8758913090988563, 'f1-score': 0.909388863958754, 'support': 343175.0}}, 'proba_stats': {'min': 0.09295313309742646, 'max': 0.8754346822172437, 'mean': 0.4493625926246324, 'std': 0.16262367201761704}}\n",
      "\n",
      "🧪 Тестирование Stacking:\n",
      "📊 ROC-AUC: 0.6743\n",
      "📌 Оптимальный порог: 0.6287\n",
      "\n",
      "📝 Classification Report (порог 0.5):\n",
      "              precision    recall  f1-score   support\n",
      "\n",
      "     Class 0       0.98      0.60      0.74    333203\n",
      "     Class 1       0.05      0.64      0.09      9972\n",
      "\n",
      "    accuracy                           0.60    343175\n",
      "   macro avg       0.51      0.62      0.41    343175\n",
      "weighted avg       0.96      0.60      0.73    343175\n",
      "\n",
      "\n",
      "📝 Classification Report (оптимальный порог):\n",
      "              precision    recall  f1-score   support\n",
      "\n",
      "     Class 0       0.98      0.89      0.93    333203\n",
      "     Class 1       0.07      0.27      0.11      9972\n",
      "\n",
      "    accuracy                           0.88    343175\n",
      "   macro avg       0.52      0.58      0.52    343175\n",
      "weighted avg       0.95      0.88      0.91    343175\n",
      "\n",
      "\n",
      "💾 Все метрики сохранены: F:\\Projects\\tgu\\hahaton25_2\\sberautopodpiska\\data\\models\\ensemble\\hard\\sub8\\20250724_065609\\metrics.json\n"
     ]
    }
   ],
   "source": [
    "final_ensemble_learn()"
   ],
   "metadata": {
    "collapsed": false,
    "ExecuteTime": {
     "end_time": "2025-07-24T03:03:08.075607Z",
     "start_time": "2025-07-24T02:56:08.975417Z"
    }
   },
   "id": "221e1de1f5620cf4",
   "execution_count": 3
  },
  {
   "cell_type": "code",
   "outputs": [],
   "source": [],
   "metadata": {
    "collapsed": false
   },
   "id": "c873af7ba759e1ec"
  }
 ],
 "metadata": {
  "kernelspec": {
   "display_name": "Python 3",
   "language": "python",
   "name": "python3"
  },
  "language_info": {
   "codemirror_mode": {
    "name": "ipython",
    "version": 2
   },
   "file_extension": ".py",
   "mimetype": "text/x-python",
   "name": "python",
   "nbconvert_exporter": "python",
   "pygments_lexer": "ipython2",
   "version": "2.7.6"
  }
 },
 "nbformat": 4,
 "nbformat_minor": 5
}
