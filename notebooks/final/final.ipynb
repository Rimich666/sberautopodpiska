{
 "cells": [
  {
   "cell_type": "markdown",
   "source": [
    "## Финализация"
   ],
   "metadata": {
    "collapsed": false
   },
   "id": "4026c67fd9097917"
  },
  {
   "cell_type": "code",
   "outputs": [],
   "source": [
    "%load_ext autoreload\n",
    "%autoreload 2\n",
    "import pandas as pd\n",
    "import matplotlib.pyplot as plt\n",
    "from notebooks.final.final import final_learn\n",
    "from notebooks.ensemble.ensemble import final_ensemble_learn"
   ],
   "metadata": {
    "collapsed": false,
    "ExecuteTime": {
     "end_time": "2025-07-22T06:04:23.452589Z",
     "start_time": "2025-07-22T06:04:20.854306Z"
    }
   },
   "id": "7ccdff1956b4f11a",
   "execution_count": 1
  },
  {
   "cell_type": "markdown",
   "source": [
    "Настройки отображения"
   ],
   "metadata": {
    "collapsed": false
   },
   "id": "830514095fb90850"
  },
  {
   "cell_type": "code",
   "outputs": [],
   "source": [
    "pd.set_option('display.max_columns', 50)\n",
    "plt.style.use('ggplot') "
   ],
   "metadata": {
    "collapsed": false,
    "ExecuteTime": {
     "end_time": "2025-07-22T06:04:28.627971Z",
     "start_time": "2025-07-22T06:04:27.530970Z"
    }
   },
   "id": "36a38e0448182a9b",
   "execution_count": 2
  },
  {
   "cell_type": "code",
   "outputs": [
    {
     "name": "stdout",
     "output_type": "stream",
     "text": [
      "F:\\Projects\\tgu\\hahaton25_2\\sberautopodpiska\\data\\models\\hyper\\catboost\\hard\\sub8\\f1_1\\0\\f1_1\n",
      "F:\\Projects\\tgu\\hahaton25_2\\sberautopodpiska\\data\\datasets\\hard\\sub8\n",
      "{'iterations': 304, 'depth': 7, 'learning_rate': 0.05801503017959423, 'l2_leaf_reg': 5, 'random_seed': 42, 'task_type': 'GPU', 'devices': '0', 'auto_class_weights': 'Balanced', 'verbose': 0}\n",
      "🔧 Финальные параметры модели:\n",
      "iterations: 304\n",
      "depth: 7\n",
      "learning_rate: 0.05801503017959423\n",
      "l2_leaf_reg: 5\n",
      "random_seed: 42\n",
      "task_type: GPU\n",
      "devices: 0\n",
      "auto_class_weights: Balanced\n",
      "verbose: 0\n",
      "\n",
      "🚀 Обучение финальной модели на всех тренировочных данных...\n"
     ]
    },
    {
     "data": {
      "text/plain": "MetricVisualizer(layout=Layout(align_self='stretch', height='500px'))",
      "application/vnd.jupyter.widget-view+json": {
       "version_major": 2,
       "version_minor": 0,
       "model_id": "8a6c2f67f92a4c52a890a1c257a1e439"
      }
     },
     "metadata": {},
     "output_type": "display_data"
    },
    {
     "name": "stdout",
     "output_type": "stream",
     "text": [
      "\n",
      "🧪 Тестирование на отложенной выборке...\n",
      "\n",
      "📊 Результаты на тестовых данных:\n",
      "- ROC-AUC: 0.6756\n",
      "\n",
      "📝 Classification Report:\n",
      "              precision    recall  f1-score   support\n",
      "\n",
      "           0       0.98      0.58      0.73    333203\n",
      "           1       0.04      0.66      0.08      9972\n",
      "\n",
      "    accuracy                           0.58    343175\n",
      "   macro avg       0.51      0.62      0.40    343175\n",
      "weighted avg       0.96      0.58      0.71    343175\n",
      "\n",
      "\n",
      "📝 Classification Report с оптимизированным порогом: 0.6707434452882818:\n",
      "              precision    recall  f1-score   support\n",
      "\n",
      "           0       0.97      0.95      0.96    333203\n",
      "           1       0.09      0.15      0.11      9972\n",
      "\n",
      "    accuracy                           0.93    343175\n",
      "   macro avg       0.53      0.55      0.54    343175\n",
      "weighted avg       0.95      0.93      0.94    343175\n",
      "\n",
      "\n",
      "💾 Сохраненные артефакты:\n",
      "- Модель: F:\\Projects\\tgu\\hahaton25_2\\sberautopodpiska\\notebooks\\data\\models\\hard\\sub8\\model_20250721_084547.cbm\n",
      "- Параметры: F:\\Projects\\tgu\\hahaton25_2\\sberautopodpiska\\notebooks\\data\\models\\hard\\sub8\\params_20250721_084547.json\n",
      "- Метрики: F:\\Projects\\tgu\\hahaton25_2\\sberautopodpiska\\notebooks\\data\\models\\hard\\sub8\\metrics_20250721_084547.json\n"
     ]
    }
   ],
   "source": [
    "final_learn()"
   ],
   "metadata": {
    "collapsed": false,
    "ExecuteTime": {
     "end_time": "2025-07-21T04:46:27.381202Z",
     "start_time": "2025-07-21T04:45:44.006653Z"
    }
   },
   "id": "a9015c95bfa4ac0d",
   "execution_count": 7
  },
  {
   "cell_type": "code",
   "outputs": [
    {
     "name": "stdout",
     "output_type": "stream",
     "text": [
      "Вариант 1\n",
      "F:\\Projects\\tgu\\hahaton25_2\\sberautopodpiska\\data\\models\\hyper\\catboost\\hard\\sub8\\f1_1\\0\\f1_1\n",
      "F:\\Projects\\tgu\\hahaton25_2\\sberautopodpiska\\data\\models\\hyper\\lightgbm\\hard\\sub8\\f1_1\\0\\f1_1\n",
      "\n",
      "🌀 Обучение catboost...\n",
      "Гипера: {'auto_class_weights': 'Balanced', 'random_seed': 42, 'task_type': 'GPU', 'devices': '0', 'early_stopping_rounds': 50, 'border_count': 128, 'verbose': 0, 'iterations': 962, 'depth': 8, 'learning_rate': 0.026144041898969923, 'l2_leaf_reg': 3, 'cat_features': [0, 1, 2, 3, 4]}\n"
     ]
    },
    {
     "data": {
      "text/plain": "MetricVisualizer(layout=Layout(align_self='stretch', height='500px'))",
      "application/vnd.jupyter.widget-view+json": {
       "version_major": 2,
       "version_minor": 0,
       "model_id": "cd4ba2ad59674d438b4d8d1697625ee5"
      }
     },
     "metadata": {},
     "output_type": "display_data"
    },
    {
     "name": "stdout",
     "output_type": "stream",
     "text": [
      "💾 Модель сохранена: F:\\Projects\\tgu\\hahaton25_2\\sberautopodpiska\\data\\models\\ensemble\\hard\\sub8\\20250723_232342\\catboost.cbm\n",
      "\n",
      "🌀 Обучение lightgbm...\n",
      "Гипера: {'objective': 'binary', 'random_state': 42, 'device': 'gpu', 'n_jobs': -1, 'verbosity': -1, 'boosting_type': 'gbdt', 'class_weight': 'balanced', 'n_estimators': 549, 'max_depth': 5, 'learning_rate': 0.02746401858488166, 'reg_lambda': 5}\n",
      "💾 Модель сохранена: F:\\Projects\\tgu\\hahaton25_2\\sberautopodpiska\\data\\models\\ensemble\\hard\\sub8\\20250723_232342\\lightgbm.cbm\n",
      "\n",
      "🌀 Обучение стекинг-модели...\n",
      "\n",
      "🔹 Начало генерации мета-признаков для CatBoost\n",
      "🔸 Размер данных: 1372699 строк, 5 признаков\n",
      "🔸 Категориальные признаки: ['visit_month', 'utm_medium', 'utm_campaign', 'utm_keyword', 'utm_source']\n",
      "🔸 Параметры модели: {'iterations': 962, 'learning_rate': 0.026144041898969923, 'depth': 8, 'l2_leaf_reg': 3, 'border_count': 128, 'random_seed': 42, 'verbose': 0, 'auto_class_weights': 'Balanced', 'task_type': 'GPU', 'devices': '0', 'early_stopping_rounds': 50, 'cat_features': [0, 1, 2, 3, 4]}\n",
      "\n",
      "🔹 Обработка fold #1\n",
      "🔸 Размер train: 1098159, val: 274540\n",
      "⏱ Время обработки fold #1: 104.78 сек\n",
      "\n",
      "🔹 Обработка fold #2\n",
      "🔸 Размер train: 1098159, val: 274540\n",
      "⏱ Время обработки fold #2: 104.94 сек\n",
      "\n",
      "🔹 Обработка fold #3\n",
      "🔸 Размер train: 1098159, val: 274540\n",
      "⏱ Время обработки fold #3: 113.93 сек\n",
      "\n",
      "🔹 Обработка fold #4\n",
      "🔸 Размер train: 1098159, val: 274540\n",
      "⏱ Время обработки fold #4: 110.12 сек\n",
      "\n",
      "🔹 Обработка fold #5\n",
      "🔸 Размер train: 1098160, val: 274539\n",
      "⏱ Время обработки fold #5: 107.35 сек\n",
      "\n",
      "✅ Все folds обработаны\n",
      "🔸 Общее время: 541.13 сек\n",
      "🔸 Среднее время на fold: 108.23 сек\n",
      "🔸 Статистика итоговых мета-признаков: min=0.0008, max=0.9962, mean=0.4455\n",
      "Категориальные признаки: ['visit_month', 'utm_medium', 'utm_campaign', 'utm_keyword', 'utm_source']\n",
      "💾 Стекинг-модель сохранена: F:\\Projects\\tgu\\hahaton25_2\\sberautopodpiska\\data\\models\\ensemble\\hard\\sub8\\20250723_232342\\stacking_model.joblib\n",
      "Оценка базовых моделей\n",
      "\n",
      "🧪 Тестирование catboost:\n",
      "📊 ROC-AUC: 0.6746\n",
      "📌 Оптимальный порог: 0.6472\n",
      "\n",
      "📝 Classification Report (порог 0.5):\n",
      "              precision    recall  f1-score   support\n",
      "\n",
      "     Class 0       0.98      0.58      0.73    333203\n",
      "     Class 1       0.04      0.66      0.08      9972\n",
      "\n",
      "    accuracy                           0.58    343175\n",
      "   macro avg       0.51      0.62      0.41    343175\n",
      "weighted avg       0.96      0.58      0.71    343175\n",
      "\n",
      "\n",
      "📝 Classification Report (оптимальный порог):\n",
      "              precision    recall  f1-score   support\n",
      "\n",
      "     Class 0       0.98      0.91      0.94    333203\n",
      "     Class 1       0.07      0.24      0.11      9972\n",
      "\n",
      "    accuracy                           0.89    343175\n",
      "   macro avg       0.52      0.58      0.53    343175\n",
      "weighted avg       0.95      0.89      0.92    343175\n",
      "\n",
      "🧪 Тестирование lightgbm:\n",
      "📊 ROC-AUC: 0.6758\n",
      "📌 Оптимальный порог: 0.6161\n",
      "\n",
      "📝 Classification Report (порог 0.5):\n",
      "              precision    recall  f1-score   support\n",
      "\n",
      "     Class 0       0.98      0.58      0.73    333203\n",
      "     Class 1       0.05      0.66      0.08      9972\n",
      "\n",
      "    accuracy                           0.59    343175\n",
      "   macro avg       0.51      0.62      0.41    343175\n",
      "weighted avg       0.96      0.59      0.71    343175\n",
      "\n",
      "\n",
      "📝 Classification Report (оптимальный порог):\n",
      "              precision    recall  f1-score   support\n",
      "\n",
      "     Class 0       0.98      0.89      0.93    333203\n",
      "     Class 1       0.07      0.27      0.11      9972\n",
      "\n",
      "    accuracy                           0.87    343175\n",
      "   macro avg       0.52      0.58      0.52    343175\n",
      "weighted avg       0.95      0.87      0.91    343175\n",
      "\n",
      "Оценка стекинга если есть\n",
      "\n",
      "=== ЭКСПРЕСС-ПРОВЕРКА ДАННЫХ ===\n",
      "Классы в target: 0=333203, 1=9972\n",
      "\n",
      "Модель catboost:\n",
      "Фичи: 5 | Примеры: 343175\n",
      "Типы данных: {dtype('O'): 4, dtype('int64'): 1}\n",
      "Проблемы в данных: NaN=0 Inf=0\n",
      "\n",
      "Модель lightgbm:\n",
      "Фичи: 5 | Примеры: 343175\n",
      "Типы данных: {dtype('O'): 4, dtype('int64'): 1}\n",
      "Проблемы в данных: NaN=0 Inf=0\n",
      "\n",
      "Стекинг-модель: Готова=True\n",
      "Сбор предсказаний с диагностикой\n",
      "\n",
      "🔍 catboost:\n",
      "Predictions min=0.001 max=0.973\n",
      "Mean=0.447 | Std=0.170\n",
      "Кол-во 0=195916 | Кол-во 1=147259\n",
      "\n",
      "🔍 lightgbm:\n",
      "Predictions min=0.008 max=0.922\n",
      "Mean=0.451 | Std=0.162\n",
      "Кол-во 0=197796 | Кол-во 1=145379\n",
      "\n",
      "🔥 Итоговые мета-признаки:\n",
      "Размер: (343175, 2) (примеры × модели)\n",
      "Пример первых 3 строк:\n",
      "          0         1\n",
      "0  0.455191  0.478616\n",
      "1  0.437918  0.400897\n",
      "2  0.410657  0.412545\n",
      "\n",
      "🧹 Проверка проблем:\n",
      "NaN: 0\n",
      "Inf: 0\n",
      "Все нули: 0 колонок\n",
      "Предсказание стекинг-модели\n",
      "\n",
      "=== ЭКСПРЕСС-ПРОВЕРКА ДАННЫХ ===\n",
      "Расчет метрик\n",
      "<class 'numpy.float64'>\n",
      "{'auc': 0.6759921265496398, 'report': {'Class 0': {'precision': 0.9826282475011517, 'recall': 0.5888992596105077, 'f1-score': 0.7364415128683887, 'support': 333203.0}, 'Class 1': {'precision': 0.04532244237993351, 'recall': 0.6521259526674689, 'f1-score': 0.08475448828646835, 'support': 9972.0}, 'accuracy': 0.5907365046987688, 'macro avg': {'precision': 0.5139753449405426, 'recall': 0.6205126061389883, 'f1-score': 0.4105980005774285, 'support': 343175.0}, 'weighted avg': {'precision': 0.9553919584688249, 'recall': 0.5907365046987688, 'f1-score': 0.717504751714077, 'support': 343175.0}}, 'optimal_threshold': 0.6634037873700656, 'optimal_report': {'Class 0': {'precision': 0.9756476750787015, 'recall': 0.9078009501715171, 'f1-score': 0.9405023047564265, 'support': 333203.0}, 'Class 1': {'precision': 0.07307727121865853, 'recall': 0.24288006417970318, 'f1-score': 0.11235069001507596, 'support': 9972.0}, 'accuracy': 0.8884796386683179, 'macro avg': {'precision': 0.52436247314868, 'recall': 0.5753405071756101, 'f1-score': 0.5264264973857512, 'support': 343175.0}, 'weighted avg': {'precision': 0.9494207294466119, 'recall': 0.8884796386683179, 'f1-score': 0.9164378248199486, 'support': 343175.0}}, 'proba_stats': {'min': 0.09090577727621672, 'max': 0.8825240960927732, 'mean': 0.4483411022781063, 'std': 0.16421274913451872}}\n",
      "\n",
      "🧪 Тестирование Stacking:\n",
      "📊 ROC-AUC: 0.6760\n",
      "📌 Оптимальный порог: 0.6634\n",
      "\n",
      "📝 Classification Report (порог 0.5):\n",
      "              precision    recall  f1-score   support\n",
      "\n",
      "     Class 0       0.98      0.59      0.74    333203\n",
      "     Class 1       0.05      0.65      0.08      9972\n",
      "\n",
      "    accuracy                           0.59    343175\n",
      "   macro avg       0.51      0.62      0.41    343175\n",
      "weighted avg       0.96      0.59      0.72    343175\n",
      "\n",
      "\n",
      "📝 Classification Report (оптимальный порог):\n",
      "              precision    recall  f1-score   support\n",
      "\n",
      "     Class 0       0.98      0.91      0.94    333203\n",
      "     Class 1       0.07      0.24      0.11      9972\n",
      "\n",
      "    accuracy                           0.89    343175\n",
      "   macro avg       0.52      0.58      0.53    343175\n",
      "weighted avg       0.95      0.89      0.92    343175\n",
      "\n",
      "\n",
      "💾 Все метрики сохранены: F:\\Projects\\tgu\\hahaton25_2\\sberautopodpiska\\data\\models\\ensemble\\hard\\sub8\\20250723_232342\\metrics.json\n"
     ]
    }
   ],
   "source": [
    "final_ensemble_learn()"
   ],
   "metadata": {
    "collapsed": false,
    "ExecuteTime": {
     "end_time": "2025-07-23T19:37:14.117925Z",
     "start_time": "2025-07-23T19:23:41.892249Z"
    }
   },
   "id": "221e1de1f5620cf4",
   "execution_count": 52
  },
  {
   "cell_type": "code",
   "outputs": [],
   "source": [],
   "metadata": {
    "collapsed": false
   },
   "id": "c873af7ba759e1ec"
  }
 ],
 "metadata": {
  "kernelspec": {
   "display_name": "Python 3",
   "language": "python",
   "name": "python3"
  },
  "language_info": {
   "codemirror_mode": {
    "name": "ipython",
    "version": 2
   },
   "file_extension": ".py",
   "mimetype": "text/x-python",
   "name": "python",
   "nbconvert_exporter": "python",
   "pygments_lexer": "ipython2",
   "version": "2.7.6"
  }
 },
 "nbformat": 4,
 "nbformat_minor": 5
}
