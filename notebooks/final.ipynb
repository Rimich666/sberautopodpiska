{
 "cells": [
  {
   "cell_type": "markdown",
   "source": [
    "## Финализация"
   ],
   "metadata": {
    "collapsed": false
   },
   "id": "4026c67fd9097917"
  },
  {
   "cell_type": "code",
   "outputs": [],
   "source": [
    "import os\n",
    "import pandas as pd\n",
    "import matplotlib.pyplot as plt\n",
    "from notebooks.helpers import explore_data_modern, load_latest_params\n",
    "from catboost import Pool,CatBoostClassifier\n",
    "import json\n",
    "from datetime import datetime\n",
    "from sklearn.metrics import roc_auc_score, classification_report"
   ],
   "metadata": {
    "collapsed": false,
    "ExecuteTime": {
     "end_time": "2025-07-12T08:48:27.906399Z",
     "start_time": "2025-07-12T08:48:27.902211Z"
    }
   },
   "id": "7ccdff1956b4f11a",
   "execution_count": 21
  },
  {
   "cell_type": "markdown",
   "source": [
    "Настройки отображения"
   ],
   "metadata": {
    "collapsed": false
   },
   "id": "830514095fb90850"
  },
  {
   "cell_type": "code",
   "outputs": [],
   "source": [
    "pd.set_option('display.max_columns', 50)\n",
    "plt.style.use('ggplot') "
   ],
   "metadata": {
    "collapsed": false,
    "ExecuteTime": {
     "end_time": "2025-07-12T08:31:28.873809Z",
     "start_time": "2025-07-12T08:31:28.869879Z"
    }
   },
   "id": "36a38e0448182a9b",
   "execution_count": 6
  },
  {
   "cell_type": "markdown",
   "source": [
    "Загрузка данных"
   ],
   "metadata": {
    "collapsed": false
   },
   "id": "91732a4715db39e1"
  },
  {
   "cell_type": "code",
   "outputs": [
    {
     "name": "stdout",
     "output_type": "stream",
     "text": [
      "✅ Данные загружены!\n",
      "Train frame: 1385812 строк\n"
     ]
    }
   ],
   "source": [
    "try:\n",
    "    X_TRAIN = pd.read_parquet('../data/datasets/cross.parquet')\n",
    "    X_TEST = pd.read_parquet('../data/datasets/test.parquet')        \n",
    "    print(\"✅ Данные загружены!\")\n",
    "    print(f\"Train frame: {X_TRAIN.shape[0]} строк\")\n",
    "except Exception as e:\n",
    "    print(f\"❌ Ошибка: {e}\")"
   ],
   "metadata": {
    "collapsed": false,
    "ExecuteTime": {
     "end_time": "2025-07-12T08:31:40.995519Z",
     "start_time": "2025-07-12T08:31:30.685437Z"
    }
   },
   "id": "35f404aea2d3969c",
   "execution_count": 7
  },
  {
   "cell_type": "code",
   "outputs": [
    {
     "name": "stdout",
     "output_type": "stream",
     "text": [
      "\n",
      "🔍 Анализ датафрейма: Train\n"
     ]
    },
    {
     "data": {
      "text/plain": "<pandas.io.formats.style.Styler at 0x1c441a07aa0>",
      "text/html": "<style type=\"text/css\">\n#T_18526_row0_col2, #T_18526_row0_col3, #T_18526_row1_col2, #T_18526_row1_col3, #T_18526_row2_col2, #T_18526_row2_col3, #T_18526_row3_col2, #T_18526_row3_col3, #T_18526_row4_col2, #T_18526_row4_col3, #T_18526_row5_col2, #T_18526_row5_col3, #T_18526_row6_col2, #T_18526_row6_col3, #T_18526_row7_col2, #T_18526_row7_col3, #T_18526_row8_col2, #T_18526_row8_col3, #T_18526_row9_col2, #T_18526_row9_col3, #T_18526_row10_col2, #T_18526_row10_col3, #T_18526_row11_col2, #T_18526_row11_col3, #T_18526_row12_col2, #T_18526_row12_col3, #T_18526_row13_col2, #T_18526_row13_col3, #T_18526_row14_col2, #T_18526_row14_col3, #T_18526_row15_col2, #T_18526_row15_col3, #T_18526_row16_col2, #T_18526_row16_col3, #T_18526_row17_col2, #T_18526_row17_col3, #T_18526_row18_col2, #T_18526_row18_col3, #T_18526_row19_col2, #T_18526_row19_col3, #T_18526_row20_col2, #T_18526_row20_col3, #T_18526_row21_col2, #T_18526_row21_col3, #T_18526_row22_col2, #T_18526_row22_col3, #T_18526_row23_col2, #T_18526_row23_col3, #T_18526_row24_col2, #T_18526_row24_col3 {\n  background-color: #fff5f0;\n  color: #000000;\n}\n</style>\n<table id=\"T_18526\">\n  <thead>\n    <tr>\n      <th class=\"blank level0\" >&nbsp;</th>\n      <th id=\"T_18526_level0_col0\" class=\"col_heading level0 col0\" >Тип данных</th>\n      <th id=\"T_18526_level0_col1\" class=\"col_heading level0 col1\" >Уникальных</th>\n      <th id=\"T_18526_level0_col2\" class=\"col_heading level0 col2\" >Пропусков</th>\n      <th id=\"T_18526_level0_col3\" class=\"col_heading level0 col3\" >% Пропусков</th>\n      <th id=\"T_18526_level0_col4\" class=\"col_heading level0 col4\" >Пример значения</th>\n    </tr>\n  </thead>\n  <tbody>\n    <tr>\n      <th id=\"T_18526_level0_row0\" class=\"row_heading level0 row0\" >client_id</th>\n      <td id=\"T_18526_row0_col0\" class=\"data row0 col0\" >object</td>\n      <td id=\"T_18526_row0_col1\" class=\"data row0 col1\" >1091884</td>\n      <td id=\"T_18526_row0_col2\" class=\"data row0 col2\" >0</td>\n      <td id=\"T_18526_row0_col3\" class=\"data row0 col3\" >0.0%</td>\n      <td id=\"T_18526_row0_col4\" class=\"data row0 col4\" >1338357431.1640964866</td>\n    </tr>\n    <tr>\n      <th id=\"T_18526_level0_row1\" class=\"row_heading level0 row1\" >device_screen_resolution</th>\n      <td id=\"T_18526_row1_col0\" class=\"data row1 col0\" >object</td>\n      <td id=\"T_18526_row1_col1\" class=\"data row1 col1\" >4414</td>\n      <td id=\"T_18526_row1_col2\" class=\"data row1 col2\" >0</td>\n      <td id=\"T_18526_row1_col3\" class=\"data row1 col3\" >0.0%</td>\n      <td id=\"T_18526_row1_col4\" class=\"data row1 col4\" >1792x1120</td>\n    </tr>\n    <tr>\n      <th id=\"T_18526_level0_row2\" class=\"row_heading level0 row2\" >brand_tier</th>\n      <td id=\"T_18526_row2_col0\" class=\"data row2 col0\" >object</td>\n      <td id=\"T_18526_row2_col1\" class=\"data row2 col1\" >3</td>\n      <td id=\"T_18526_row2_col2\" class=\"data row2 col2\" >0</td>\n      <td id=\"T_18526_row2_col3\" class=\"data row2 col3\" >0.0%</td>\n      <td id=\"T_18526_row2_col4\" class=\"data row2 col4\" >other</td>\n    </tr>\n    <tr>\n      <th id=\"T_18526_level0_row3\" class=\"row_heading level0 row3\" >is_returning</th>\n      <td id=\"T_18526_row3_col0\" class=\"data row3 col0\" >int32</td>\n      <td id=\"T_18526_row3_col1\" class=\"data row3 col1\" >2</td>\n      <td id=\"T_18526_row3_col2\" class=\"data row3 col2\" >0</td>\n      <td id=\"T_18526_row3_col3\" class=\"data row3 col3\" >0.0%</td>\n      <td id=\"T_18526_row3_col4\" class=\"data row3 col4\" >0</td>\n    </tr>\n    <tr>\n      <th id=\"T_18526_level0_row4\" class=\"row_heading level0 row4\" >visit_time_minutes</th>\n      <td id=\"T_18526_row4_col0\" class=\"data row4 col0\" >int64</td>\n      <td id=\"T_18526_row4_col1\" class=\"data row4 col1\" >1440</td>\n      <td id=\"T_18526_row4_col2\" class=\"data row4 col2\" >0</td>\n      <td id=\"T_18526_row4_col3\" class=\"data row4 col3\" >0.0%</td>\n      <td id=\"T_18526_row4_col4\" class=\"data row4 col4\" >1114</td>\n    </tr>\n    <tr>\n      <th id=\"T_18526_level0_row5\" class=\"row_heading level0 row5\" >has_utm_keyword</th>\n      <td id=\"T_18526_row5_col0\" class=\"data row5 col0\" >int32</td>\n      <td id=\"T_18526_row5_col1\" class=\"data row5 col1\" >2</td>\n      <td id=\"T_18526_row5_col2\" class=\"data row5 col2\" >0</td>\n      <td id=\"T_18526_row5_col3\" class=\"data row5 col3\" >0.0%</td>\n      <td id=\"T_18526_row5_col4\" class=\"data row5 col4\" >1</td>\n    </tr>\n    <tr>\n      <th id=\"T_18526_level0_row6\" class=\"row_heading level0 row6\" >utm_keyword_campaign_fill</th>\n      <td id=\"T_18526_row6_col0\" class=\"data row6 col0\" >object</td>\n      <td id=\"T_18526_row6_col1\" class=\"data row6 col1\" >1164</td>\n      <td id=\"T_18526_row6_col2\" class=\"data row6 col2\" >0</td>\n      <td id=\"T_18526_row6_col3\" class=\"data row6 col3\" >0.0%</td>\n      <td id=\"T_18526_row6_col4\" class=\"data row6 col4\" >qUcotcWimEOQiboVPcCx</td>\n    </tr>\n    <tr>\n      <th id=\"T_18526_level0_row7\" class=\"row_heading level0 row7\" >utm_keyword_notset_fill</th>\n      <td id=\"T_18526_row7_col0\" class=\"data row7 col0\" >object</td>\n      <td id=\"T_18526_row7_col1\" class=\"data row7 col1\" >1143</td>\n      <td id=\"T_18526_row7_col2\" class=\"data row7 col2\" >0</td>\n      <td id=\"T_18526_row7_col3\" class=\"data row7 col3\" >0.0%</td>\n      <td id=\"T_18526_row7_col4\" class=\"data row7 col4\" >qUcotcWimEOQiboVPcCx</td>\n    </tr>\n    <tr>\n      <th id=\"T_18526_level0_row8\" class=\"row_heading level0 row8\" >target</th>\n      <td id=\"T_18526_row8_col0\" class=\"data row8 col0\" >int32</td>\n      <td id=\"T_18526_row8_col1\" class=\"data row8 col1\" >2</td>\n      <td id=\"T_18526_row8_col2\" class=\"data row8 col2\" >0</td>\n      <td id=\"T_18526_row8_col3\" class=\"data row8 col3\" >0.0%</td>\n      <td id=\"T_18526_row8_col4\" class=\"data row8 col4\" >0</td>\n    </tr>\n    <tr>\n      <th id=\"T_18526_level0_row9\" class=\"row_heading level0 row9\" >geo_city</th>\n      <td id=\"T_18526_row9_col0\" class=\"data row9 col0\" >object</td>\n      <td id=\"T_18526_row9_col1\" class=\"data row9 col1\" >2201</td>\n      <td id=\"T_18526_row9_col2\" class=\"data row9 col2\" >0</td>\n      <td id=\"T_18526_row9_col3\" class=\"data row9 col3\" >0.0%</td>\n      <td id=\"T_18526_row9_col4\" class=\"data row9 col4\" >Tula</td>\n    </tr>\n    <tr>\n      <th id=\"T_18526_level0_row10\" class=\"row_heading level0 row10\" >geo_country</th>\n      <td id=\"T_18526_row10_col0\" class=\"data row10 col0\" >object</td>\n      <td id=\"T_18526_row10_col1\" class=\"data row10 col1\" >155</td>\n      <td id=\"T_18526_row10_col2\" class=\"data row10 col2\" >0</td>\n      <td id=\"T_18526_row10_col3\" class=\"data row10 col3\" >0.0%</td>\n      <td id=\"T_18526_row10_col4\" class=\"data row10 col4\" >Russia</td>\n    </tr>\n    <tr>\n      <th id=\"T_18526_level0_row11\" class=\"row_heading level0 row11\" >device_browser</th>\n      <td id=\"T_18526_row11_col0\" class=\"data row11 col0\" >object</td>\n      <td id=\"T_18526_row11_col1\" class=\"data row11 col1\" >54</td>\n      <td id=\"T_18526_row11_col2\" class=\"data row11 col2\" >0</td>\n      <td id=\"T_18526_row11_col3\" class=\"data row11 col3\" >0.0%</td>\n      <td id=\"T_18526_row11_col4\" class=\"data row11 col4\" >Chrome</td>\n    </tr>\n    <tr>\n      <th id=\"T_18526_level0_row12\" class=\"row_heading level0 row12\" >device_model</th>\n      <td id=\"T_18526_row12_col0\" class=\"data row12 col0\" >object</td>\n      <td id=\"T_18526_row12_col1\" class=\"data row12 col1\" >102</td>\n      <td id=\"T_18526_row12_col2\" class=\"data row12 col2\" >0</td>\n      <td id=\"T_18526_row12_col3\" class=\"data row12 col3\" >0.0%</td>\n      <td id=\"T_18526_row12_col4\" class=\"data row12 col4\" >unknown</td>\n    </tr>\n    <tr>\n      <th id=\"T_18526_level0_row13\" class=\"row_heading level0 row13\" >visit_date</th>\n      <td id=\"T_18526_row13_col0\" class=\"data row13 col0\" >object</td>\n      <td id=\"T_18526_row13_col1\" class=\"data row13 col1\" >226</td>\n      <td id=\"T_18526_row13_col2\" class=\"data row13 col2\" >0</td>\n      <td id=\"T_18526_row13_col3\" class=\"data row13 col3\" >0.0%</td>\n      <td id=\"T_18526_row13_col4\" class=\"data row13 col4\" >2021-12-31</td>\n    </tr>\n    <tr>\n      <th id=\"T_18526_level0_row14\" class=\"row_heading level0 row14\" >device_brand</th>\n      <td id=\"T_18526_row14_col0\" class=\"data row14 col0\" >object</td>\n      <td id=\"T_18526_row14_col1\" class=\"data row14 col1\" >194</td>\n      <td id=\"T_18526_row14_col2\" class=\"data row14 col2\" >0</td>\n      <td id=\"T_18526_row14_col3\" class=\"data row14 col3\" >0.0%</td>\n      <td id=\"T_18526_row14_col4\" class=\"data row14 col4\" >unknown</td>\n    </tr>\n    <tr>\n      <th id=\"T_18526_level0_row15\" class=\"row_heading level0 row15\" >device_os</th>\n      <td id=\"T_18526_row15_col0\" class=\"data row15 col0\" >object</td>\n      <td id=\"T_18526_row15_col1\" class=\"data row15 col1\" >14</td>\n      <td id=\"T_18526_row15_col2\" class=\"data row15 col2\" >0</td>\n      <td id=\"T_18526_row15_col3\" class=\"data row15 col3\" >0.0%</td>\n      <td id=\"T_18526_row15_col4\" class=\"data row15 col4\" >Macintosh</td>\n    </tr>\n    <tr>\n      <th id=\"T_18526_level0_row16\" class=\"row_heading level0 row16\" >device_category</th>\n      <td id=\"T_18526_row16_col0\" class=\"data row16 col0\" >object</td>\n      <td id=\"T_18526_row16_col1\" class=\"data row16 col1\" >3</td>\n      <td id=\"T_18526_row16_col2\" class=\"data row16 col2\" >0</td>\n      <td id=\"T_18526_row16_col3\" class=\"data row16 col3\" >0.0%</td>\n      <td id=\"T_18526_row16_col4\" class=\"data row16 col4\" >desktop</td>\n    </tr>\n    <tr>\n      <th id=\"T_18526_level0_row17\" class=\"row_heading level0 row17\" >utm_keyword</th>\n      <td id=\"T_18526_row17_col0\" class=\"data row17 col0\" >object</td>\n      <td id=\"T_18526_row17_col1\" class=\"data row17 col1\" >1143</td>\n      <td id=\"T_18526_row17_col2\" class=\"data row17 col2\" >0</td>\n      <td id=\"T_18526_row17_col3\" class=\"data row17 col3\" >0.0%</td>\n      <td id=\"T_18526_row17_col4\" class=\"data row17 col4\" >qUcotcWimEOQiboVPcCx</td>\n    </tr>\n    <tr>\n      <th id=\"T_18526_level0_row18\" class=\"row_heading level0 row18\" >utm_adcontent</th>\n      <td id=\"T_18526_row18_col0\" class=\"data row18 col0\" >object</td>\n      <td id=\"T_18526_row18_col1\" class=\"data row18 col1\" >273</td>\n      <td id=\"T_18526_row18_col2\" class=\"data row18 col2\" >0</td>\n      <td id=\"T_18526_row18_col3\" class=\"data row18 col3\" >0.0%</td>\n      <td id=\"T_18526_row18_col4\" class=\"data row18 col4\" >yYdBRbPmBMUZHXwqGxNx</td>\n    </tr>\n    <tr>\n      <th id=\"T_18526_level0_row19\" class=\"row_heading level0 row19\" >utm_campaign</th>\n      <td id=\"T_18526_row19_col0\" class=\"data row19 col0\" >object</td>\n      <td id=\"T_18526_row19_col1\" class=\"data row19 col1\" >400</td>\n      <td id=\"T_18526_row19_col2\" class=\"data row19 col2\" >0</td>\n      <td id=\"T_18526_row19_col3\" class=\"data row19 col3\" >0.0%</td>\n      <td id=\"T_18526_row19_col4\" class=\"data row19 col4\" >FTjNLDyTrXaWYgZymFkV</td>\n    </tr>\n    <tr>\n      <th id=\"T_18526_level0_row20\" class=\"row_heading level0 row20\" >utm_medium</th>\n      <td id=\"T_18526_row20_col0\" class=\"data row20 col0\" >object</td>\n      <td id=\"T_18526_row20_col1\" class=\"data row20 col1\" >50</td>\n      <td id=\"T_18526_row20_col2\" class=\"data row20 col2\" >0</td>\n      <td id=\"T_18526_row20_col3\" class=\"data row20 col3\" >0.0%</td>\n      <td id=\"T_18526_row20_col4\" class=\"data row20 col4\" >cpm</td>\n    </tr>\n    <tr>\n      <th id=\"T_18526_level0_row21\" class=\"row_heading level0 row21\" >utm_source</th>\n      <td id=\"T_18526_row21_col0\" class=\"data row21 col0\" >object</td>\n      <td id=\"T_18526_row21_col1\" class=\"data row21 col1\" >263</td>\n      <td id=\"T_18526_row21_col2\" class=\"data row21 col2\" >0</td>\n      <td id=\"T_18526_row21_col3\" class=\"data row21 col3\" >0.0%</td>\n      <td id=\"T_18526_row21_col4\" class=\"data row21 col4\" >fgymSoTvjKPEgaIJqsiH</td>\n    </tr>\n    <tr>\n      <th id=\"T_18526_level0_row22\" class=\"row_heading level0 row22\" >visit_number</th>\n      <td id=\"T_18526_row22_col0\" class=\"data row22 col0\" >int64</td>\n      <td id=\"T_18526_row22_col1\" class=\"data row22 col1\" >502</td>\n      <td id=\"T_18526_row22_col2\" class=\"data row22 col2\" >0</td>\n      <td id=\"T_18526_row22_col3\" class=\"data row22 col3\" >0.0%</td>\n      <td id=\"T_18526_row22_col4\" class=\"data row22 col4\" >1</td>\n    </tr>\n    <tr>\n      <th id=\"T_18526_level0_row23\" class=\"row_heading level0 row23\" >visit_time</th>\n      <td id=\"T_18526_row23_col0\" class=\"data row23 col0\" >object</td>\n      <td id=\"T_18526_row23_col1\" class=\"data row23 col1\" >84081</td>\n      <td id=\"T_18526_row23_col2\" class=\"data row23 col2\" >0</td>\n      <td id=\"T_18526_row23_col3\" class=\"data row23 col3\" >0.0%</td>\n      <td id=\"T_18526_row23_col4\" class=\"data row23 col4\" >18:34:37</td>\n    </tr>\n    <tr>\n      <th id=\"T_18526_level0_row24\" class=\"row_heading level0 row24\" >frequent_visitor</th>\n      <td id=\"T_18526_row24_col0\" class=\"data row24 col0\" >int32</td>\n      <td id=\"T_18526_row24_col1\" class=\"data row24 col1\" >2</td>\n      <td id=\"T_18526_row24_col2\" class=\"data row24 col2\" >0</td>\n      <td id=\"T_18526_row24_col3\" class=\"data row24 col3\" >0.0%</td>\n      <td id=\"T_18526_row24_col4\" class=\"data row24 col4\" >0</td>\n    </tr>\n  </tbody>\n</table>\n"
     },
     "metadata": {},
     "output_type": "display_data"
    }
   ],
   "source": [
    "display(explore_data_modern(X_TRAIN, 'Train'))"
   ],
   "metadata": {
    "collapsed": false,
    "ExecuteTime": {
     "end_time": "2025-07-12T08:31:52.495297Z",
     "start_time": "2025-07-12T08:31:42.887879Z"
    }
   },
   "id": "c459e8877910e864",
   "execution_count": 8
  },
  {
   "cell_type": "code",
   "outputs": [],
   "source": [
    "def finalize_model(features, cat_features, best_params, model_name=''):\n",
    "    \"\"\"\n",
    "    Финальная тренировка, тестирование и сохранение модели\n",
    "    \"\"\"\n",
    "    \n",
    "    base_dir = os.path.abspath('../data/models')\n",
    "    model_dir = os.path.join(base_dir, f\"{model_name}\")\n",
    "    os.makedirs(model_dir, exist_ok=True)\n",
    "            \n",
    "    timestamp = datetime.now().strftime(\"%Y%m%d_%H%M%S\")\n",
    "    model_path = os.path.join(model_dir, f\"model_{timestamp}.cbm\")\n",
    "    params_path = os.path.join(model_dir, f\"params_{timestamp}.json\")\n",
    "    metrics_path = os.path.join(model_dir, f\"metrics_{timestamp}.json\")\n",
    "    \n",
    "    X_train = X_TRAIN[features]\n",
    "    y_train = X_TRAIN['target']\n",
    "    X_test = X_TEST[features]\n",
    "    y_test = X_TEST['target']\n",
    "    \n",
    "    print(\"🔧 Финальные параметры модели:\")\n",
    "    for k, v in best_params.items():\n",
    "        print(f\"{k}: {v}\")\n",
    "\n",
    "    # 2. Обучение финальной модели\n",
    "    print(\"\\n🚀 Обучение финальной модели на всех тренировочных данных...\")\n",
    "    final_model = CatBoostClassifier(**best_params)\n",
    "    final_model.fit(\n",
    "        Pool(X_train[features], y_train, cat_features=cat_features),\n",
    "        plot=True\n",
    "    )\n",
    "    \n",
    "    # 3. Тестирование на отложенной выборке\n",
    "    print(\"\\n🧪 Тестирование на отложенной выборке...\")\n",
    "    test_pred = final_model.predict_proba(X_test[features])[:, 1]\n",
    "    test_auc = roc_auc_score(y_test, test_pred)\n",
    "    \n",
    "    # Дополнительные метрики\n",
    "    test_report = classification_report(\n",
    "        y_test, \n",
    "        final_model.predict(X_test[features]),\n",
    "        output_dict=True\n",
    "    )\n",
    "    \n",
    "    # 4. Сохранение артефактов\n",
    "    final_model.save_model(model_path)\n",
    "        \n",
    "    metadata = {\n",
    "        'features': features,\n",
    "        'cat_features': cat_features,\n",
    "        'params': best_params,\n",
    "        'performance': {\n",
    "            'test_auc': float(test_auc),  # Преобразуем numpy.float64\n",
    "            'classification_report': test_report,\n",
    "            'timestamp': timestamp\n",
    "        }\n",
    "    }\n",
    "\n",
    "    with open(params_path, 'w', encoding='utf-8') as f:\n",
    "        json.dump(metadata, f, indent=4, ensure_ascii=False)\n",
    "\n",
    "    with open(metrics_path, 'w', encoding='utf-8') as f:\n",
    "        json.dump({\n",
    "            'test_auc': float(test_auc),\n",
    "            'classification_report': test_report\n",
    "        }, f, indent=4, ensure_ascii=False)\n",
    "    \n",
    "    # 5. Отчет о результатах\n",
    "    print(f\"\\n📊 Результаты на тестовых данных:\")\n",
    "    print(f\"- ROC-AUC: {test_auc:.4f}\")\n",
    "    print(\"\\n📝 Classification Report:\")\n",
    "    print(classification_report(y_test, final_model.predict(X_test[features])))\n",
    "    \n",
    "    print(f\"\\n💾 Сохраненные артефакты:\")\n",
    "    print(f\"- Модель: {model_path}\")\n",
    "    print(f\"- Параметры: {params_path}\")\n",
    "    print(f\"- Метрики: {metrics_path}\")\n",
    "    \n",
    "    return final_model, metadata\n"
   ],
   "metadata": {
    "collapsed": false,
    "ExecuteTime": {
     "end_time": "2025-07-12T09:43:00.632311Z",
     "start_time": "2025-07-12T09:43:00.621336Z"
    }
   },
   "id": "3d4115ec1129a70d",
   "execution_count": 34
  },
  {
   "cell_type": "code",
   "outputs": [],
   "source": [
    "loads_params = load_latest_params()"
   ],
   "metadata": {
    "collapsed": false,
    "ExecuteTime": {
     "end_time": "2025-07-12T09:43:02.351587Z",
     "start_time": "2025-07-12T09:43:02.347099Z"
    }
   },
   "id": "57aab7c01b609b77",
   "execution_count": 35
  },
  {
   "cell_type": "code",
   "outputs": [],
   "source": [
    "param_features = ['utm_source', 'utm_medium', 'device_brand', 'visit_number', 'utm_campaign', 'utm_keyword']\n",
    "category_features = ['utm_source', 'utm_medium', 'device_brand', 'utm_campaign', 'utm_keyword']"
   ],
   "metadata": {
    "collapsed": false,
    "ExecuteTime": {
     "end_time": "2025-07-12T09:43:03.002963Z",
     "start_time": "2025-07-12T09:43:02.998864Z"
    }
   },
   "id": "951d5c43460cfb05",
   "execution_count": 36
  },
  {
   "cell_type": "code",
   "outputs": [
    {
     "name": "stdout",
     "output_type": "stream",
     "text": [
      "🔧 Финальные параметры модели:\n",
      "iterations: 672\n",
      "depth: 8\n",
      "learning_rate: 0.08743604703974947\n",
      "l2_leaf_reg: 4\n",
      "random_seed: 42\n",
      "task_type: GPU\n",
      "devices: 0\n",
      "auto_class_weights: Balanced\n",
      "verbose: 0\n",
      "\n",
      "🚀 Обучение финальной модели на всех тренировочных данных...\n"
     ]
    },
    {
     "data": {
      "text/plain": "MetricVisualizer(layout=Layout(align_self='stretch', height='500px'))",
      "application/vnd.jupyter.widget-view+json": {
       "version_major": 2,
       "version_minor": 0,
       "model_id": "d7733fa72b4e4c55823b1981c2668c75"
      }
     },
     "metadata": {},
     "output_type": "display_data"
    },
    {
     "name": "stdout",
     "output_type": "stream",
     "text": [
      "\n",
      "🧪 Тестирование на отложенной выборке...\n",
      "\n",
      "📊 Результаты на тестовых данных:\n",
      "- ROC-AUC: 0.7041\n",
      "\n",
      "📝 Classification Report:\n",
      "              precision    recall  f1-score   support\n",
      "\n",
      "           0       0.99      0.60      0.75    340308\n",
      "           1       0.03      0.69      0.06      6146\n",
      "\n",
      "    accuracy                           0.60    346454\n",
      "   macro avg       0.51      0.64      0.40    346454\n",
      "weighted avg       0.97      0.60      0.73    346454\n",
      "\n",
      "\n",
      "💾 Сохраненные артефакты:\n",
      "- Модель: F:\\Projects\\tgu\\hahaton25_2\\sberautopodpiska\\data\\models\\base\\model_20250712_134303.cbm\n",
      "- Параметры: F:\\Projects\\tgu\\hahaton25_2\\sberautopodpiska\\data\\models\\base\\params_20250712_134303_params.json\n",
      "- Метрики: F:\\Projects\\tgu\\hahaton25_2\\sberautopodpiska\\data\\models\\base\\metrics_20250712_134303_metrics.json\n"
     ]
    },
    {
     "data": {
      "text/plain": "(<catboost.core.CatBoostClassifier at 0x1c44b3c16a0>,\n {'features': ['utm_source',\n   'utm_medium',\n   'device_brand',\n   'visit_number',\n   'utm_campaign',\n   'utm_keyword'],\n  'cat_features': ['utm_source',\n   'utm_medium',\n   'device_brand',\n   'utm_campaign',\n   'utm_keyword'],\n  'params': {'iterations': 672,\n   'depth': 8,\n   'learning_rate': 0.08743604703974947,\n   'l2_leaf_reg': 4,\n   'random_seed': 42,\n   'task_type': 'GPU',\n   'devices': '0',\n   'auto_class_weights': 'Balanced',\n   'verbose': 0},\n  'performance': {'test_auc': 0.7040858148213516,\n   'classification_report': {'0': {'precision': 0.9906830636965285,\n     'recall': 0.5986665021098534,\n     'f1-score': 0.7463289098918409,\n     'support': 340308.0},\n    '1': {'precision': 0.03004112011476702,\n     'recall': 0.688252521965506,\n     'f1-score': 0.05756942695964016,\n     'support': 6146.0},\n    'accuracy': 0.6002557338059309,\n    'macro avg': {'precision': 0.5103620919056477,\n     'recall': 0.6434595120376797,\n     'f1-score': 0.4019491684257405,\n     'support': 346454.0},\n    'weighted avg': {'precision': 0.9736415361481281,\n     'recall': 0.6002557338059309,\n     'f1-score': 0.7341105034595258,\n     'support': 346454.0}},\n   'timestamp': '20250712_134303'}})"
     },
     "execution_count": 37,
     "metadata": {},
     "output_type": "execute_result"
    }
   ],
   "source": [
    "finalize_model(param_features, category_features, loads_params, 'base')"
   ],
   "metadata": {
    "collapsed": false,
    "ExecuteTime": {
     "end_time": "2025-07-12T09:44:35.673752Z",
     "start_time": "2025-07-12T09:43:03.813491Z"
    }
   },
   "id": "7aab0fd63fd4c250",
   "execution_count": 37
  },
  {
   "cell_type": "code",
   "outputs": [],
   "source": [
    "param_features = ['utm_source', 'utm_medium', 'device_brand', 'visit_number', 'utm_campaign', 'has_utm_keyword']\n",
    "category_features = ['utm_source', 'utm_medium', 'device_brand', 'utm_campaign']"
   ],
   "metadata": {
    "collapsed": false,
    "ExecuteTime": {
     "end_time": "2025-07-12T09:44:41.894488Z",
     "start_time": "2025-07-12T09:44:41.890380Z"
    }
   },
   "id": "6c5c2dc4ce21d8bd",
   "execution_count": 38
  },
  {
   "cell_type": "code",
   "outputs": [
    {
     "name": "stdout",
     "output_type": "stream",
     "text": [
      "🔧 Финальные параметры модели:\n",
      "iterations: 672\n",
      "depth: 8\n",
      "learning_rate: 0.08743604703974947\n",
      "l2_leaf_reg: 4\n",
      "random_seed: 42\n",
      "task_type: GPU\n",
      "devices: 0\n",
      "auto_class_weights: Balanced\n",
      "verbose: 0\n",
      "\n",
      "🚀 Обучение финальной модели на всех тренировочных данных...\n"
     ]
    },
    {
     "data": {
      "text/plain": "MetricVisualizer(layout=Layout(align_self='stretch', height='500px'))",
      "application/vnd.jupyter.widget-view+json": {
       "version_major": 2,
       "version_minor": 0,
       "model_id": "4826bcf9f65a4a4ca28ef1c22121f317"
      }
     },
     "metadata": {},
     "output_type": "display_data"
    },
    {
     "name": "stdout",
     "output_type": "stream",
     "text": [
      "\n",
      "🧪 Тестирование на отложенной выборке...\n",
      "\n",
      "📊 Результаты на тестовых данных:\n",
      "- ROC-AUC: 0.7047\n",
      "\n",
      "📝 Classification Report:\n",
      "              precision    recall  f1-score   support\n",
      "\n",
      "           0       0.99      0.61      0.75    340308\n",
      "           1       0.03      0.68      0.06      6146\n",
      "\n",
      "    accuracy                           0.61    346454\n",
      "   macro avg       0.51      0.64      0.41    346454\n",
      "weighted avg       0.97      0.61      0.74    346454\n",
      "\n",
      "\n",
      "💾 Сохраненные артефакты:\n",
      "- Модель: F:\\Projects\\tgu\\hahaton25_2\\sberautopodpiska\\data\\models\\has_keyword\\model_20250712_134442.cbm\n",
      "- Параметры: F:\\Projects\\tgu\\hahaton25_2\\sberautopodpiska\\data\\models\\has_keyword\\params_20250712_134442_params.json\n",
      "- Метрики: F:\\Projects\\tgu\\hahaton25_2\\sberautopodpiska\\data\\models\\has_keyword\\metrics_20250712_134442_metrics.json\n"
     ]
    },
    {
     "data": {
      "text/plain": "(<catboost.core.CatBoostClassifier at 0x1c44b3c15e0>,\n {'features': ['utm_source',\n   'utm_medium',\n   'device_brand',\n   'visit_number',\n   'utm_campaign',\n   'has_utm_keyword'],\n  'cat_features': ['utm_source', 'utm_medium', 'device_brand', 'utm_campaign'],\n  'params': {'iterations': 672,\n   'depth': 8,\n   'learning_rate': 0.08743604703974947,\n   'l2_leaf_reg': 4,\n   'random_seed': 42,\n   'task_type': 'GPU',\n   'devices': '0',\n   'auto_class_weights': 'Balanced',\n   'verbose': 0},\n  'performance': {'test_auc': 0.7046656957118546,\n   'classification_report': {'0': {'precision': 0.9906134136573153,\n     'recall': 0.6068972812863641,\n     'f1-score': 0.7526717529432558,\n     'support': 340308.0},\n    '1': {'precision': 0.0303627731671076,\n     'recall': 0.6815815164334527,\n     'f1-score': 0.05813574258731117,\n     'support': 6146.0},\n    'accuracy': 0.6082221593631478,\n    'macro avg': {'precision': 0.5104880934122115,\n     'recall': 0.6442393988599084,\n     'f1-score': 0.4054037477652835,\n     'support': 346454.0},\n    'weighted avg': {'precision': 0.9735788277196358,\n     'recall': 0.6082221593631478,\n     'f1-score': 0.7403508724810657,\n     'support': 346454.0}},\n   'timestamp': '20250712_134442'}})"
     },
     "execution_count": 39,
     "metadata": {},
     "output_type": "execute_result"
    }
   ],
   "source": [
    "finalize_model(param_features, category_features, loads_params, 'has_keyword')"
   ],
   "metadata": {
    "collapsed": false,
    "ExecuteTime": {
     "end_time": "2025-07-12T09:46:15.609094Z",
     "start_time": "2025-07-12T09:44:42.704440Z"
    }
   },
   "id": "e1a5b15f11e4b7a",
   "execution_count": 39
  },
  {
   "cell_type": "code",
   "outputs": [],
   "source": [
    "param_features = ['utm_source', 'utm_medium', 'device_brand', 'is_returning', 'utm_campaign', 'has_utm_keyword']\n",
    "category_features = ['utm_source', 'utm_medium', 'device_brand', 'utm_campaign']"
   ],
   "metadata": {
    "collapsed": false,
    "ExecuteTime": {
     "end_time": "2025-07-12T09:47:55.497142Z",
     "start_time": "2025-07-12T09:47:55.493379Z"
    }
   },
   "id": "5267ea70eca2aa89",
   "execution_count": 40
  },
  {
   "cell_type": "code",
   "outputs": [
    {
     "name": "stdout",
     "output_type": "stream",
     "text": [
      "🔧 Финальные параметры модели:\n",
      "iterations: 672\n",
      "depth: 8\n",
      "learning_rate: 0.08743604703974947\n",
      "l2_leaf_reg: 4\n",
      "random_seed: 42\n",
      "task_type: GPU\n",
      "devices: 0\n",
      "auto_class_weights: Balanced\n",
      "verbose: 0\n",
      "\n",
      "🚀 Обучение финальной модели на всех тренировочных данных...\n"
     ]
    },
    {
     "data": {
      "text/plain": "MetricVisualizer(layout=Layout(align_self='stretch', height='500px'))",
      "application/vnd.jupyter.widget-view+json": {
       "version_major": 2,
       "version_minor": 0,
       "model_id": "c8aa419cb75e4c2a97e430354edb1c99"
      }
     },
     "metadata": {},
     "output_type": "display_data"
    },
    {
     "name": "stdout",
     "output_type": "stream",
     "text": [
      "\n",
      "🧪 Тестирование на отложенной выборке...\n",
      "\n",
      "📊 Результаты на тестовых данных:\n",
      "- ROC-AUC: 0.7004\n",
      "\n",
      "📝 Classification Report:\n",
      "              precision    recall  f1-score   support\n",
      "\n",
      "           0       0.99      0.58      0.73    340308\n",
      "           1       0.03      0.70      0.06      6146\n",
      "\n",
      "    accuracy                           0.58    346454\n",
      "   macro avg       0.51      0.64      0.39    346454\n",
      "weighted avg       0.97      0.58      0.72    346454\n",
      "\n",
      "\n",
      "💾 Сохраненные артефакты:\n",
      "- Модель: F:\\Projects\\tgu\\hahaton25_2\\sberautopodpiska\\data\\models\\is_returning\\model_20250712_134756.cbm\n",
      "- Параметры: F:\\Projects\\tgu\\hahaton25_2\\sberautopodpiska\\data\\models\\is_returning\\params_20250712_134756_params.json\n",
      "- Метрики: F:\\Projects\\tgu\\hahaton25_2\\sberautopodpiska\\data\\models\\is_returning\\metrics_20250712_134756_metrics.json\n"
     ]
    },
    {
     "data": {
      "text/plain": "(<catboost.core.CatBoostClassifier at 0x1c44b3c0a40>,\n {'features': ['utm_source',\n   'utm_medium',\n   'device_brand',\n   'is_returning',\n   'utm_campaign',\n   'has_utm_keyword'],\n  'cat_features': ['utm_source', 'utm_medium', 'device_brand', 'utm_campaign'],\n  'params': {'iterations': 672,\n   'depth': 8,\n   'learning_rate': 0.08743604703974947,\n   'l2_leaf_reg': 4,\n   'random_seed': 42,\n   'task_type': 'GPU',\n   'devices': '0',\n   'auto_class_weights': 'Balanced',\n   'verbose': 0},\n  'performance': {'test_auc': 0.7003967051500954,\n   'classification_report': {'0': {'precision': 0.9907898240871474,\n     'recall': 0.5794339245624552,\n     'f1-score': 0.7312298475692854,\n     'support': 340308.0},\n    '1': {'precision': 0.029253569369552684,\n     'recall': 0.701757240481614,\n     'f1-score': 0.05616580175933221,\n     'support': 6146.0},\n    'accuracy': 0.5816039070121863,\n    'macro avg': {'precision': 0.5100216967283501,\n     'recall': 0.6405955825220346,\n     'f1-score': 0.3936978246643088,\n     'support': 346454.0},\n    'weighted avg': {'precision': 0.9737324317017388,\n     'recall': 0.5816039070121864,\n     'f1-score': 0.7192543944772503,\n     'support': 346454.0}},\n   'timestamp': '20250712_134756'}})"
     },
     "execution_count": 41,
     "metadata": {},
     "output_type": "execute_result"
    }
   ],
   "source": [
    "finalize_model(param_features, category_features, loads_params, 'is_returning')"
   ],
   "metadata": {
    "collapsed": false,
    "ExecuteTime": {
     "end_time": "2025-07-12T09:49:17.138131Z",
     "start_time": "2025-07-12T09:47:56.479153Z"
    }
   },
   "id": "23024e1f2e043f1",
   "execution_count": 41
  },
  {
   "cell_type": "markdown",
   "source": [],
   "metadata": {
    "collapsed": false
   },
   "id": "9502248601d4a098"
  },
  {
   "cell_type": "code",
   "outputs": [],
   "source": [
    "del X_TRAIN, X_TEST"
   ],
   "metadata": {
    "collapsed": false,
    "ExecuteTime": {
     "end_time": "2025-07-12T08:31:22.228172Z",
     "start_time": "2025-07-12T08:31:22.107584Z"
    }
   },
   "id": "38e021fa90104dda",
   "execution_count": 4
  },
  {
   "cell_type": "code",
   "outputs": [],
   "source": [],
   "metadata": {
    "collapsed": false
   },
   "id": "b57a75d4a39b5902"
  }
 ],
 "metadata": {
  "kernelspec": {
   "display_name": "Python 3",
   "language": "python",
   "name": "python3"
  },
  "language_info": {
   "codemirror_mode": {
    "name": "ipython",
    "version": 2
   },
   "file_extension": ".py",
   "mimetype": "text/x-python",
   "name": "python",
   "nbconvert_exporter": "python",
   "pygments_lexer": "ipython2",
   "version": "2.7.6"
  }
 },
 "nbformat": 4,
 "nbformat_minor": 5
}
