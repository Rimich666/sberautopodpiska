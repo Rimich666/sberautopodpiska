{
 "cells": [
  {
   "cell_type": "markdown",
   "source": [
    "# 📊 EDA для «СберАвтоподписки» — Первичный анализ данных\n",
    "**Что делаем:**\n",
    "1. Смотрим на структуру данных.\n",
    "2. Проверяем пропуски и аномалии.\n",
    "3. Анализируем целевые события (конверсии)."
   ],
   "metadata": {
    "collapsed": false
   },
   "id": "ffbc05662aa0440d"
  },
  {
   "cell_type": "code",
   "outputs": [],
   "source": [
    "import pandas as pd\n",
    "import numpy as np\n",
    "import matplotlib.pyplot as plt\n",
    "import seaborn as sns\n",
    "import os\n",
    "from pathlib import Path"
   ],
   "metadata": {
    "collapsed": false,
    "ExecuteTime": {
     "end_time": "2025-07-07T10:44:39.298296Z",
     "start_time": "2025-07-07T10:44:39.294216Z"
    }
   },
   "id": "ffc97b7ae7617ee1",
   "execution_count": 1
  },
  {
   "cell_type": "markdown",
   "source": [
    "Настройки отображения"
   ],
   "metadata": {
    "collapsed": false
   },
   "id": "2d84d58afb37fcf0"
  },
  {
   "cell_type": "code",
   "outputs": [],
   "source": [
    "pd.set_option('display.max_columns', 50)\n",
    "plt.style.use('ggplot') "
   ],
   "metadata": {
    "collapsed": false,
    "ExecuteTime": {
     "end_time": "2025-07-07T10:44:44.304345Z",
     "start_time": "2025-07-07T10:44:44.300886Z"
    }
   },
   "id": "b38d5af3d3914aa7",
   "execution_count": 2
  },
  {
   "cell_type": "markdown",
   "source": [
    "Загрузка данных"
   ],
   "metadata": {
    "collapsed": false
   },
   "id": "27a1b75c339b2281"
  },
  {
   "cell_type": "code",
   "outputs": [
    {
     "name": "stdout",
     "output_type": "stream",
     "text": [
      "✅ Данные загружены!\n",
      "Сессии: 1860042 строк, 18 колонок\n",
      "События: 15726470 строк, 11 колонок\n"
     ]
    }
   ],
   "source": [
    "try:\n",
    "    sessions = pd.read_pickle('../data/raw/ga_sessions.pkl')\n",
    "    hits = pd.read_pickle('../data/raw/ga_hits.pkl')\n",
    "    print(\"✅ Данные загружены!\")\n",
    "    print(f\"Сессии: {sessions.shape[0]} строк, {sessions.shape[1]} колонок\")\n",
    "    print(f\"События: {hits.shape[0]} строк, {hits.shape[1]} колонок\")\n",
    "except Exception as e:\n",
    "    print(f\"❌ Ошибка: {e}\")"
   ],
   "metadata": {
    "collapsed": false,
    "ExecuteTime": {
     "end_time": "2025-07-07T10:50:00.110734Z",
     "start_time": "2025-07-07T10:44:48.676107Z"
    }
   },
   "id": "37fdc25c914b533a",
   "execution_count": 3
  },
  {
   "cell_type": "markdown",
   "source": [
    "## 2. Обзор данных"
   ],
   "metadata": {
    "collapsed": false
   },
   "id": "f1562534b839c590"
  },
  {
   "cell_type": "code",
   "outputs": [],
   "source": [
    "def head_to_file(df, file_name):\n",
    "    df.head(10).to_csv(f'../data/temp/{file_name}_head.csv', index=False)    "
   ],
   "metadata": {
    "collapsed": false,
    "ExecuteTime": {
     "end_time": "2025-07-07T10:52:56.403413Z",
     "start_time": "2025-07-07T10:52:56.394986Z"
    }
   },
   "id": "f26f25a99aae8731",
   "execution_count": 4
  },
  {
   "cell_type": "code",
   "outputs": [],
   "source": [
    "def explore_data(df, name, n=5):\n",
    "    print(f\"\\n🔍 Анализ: {name}\")\n",
    "    print(f\"\\nПервые {n} строк:\")\n",
    "    display(df.head(n))\n",
    "    print(\"\\nИнформация о колонках:\")\n",
    "    print(df.info())\n",
    "    # print(\"\\nПропуски:\")\n",
    "    # print(df.isnull().sum().sort_values(ascending=False))\n",
    "    # print(\"\\nПримеры уникальных значений:\")\n",
    "    # for col in df.columns[:3]:  # Смотрим первые 3 колонки\n",
    "    #     print(f\"{col}: {df[col].nunique()} уникальных значений\")\n",
    "        \n",
    "def explore_data_modern(df, name):\n",
    "    print(f\"\\n🔍 Анализ датафрейма: {name}\")\n",
    "    \n",
    "    # Создаем сводную таблицу с характеристиками\n",
    "    analysis = pd.DataFrame({\n",
    "        'Тип данных': df.dtypes,\n",
    "        'Уникальных': df.nunique(),\n",
    "        'Пропусков': df.isnull().sum(),\n",
    "        '% Пропусков': (df.isnull().mean() * 100).round(1),\n",
    "        'Пример значения': df.iloc[0] if len(df) > 0 else None\n",
    "    }).sort_values('Пропусков', ascending=False)\n",
    "    \n",
    "    # Стилизация таблицы\n",
    "    styled_analysis = analysis.style \\\n",
    "        .background_gradient(subset=['Пропусков', '% Пропусков'], cmap='Reds') \\\n",
    "        .format({'% Пропусков': '{:.1f}%'})\n",
    "    \n",
    "    # Выводим результаты\n",
    "    print(\"\\n📊 Основные характеристики колонок:\")\n",
    "    display(styled_analysis)\n",
    "\n",
    "    return analysis\n",
    "\n",
    "def print_unique(df, column):\n",
    "    for i, value in enumerate(df[column].unique(), 1):\n",
    "        print(f\"{i}. {value}\")\n",
    "    \n",
    "    "
   ],
   "metadata": {
    "collapsed": false,
    "ExecuteTime": {
     "end_time": "2025-07-07T10:52:57.431316Z",
     "start_time": "2025-07-07T10:52:57.421778Z"
    }
   },
   "id": "c9844ab2b7647f40",
   "execution_count": 5
  },
  {
   "cell_type": "markdown",
   "source": [
    "## Выдернем данные касаемые девайса для последующего заполнения бренда"
   ],
   "metadata": {
    "collapsed": false
   },
   "id": "49c6727bf01f03fc"
  },
  {
   "cell_type": "code",
   "outputs": [
    {
     "name": "stdout",
     "output_type": "stream",
     "text": [
      "Найдено строк с пропущенным брендом: 118678\n"
     ]
    }
   ],
   "source": [
    "missing_brand = sessions[sessions['device_brand'].isna()]\n",
    "\n",
    "# Отбираем нужные колонки\n",
    "device_cols = ['device_category', 'device_os', 'device_screen_resolution', 'device_browser', 'device_brand', 'device_model']\n",
    "missing_devices = missing_brand[device_cols].copy()\n",
    "\n",
    "missing_devices['original_index'] = missing_brand.index\n",
    "\n",
    "missing_devices.to_pickle('../data/temp/missing_devices.pkl')\n",
    "print(f\"Найдено строк с пропущенным брендом: {len(missing_devices)}\")"
   ],
   "metadata": {
    "collapsed": false,
    "ExecuteTime": {
     "end_time": "2025-07-07T10:53:06.626933Z",
     "start_time": "2025-07-07T10:53:06.122205Z"
    }
   },
   "id": "54bf0f87a76b96e5",
   "execution_count": 6
  },
  {
   "cell_type": "code",
   "outputs": [
    {
     "name": "stdout",
     "output_type": "stream",
     "text": [
      "\n",
      "🔍 Анализ датафрейма: missing_devices\n",
      "\n",
      "📊 Основные характеристики колонок:\n"
     ]
    },
    {
     "data": {
      "text/plain": "<pandas.io.formats.style.Styler at 0x19873387290>",
      "text/html": "<style type=\"text/css\">\n#T_d2e17_row0_col2, #T_d2e17_row0_col3, #T_d2e17_row1_col2, #T_d2e17_row1_col3 {\n  background-color: #67000d;\n  color: #f1f1f1;\n}\n#T_d2e17_row2_col2, #T_d2e17_row2_col3, #T_d2e17_row3_col2, #T_d2e17_row3_col3, #T_d2e17_row4_col2, #T_d2e17_row4_col3, #T_d2e17_row5_col2, #T_d2e17_row5_col3, #T_d2e17_row6_col2, #T_d2e17_row6_col3 {\n  background-color: #fff5f0;\n  color: #000000;\n}\n</style>\n<table id=\"T_d2e17\">\n  <thead>\n    <tr>\n      <th class=\"blank level0\" >&nbsp;</th>\n      <th id=\"T_d2e17_level0_col0\" class=\"col_heading level0 col0\" >Тип данных</th>\n      <th id=\"T_d2e17_level0_col1\" class=\"col_heading level0 col1\" >Уникальных</th>\n      <th id=\"T_d2e17_level0_col2\" class=\"col_heading level0 col2\" >Пропусков</th>\n      <th id=\"T_d2e17_level0_col3\" class=\"col_heading level0 col3\" >% Пропусков</th>\n      <th id=\"T_d2e17_level0_col4\" class=\"col_heading level0 col4\" >Пример значения</th>\n    </tr>\n  </thead>\n  <tbody>\n    <tr>\n      <th id=\"T_d2e17_level0_row0\" class=\"row_heading level0 row0\" >device_brand</th>\n      <td id=\"T_d2e17_row0_col0\" class=\"data row0 col0\" >object</td>\n      <td id=\"T_d2e17_row0_col1\" class=\"data row0 col1\" >0</td>\n      <td id=\"T_d2e17_row0_col2\" class=\"data row0 col2\" >118678</td>\n      <td id=\"T_d2e17_row0_col3\" class=\"data row0 col3\" >100.0%</td>\n      <td id=\"T_d2e17_row0_col4\" class=\"data row0 col4\" >None</td>\n    </tr>\n    <tr>\n      <th id=\"T_d2e17_level0_row1\" class=\"row_heading level0 row1\" >device_model</th>\n      <td id=\"T_d2e17_row1_col0\" class=\"data row1 col0\" >object</td>\n      <td id=\"T_d2e17_row1_col1\" class=\"data row1 col1\" >0</td>\n      <td id=\"T_d2e17_row1_col2\" class=\"data row1 col2\" >118678</td>\n      <td id=\"T_d2e17_row1_col3\" class=\"data row1 col3\" >100.0%</td>\n      <td id=\"T_d2e17_row1_col4\" class=\"data row1 col4\" >nan</td>\n    </tr>\n    <tr>\n      <th id=\"T_d2e17_level0_row2\" class=\"row_heading level0 row2\" >device_category</th>\n      <td id=\"T_d2e17_row2_col0\" class=\"data row2 col0\" >object</td>\n      <td id=\"T_d2e17_row2_col1\" class=\"data row2 col1\" >3</td>\n      <td id=\"T_d2e17_row2_col2\" class=\"data row2 col2\" >0</td>\n      <td id=\"T_d2e17_row2_col3\" class=\"data row2 col3\" >0.0%</td>\n      <td id=\"T_d2e17_row2_col4\" class=\"data row2 col4\" >desktop</td>\n    </tr>\n    <tr>\n      <th id=\"T_d2e17_level0_row3\" class=\"row_heading level0 row3\" >device_os</th>\n      <td id=\"T_d2e17_row3_col0\" class=\"data row3 col0\" >object</td>\n      <td id=\"T_d2e17_row3_col1\" class=\"data row3 col1\" >5</td>\n      <td id=\"T_d2e17_row3_col2\" class=\"data row3 col2\" >0</td>\n      <td id=\"T_d2e17_row3_col3\" class=\"data row3 col3\" >0.0%</td>\n      <td id=\"T_d2e17_row3_col4\" class=\"data row3 col4\" >Windows</td>\n    </tr>\n    <tr>\n      <th id=\"T_d2e17_level0_row4\" class=\"row_heading level0 row4\" >device_screen_resolution</th>\n      <td id=\"T_d2e17_row4_col0\" class=\"data row4 col0\" >object</td>\n      <td id=\"T_d2e17_row4_col1\" class=\"data row4 col1\" >1038</td>\n      <td id=\"T_d2e17_row4_col2\" class=\"data row4 col2\" >0</td>\n      <td id=\"T_d2e17_row4_col3\" class=\"data row4 col3\" >0.0%</td>\n      <td id=\"T_d2e17_row4_col4\" class=\"data row4 col4\" >1536x864</td>\n    </tr>\n    <tr>\n      <th id=\"T_d2e17_level0_row5\" class=\"row_heading level0 row5\" >device_browser</th>\n      <td id=\"T_d2e17_row5_col0\" class=\"data row5 col0\" >object</td>\n      <td id=\"T_d2e17_row5_col1\" class=\"data row5 col1\" >24</td>\n      <td id=\"T_d2e17_row5_col2\" class=\"data row5 col2\" >0</td>\n      <td id=\"T_d2e17_row5_col3\" class=\"data row5 col3\" >0.0%</td>\n      <td id=\"T_d2e17_row5_col4\" class=\"data row5 col4\" >Chrome</td>\n    </tr>\n    <tr>\n      <th id=\"T_d2e17_level0_row6\" class=\"row_heading level0 row6\" >original_index</th>\n      <td id=\"T_d2e17_row6_col0\" class=\"data row6 col0\" >int64</td>\n      <td id=\"T_d2e17_row6_col1\" class=\"data row6 col1\" >118678</td>\n      <td id=\"T_d2e17_row6_col2\" class=\"data row6 col2\" >0</td>\n      <td id=\"T_d2e17_row6_col3\" class=\"data row6 col3\" >0.0%</td>\n      <td id=\"T_d2e17_row6_col4\" class=\"data row6 col4\" >28</td>\n    </tr>\n  </tbody>\n</table>\n"
     },
     "metadata": {},
     "output_type": "display_data"
    },
    {
     "data": {
      "text/plain": "                         Тип данных  Уникальных  Пропусков  % Пропусков  \\\ndevice_brand                 object           0     118678        100.0   \ndevice_model                 object           0     118678        100.0   \ndevice_category              object           3          0          0.0   \ndevice_os                    object           5          0          0.0   \ndevice_screen_resolution     object        1038          0          0.0   \ndevice_browser               object          24          0          0.0   \noriginal_index                int64      118678          0          0.0   \n\n                         Пример значения  \ndevice_brand                        None  \ndevice_model                         NaN  \ndevice_category                  desktop  \ndevice_os                        Windows  \ndevice_screen_resolution        1536x864  \ndevice_browser                    Chrome  \noriginal_index                        28  ",
      "text/html": "<div>\n<style scoped>\n    .dataframe tbody tr th:only-of-type {\n        vertical-align: middle;\n    }\n\n    .dataframe tbody tr th {\n        vertical-align: top;\n    }\n\n    .dataframe thead th {\n        text-align: right;\n    }\n</style>\n<table border=\"1\" class=\"dataframe\">\n  <thead>\n    <tr style=\"text-align: right;\">\n      <th></th>\n      <th>Тип данных</th>\n      <th>Уникальных</th>\n      <th>Пропусков</th>\n      <th>% Пропусков</th>\n      <th>Пример значения</th>\n    </tr>\n  </thead>\n  <tbody>\n    <tr>\n      <th>device_brand</th>\n      <td>object</td>\n      <td>0</td>\n      <td>118678</td>\n      <td>100.0</td>\n      <td>None</td>\n    </tr>\n    <tr>\n      <th>device_model</th>\n      <td>object</td>\n      <td>0</td>\n      <td>118678</td>\n      <td>100.0</td>\n      <td>NaN</td>\n    </tr>\n    <tr>\n      <th>device_category</th>\n      <td>object</td>\n      <td>3</td>\n      <td>0</td>\n      <td>0.0</td>\n      <td>desktop</td>\n    </tr>\n    <tr>\n      <th>device_os</th>\n      <td>object</td>\n      <td>5</td>\n      <td>0</td>\n      <td>0.0</td>\n      <td>Windows</td>\n    </tr>\n    <tr>\n      <th>device_screen_resolution</th>\n      <td>object</td>\n      <td>1038</td>\n      <td>0</td>\n      <td>0.0</td>\n      <td>1536x864</td>\n    </tr>\n    <tr>\n      <th>device_browser</th>\n      <td>object</td>\n      <td>24</td>\n      <td>0</td>\n      <td>0.0</td>\n      <td>Chrome</td>\n    </tr>\n    <tr>\n      <th>original_index</th>\n      <td>int64</td>\n      <td>118678</td>\n      <td>0</td>\n      <td>0.0</td>\n      <td>28</td>\n    </tr>\n  </tbody>\n</table>\n</div>"
     },
     "execution_count": 7,
     "metadata": {},
     "output_type": "execute_result"
    }
   ],
   "source": [
    "explore_data_modern(missing_devices, 'missing_devices')"
   ],
   "metadata": {
    "collapsed": false,
    "ExecuteTime": {
     "end_time": "2025-07-07T10:53:13.020464Z",
     "start_time": "2025-07-07T10:53:12.426840Z"
    }
   },
   "id": "8759b34ef699ca13",
   "execution_count": 7
  },
  {
   "cell_type": "code",
   "outputs": [
    {
     "name": "stdout",
     "output_type": "stream",
     "text": [
      "device_category\n",
      "desktop    118585\n",
      "mobile         76\n",
      "tablet         17\n",
      "Name: count, dtype: int64\n"
     ]
    }
   ],
   "source": [
    "print(missing_devices['device_category'].value_counts())"
   ],
   "metadata": {
    "collapsed": false,
    "ExecuteTime": {
     "end_time": "2025-07-07T10:53:24.205556Z",
     "start_time": "2025-07-07T10:53:24.173168Z"
    }
   },
   "id": "99726eff48fd5dbc",
   "execution_count": 8
  },
  {
   "cell_type": "code",
   "outputs": [
    {
     "name": "stdout",
     "output_type": "stream",
     "text": [
      "\n",
      "🔍 Анализ: Сессии (ga_sessions)\n",
      "\n",
      "Первые 5 строк:\n"
     ]
    },
    {
     "data": {
      "text/plain": "                                  session_id              client_id  \\\n0  9055434745589932991.1637753792.1637753792  2108382700.1637753791   \n1   905544597018549464.1636867290.1636867290   210838531.1636867288   \n2  9055446045651783499.1640648526.1640648526  2108385331.1640648523   \n3  9055447046360770272.1622255328.1622255328  2108385564.1622255328   \n4  9055447046360770272.1622255345.1622255345  2108385564.1622255328   \n\n   visit_date visit_time  visit_number            utm_source utm_medium  \\\n0  2021-11-24   14:36:32             1  ZpYIoDJMcFzVoPFsHGJL     banner   \n1  2021-11-14   08:21:30             1  MvfHsxITijuriZxsqZqt        cpm   \n2  2021-12-28   02:42:06             1  ZpYIoDJMcFzVoPFsHGJL     banner   \n3  2021-05-29   05:00:00             1  kjsLglQLzykiRbcDiGcD        cpc   \n4  2021-05-29   05:00:00             2  kjsLglQLzykiRbcDiGcD        cpc   \n\n           utm_campaign         utm_adcontent           utm_keyword  \\\n0  LEoPHuyFvzoNfnzGgfcd  vCIpmpaGBnIQhyYNkXqp  puhZPIYqKXeFPaUviSjo   \n1  FTjNLDyTrXaWYgZymFkV  xhoenQgDQsgfEPYNPwKO  IGUCNvHlhfHpROGclCit   \n2  LEoPHuyFvzoNfnzGgfcd  vCIpmpaGBnIQhyYNkXqp  puhZPIYqKXeFPaUviSjo   \n3                   NaN  NOBKLgtuvqYWkXQHeYWM                   NaN   \n4                   NaN                   NaN                   NaN   \n\n  device_category device_os device_brand device_model  \\\n0          mobile   Android       Huawei          NaN   \n1          mobile   Android      Samsung          NaN   \n2          mobile   Android       Huawei          NaN   \n3          mobile      None       Xiaomi          NaN   \n4          mobile      None       Xiaomi          NaN   \n\n  device_screen_resolution    device_browser geo_country     geo_city  \n0                  360x720            Chrome      Russia     Zlatoust  \n1                  385x854  Samsung Internet      Russia       Moscow  \n2                  360x720            Chrome      Russia  Krasnoyarsk  \n3                  393x786            Chrome      Russia       Moscow  \n4                  393x786            Chrome      Russia       Moscow  ",
      "text/html": "<div>\n<style scoped>\n    .dataframe tbody tr th:only-of-type {\n        vertical-align: middle;\n    }\n\n    .dataframe tbody tr th {\n        vertical-align: top;\n    }\n\n    .dataframe thead th {\n        text-align: right;\n    }\n</style>\n<table border=\"1\" class=\"dataframe\">\n  <thead>\n    <tr style=\"text-align: right;\">\n      <th></th>\n      <th>session_id</th>\n      <th>client_id</th>\n      <th>visit_date</th>\n      <th>visit_time</th>\n      <th>visit_number</th>\n      <th>utm_source</th>\n      <th>utm_medium</th>\n      <th>utm_campaign</th>\n      <th>utm_adcontent</th>\n      <th>utm_keyword</th>\n      <th>device_category</th>\n      <th>device_os</th>\n      <th>device_brand</th>\n      <th>device_model</th>\n      <th>device_screen_resolution</th>\n      <th>device_browser</th>\n      <th>geo_country</th>\n      <th>geo_city</th>\n    </tr>\n  </thead>\n  <tbody>\n    <tr>\n      <th>0</th>\n      <td>9055434745589932991.1637753792.1637753792</td>\n      <td>2108382700.1637753791</td>\n      <td>2021-11-24</td>\n      <td>14:36:32</td>\n      <td>1</td>\n      <td>ZpYIoDJMcFzVoPFsHGJL</td>\n      <td>banner</td>\n      <td>LEoPHuyFvzoNfnzGgfcd</td>\n      <td>vCIpmpaGBnIQhyYNkXqp</td>\n      <td>puhZPIYqKXeFPaUviSjo</td>\n      <td>mobile</td>\n      <td>Android</td>\n      <td>Huawei</td>\n      <td>NaN</td>\n      <td>360x720</td>\n      <td>Chrome</td>\n      <td>Russia</td>\n      <td>Zlatoust</td>\n    </tr>\n    <tr>\n      <th>1</th>\n      <td>905544597018549464.1636867290.1636867290</td>\n      <td>210838531.1636867288</td>\n      <td>2021-11-14</td>\n      <td>08:21:30</td>\n      <td>1</td>\n      <td>MvfHsxITijuriZxsqZqt</td>\n      <td>cpm</td>\n      <td>FTjNLDyTrXaWYgZymFkV</td>\n      <td>xhoenQgDQsgfEPYNPwKO</td>\n      <td>IGUCNvHlhfHpROGclCit</td>\n      <td>mobile</td>\n      <td>Android</td>\n      <td>Samsung</td>\n      <td>NaN</td>\n      <td>385x854</td>\n      <td>Samsung Internet</td>\n      <td>Russia</td>\n      <td>Moscow</td>\n    </tr>\n    <tr>\n      <th>2</th>\n      <td>9055446045651783499.1640648526.1640648526</td>\n      <td>2108385331.1640648523</td>\n      <td>2021-12-28</td>\n      <td>02:42:06</td>\n      <td>1</td>\n      <td>ZpYIoDJMcFzVoPFsHGJL</td>\n      <td>banner</td>\n      <td>LEoPHuyFvzoNfnzGgfcd</td>\n      <td>vCIpmpaGBnIQhyYNkXqp</td>\n      <td>puhZPIYqKXeFPaUviSjo</td>\n      <td>mobile</td>\n      <td>Android</td>\n      <td>Huawei</td>\n      <td>NaN</td>\n      <td>360x720</td>\n      <td>Chrome</td>\n      <td>Russia</td>\n      <td>Krasnoyarsk</td>\n    </tr>\n    <tr>\n      <th>3</th>\n      <td>9055447046360770272.1622255328.1622255328</td>\n      <td>2108385564.1622255328</td>\n      <td>2021-05-29</td>\n      <td>05:00:00</td>\n      <td>1</td>\n      <td>kjsLglQLzykiRbcDiGcD</td>\n      <td>cpc</td>\n      <td>NaN</td>\n      <td>NOBKLgtuvqYWkXQHeYWM</td>\n      <td>NaN</td>\n      <td>mobile</td>\n      <td>None</td>\n      <td>Xiaomi</td>\n      <td>NaN</td>\n      <td>393x786</td>\n      <td>Chrome</td>\n      <td>Russia</td>\n      <td>Moscow</td>\n    </tr>\n    <tr>\n      <th>4</th>\n      <td>9055447046360770272.1622255345.1622255345</td>\n      <td>2108385564.1622255328</td>\n      <td>2021-05-29</td>\n      <td>05:00:00</td>\n      <td>2</td>\n      <td>kjsLglQLzykiRbcDiGcD</td>\n      <td>cpc</td>\n      <td>NaN</td>\n      <td>NaN</td>\n      <td>NaN</td>\n      <td>mobile</td>\n      <td>None</td>\n      <td>Xiaomi</td>\n      <td>NaN</td>\n      <td>393x786</td>\n      <td>Chrome</td>\n      <td>Russia</td>\n      <td>Moscow</td>\n    </tr>\n  </tbody>\n</table>\n</div>"
     },
     "metadata": {},
     "output_type": "display_data"
    },
    {
     "name": "stdout",
     "output_type": "stream",
     "text": [
      "\n",
      "Информация о колонках:\n",
      "<class 'pandas.core.frame.DataFrame'>\n",
      "RangeIndex: 1860042 entries, 0 to 1860041\n",
      "Data columns (total 18 columns):\n",
      " #   Column                    Dtype \n",
      "---  ------                    ----- \n",
      " 0   session_id                object\n",
      " 1   client_id                 object\n",
      " 2   visit_date                object\n",
      " 3   visit_time                object\n",
      " 4   visit_number              int64 \n",
      " 5   utm_source                object\n",
      " 6   utm_medium                object\n",
      " 7   utm_campaign              object\n",
      " 8   utm_adcontent             object\n",
      " 9   utm_keyword               object\n",
      " 10  device_category           object\n",
      " 11  device_os                 object\n",
      " 12  device_brand              object\n",
      " 13  device_model              object\n",
      " 14  device_screen_resolution  object\n",
      " 15  device_browser            object\n",
      " 16  geo_country               object\n",
      " 17  geo_city                  object\n",
      "dtypes: int64(1), object(17)\n",
      "memory usage: 255.4+ MB\n",
      "None\n",
      "\n",
      "🔍 Анализ: События (ga_hits)\n",
      "\n",
      "Первые 5 строк:\n"
     ]
    },
    {
     "data": {
      "text/plain": "                                  session_id    hit_date  hit_time  \\\n0  5639623078712724064.1640254056.1640254056  2021-12-23  597864.0   \n1  7750352294969115059.1640271109.1640271109  2021-12-23  597331.0   \n2   885342191847998240.1640235807.1640235807  2021-12-23  796252.0   \n3   142526202120934167.1640211014.1640211014  2021-12-23  934292.0   \n4  3450086108837475701.1640265078.1640265078  2021-12-23  768741.0   \n\n   hit_number hit_type hit_referer  \\\n0          30    event         NaN   \n1          41    event         NaN   \n2          49    event         NaN   \n3          46    event         NaN   \n4          79    event         NaN   \n\n                                       hit_page_path event_category  \\\n0  sberauto.com/cars?utm_source_initial=google&ut...           quiz   \n1  sberauto.com/cars/fiat?city=1&city=18&rental_c...           quiz   \n2  sberauto.com/cars/all/volkswagen/polo/e994838f...           quiz   \n3  sberauto.com/cars?utm_source_initial=yandex&ut...           quiz   \n4  sberauto.com/cars/all/mercedes-benz/cla-klasse...           quiz   \n\n  event_action event_label event_value  \n0    quiz_show         NaN        None  \n1    quiz_show         NaN        None  \n2    quiz_show         NaN        None  \n3    quiz_show         NaN        None  \n4    quiz_show         NaN        None  ",
      "text/html": "<div>\n<style scoped>\n    .dataframe tbody tr th:only-of-type {\n        vertical-align: middle;\n    }\n\n    .dataframe tbody tr th {\n        vertical-align: top;\n    }\n\n    .dataframe thead th {\n        text-align: right;\n    }\n</style>\n<table border=\"1\" class=\"dataframe\">\n  <thead>\n    <tr style=\"text-align: right;\">\n      <th></th>\n      <th>session_id</th>\n      <th>hit_date</th>\n      <th>hit_time</th>\n      <th>hit_number</th>\n      <th>hit_type</th>\n      <th>hit_referer</th>\n      <th>hit_page_path</th>\n      <th>event_category</th>\n      <th>event_action</th>\n      <th>event_label</th>\n      <th>event_value</th>\n    </tr>\n  </thead>\n  <tbody>\n    <tr>\n      <th>0</th>\n      <td>5639623078712724064.1640254056.1640254056</td>\n      <td>2021-12-23</td>\n      <td>597864.0</td>\n      <td>30</td>\n      <td>event</td>\n      <td>NaN</td>\n      <td>sberauto.com/cars?utm_source_initial=google&amp;ut...</td>\n      <td>quiz</td>\n      <td>quiz_show</td>\n      <td>NaN</td>\n      <td>None</td>\n    </tr>\n    <tr>\n      <th>1</th>\n      <td>7750352294969115059.1640271109.1640271109</td>\n      <td>2021-12-23</td>\n      <td>597331.0</td>\n      <td>41</td>\n      <td>event</td>\n      <td>NaN</td>\n      <td>sberauto.com/cars/fiat?city=1&amp;city=18&amp;rental_c...</td>\n      <td>quiz</td>\n      <td>quiz_show</td>\n      <td>NaN</td>\n      <td>None</td>\n    </tr>\n    <tr>\n      <th>2</th>\n      <td>885342191847998240.1640235807.1640235807</td>\n      <td>2021-12-23</td>\n      <td>796252.0</td>\n      <td>49</td>\n      <td>event</td>\n      <td>NaN</td>\n      <td>sberauto.com/cars/all/volkswagen/polo/e994838f...</td>\n      <td>quiz</td>\n      <td>quiz_show</td>\n      <td>NaN</td>\n      <td>None</td>\n    </tr>\n    <tr>\n      <th>3</th>\n      <td>142526202120934167.1640211014.1640211014</td>\n      <td>2021-12-23</td>\n      <td>934292.0</td>\n      <td>46</td>\n      <td>event</td>\n      <td>NaN</td>\n      <td>sberauto.com/cars?utm_source_initial=yandex&amp;ut...</td>\n      <td>quiz</td>\n      <td>quiz_show</td>\n      <td>NaN</td>\n      <td>None</td>\n    </tr>\n    <tr>\n      <th>4</th>\n      <td>3450086108837475701.1640265078.1640265078</td>\n      <td>2021-12-23</td>\n      <td>768741.0</td>\n      <td>79</td>\n      <td>event</td>\n      <td>NaN</td>\n      <td>sberauto.com/cars/all/mercedes-benz/cla-klasse...</td>\n      <td>quiz</td>\n      <td>quiz_show</td>\n      <td>NaN</td>\n      <td>None</td>\n    </tr>\n  </tbody>\n</table>\n</div>"
     },
     "metadata": {},
     "output_type": "display_data"
    },
    {
     "name": "stdout",
     "output_type": "stream",
     "text": [
      "\n",
      "Информация о колонках:\n",
      "<class 'pandas.core.frame.DataFrame'>\n",
      "RangeIndex: 15726470 entries, 0 to 15726469\n",
      "Data columns (total 11 columns):\n",
      " #   Column          Dtype  \n",
      "---  ------          -----  \n",
      " 0   session_id      object \n",
      " 1   hit_date        object \n",
      " 2   hit_time        float64\n",
      " 3   hit_number      int64  \n",
      " 4   hit_type        object \n",
      " 5   hit_referer     object \n",
      " 6   hit_page_path   object \n",
      " 7   event_category  object \n",
      " 8   event_action    object \n",
      " 9   event_label     object \n",
      " 10  event_value     object \n",
      "dtypes: float64(1), int64(1), object(9)\n",
      "memory usage: 1.3+ GB\n",
      "None\n"
     ]
    }
   ],
   "source": [
    "explore_data(sessions, \"Сессии (ga_sessions)\")\n",
    "explore_data(hits, \"События (ga_hits)\")"
   ],
   "metadata": {
    "collapsed": false,
    "ExecuteTime": {
     "end_time": "2025-07-07T10:53:26.346866Z",
     "start_time": "2025-07-07T10:53:26.306369Z"
    }
   },
   "id": "3a97018a7d2c6c0b",
   "execution_count": 9
  },
  {
   "cell_type": "markdown",
   "source": [
    "### Очистка. \n",
    "## Щаг подготовительный."
   ],
   "metadata": {
    "collapsed": false
   },
   "id": "f78e5a2229196528"
  },
  {
   "cell_type": "markdown",
   "source": [
    "**Функция сохранения фреймов**"
   ],
   "metadata": {
    "collapsed": false
   },
   "id": "4a78e02cec3879fe"
  },
  {
   "cell_type": "code",
   "outputs": [],
   "source": [
    "SESSIONS_FRAME = 'sessions'\n",
    "HITS_FRAME = 'hits'\n",
    "def save_frame(df, frame_name, comment):\n",
    "    timestamp = pd.Timestamp.now().strftime(\"%Y%m%d_%H%M\")\n",
    "    path = f'../data/processed/'\n",
    "    filename = f'{path}{frame_name}_{timestamp}.pkl'\n",
    "    df.to_pickle(filename)\n",
    "    log_file = f'../data/processed/log_{frame_name}.txt'\n",
    "    with open(log_file, \"a\", encoding=\"utf-8\") as file:\n",
    "        file.write(f\"{timestamp}: {comment}\\n\")\n",
    "        \n",
    "    print(f'Сохранено: {filename} | Лог: {log_file}')   \n",
    "    \n",
    "def save_session(comment):\n",
    "    save_frame(sessions, SESSIONS_FRAME, comment)\n",
    "\n",
    "def save_hits(comment):\n",
    "    save_frame(hits, HITS_FRAME, comment)\n",
    "    "
   ],
   "metadata": {
    "collapsed": false,
    "ExecuteTime": {
     "end_time": "2025-07-07T10:53:41.415584Z",
     "start_time": "2025-07-07T10:53:41.408461Z"
    }
   },
   "id": "3328c307109c4026",
   "execution_count": 10
  },
  {
   "cell_type": "markdown",
   "source": [
    "**Сохраним фреймы перед реформами**"
   ],
   "metadata": {
    "collapsed": false
   },
   "id": "222677f71d41c854"
  },
  {
   "cell_type": "code",
   "outputs": [
    {
     "name": "stdout",
     "output_type": "stream",
     "text": [
      "Сохранено: ../data/processed/sessions_20250707_1453.pkl | Лог: ../data/processed/log_sessions.txt\n",
      "Сохранено: ../data/processed/hits_20250707_1453.pkl | Лог: ../data/processed/log_hits.txt\n"
     ]
    }
   ],
   "source": [
    "save_frame(sessions, SESSIONS_FRAME, 'Стартовое состояние фрейма перед очисткой')\n",
    "save_frame(hits, HITS_FRAME, 'Стартовое состояние фрейма перед очисткой')"
   ],
   "metadata": {
    "collapsed": false,
    "ExecuteTime": {
     "end_time": "2025-07-07T10:55:14.761913Z",
     "start_time": "2025-07-07T10:53:46.261212Z"
    }
   },
   "id": "c08d41a331364e09",
   "execution_count": 11
  },
  {
   "cell_type": "markdown",
   "source": [
    "## Шаг 1. \n",
    "**Удаляем device_model, utm_keyword, device_os (очень много пропусков, определяем как мусор)**"
   ],
   "metadata": {
    "collapsed": false
   },
   "id": "a07c5531fcafcfc3"
  },
  {
   "cell_type": "code",
   "outputs": [
    {
     "name": "stdout",
     "output_type": "stream",
     "text": [
      "Сохранено: ../data/processed/sessions_20250707_1455.pkl | Лог: ../data/processed/log_sessions.txt\n"
     ]
    }
   ],
   "source": [
    "sessions = sessions.drop(columns=['device_model', 'utm_keyword', 'device_os'])\n",
    "save_session('Удалены столбцы: \"device_model\", \"utm_keyword\", \"device_os\"')"
   ],
   "metadata": {
    "collapsed": false,
    "ExecuteTime": {
     "end_time": "2025-07-07T10:55:32.506690Z",
     "start_time": "2025-07-07T10:55:19.041099Z"
    }
   },
   "id": "29c97ca843b33920",
   "execution_count": 12
  },
  {
   "cell_type": "markdown",
   "source": [
    "**Удаляем event_value по тем же мотивам**"
   ],
   "metadata": {
    "collapsed": false
   },
   "id": "3dbf77e87a735601"
  },
  {
   "cell_type": "code",
   "outputs": [
    {
     "name": "stdout",
     "output_type": "stream",
     "text": [
      "Сохранено: ../data/processed/hits_20250707_1455.pkl | Лог: ../data/processed/log_hits.txt\n"
     ]
    }
   ],
   "source": [
    "hits = hits.drop(columns=['event_value'])\n",
    "save_hits('Удалён столбец: \"event_value\"')"
   ],
   "metadata": {
    "collapsed": false,
    "ExecuteTime": {
     "end_time": "2025-07-07T10:56:44.489840Z",
     "start_time": "2025-07-07T10:55:36.566781Z"
    }
   },
   "id": "f46b1ddaee13b9be",
   "execution_count": 13
  },
  {
   "cell_type": "markdown",
   "source": [
    "**Смотрим что получилось**"
   ],
   "metadata": {
    "collapsed": false
   },
   "id": "97322bf2bc044bd9"
  },
  {
   "cell_type": "code",
   "outputs": [
    {
     "name": "stdout",
     "output_type": "stream",
     "text": [
      "\n",
      "🔍 Анализ датафрейма: Сессии (ga_sessions)\n",
      "\n",
      "📊 Основные характеристики колонок:\n"
     ]
    },
    {
     "data": {
      "text/plain": "<pandas.io.formats.style.Styler at 0x19ceac4bef0>",
      "text/html": "<style type=\"text/css\">\n#T_33d5f_row0_col2, #T_33d5f_row0_col3 {\n  background-color: #67000d;\n  color: #f1f1f1;\n}\n#T_33d5f_row1_col2, #T_33d5f_row1_col3 {\n  background-color: #e63328;\n  color: #f1f1f1;\n}\n#T_33d5f_row2_col2 {\n  background-color: #fc997a;\n  color: #000000;\n}\n#T_33d5f_row2_col3 {\n  background-color: #fc9879;\n  color: #000000;\n}\n#T_33d5f_row3_col2, #T_33d5f_row3_col3, #T_33d5f_row4_col2, #T_33d5f_row4_col3, #T_33d5f_row5_col2, #T_33d5f_row5_col3, #T_33d5f_row6_col2, #T_33d5f_row6_col3, #T_33d5f_row7_col2, #T_33d5f_row7_col3, #T_33d5f_row8_col2, #T_33d5f_row8_col3, #T_33d5f_row9_col2, #T_33d5f_row9_col3, #T_33d5f_row10_col2, #T_33d5f_row10_col3, #T_33d5f_row11_col2, #T_33d5f_row11_col3, #T_33d5f_row12_col2, #T_33d5f_row12_col3, #T_33d5f_row13_col2, #T_33d5f_row13_col3, #T_33d5f_row14_col2, #T_33d5f_row14_col3 {\n  background-color: #fff5f0;\n  color: #000000;\n}\n</style>\n<table id=\"T_33d5f\">\n  <thead>\n    <tr>\n      <th class=\"blank level0\" >&nbsp;</th>\n      <th id=\"T_33d5f_level0_col0\" class=\"col_heading level0 col0\" >Тип данных</th>\n      <th id=\"T_33d5f_level0_col1\" class=\"col_heading level0 col1\" >Уникальных</th>\n      <th id=\"T_33d5f_level0_col2\" class=\"col_heading level0 col2\" >Пропусков</th>\n      <th id=\"T_33d5f_level0_col3\" class=\"col_heading level0 col3\" >% Пропусков</th>\n      <th id=\"T_33d5f_level0_col4\" class=\"col_heading level0 col4\" >Пример значения</th>\n    </tr>\n  </thead>\n  <tbody>\n    <tr>\n      <th id=\"T_33d5f_level0_row0\" class=\"row_heading level0 row0\" >utm_adcontent</th>\n      <td id=\"T_33d5f_row0_col0\" class=\"data row0 col0\" >object</td>\n      <td id=\"T_33d5f_row0_col1\" class=\"data row0 col1\" >286</td>\n      <td id=\"T_33d5f_row0_col2\" class=\"data row0 col2\" >335615</td>\n      <td id=\"T_33d5f_row0_col3\" class=\"data row0 col3\" >18.0%</td>\n      <td id=\"T_33d5f_row0_col4\" class=\"data row0 col4\" >vCIpmpaGBnIQhyYNkXqp</td>\n    </tr>\n    <tr>\n      <th id=\"T_33d5f_level0_row1\" class=\"row_heading level0 row1\" >utm_campaign</th>\n      <td id=\"T_33d5f_row1_col0\" class=\"data row1 col0\" >object</td>\n      <td id=\"T_33d5f_row1_col1\" class=\"data row1 col1\" >412</td>\n      <td id=\"T_33d5f_row1_col2\" class=\"data row1 col2\" >219603</td>\n      <td id=\"T_33d5f_row1_col3\" class=\"data row1 col3\" >11.8%</td>\n      <td id=\"T_33d5f_row1_col4\" class=\"data row1 col4\" >LEoPHuyFvzoNfnzGgfcd</td>\n    </tr>\n    <tr>\n      <th id=\"T_33d5f_level0_row2\" class=\"row_heading level0 row2\" >device_brand</th>\n      <td id=\"T_33d5f_row2_col0\" class=\"data row2 col0\" >object</td>\n      <td id=\"T_33d5f_row2_col1\" class=\"data row2 col1\" >206</td>\n      <td id=\"T_33d5f_row2_col2\" class=\"data row2 col2\" >118678</td>\n      <td id=\"T_33d5f_row2_col3\" class=\"data row2 col3\" >6.4%</td>\n      <td id=\"T_33d5f_row2_col4\" class=\"data row2 col4\" >Huawei</td>\n    </tr>\n    <tr>\n      <th id=\"T_33d5f_level0_row3\" class=\"row_heading level0 row3\" >utm_source</th>\n      <td id=\"T_33d5f_row3_col0\" class=\"data row3 col0\" >object</td>\n      <td id=\"T_33d5f_row3_col1\" class=\"data row3 col1\" >293</td>\n      <td id=\"T_33d5f_row3_col2\" class=\"data row3 col2\" >97</td>\n      <td id=\"T_33d5f_row3_col3\" class=\"data row3 col3\" >0.0%</td>\n      <td id=\"T_33d5f_row3_col4\" class=\"data row3 col4\" >ZpYIoDJMcFzVoPFsHGJL</td>\n    </tr>\n    <tr>\n      <th id=\"T_33d5f_level0_row4\" class=\"row_heading level0 row4\" >session_id</th>\n      <td id=\"T_33d5f_row4_col0\" class=\"data row4 col0\" >object</td>\n      <td id=\"T_33d5f_row4_col1\" class=\"data row4 col1\" >1860042</td>\n      <td id=\"T_33d5f_row4_col2\" class=\"data row4 col2\" >0</td>\n      <td id=\"T_33d5f_row4_col3\" class=\"data row4 col3\" >0.0%</td>\n      <td id=\"T_33d5f_row4_col4\" class=\"data row4 col4\" >9055434745589932991.1637753792.1637753792</td>\n    </tr>\n    <tr>\n      <th id=\"T_33d5f_level0_row5\" class=\"row_heading level0 row5\" >client_id</th>\n      <td id=\"T_33d5f_row5_col0\" class=\"data row5 col0\" >object</td>\n      <td id=\"T_33d5f_row5_col1\" class=\"data row5 col1\" >1391719</td>\n      <td id=\"T_33d5f_row5_col2\" class=\"data row5 col2\" >0</td>\n      <td id=\"T_33d5f_row5_col3\" class=\"data row5 col3\" >0.0%</td>\n      <td id=\"T_33d5f_row5_col4\" class=\"data row5 col4\" >2108382700.1637753791</td>\n    </tr>\n    <tr>\n      <th id=\"T_33d5f_level0_row6\" class=\"row_heading level0 row6\" >visit_date</th>\n      <td id=\"T_33d5f_row6_col0\" class=\"data row6 col0\" >object</td>\n      <td id=\"T_33d5f_row6_col1\" class=\"data row6 col1\" >226</td>\n      <td id=\"T_33d5f_row6_col2\" class=\"data row6 col2\" >0</td>\n      <td id=\"T_33d5f_row6_col3\" class=\"data row6 col3\" >0.0%</td>\n      <td id=\"T_33d5f_row6_col4\" class=\"data row6 col4\" >2021-11-24</td>\n    </tr>\n    <tr>\n      <th id=\"T_33d5f_level0_row7\" class=\"row_heading level0 row7\" >visit_time</th>\n      <td id=\"T_33d5f_row7_col0\" class=\"data row7 col0\" >object</td>\n      <td id=\"T_33d5f_row7_col1\" class=\"data row7 col1\" >85318</td>\n      <td id=\"T_33d5f_row7_col2\" class=\"data row7 col2\" >0</td>\n      <td id=\"T_33d5f_row7_col3\" class=\"data row7 col3\" >0.0%</td>\n      <td id=\"T_33d5f_row7_col4\" class=\"data row7 col4\" >14:36:32</td>\n    </tr>\n    <tr>\n      <th id=\"T_33d5f_level0_row8\" class=\"row_heading level0 row8\" >visit_number</th>\n      <td id=\"T_33d5f_row8_col0\" class=\"data row8 col0\" >int64</td>\n      <td id=\"T_33d5f_row8_col1\" class=\"data row8 col1\" >537</td>\n      <td id=\"T_33d5f_row8_col2\" class=\"data row8 col2\" >0</td>\n      <td id=\"T_33d5f_row8_col3\" class=\"data row8 col3\" >0.0%</td>\n      <td id=\"T_33d5f_row8_col4\" class=\"data row8 col4\" >1</td>\n    </tr>\n    <tr>\n      <th id=\"T_33d5f_level0_row9\" class=\"row_heading level0 row9\" >utm_medium</th>\n      <td id=\"T_33d5f_row9_col0\" class=\"data row9 col0\" >object</td>\n      <td id=\"T_33d5f_row9_col1\" class=\"data row9 col1\" >56</td>\n      <td id=\"T_33d5f_row9_col2\" class=\"data row9 col2\" >0</td>\n      <td id=\"T_33d5f_row9_col3\" class=\"data row9 col3\" >0.0%</td>\n      <td id=\"T_33d5f_row9_col4\" class=\"data row9 col4\" >banner</td>\n    </tr>\n    <tr>\n      <th id=\"T_33d5f_level0_row10\" class=\"row_heading level0 row10\" >device_category</th>\n      <td id=\"T_33d5f_row10_col0\" class=\"data row10 col0\" >object</td>\n      <td id=\"T_33d5f_row10_col1\" class=\"data row10 col1\" >3</td>\n      <td id=\"T_33d5f_row10_col2\" class=\"data row10 col2\" >0</td>\n      <td id=\"T_33d5f_row10_col3\" class=\"data row10 col3\" >0.0%</td>\n      <td id=\"T_33d5f_row10_col4\" class=\"data row10 col4\" >mobile</td>\n    </tr>\n    <tr>\n      <th id=\"T_33d5f_level0_row11\" class=\"row_heading level0 row11\" >device_screen_resolution</th>\n      <td id=\"T_33d5f_row11_col0\" class=\"data row11 col0\" >object</td>\n      <td id=\"T_33d5f_row11_col1\" class=\"data row11 col1\" >5039</td>\n      <td id=\"T_33d5f_row11_col2\" class=\"data row11 col2\" >0</td>\n      <td id=\"T_33d5f_row11_col3\" class=\"data row11 col3\" >0.0%</td>\n      <td id=\"T_33d5f_row11_col4\" class=\"data row11 col4\" >360x720</td>\n    </tr>\n    <tr>\n      <th id=\"T_33d5f_level0_row12\" class=\"row_heading level0 row12\" >device_browser</th>\n      <td id=\"T_33d5f_row12_col0\" class=\"data row12 col0\" >object</td>\n      <td id=\"T_33d5f_row12_col1\" class=\"data row12 col1\" >57</td>\n      <td id=\"T_33d5f_row12_col2\" class=\"data row12 col2\" >0</td>\n      <td id=\"T_33d5f_row12_col3\" class=\"data row12 col3\" >0.0%</td>\n      <td id=\"T_33d5f_row12_col4\" class=\"data row12 col4\" >Chrome</td>\n    </tr>\n    <tr>\n      <th id=\"T_33d5f_level0_row13\" class=\"row_heading level0 row13\" >geo_country</th>\n      <td id=\"T_33d5f_row13_col0\" class=\"data row13 col0\" >object</td>\n      <td id=\"T_33d5f_row13_col1\" class=\"data row13 col1\" >166</td>\n      <td id=\"T_33d5f_row13_col2\" class=\"data row13 col2\" >0</td>\n      <td id=\"T_33d5f_row13_col3\" class=\"data row13 col3\" >0.0%</td>\n      <td id=\"T_33d5f_row13_col4\" class=\"data row13 col4\" >Russia</td>\n    </tr>\n    <tr>\n      <th id=\"T_33d5f_level0_row14\" class=\"row_heading level0 row14\" >geo_city</th>\n      <td id=\"T_33d5f_row14_col0\" class=\"data row14 col0\" >object</td>\n      <td id=\"T_33d5f_row14_col1\" class=\"data row14 col1\" >2548</td>\n      <td id=\"T_33d5f_row14_col2\" class=\"data row14 col2\" >0</td>\n      <td id=\"T_33d5f_row14_col3\" class=\"data row14 col3\" >0.0%</td>\n      <td id=\"T_33d5f_row14_col4\" class=\"data row14 col4\" >Zlatoust</td>\n    </tr>\n  </tbody>\n</table>\n"
     },
     "metadata": {},
     "output_type": "display_data"
    },
    {
     "name": "stdout",
     "output_type": "stream",
     "text": [
      "\n",
      "🔍 Анализ датафрейма: События (ga_hits)\n",
      "\n",
      "📊 Основные характеристики колонок:\n"
     ]
    },
    {
     "data": {
      "text/plain": "<pandas.io.formats.style.Styler at 0x19810d2ac90>",
      "text/html": "<style type=\"text/css\">\n#T_b82dc_row0_col2, #T_b82dc_row0_col3 {\n  background-color: #67000d;\n  color: #f1f1f1;\n}\n#T_b82dc_row1_col2, #T_b82dc_row1_col3 {\n  background-color: #dd2a25;\n  color: #f1f1f1;\n}\n#T_b82dc_row2_col2, #T_b82dc_row2_col3 {\n  background-color: #fc8666;\n  color: #f1f1f1;\n}\n#T_b82dc_row3_col2, #T_b82dc_row3_col3, #T_b82dc_row4_col2, #T_b82dc_row4_col3, #T_b82dc_row5_col2, #T_b82dc_row5_col3, #T_b82dc_row6_col2, #T_b82dc_row6_col3, #T_b82dc_row7_col2, #T_b82dc_row7_col3, #T_b82dc_row8_col2, #T_b82dc_row8_col3, #T_b82dc_row9_col2, #T_b82dc_row9_col3 {\n  background-color: #fff5f0;\n  color: #000000;\n}\n</style>\n<table id=\"T_b82dc\">\n  <thead>\n    <tr>\n      <th class=\"blank level0\" >&nbsp;</th>\n      <th id=\"T_b82dc_level0_col0\" class=\"col_heading level0 col0\" >Тип данных</th>\n      <th id=\"T_b82dc_level0_col1\" class=\"col_heading level0 col1\" >Уникальных</th>\n      <th id=\"T_b82dc_level0_col2\" class=\"col_heading level0 col2\" >Пропусков</th>\n      <th id=\"T_b82dc_level0_col3\" class=\"col_heading level0 col3\" >% Пропусков</th>\n      <th id=\"T_b82dc_level0_col4\" class=\"col_heading level0 col4\" >Пример значения</th>\n    </tr>\n  </thead>\n  <tbody>\n    <tr>\n      <th id=\"T_b82dc_level0_row0\" class=\"row_heading level0 row0\" >hit_time</th>\n      <td id=\"T_b82dc_row0_col0\" class=\"data row0 col0\" >float64</td>\n      <td id=\"T_b82dc_row0_col1\" class=\"data row0 col1\" >925887</td>\n      <td id=\"T_b82dc_row0_col2\" class=\"data row0 col2\" >9160322</td>\n      <td id=\"T_b82dc_row0_col3\" class=\"data row0 col3\" >58.2%</td>\n      <td id=\"T_b82dc_row0_col4\" class=\"data row0 col4\" >597864.000000</td>\n    </tr>\n    <tr>\n      <th id=\"T_b82dc_level0_row1\" class=\"row_heading level0 row1\" >hit_referer</th>\n      <td id=\"T_b82dc_row1_col0\" class=\"data row1 col0\" >object</td>\n      <td id=\"T_b82dc_row1_col1\" class=\"data row1 col1\" >37873</td>\n      <td id=\"T_b82dc_row1_col2\" class=\"data row1 col2\" >6274804</td>\n      <td id=\"T_b82dc_row1_col3\" class=\"data row1 col3\" >39.9%</td>\n      <td id=\"T_b82dc_row1_col4\" class=\"data row1 col4\" >nan</td>\n    </tr>\n    <tr>\n      <th id=\"T_b82dc_level0_row2\" class=\"row_heading level0 row2\" >event_label</th>\n      <td id=\"T_b82dc_row2_col0\" class=\"data row2 col0\" >object</td>\n      <td id=\"T_b82dc_row2_col1\" class=\"data row2 col1\" >39825</td>\n      <td id=\"T_b82dc_row2_col2\" class=\"data row2 col2\" >3760184</td>\n      <td id=\"T_b82dc_row2_col3\" class=\"data row2 col3\" >23.9%</td>\n      <td id=\"T_b82dc_row2_col4\" class=\"data row2 col4\" >nan</td>\n    </tr>\n    <tr>\n      <th id=\"T_b82dc_level0_row3\" class=\"row_heading level0 row3\" >session_id</th>\n      <td id=\"T_b82dc_row3_col0\" class=\"data row3 col0\" >object</td>\n      <td id=\"T_b82dc_row3_col1\" class=\"data row3 col1\" >1734610</td>\n      <td id=\"T_b82dc_row3_col2\" class=\"data row3 col2\" >0</td>\n      <td id=\"T_b82dc_row3_col3\" class=\"data row3 col3\" >0.0%</td>\n      <td id=\"T_b82dc_row3_col4\" class=\"data row3 col4\" >5639623078712724064.1640254056.1640254056</td>\n    </tr>\n    <tr>\n      <th id=\"T_b82dc_level0_row4\" class=\"row_heading level0 row4\" >hit_date</th>\n      <td id=\"T_b82dc_row4_col0\" class=\"data row4 col0\" >object</td>\n      <td id=\"T_b82dc_row4_col1\" class=\"data row4 col1\" >226</td>\n      <td id=\"T_b82dc_row4_col2\" class=\"data row4 col2\" >0</td>\n      <td id=\"T_b82dc_row4_col3\" class=\"data row4 col3\" >0.0%</td>\n      <td id=\"T_b82dc_row4_col4\" class=\"data row4 col4\" >2021-12-23</td>\n    </tr>\n    <tr>\n      <th id=\"T_b82dc_level0_row5\" class=\"row_heading level0 row5\" >hit_number</th>\n      <td id=\"T_b82dc_row5_col0\" class=\"data row5 col0\" >int64</td>\n      <td id=\"T_b82dc_row5_col1\" class=\"data row5 col1\" >500</td>\n      <td id=\"T_b82dc_row5_col2\" class=\"data row5 col2\" >0</td>\n      <td id=\"T_b82dc_row5_col3\" class=\"data row5 col3\" >0.0%</td>\n      <td id=\"T_b82dc_row5_col4\" class=\"data row5 col4\" >30</td>\n    </tr>\n    <tr>\n      <th id=\"T_b82dc_level0_row6\" class=\"row_heading level0 row6\" >hit_type</th>\n      <td id=\"T_b82dc_row6_col0\" class=\"data row6 col0\" >object</td>\n      <td id=\"T_b82dc_row6_col1\" class=\"data row6 col1\" >1</td>\n      <td id=\"T_b82dc_row6_col2\" class=\"data row6 col2\" >0</td>\n      <td id=\"T_b82dc_row6_col3\" class=\"data row6 col3\" >0.0%</td>\n      <td id=\"T_b82dc_row6_col4\" class=\"data row6 col4\" >event</td>\n    </tr>\n    <tr>\n      <th id=\"T_b82dc_level0_row7\" class=\"row_heading level0 row7\" >hit_page_path</th>\n      <td id=\"T_b82dc_row7_col0\" class=\"data row7 col0\" >object</td>\n      <td id=\"T_b82dc_row7_col1\" class=\"data row7 col1\" >342715</td>\n      <td id=\"T_b82dc_row7_col2\" class=\"data row7 col2\" >0</td>\n      <td id=\"T_b82dc_row7_col3\" class=\"data row7 col3\" >0.0%</td>\n      <td id=\"T_b82dc_row7_col4\" class=\"data row7 col4\" >sberauto.com/cars?utm_source_initial=google&utm_medium_initial=cpc&utm_campaign_initial=bJJuEXRheRIxXEaYIXqM|BmWKiKCvBVipoWOpNUIL&utm_content_initial=yXzSAJWSuRbYeLFyMVFl|iJxXDTgPAXGQYOdgCzqe|xAEYTlJDbQNwQTLGxICQ|pmvTbUlmnwAkuHIbvKUg|lFpAoUqEvHoyZfCNRuCR|oxjYxrkwnRSTTYcVZzdb|dtYJKUplNmmKCOfiziff|NgTCwCMgdzcCqxiALuwY|aHSPdWXGkJravzWuwcJA|HbolMJUevblAbkHClEQa|kqZPVvZmXADsCZxIQwbv|QaGunexmXrztCWbLcYxs|OfdDOXSwHYclonQJpPxh|htxLmqvAkmISCliXGMzb|HbolMJUevblAbkHClEQa&utm_term_initial=&city=1&rental_page=rental_only&rental_car=rental_only&city=18</td>\n    </tr>\n    <tr>\n      <th id=\"T_b82dc_level0_row8\" class=\"row_heading level0 row8\" >event_category</th>\n      <td id=\"T_b82dc_row8_col0\" class=\"data row8 col0\" >object</td>\n      <td id=\"T_b82dc_row8_col1\" class=\"data row8 col1\" >52</td>\n      <td id=\"T_b82dc_row8_col2\" class=\"data row8 col2\" >0</td>\n      <td id=\"T_b82dc_row8_col3\" class=\"data row8 col3\" >0.0%</td>\n      <td id=\"T_b82dc_row8_col4\" class=\"data row8 col4\" >quiz</td>\n    </tr>\n    <tr>\n      <th id=\"T_b82dc_level0_row9\" class=\"row_heading level0 row9\" >event_action</th>\n      <td id=\"T_b82dc_row9_col0\" class=\"data row9 col0\" >object</td>\n      <td id=\"T_b82dc_row9_col1\" class=\"data row9 col1\" >230</td>\n      <td id=\"T_b82dc_row9_col2\" class=\"data row9 col2\" >0</td>\n      <td id=\"T_b82dc_row9_col3\" class=\"data row9 col3\" >0.0%</td>\n      <td id=\"T_b82dc_row9_col4\" class=\"data row9 col4\" >quiz_show</td>\n    </tr>\n  </tbody>\n</table>\n"
     },
     "metadata": {},
     "output_type": "display_data"
    }
   ],
   "source": [
    "analys_session = explore_data_modern(sessions, \"Сессии (ga_sessions)\")\n",
    "analys_hit = explore_data_modern(hits, \"События (ga_hits)\")\n",
    "analys_hit.to_csv('../data/temp/analys_hits.csv')\n",
    "analys_session.to_csv('../data/temp/analys_sessions.csv')"
   ],
   "metadata": {
    "collapsed": false,
    "ExecuteTime": {
     "end_time": "2025-07-07T10:57:20.843789Z",
     "start_time": "2025-07-07T10:56:55.632159Z"
    }
   },
   "id": "e944411f5ebca29b",
   "execution_count": 14
  },
  {
   "cell_type": "markdown",
   "source": [
    "**Посмотрим есть что нибудь внятное в столбцах utm_adcontent, utm_campaign, utm_source,**"
   ],
   "metadata": {
    "collapsed": false
   },
   "id": "1cfd0fcfaa1eb558"
  },
  {
   "cell_type": "code",
   "outputs": [
    {
     "name": "stdout",
     "output_type": "stream",
     "text": [
      "utm_adcontent:\n",
      "utm_adcontent\n",
      "JNHcPlZPxEMWDnRiyoBf    1006599\n",
      "vCIpmpaGBnIQhyYNkXqp     181048\n",
      "xhoenQgDQsgfEPYNPwKO     113072\n",
      "PkybGvWbaqORmxjNunqZ      60316\n",
      "LLfCasrxQzJIyuldcuWy      24222\n",
      "                         ...   \n",
      "ryswqHdLvbezpDLjokYF          1\n",
      "gQEnaeQmOHisHSTEyzhp          1\n",
      "PlanrlymnpCeYvUrUTVJ          1\n",
      "WbXQsVOKLOcJrHikuQTZ          1\n",
      "oJivRDNIrrOckRBIKOtG          1\n",
      "Name: count, Length: 286, dtype: int64\n",
      "utm_campaign:\n",
      "utm_campaign\n",
      "LTuZkdKfxRGVceoWkVyg    463481\n",
      "LEoPHuyFvzoNfnzGgfcd    324044\n",
      "FTjNLDyTrXaWYgZymFkV    247360\n",
      "gecBYcKZCPMcVYdSSzKP    134042\n",
      "TmThBvoCcwkCZZUWACYq     26597\n",
      "                         ...  \n",
      "cqgnjDbqrtCipVvzhxqa         1\n",
      "AdtHYglxfCpTpwZeTAuW         1\n",
      "pcvPxfVFaAmhwFmvIeYd         1\n",
      "qPDTdivQVeflLjTYIJnG         1\n",
      "cXxuwXPoQCvAXPHpFcZl         1\n",
      "Name: count, Length: 412, dtype: int64\n",
      "utm_source:\n",
      "utm_source\n",
      "ZpYIoDJMcFzVoPFsHGJL    578290\n",
      "fDLlAcSmythWSCVMvqvL    300575\n",
      "kjsLglQLzykiRbcDiGcD    266354\n",
      "MvfHsxITijuriZxsqZqt    186199\n",
      "BHcvLfOaCWvWTykYqHVe    116320\n",
      "                         ...  \n",
      "GYkgJdhSxirUFPHFiYSe         1\n",
      "WRHPhoRKhKxaenRCLBfo         1\n",
      "tjKUGseGMhkLEzdCqBRx         1\n",
      "wpmatvDuiMutnvmNVPJo         1\n",
      "BellrslNBZQZaIxVFGXJ         1\n",
      "Name: count, Length: 293, dtype: int64\n",
      "utm_medium:\n",
      "utm_medium\n",
      "banner               552272\n",
      "cpc                  434794\n",
      "(none)               300575\n",
      "cpm                  242083\n",
      "referral             152050\n",
      "organic               63034\n",
      "email                 29240\n",
      "push                  28035\n",
      "stories               10582\n",
      "cpv                    8022\n",
      "blogger_channel        8015\n",
      "smartbanner            6794\n",
      "blogger_stories        4312\n",
      "cpa                    4279\n",
      "tg                     4011\n",
      "app                    2836\n",
      "post                   2326\n",
      "smm                    1985\n",
      "outlook                1332\n",
      "clicks                  934\n",
      "blogger_header          771\n",
      "(not set)               480\n",
      "info_text               343\n",
      "sms                     239\n",
      "landing                 134\n",
      "partner                  97\n",
      "fb_smm                   66\n",
      "vk_smm                   65\n",
      "link                     57\n",
      "cbaafe                   47\n",
      "CPM                      40\n",
      "yandex_cpc               36\n",
      "ok_smm                   28\n",
      "static                   22\n",
      "google_cpc               20\n",
      "article                  17\n",
      "nkp                      14\n",
      "web_polka                11\n",
      "social                    9\n",
      "medium                    8\n",
      "main_polka                4\n",
      "catalogue                 4\n",
      "users_msk                 3\n",
      "reach                     2\n",
      "promo_sber                2\n",
      "linktest                  2\n",
      "promo_sbol                1\n",
      "Sbol_catalog              1\n",
      "desktop                   1\n",
      "dom_click                 1\n",
      "tablet                    1\n",
      "sber_app                  1\n",
      "last                      1\n",
      "qr                        1\n",
      "qrcodevideo               1\n",
      "landing_interests         1\n",
      "Name: count, dtype: int64\n"
     ]
    }
   ],
   "source": [
    "print(\"utm_adcontent:\")\n",
    "print(sessions['utm_adcontent'].value_counts())\n",
    "print(\"utm_campaign:\")\n",
    "print(sessions['utm_campaign'].value_counts())\n",
    "print(\"utm_source:\")\n",
    "print(sessions['utm_source'].value_counts())\n",
    "print(\"utm_medium:\")\n",
    "print(sessions['utm_medium'].value_counts())"
   ],
   "metadata": {
    "collapsed": false,
    "ExecuteTime": {
     "end_time": "2025-07-07T11:23:18.078055Z",
     "start_time": "2025-07-07T11:23:17.635873Z"
    }
   },
   "id": "b3fc7998f1f4827",
   "execution_count": 17
  },
  {
   "cell_type": "markdown",
   "source": [
    "**Теперь столбец hit_type за однообразие**"
   ],
   "metadata": {
    "collapsed": false
   },
   "id": "133ffe9baaf62988"
  },
  {
   "cell_type": "code",
   "outputs": [
    {
     "name": "stdout",
     "output_type": "stream",
     "text": [
      "Сохранено: ../data/processed/sessions_20250706_1958.pkl | Лог: ../data/processed/log_sessions.txt\n",
      "Сохранено: ../data/processed/hits_20250706_1959.pkl | Лог: ../data/processed/log_hits.txt\n"
     ]
    }
   ],
   "source": [
    "hits = hits.drop(columns=['hit_type'])\n",
    "save_hits('Удалён столбец: \"hit_type\"')"
   ],
   "metadata": {
    "collapsed": false,
    "ExecuteTime": {
     "end_time": "2025-07-06T16:00:10.320120Z",
     "start_time": "2025-07-06T15:58:45.182927Z"
    }
   },
   "id": "48aadbe0155169f6",
   "execution_count": 106
  },
  {
   "cell_type": "markdown",
   "source": [
    "**Посмотрим что вышло**"
   ],
   "metadata": {
    "collapsed": false
   },
   "id": "99699d9c30052b6b"
  },
  {
   "cell_type": "code",
   "outputs": [],
   "source": [
    "explore_data(sessions, SESSIONS_FRAME)\n",
    "explore_data(hits, HITS_FRAME)"
   ],
   "metadata": {
    "collapsed": false,
    "ExecuteTime": {
     "end_time": "2025-07-06T16:00:54.030901Z",
     "start_time": "2025-07-06T16:00:54.026838Z"
    }
   },
   "id": "730a6aceaa6093b6",
   "execution_count": 107
  },
  {
   "cell_type": "code",
   "outputs": [
    {
     "name": "stdout",
     "output_type": "stream",
     "text": [
      "\n",
      "🔍 Анализ датафрейма: sessions\n",
      "\n",
      "📊 Основные характеристики колонок:\n"
     ]
    },
    {
     "data": {
      "text/plain": "<pandas.io.formats.style.Styler at 0x27e9b152420>",
      "text/html": "<style type=\"text/css\">\n#T_82e42_row0_col2, #T_82e42_row0_col3 {\n  background-color: #67000d;\n  color: #f1f1f1;\n}\n#T_82e42_row1_col2, #T_82e42_row1_col3, #T_82e42_row2_col2, #T_82e42_row2_col3, #T_82e42_row3_col2, #T_82e42_row3_col3, #T_82e42_row4_col2, #T_82e42_row4_col3, #T_82e42_row5_col2, #T_82e42_row5_col3, #T_82e42_row6_col2, #T_82e42_row6_col3, #T_82e42_row7_col2, #T_82e42_row7_col3, #T_82e42_row8_col2, #T_82e42_row8_col3, #T_82e42_row9_col2, #T_82e42_row9_col3, #T_82e42_row10_col2, #T_82e42_row10_col3, #T_82e42_row11_col2, #T_82e42_row11_col3 {\n  background-color: #fff5f0;\n  color: #000000;\n}\n</style>\n<table id=\"T_82e42\">\n  <thead>\n    <tr>\n      <th class=\"blank level0\" >&nbsp;</th>\n      <th id=\"T_82e42_level0_col0\" class=\"col_heading level0 col0\" >Тип данных</th>\n      <th id=\"T_82e42_level0_col1\" class=\"col_heading level0 col1\" >Уникальных</th>\n      <th id=\"T_82e42_level0_col2\" class=\"col_heading level0 col2\" >Пропусков</th>\n      <th id=\"T_82e42_level0_col3\" class=\"col_heading level0 col3\" >% Пропусков</th>\n      <th id=\"T_82e42_level0_col4\" class=\"col_heading level0 col4\" >Пример значения</th>\n    </tr>\n  </thead>\n  <tbody>\n    <tr>\n      <th id=\"T_82e42_level0_row0\" class=\"row_heading level0 row0\" >device_brand</th>\n      <td id=\"T_82e42_row0_col0\" class=\"data row0 col0\" >object</td>\n      <td id=\"T_82e42_row0_col1\" class=\"data row0 col1\" >206</td>\n      <td id=\"T_82e42_row0_col2\" class=\"data row0 col2\" >118678</td>\n      <td id=\"T_82e42_row0_col3\" class=\"data row0 col3\" >6.4%</td>\n      <td id=\"T_82e42_row0_col4\" class=\"data row0 col4\" >Huawei</td>\n    </tr>\n    <tr>\n      <th id=\"T_82e42_level0_row1\" class=\"row_heading level0 row1\" >session_id</th>\n      <td id=\"T_82e42_row1_col0\" class=\"data row1 col0\" >object</td>\n      <td id=\"T_82e42_row1_col1\" class=\"data row1 col1\" >1860042</td>\n      <td id=\"T_82e42_row1_col2\" class=\"data row1 col2\" >0</td>\n      <td id=\"T_82e42_row1_col3\" class=\"data row1 col3\" >0.0%</td>\n      <td id=\"T_82e42_row1_col4\" class=\"data row1 col4\" >9055434745589932991.1637753792.1637753792</td>\n    </tr>\n    <tr>\n      <th id=\"T_82e42_level0_row2\" class=\"row_heading level0 row2\" >client_id</th>\n      <td id=\"T_82e42_row2_col0\" class=\"data row2 col0\" >object</td>\n      <td id=\"T_82e42_row2_col1\" class=\"data row2 col1\" >1391719</td>\n      <td id=\"T_82e42_row2_col2\" class=\"data row2 col2\" >0</td>\n      <td id=\"T_82e42_row2_col3\" class=\"data row2 col3\" >0.0%</td>\n      <td id=\"T_82e42_row2_col4\" class=\"data row2 col4\" >2108382700.1637753791</td>\n    </tr>\n    <tr>\n      <th id=\"T_82e42_level0_row3\" class=\"row_heading level0 row3\" >visit_date</th>\n      <td id=\"T_82e42_row3_col0\" class=\"data row3 col0\" >object</td>\n      <td id=\"T_82e42_row3_col1\" class=\"data row3 col1\" >226</td>\n      <td id=\"T_82e42_row3_col2\" class=\"data row3 col2\" >0</td>\n      <td id=\"T_82e42_row3_col3\" class=\"data row3 col3\" >0.0%</td>\n      <td id=\"T_82e42_row3_col4\" class=\"data row3 col4\" >2021-11-24</td>\n    </tr>\n    <tr>\n      <th id=\"T_82e42_level0_row4\" class=\"row_heading level0 row4\" >visit_time</th>\n      <td id=\"T_82e42_row4_col0\" class=\"data row4 col0\" >object</td>\n      <td id=\"T_82e42_row4_col1\" class=\"data row4 col1\" >85318</td>\n      <td id=\"T_82e42_row4_col2\" class=\"data row4 col2\" >0</td>\n      <td id=\"T_82e42_row4_col3\" class=\"data row4 col3\" >0.0%</td>\n      <td id=\"T_82e42_row4_col4\" class=\"data row4 col4\" >14:36:32</td>\n    </tr>\n    <tr>\n      <th id=\"T_82e42_level0_row5\" class=\"row_heading level0 row5\" >visit_number</th>\n      <td id=\"T_82e42_row5_col0\" class=\"data row5 col0\" >int64</td>\n      <td id=\"T_82e42_row5_col1\" class=\"data row5 col1\" >537</td>\n      <td id=\"T_82e42_row5_col2\" class=\"data row5 col2\" >0</td>\n      <td id=\"T_82e42_row5_col3\" class=\"data row5 col3\" >0.0%</td>\n      <td id=\"T_82e42_row5_col4\" class=\"data row5 col4\" >1</td>\n    </tr>\n    <tr>\n      <th id=\"T_82e42_level0_row6\" class=\"row_heading level0 row6\" >utm_medium</th>\n      <td id=\"T_82e42_row6_col0\" class=\"data row6 col0\" >object</td>\n      <td id=\"T_82e42_row6_col1\" class=\"data row6 col1\" >56</td>\n      <td id=\"T_82e42_row6_col2\" class=\"data row6 col2\" >0</td>\n      <td id=\"T_82e42_row6_col3\" class=\"data row6 col3\" >0.0%</td>\n      <td id=\"T_82e42_row6_col4\" class=\"data row6 col4\" >banner</td>\n    </tr>\n    <tr>\n      <th id=\"T_82e42_level0_row7\" class=\"row_heading level0 row7\" >device_category</th>\n      <td id=\"T_82e42_row7_col0\" class=\"data row7 col0\" >object</td>\n      <td id=\"T_82e42_row7_col1\" class=\"data row7 col1\" >3</td>\n      <td id=\"T_82e42_row7_col2\" class=\"data row7 col2\" >0</td>\n      <td id=\"T_82e42_row7_col3\" class=\"data row7 col3\" >0.0%</td>\n      <td id=\"T_82e42_row7_col4\" class=\"data row7 col4\" >mobile</td>\n    </tr>\n    <tr>\n      <th id=\"T_82e42_level0_row8\" class=\"row_heading level0 row8\" >device_screen_resolution</th>\n      <td id=\"T_82e42_row8_col0\" class=\"data row8 col0\" >object</td>\n      <td id=\"T_82e42_row8_col1\" class=\"data row8 col1\" >5039</td>\n      <td id=\"T_82e42_row8_col2\" class=\"data row8 col2\" >0</td>\n      <td id=\"T_82e42_row8_col3\" class=\"data row8 col3\" >0.0%</td>\n      <td id=\"T_82e42_row8_col4\" class=\"data row8 col4\" >360x720</td>\n    </tr>\n    <tr>\n      <th id=\"T_82e42_level0_row9\" class=\"row_heading level0 row9\" >device_browser</th>\n      <td id=\"T_82e42_row9_col0\" class=\"data row9 col0\" >object</td>\n      <td id=\"T_82e42_row9_col1\" class=\"data row9 col1\" >57</td>\n      <td id=\"T_82e42_row9_col2\" class=\"data row9 col2\" >0</td>\n      <td id=\"T_82e42_row9_col3\" class=\"data row9 col3\" >0.0%</td>\n      <td id=\"T_82e42_row9_col4\" class=\"data row9 col4\" >Chrome</td>\n    </tr>\n    <tr>\n      <th id=\"T_82e42_level0_row10\" class=\"row_heading level0 row10\" >geo_country</th>\n      <td id=\"T_82e42_row10_col0\" class=\"data row10 col0\" >object</td>\n      <td id=\"T_82e42_row10_col1\" class=\"data row10 col1\" >166</td>\n      <td id=\"T_82e42_row10_col2\" class=\"data row10 col2\" >0</td>\n      <td id=\"T_82e42_row10_col3\" class=\"data row10 col3\" >0.0%</td>\n      <td id=\"T_82e42_row10_col4\" class=\"data row10 col4\" >Russia</td>\n    </tr>\n    <tr>\n      <th id=\"T_82e42_level0_row11\" class=\"row_heading level0 row11\" >geo_city</th>\n      <td id=\"T_82e42_row11_col0\" class=\"data row11 col0\" >object</td>\n      <td id=\"T_82e42_row11_col1\" class=\"data row11 col1\" >2548</td>\n      <td id=\"T_82e42_row11_col2\" class=\"data row11 col2\" >0</td>\n      <td id=\"T_82e42_row11_col3\" class=\"data row11 col3\" >0.0%</td>\n      <td id=\"T_82e42_row11_col4\" class=\"data row11 col4\" >Zlatoust</td>\n    </tr>\n  </tbody>\n</table>\n"
     },
     "metadata": {},
     "output_type": "display_data"
    },
    {
     "name": "stdout",
     "output_type": "stream",
     "text": [
      "\n",
      "🔍 Анализ датафрейма: hits\n",
      "\n",
      "📊 Основные характеристики колонок:\n"
     ]
    },
    {
     "data": {
      "text/plain": "<pandas.io.formats.style.Styler at 0x28100066780>",
      "text/html": "<style type=\"text/css\">\n#T_bc170_row0_col2, #T_bc170_row0_col3 {\n  background-color: #67000d;\n  color: #f1f1f1;\n}\n#T_bc170_row1_col2, #T_bc170_row1_col3 {\n  background-color: #dd2a25;\n  color: #f1f1f1;\n}\n#T_bc170_row2_col2, #T_bc170_row2_col3 {\n  background-color: #fc8666;\n  color: #f1f1f1;\n}\n#T_bc170_row3_col2, #T_bc170_row3_col3, #T_bc170_row4_col2, #T_bc170_row4_col3, #T_bc170_row5_col2, #T_bc170_row5_col3, #T_bc170_row6_col2, #T_bc170_row6_col3, #T_bc170_row7_col2, #T_bc170_row7_col3, #T_bc170_row8_col2, #T_bc170_row8_col3 {\n  background-color: #fff5f0;\n  color: #000000;\n}\n</style>\n<table id=\"T_bc170\">\n  <thead>\n    <tr>\n      <th class=\"blank level0\" >&nbsp;</th>\n      <th id=\"T_bc170_level0_col0\" class=\"col_heading level0 col0\" >Тип данных</th>\n      <th id=\"T_bc170_level0_col1\" class=\"col_heading level0 col1\" >Уникальных</th>\n      <th id=\"T_bc170_level0_col2\" class=\"col_heading level0 col2\" >Пропусков</th>\n      <th id=\"T_bc170_level0_col3\" class=\"col_heading level0 col3\" >% Пропусков</th>\n      <th id=\"T_bc170_level0_col4\" class=\"col_heading level0 col4\" >Пример значения</th>\n    </tr>\n  </thead>\n  <tbody>\n    <tr>\n      <th id=\"T_bc170_level0_row0\" class=\"row_heading level0 row0\" >hit_time</th>\n      <td id=\"T_bc170_row0_col0\" class=\"data row0 col0\" >float64</td>\n      <td id=\"T_bc170_row0_col1\" class=\"data row0 col1\" >925887</td>\n      <td id=\"T_bc170_row0_col2\" class=\"data row0 col2\" >9160322</td>\n      <td id=\"T_bc170_row0_col3\" class=\"data row0 col3\" >58.2%</td>\n      <td id=\"T_bc170_row0_col4\" class=\"data row0 col4\" >597864.000000</td>\n    </tr>\n    <tr>\n      <th id=\"T_bc170_level0_row1\" class=\"row_heading level0 row1\" >hit_referer</th>\n      <td id=\"T_bc170_row1_col0\" class=\"data row1 col0\" >object</td>\n      <td id=\"T_bc170_row1_col1\" class=\"data row1 col1\" >37873</td>\n      <td id=\"T_bc170_row1_col2\" class=\"data row1 col2\" >6274804</td>\n      <td id=\"T_bc170_row1_col3\" class=\"data row1 col3\" >39.9%</td>\n      <td id=\"T_bc170_row1_col4\" class=\"data row1 col4\" >nan</td>\n    </tr>\n    <tr>\n      <th id=\"T_bc170_level0_row2\" class=\"row_heading level0 row2\" >event_label</th>\n      <td id=\"T_bc170_row2_col0\" class=\"data row2 col0\" >object</td>\n      <td id=\"T_bc170_row2_col1\" class=\"data row2 col1\" >39825</td>\n      <td id=\"T_bc170_row2_col2\" class=\"data row2 col2\" >3760184</td>\n      <td id=\"T_bc170_row2_col3\" class=\"data row2 col3\" >23.9%</td>\n      <td id=\"T_bc170_row2_col4\" class=\"data row2 col4\" >nan</td>\n    </tr>\n    <tr>\n      <th id=\"T_bc170_level0_row3\" class=\"row_heading level0 row3\" >session_id</th>\n      <td id=\"T_bc170_row3_col0\" class=\"data row3 col0\" >object</td>\n      <td id=\"T_bc170_row3_col1\" class=\"data row3 col1\" >1734610</td>\n      <td id=\"T_bc170_row3_col2\" class=\"data row3 col2\" >0</td>\n      <td id=\"T_bc170_row3_col3\" class=\"data row3 col3\" >0.0%</td>\n      <td id=\"T_bc170_row3_col4\" class=\"data row3 col4\" >5639623078712724064.1640254056.1640254056</td>\n    </tr>\n    <tr>\n      <th id=\"T_bc170_level0_row4\" class=\"row_heading level0 row4\" >hit_date</th>\n      <td id=\"T_bc170_row4_col0\" class=\"data row4 col0\" >object</td>\n      <td id=\"T_bc170_row4_col1\" class=\"data row4 col1\" >226</td>\n      <td id=\"T_bc170_row4_col2\" class=\"data row4 col2\" >0</td>\n      <td id=\"T_bc170_row4_col3\" class=\"data row4 col3\" >0.0%</td>\n      <td id=\"T_bc170_row4_col4\" class=\"data row4 col4\" >2021-12-23</td>\n    </tr>\n    <tr>\n      <th id=\"T_bc170_level0_row5\" class=\"row_heading level0 row5\" >hit_number</th>\n      <td id=\"T_bc170_row5_col0\" class=\"data row5 col0\" >int64</td>\n      <td id=\"T_bc170_row5_col1\" class=\"data row5 col1\" >500</td>\n      <td id=\"T_bc170_row5_col2\" class=\"data row5 col2\" >0</td>\n      <td id=\"T_bc170_row5_col3\" class=\"data row5 col3\" >0.0%</td>\n      <td id=\"T_bc170_row5_col4\" class=\"data row5 col4\" >30</td>\n    </tr>\n    <tr>\n      <th id=\"T_bc170_level0_row6\" class=\"row_heading level0 row6\" >hit_page_path</th>\n      <td id=\"T_bc170_row6_col0\" class=\"data row6 col0\" >object</td>\n      <td id=\"T_bc170_row6_col1\" class=\"data row6 col1\" >342715</td>\n      <td id=\"T_bc170_row6_col2\" class=\"data row6 col2\" >0</td>\n      <td id=\"T_bc170_row6_col3\" class=\"data row6 col3\" >0.0%</td>\n      <td id=\"T_bc170_row6_col4\" class=\"data row6 col4\" >sberauto.com/cars?utm_source_initial=google&utm_medium_initial=cpc&utm_campaign_initial=bJJuEXRheRIxXEaYIXqM|BmWKiKCvBVipoWOpNUIL&utm_content_initial=yXzSAJWSuRbYeLFyMVFl|iJxXDTgPAXGQYOdgCzqe|xAEYTlJDbQNwQTLGxICQ|pmvTbUlmnwAkuHIbvKUg|lFpAoUqEvHoyZfCNRuCR|oxjYxrkwnRSTTYcVZzdb|dtYJKUplNmmKCOfiziff|NgTCwCMgdzcCqxiALuwY|aHSPdWXGkJravzWuwcJA|HbolMJUevblAbkHClEQa|kqZPVvZmXADsCZxIQwbv|QaGunexmXrztCWbLcYxs|OfdDOXSwHYclonQJpPxh|htxLmqvAkmISCliXGMzb|HbolMJUevblAbkHClEQa&utm_term_initial=&city=1&rental_page=rental_only&rental_car=rental_only&city=18</td>\n    </tr>\n    <tr>\n      <th id=\"T_bc170_level0_row7\" class=\"row_heading level0 row7\" >event_category</th>\n      <td id=\"T_bc170_row7_col0\" class=\"data row7 col0\" >object</td>\n      <td id=\"T_bc170_row7_col1\" class=\"data row7 col1\" >52</td>\n      <td id=\"T_bc170_row7_col2\" class=\"data row7 col2\" >0</td>\n      <td id=\"T_bc170_row7_col3\" class=\"data row7 col3\" >0.0%</td>\n      <td id=\"T_bc170_row7_col4\" class=\"data row7 col4\" >quiz</td>\n    </tr>\n    <tr>\n      <th id=\"T_bc170_level0_row8\" class=\"row_heading level0 row8\" >event_action</th>\n      <td id=\"T_bc170_row8_col0\" class=\"data row8 col0\" >object</td>\n      <td id=\"T_bc170_row8_col1\" class=\"data row8 col1\" >230</td>\n      <td id=\"T_bc170_row8_col2\" class=\"data row8 col2\" >0</td>\n      <td id=\"T_bc170_row8_col3\" class=\"data row8 col3\" >0.0%</td>\n      <td id=\"T_bc170_row8_col4\" class=\"data row8 col4\" >quiz_show</td>\n    </tr>\n  </tbody>\n</table>\n"
     },
     "metadata": {},
     "output_type": "display_data"
    },
    {
     "data": {
      "text/plain": "               Тип данных  Уникальных  Пропусков  % Пропусков  \\\nhit_time          float64      925887    9160322         58.2   \nhit_referer        object       37873    6274804         39.9   \nevent_label        object       39825    3760184         23.9   \nsession_id         object     1734610          0          0.0   \nhit_date           object         226          0          0.0   \nhit_number          int64         500          0          0.0   \nhit_page_path      object      342715          0          0.0   \nevent_category     object          52          0          0.0   \nevent_action       object         230          0          0.0   \n\n                                                  Пример значения  \nhit_time                                                 597864.0  \nhit_referer                                                   NaN  \nevent_label                                                   NaN  \nsession_id              5639623078712724064.1640254056.1640254056  \nhit_date                                               2021-12-23  \nhit_number                                                     30  \nhit_page_path   sberauto.com/cars?utm_source_initial=google&ut...  \nevent_category                                               quiz  \nevent_action                                            quiz_show  ",
      "text/html": "<div>\n<style scoped>\n    .dataframe tbody tr th:only-of-type {\n        vertical-align: middle;\n    }\n\n    .dataframe tbody tr th {\n        vertical-align: top;\n    }\n\n    .dataframe thead th {\n        text-align: right;\n    }\n</style>\n<table border=\"1\" class=\"dataframe\">\n  <thead>\n    <tr style=\"text-align: right;\">\n      <th></th>\n      <th>Тип данных</th>\n      <th>Уникальных</th>\n      <th>Пропусков</th>\n      <th>% Пропусков</th>\n      <th>Пример значения</th>\n    </tr>\n  </thead>\n  <tbody>\n    <tr>\n      <th>hit_time</th>\n      <td>float64</td>\n      <td>925887</td>\n      <td>9160322</td>\n      <td>58.2</td>\n      <td>597864.0</td>\n    </tr>\n    <tr>\n      <th>hit_referer</th>\n      <td>object</td>\n      <td>37873</td>\n      <td>6274804</td>\n      <td>39.9</td>\n      <td>NaN</td>\n    </tr>\n    <tr>\n      <th>event_label</th>\n      <td>object</td>\n      <td>39825</td>\n      <td>3760184</td>\n      <td>23.9</td>\n      <td>NaN</td>\n    </tr>\n    <tr>\n      <th>session_id</th>\n      <td>object</td>\n      <td>1734610</td>\n      <td>0</td>\n      <td>0.0</td>\n      <td>5639623078712724064.1640254056.1640254056</td>\n    </tr>\n    <tr>\n      <th>hit_date</th>\n      <td>object</td>\n      <td>226</td>\n      <td>0</td>\n      <td>0.0</td>\n      <td>2021-12-23</td>\n    </tr>\n    <tr>\n      <th>hit_number</th>\n      <td>int64</td>\n      <td>500</td>\n      <td>0</td>\n      <td>0.0</td>\n      <td>30</td>\n    </tr>\n    <tr>\n      <th>hit_page_path</th>\n      <td>object</td>\n      <td>342715</td>\n      <td>0</td>\n      <td>0.0</td>\n      <td>sberauto.com/cars?utm_source_initial=google&amp;ut...</td>\n    </tr>\n    <tr>\n      <th>event_category</th>\n      <td>object</td>\n      <td>52</td>\n      <td>0</td>\n      <td>0.0</td>\n      <td>quiz</td>\n    </tr>\n    <tr>\n      <th>event_action</th>\n      <td>object</td>\n      <td>230</td>\n      <td>0</td>\n      <td>0.0</td>\n      <td>quiz_show</td>\n    </tr>\n  </tbody>\n</table>\n</div>"
     },
     "execution_count": 108,
     "metadata": {},
     "output_type": "execute_result"
    }
   ],
   "source": [
    "explore_data_modern(sessions, SESSIONS_FRAME)\n",
    "explore_data_modern(hits, HITS_FRAME)"
   ],
   "metadata": {
    "collapsed": false,
    "ExecuteTime": {
     "end_time": "2025-07-06T16:01:19.726839Z",
     "start_time": "2025-07-06T16:00:54.823252Z"
    }
   },
   "id": "aa958891bd12fbae",
   "execution_count": 108
  },
  {
   "cell_type": "markdown",
   "source": [
    "**Удалим hit_page_path, ну потому что инфа совершенно бесполезна**"
   ],
   "metadata": {
    "collapsed": false
   },
   "id": "60eb9cf267cf5092"
  },
  {
   "cell_type": "code",
   "outputs": [
    {
     "name": "stdout",
     "output_type": "stream",
     "text": [
      "Сохранено: ../data/processed/hits_20250706_2001.pkl | Лог: ../data/processed/log_hits.txt\n"
     ]
    }
   ],
   "source": [
    "hits = hits.drop(columns=['hit_page_path'])\n",
    "save_hits('Удалён столбец: \"hit_page_path\"')"
   ],
   "metadata": {
    "collapsed": false,
    "ExecuteTime": {
     "end_time": "2025-07-06T16:02:37.331197Z",
     "start_time": "2025-07-06T16:01:40.019836Z"
    }
   },
   "id": "f34f8661a626724e",
   "execution_count": 109
  },
  {
   "cell_type": "markdown",
   "source": [
    "**Традиционно посмотрим**"
   ],
   "metadata": {
    "collapsed": false
   },
   "id": "f34a0d6286b241f4"
  },
  {
   "cell_type": "code",
   "outputs": [
    {
     "name": "stdout",
     "output_type": "stream",
     "text": [
      "\n",
      "🔍 Анализ датафрейма: hits\n",
      "\n",
      "📊 Основные характеристики колонок:\n"
     ]
    },
    {
     "data": {
      "text/plain": "<pandas.io.formats.style.Styler at 0x2810012fc20>",
      "text/html": "<style type=\"text/css\">\n#T_288d4_row0_col2, #T_288d4_row0_col3 {\n  background-color: #67000d;\n  color: #f1f1f1;\n}\n#T_288d4_row1_col2, #T_288d4_row1_col3 {\n  background-color: #dd2a25;\n  color: #f1f1f1;\n}\n#T_288d4_row2_col2, #T_288d4_row2_col3 {\n  background-color: #fc8666;\n  color: #f1f1f1;\n}\n#T_288d4_row3_col2, #T_288d4_row3_col3, #T_288d4_row4_col2, #T_288d4_row4_col3, #T_288d4_row5_col2, #T_288d4_row5_col3, #T_288d4_row6_col2, #T_288d4_row6_col3, #T_288d4_row7_col2, #T_288d4_row7_col3 {\n  background-color: #fff5f0;\n  color: #000000;\n}\n</style>\n<table id=\"T_288d4\">\n  <thead>\n    <tr>\n      <th class=\"blank level0\" >&nbsp;</th>\n      <th id=\"T_288d4_level0_col0\" class=\"col_heading level0 col0\" >Тип данных</th>\n      <th id=\"T_288d4_level0_col1\" class=\"col_heading level0 col1\" >Уникальных</th>\n      <th id=\"T_288d4_level0_col2\" class=\"col_heading level0 col2\" >Пропусков</th>\n      <th id=\"T_288d4_level0_col3\" class=\"col_heading level0 col3\" >% Пропусков</th>\n      <th id=\"T_288d4_level0_col4\" class=\"col_heading level0 col4\" >Пример значения</th>\n    </tr>\n  </thead>\n  <tbody>\n    <tr>\n      <th id=\"T_288d4_level0_row0\" class=\"row_heading level0 row0\" >hit_time</th>\n      <td id=\"T_288d4_row0_col0\" class=\"data row0 col0\" >float64</td>\n      <td id=\"T_288d4_row0_col1\" class=\"data row0 col1\" >925887</td>\n      <td id=\"T_288d4_row0_col2\" class=\"data row0 col2\" >9160322</td>\n      <td id=\"T_288d4_row0_col3\" class=\"data row0 col3\" >58.2%</td>\n      <td id=\"T_288d4_row0_col4\" class=\"data row0 col4\" >597864.000000</td>\n    </tr>\n    <tr>\n      <th id=\"T_288d4_level0_row1\" class=\"row_heading level0 row1\" >hit_referer</th>\n      <td id=\"T_288d4_row1_col0\" class=\"data row1 col0\" >object</td>\n      <td id=\"T_288d4_row1_col1\" class=\"data row1 col1\" >37873</td>\n      <td id=\"T_288d4_row1_col2\" class=\"data row1 col2\" >6274804</td>\n      <td id=\"T_288d4_row1_col3\" class=\"data row1 col3\" >39.9%</td>\n      <td id=\"T_288d4_row1_col4\" class=\"data row1 col4\" >nan</td>\n    </tr>\n    <tr>\n      <th id=\"T_288d4_level0_row2\" class=\"row_heading level0 row2\" >event_label</th>\n      <td id=\"T_288d4_row2_col0\" class=\"data row2 col0\" >object</td>\n      <td id=\"T_288d4_row2_col1\" class=\"data row2 col1\" >39825</td>\n      <td id=\"T_288d4_row2_col2\" class=\"data row2 col2\" >3760184</td>\n      <td id=\"T_288d4_row2_col3\" class=\"data row2 col3\" >23.9%</td>\n      <td id=\"T_288d4_row2_col4\" class=\"data row2 col4\" >nan</td>\n    </tr>\n    <tr>\n      <th id=\"T_288d4_level0_row3\" class=\"row_heading level0 row3\" >session_id</th>\n      <td id=\"T_288d4_row3_col0\" class=\"data row3 col0\" >object</td>\n      <td id=\"T_288d4_row3_col1\" class=\"data row3 col1\" >1734610</td>\n      <td id=\"T_288d4_row3_col2\" class=\"data row3 col2\" >0</td>\n      <td id=\"T_288d4_row3_col3\" class=\"data row3 col3\" >0.0%</td>\n      <td id=\"T_288d4_row3_col4\" class=\"data row3 col4\" >5639623078712724064.1640254056.1640254056</td>\n    </tr>\n    <tr>\n      <th id=\"T_288d4_level0_row4\" class=\"row_heading level0 row4\" >hit_date</th>\n      <td id=\"T_288d4_row4_col0\" class=\"data row4 col0\" >object</td>\n      <td id=\"T_288d4_row4_col1\" class=\"data row4 col1\" >226</td>\n      <td id=\"T_288d4_row4_col2\" class=\"data row4 col2\" >0</td>\n      <td id=\"T_288d4_row4_col3\" class=\"data row4 col3\" >0.0%</td>\n      <td id=\"T_288d4_row4_col4\" class=\"data row4 col4\" >2021-12-23</td>\n    </tr>\n    <tr>\n      <th id=\"T_288d4_level0_row5\" class=\"row_heading level0 row5\" >hit_number</th>\n      <td id=\"T_288d4_row5_col0\" class=\"data row5 col0\" >int64</td>\n      <td id=\"T_288d4_row5_col1\" class=\"data row5 col1\" >500</td>\n      <td id=\"T_288d4_row5_col2\" class=\"data row5 col2\" >0</td>\n      <td id=\"T_288d4_row5_col3\" class=\"data row5 col3\" >0.0%</td>\n      <td id=\"T_288d4_row5_col4\" class=\"data row5 col4\" >30</td>\n    </tr>\n    <tr>\n      <th id=\"T_288d4_level0_row6\" class=\"row_heading level0 row6\" >event_category</th>\n      <td id=\"T_288d4_row6_col0\" class=\"data row6 col0\" >object</td>\n      <td id=\"T_288d4_row6_col1\" class=\"data row6 col1\" >52</td>\n      <td id=\"T_288d4_row6_col2\" class=\"data row6 col2\" >0</td>\n      <td id=\"T_288d4_row6_col3\" class=\"data row6 col3\" >0.0%</td>\n      <td id=\"T_288d4_row6_col4\" class=\"data row6 col4\" >quiz</td>\n    </tr>\n    <tr>\n      <th id=\"T_288d4_level0_row7\" class=\"row_heading level0 row7\" >event_action</th>\n      <td id=\"T_288d4_row7_col0\" class=\"data row7 col0\" >object</td>\n      <td id=\"T_288d4_row7_col1\" class=\"data row7 col1\" >230</td>\n      <td id=\"T_288d4_row7_col2\" class=\"data row7 col2\" >0</td>\n      <td id=\"T_288d4_row7_col3\" class=\"data row7 col3\" >0.0%</td>\n      <td id=\"T_288d4_row7_col4\" class=\"data row7 col4\" >quiz_show</td>\n    </tr>\n  </tbody>\n</table>\n"
     },
     "metadata": {},
     "output_type": "display_data"
    },
    {
     "data": {
      "text/plain": "               Тип данных  Уникальных  Пропусков  % Пропусков  \\\nhit_time          float64      925887    9160322         58.2   \nhit_referer        object       37873    6274804         39.9   \nevent_label        object       39825    3760184         23.9   \nsession_id         object     1734610          0          0.0   \nhit_date           object         226          0          0.0   \nhit_number          int64         500          0          0.0   \nevent_category     object          52          0          0.0   \nevent_action       object         230          0          0.0   \n\n                                          Пример значения  \nhit_time                                         597864.0  \nhit_referer                                           NaN  \nevent_label                                           NaN  \nsession_id      5639623078712724064.1640254056.1640254056  \nhit_date                                       2021-12-23  \nhit_number                                             30  \nevent_category                                       quiz  \nevent_action                                    quiz_show  ",
      "text/html": "<div>\n<style scoped>\n    .dataframe tbody tr th:only-of-type {\n        vertical-align: middle;\n    }\n\n    .dataframe tbody tr th {\n        vertical-align: top;\n    }\n\n    .dataframe thead th {\n        text-align: right;\n    }\n</style>\n<table border=\"1\" class=\"dataframe\">\n  <thead>\n    <tr style=\"text-align: right;\">\n      <th></th>\n      <th>Тип данных</th>\n      <th>Уникальных</th>\n      <th>Пропусков</th>\n      <th>% Пропусков</th>\n      <th>Пример значения</th>\n    </tr>\n  </thead>\n  <tbody>\n    <tr>\n      <th>hit_time</th>\n      <td>float64</td>\n      <td>925887</td>\n      <td>9160322</td>\n      <td>58.2</td>\n      <td>597864.0</td>\n    </tr>\n    <tr>\n      <th>hit_referer</th>\n      <td>object</td>\n      <td>37873</td>\n      <td>6274804</td>\n      <td>39.9</td>\n      <td>NaN</td>\n    </tr>\n    <tr>\n      <th>event_label</th>\n      <td>object</td>\n      <td>39825</td>\n      <td>3760184</td>\n      <td>23.9</td>\n      <td>NaN</td>\n    </tr>\n    <tr>\n      <th>session_id</th>\n      <td>object</td>\n      <td>1734610</td>\n      <td>0</td>\n      <td>0.0</td>\n      <td>5639623078712724064.1640254056.1640254056</td>\n    </tr>\n    <tr>\n      <th>hit_date</th>\n      <td>object</td>\n      <td>226</td>\n      <td>0</td>\n      <td>0.0</td>\n      <td>2021-12-23</td>\n    </tr>\n    <tr>\n      <th>hit_number</th>\n      <td>int64</td>\n      <td>500</td>\n      <td>0</td>\n      <td>0.0</td>\n      <td>30</td>\n    </tr>\n    <tr>\n      <th>event_category</th>\n      <td>object</td>\n      <td>52</td>\n      <td>0</td>\n      <td>0.0</td>\n      <td>quiz</td>\n    </tr>\n    <tr>\n      <th>event_action</th>\n      <td>object</td>\n      <td>230</td>\n      <td>0</td>\n      <td>0.0</td>\n      <td>quiz_show</td>\n    </tr>\n  </tbody>\n</table>\n</div>"
     },
     "execution_count": 110,
     "metadata": {},
     "output_type": "execute_result"
    }
   ],
   "source": [
    "explore_data_modern(hits, HITS_FRAME)"
   ],
   "metadata": {
    "collapsed": false,
    "ExecuteTime": {
     "end_time": "2025-07-06T16:02:51.077100Z",
     "start_time": "2025-07-06T16:02:37.334206Z"
    }
   },
   "id": "7604a615af459622",
   "execution_count": 110
  },
  {
   "cell_type": "code",
   "outputs": [],
   "source": [
    "print(\"Категории:\")\n",
    "print(hits['event_category'].value_counts())"
   ],
   "metadata": {
    "collapsed": false
   },
   "id": "d3abc1f6a7fff653",
   "execution_count": null
  },
  {
   "cell_type": "markdown",
   "source": [
    "**event_category не содержит ничего интересного, event_label при наличии 40 000 уникальных значений, как то связанных с event - это мусор**"
   ],
   "metadata": {
    "collapsed": false
   },
   "id": "adfe9acb502e229b"
  },
  {
   "cell_type": "code",
   "outputs": [
    {
     "name": "stdout",
     "output_type": "stream",
     "text": [
      "Сохранено: ../data/processed/hits_20250706_2003.pkl | Лог: ../data/processed/log_hits.txt\n"
     ]
    }
   ],
   "source": [
    "hits = hits.drop(columns=['event_label', 'event_category'])\n",
    "save_hits('Удалён столбец: \"event_label\", \"event_category\"')"
   ],
   "metadata": {
    "collapsed": false,
    "ExecuteTime": {
     "end_time": "2025-07-06T16:03:48.170216Z",
     "start_time": "2025-07-06T16:03:04.766194Z"
    }
   },
   "id": "4cad7985eeb1d32d",
   "execution_count": 111
  },
  {
   "cell_type": "markdown",
   "source": [
    "**Снова посмотрим**"
   ],
   "metadata": {
    "collapsed": false
   },
   "id": "b0679a36bedf4fe1"
  },
  {
   "cell_type": "code",
   "outputs": [
    {
     "name": "stdout",
     "output_type": "stream",
     "text": [
      "\n",
      "🔍 Анализ датафрейма: sessions\n",
      "\n",
      "📊 Основные характеристики колонок:\n"
     ]
    },
    {
     "data": {
      "text/plain": "<pandas.io.formats.style.Styler at 0x28210032cc0>",
      "text/html": "<style type=\"text/css\">\n#T_1399a_row0_col2, #T_1399a_row0_col3 {\n  background-color: #67000d;\n  color: #f1f1f1;\n}\n#T_1399a_row1_col2, #T_1399a_row1_col3, #T_1399a_row2_col2, #T_1399a_row2_col3, #T_1399a_row3_col2, #T_1399a_row3_col3, #T_1399a_row4_col2, #T_1399a_row4_col3, #T_1399a_row5_col2, #T_1399a_row5_col3, #T_1399a_row6_col2, #T_1399a_row6_col3, #T_1399a_row7_col2, #T_1399a_row7_col3, #T_1399a_row8_col2, #T_1399a_row8_col3, #T_1399a_row9_col2, #T_1399a_row9_col3, #T_1399a_row10_col2, #T_1399a_row10_col3, #T_1399a_row11_col2, #T_1399a_row11_col3 {\n  background-color: #fff5f0;\n  color: #000000;\n}\n</style>\n<table id=\"T_1399a\">\n  <thead>\n    <tr>\n      <th class=\"blank level0\" >&nbsp;</th>\n      <th id=\"T_1399a_level0_col0\" class=\"col_heading level0 col0\" >Тип данных</th>\n      <th id=\"T_1399a_level0_col1\" class=\"col_heading level0 col1\" >Уникальных</th>\n      <th id=\"T_1399a_level0_col2\" class=\"col_heading level0 col2\" >Пропусков</th>\n      <th id=\"T_1399a_level0_col3\" class=\"col_heading level0 col3\" >% Пропусков</th>\n      <th id=\"T_1399a_level0_col4\" class=\"col_heading level0 col4\" >Пример значения</th>\n    </tr>\n  </thead>\n  <tbody>\n    <tr>\n      <th id=\"T_1399a_level0_row0\" class=\"row_heading level0 row0\" >device_brand</th>\n      <td id=\"T_1399a_row0_col0\" class=\"data row0 col0\" >object</td>\n      <td id=\"T_1399a_row0_col1\" class=\"data row0 col1\" >206</td>\n      <td id=\"T_1399a_row0_col2\" class=\"data row0 col2\" >118678</td>\n      <td id=\"T_1399a_row0_col3\" class=\"data row0 col3\" >6.4%</td>\n      <td id=\"T_1399a_row0_col4\" class=\"data row0 col4\" >Huawei</td>\n    </tr>\n    <tr>\n      <th id=\"T_1399a_level0_row1\" class=\"row_heading level0 row1\" >session_id</th>\n      <td id=\"T_1399a_row1_col0\" class=\"data row1 col0\" >object</td>\n      <td id=\"T_1399a_row1_col1\" class=\"data row1 col1\" >1860042</td>\n      <td id=\"T_1399a_row1_col2\" class=\"data row1 col2\" >0</td>\n      <td id=\"T_1399a_row1_col3\" class=\"data row1 col3\" >0.0%</td>\n      <td id=\"T_1399a_row1_col4\" class=\"data row1 col4\" >9055434745589932991.1637753792.1637753792</td>\n    </tr>\n    <tr>\n      <th id=\"T_1399a_level0_row2\" class=\"row_heading level0 row2\" >client_id</th>\n      <td id=\"T_1399a_row2_col0\" class=\"data row2 col0\" >object</td>\n      <td id=\"T_1399a_row2_col1\" class=\"data row2 col1\" >1391719</td>\n      <td id=\"T_1399a_row2_col2\" class=\"data row2 col2\" >0</td>\n      <td id=\"T_1399a_row2_col3\" class=\"data row2 col3\" >0.0%</td>\n      <td id=\"T_1399a_row2_col4\" class=\"data row2 col4\" >2108382700.1637753791</td>\n    </tr>\n    <tr>\n      <th id=\"T_1399a_level0_row3\" class=\"row_heading level0 row3\" >visit_date</th>\n      <td id=\"T_1399a_row3_col0\" class=\"data row3 col0\" >object</td>\n      <td id=\"T_1399a_row3_col1\" class=\"data row3 col1\" >226</td>\n      <td id=\"T_1399a_row3_col2\" class=\"data row3 col2\" >0</td>\n      <td id=\"T_1399a_row3_col3\" class=\"data row3 col3\" >0.0%</td>\n      <td id=\"T_1399a_row3_col4\" class=\"data row3 col4\" >2021-11-24</td>\n    </tr>\n    <tr>\n      <th id=\"T_1399a_level0_row4\" class=\"row_heading level0 row4\" >visit_time</th>\n      <td id=\"T_1399a_row4_col0\" class=\"data row4 col0\" >object</td>\n      <td id=\"T_1399a_row4_col1\" class=\"data row4 col1\" >85318</td>\n      <td id=\"T_1399a_row4_col2\" class=\"data row4 col2\" >0</td>\n      <td id=\"T_1399a_row4_col3\" class=\"data row4 col3\" >0.0%</td>\n      <td id=\"T_1399a_row4_col4\" class=\"data row4 col4\" >14:36:32</td>\n    </tr>\n    <tr>\n      <th id=\"T_1399a_level0_row5\" class=\"row_heading level0 row5\" >visit_number</th>\n      <td id=\"T_1399a_row5_col0\" class=\"data row5 col0\" >int64</td>\n      <td id=\"T_1399a_row5_col1\" class=\"data row5 col1\" >537</td>\n      <td id=\"T_1399a_row5_col2\" class=\"data row5 col2\" >0</td>\n      <td id=\"T_1399a_row5_col3\" class=\"data row5 col3\" >0.0%</td>\n      <td id=\"T_1399a_row5_col4\" class=\"data row5 col4\" >1</td>\n    </tr>\n    <tr>\n      <th id=\"T_1399a_level0_row6\" class=\"row_heading level0 row6\" >utm_medium</th>\n      <td id=\"T_1399a_row6_col0\" class=\"data row6 col0\" >object</td>\n      <td id=\"T_1399a_row6_col1\" class=\"data row6 col1\" >56</td>\n      <td id=\"T_1399a_row6_col2\" class=\"data row6 col2\" >0</td>\n      <td id=\"T_1399a_row6_col3\" class=\"data row6 col3\" >0.0%</td>\n      <td id=\"T_1399a_row6_col4\" class=\"data row6 col4\" >banner</td>\n    </tr>\n    <tr>\n      <th id=\"T_1399a_level0_row7\" class=\"row_heading level0 row7\" >device_category</th>\n      <td id=\"T_1399a_row7_col0\" class=\"data row7 col0\" >object</td>\n      <td id=\"T_1399a_row7_col1\" class=\"data row7 col1\" >3</td>\n      <td id=\"T_1399a_row7_col2\" class=\"data row7 col2\" >0</td>\n      <td id=\"T_1399a_row7_col3\" class=\"data row7 col3\" >0.0%</td>\n      <td id=\"T_1399a_row7_col4\" class=\"data row7 col4\" >mobile</td>\n    </tr>\n    <tr>\n      <th id=\"T_1399a_level0_row8\" class=\"row_heading level0 row8\" >device_screen_resolution</th>\n      <td id=\"T_1399a_row8_col0\" class=\"data row8 col0\" >object</td>\n      <td id=\"T_1399a_row8_col1\" class=\"data row8 col1\" >5039</td>\n      <td id=\"T_1399a_row8_col2\" class=\"data row8 col2\" >0</td>\n      <td id=\"T_1399a_row8_col3\" class=\"data row8 col3\" >0.0%</td>\n      <td id=\"T_1399a_row8_col4\" class=\"data row8 col4\" >360x720</td>\n    </tr>\n    <tr>\n      <th id=\"T_1399a_level0_row9\" class=\"row_heading level0 row9\" >device_browser</th>\n      <td id=\"T_1399a_row9_col0\" class=\"data row9 col0\" >object</td>\n      <td id=\"T_1399a_row9_col1\" class=\"data row9 col1\" >57</td>\n      <td id=\"T_1399a_row9_col2\" class=\"data row9 col2\" >0</td>\n      <td id=\"T_1399a_row9_col3\" class=\"data row9 col3\" >0.0%</td>\n      <td id=\"T_1399a_row9_col4\" class=\"data row9 col4\" >Chrome</td>\n    </tr>\n    <tr>\n      <th id=\"T_1399a_level0_row10\" class=\"row_heading level0 row10\" >geo_country</th>\n      <td id=\"T_1399a_row10_col0\" class=\"data row10 col0\" >object</td>\n      <td id=\"T_1399a_row10_col1\" class=\"data row10 col1\" >166</td>\n      <td id=\"T_1399a_row10_col2\" class=\"data row10 col2\" >0</td>\n      <td id=\"T_1399a_row10_col3\" class=\"data row10 col3\" >0.0%</td>\n      <td id=\"T_1399a_row10_col4\" class=\"data row10 col4\" >Russia</td>\n    </tr>\n    <tr>\n      <th id=\"T_1399a_level0_row11\" class=\"row_heading level0 row11\" >geo_city</th>\n      <td id=\"T_1399a_row11_col0\" class=\"data row11 col0\" >object</td>\n      <td id=\"T_1399a_row11_col1\" class=\"data row11 col1\" >2548</td>\n      <td id=\"T_1399a_row11_col2\" class=\"data row11 col2\" >0</td>\n      <td id=\"T_1399a_row11_col3\" class=\"data row11 col3\" >0.0%</td>\n      <td id=\"T_1399a_row11_col4\" class=\"data row11 col4\" >Zlatoust</td>\n    </tr>\n  </tbody>\n</table>\n"
     },
     "metadata": {},
     "output_type": "display_data"
    },
    {
     "name": "stdout",
     "output_type": "stream",
     "text": [
      "\n",
      "🔍 Анализ датафрейма: hits\n",
      "\n",
      "📊 Основные характеристики колонок:\n"
     ]
    },
    {
     "data": {
      "text/plain": "<pandas.io.formats.style.Styler at 0x281000d9a00>",
      "text/html": "<style type=\"text/css\">\n#T_8b00e_row0_col2, #T_8b00e_row0_col3 {\n  background-color: #67000d;\n  color: #f1f1f1;\n}\n#T_8b00e_row1_col2, #T_8b00e_row1_col3 {\n  background-color: #dd2a25;\n  color: #f1f1f1;\n}\n#T_8b00e_row2_col2, #T_8b00e_row2_col3, #T_8b00e_row3_col2, #T_8b00e_row3_col3, #T_8b00e_row4_col2, #T_8b00e_row4_col3, #T_8b00e_row5_col2, #T_8b00e_row5_col3 {\n  background-color: #fff5f0;\n  color: #000000;\n}\n</style>\n<table id=\"T_8b00e\">\n  <thead>\n    <tr>\n      <th class=\"blank level0\" >&nbsp;</th>\n      <th id=\"T_8b00e_level0_col0\" class=\"col_heading level0 col0\" >Тип данных</th>\n      <th id=\"T_8b00e_level0_col1\" class=\"col_heading level0 col1\" >Уникальных</th>\n      <th id=\"T_8b00e_level0_col2\" class=\"col_heading level0 col2\" >Пропусков</th>\n      <th id=\"T_8b00e_level0_col3\" class=\"col_heading level0 col3\" >% Пропусков</th>\n      <th id=\"T_8b00e_level0_col4\" class=\"col_heading level0 col4\" >Пример значения</th>\n    </tr>\n  </thead>\n  <tbody>\n    <tr>\n      <th id=\"T_8b00e_level0_row0\" class=\"row_heading level0 row0\" >hit_time</th>\n      <td id=\"T_8b00e_row0_col0\" class=\"data row0 col0\" >float64</td>\n      <td id=\"T_8b00e_row0_col1\" class=\"data row0 col1\" >925887</td>\n      <td id=\"T_8b00e_row0_col2\" class=\"data row0 col2\" >9160322</td>\n      <td id=\"T_8b00e_row0_col3\" class=\"data row0 col3\" >58.2%</td>\n      <td id=\"T_8b00e_row0_col4\" class=\"data row0 col4\" >597864.000000</td>\n    </tr>\n    <tr>\n      <th id=\"T_8b00e_level0_row1\" class=\"row_heading level0 row1\" >hit_referer</th>\n      <td id=\"T_8b00e_row1_col0\" class=\"data row1 col0\" >object</td>\n      <td id=\"T_8b00e_row1_col1\" class=\"data row1 col1\" >37873</td>\n      <td id=\"T_8b00e_row1_col2\" class=\"data row1 col2\" >6274804</td>\n      <td id=\"T_8b00e_row1_col3\" class=\"data row1 col3\" >39.9%</td>\n      <td id=\"T_8b00e_row1_col4\" class=\"data row1 col4\" >nan</td>\n    </tr>\n    <tr>\n      <th id=\"T_8b00e_level0_row2\" class=\"row_heading level0 row2\" >session_id</th>\n      <td id=\"T_8b00e_row2_col0\" class=\"data row2 col0\" >object</td>\n      <td id=\"T_8b00e_row2_col1\" class=\"data row2 col1\" >1734610</td>\n      <td id=\"T_8b00e_row2_col2\" class=\"data row2 col2\" >0</td>\n      <td id=\"T_8b00e_row2_col3\" class=\"data row2 col3\" >0.0%</td>\n      <td id=\"T_8b00e_row2_col4\" class=\"data row2 col4\" >5639623078712724064.1640254056.1640254056</td>\n    </tr>\n    <tr>\n      <th id=\"T_8b00e_level0_row3\" class=\"row_heading level0 row3\" >hit_date</th>\n      <td id=\"T_8b00e_row3_col0\" class=\"data row3 col0\" >object</td>\n      <td id=\"T_8b00e_row3_col1\" class=\"data row3 col1\" >226</td>\n      <td id=\"T_8b00e_row3_col2\" class=\"data row3 col2\" >0</td>\n      <td id=\"T_8b00e_row3_col3\" class=\"data row3 col3\" >0.0%</td>\n      <td id=\"T_8b00e_row3_col4\" class=\"data row3 col4\" >2021-12-23</td>\n    </tr>\n    <tr>\n      <th id=\"T_8b00e_level0_row4\" class=\"row_heading level0 row4\" >hit_number</th>\n      <td id=\"T_8b00e_row4_col0\" class=\"data row4 col0\" >int64</td>\n      <td id=\"T_8b00e_row4_col1\" class=\"data row4 col1\" >500</td>\n      <td id=\"T_8b00e_row4_col2\" class=\"data row4 col2\" >0</td>\n      <td id=\"T_8b00e_row4_col3\" class=\"data row4 col3\" >0.0%</td>\n      <td id=\"T_8b00e_row4_col4\" class=\"data row4 col4\" >30</td>\n    </tr>\n    <tr>\n      <th id=\"T_8b00e_level0_row5\" class=\"row_heading level0 row5\" >event_action</th>\n      <td id=\"T_8b00e_row5_col0\" class=\"data row5 col0\" >object</td>\n      <td id=\"T_8b00e_row5_col1\" class=\"data row5 col1\" >230</td>\n      <td id=\"T_8b00e_row5_col2\" class=\"data row5 col2\" >0</td>\n      <td id=\"T_8b00e_row5_col3\" class=\"data row5 col3\" >0.0%</td>\n      <td id=\"T_8b00e_row5_col4\" class=\"data row5 col4\" >quiz_show</td>\n    </tr>\n  </tbody>\n</table>\n"
     },
     "metadata": {},
     "output_type": "display_data"
    },
    {
     "data": {
      "text/plain": "             Тип данных  Уникальных  Пропусков  % Пропусков  \\\nhit_time        float64      925887    9160322         58.2   \nhit_referer      object       37873    6274804         39.9   \nsession_id       object     1734610          0          0.0   \nhit_date         object         226          0          0.0   \nhit_number        int64         500          0          0.0   \nevent_action     object         230          0          0.0   \n\n                                        Пример значения  \nhit_time                                       597864.0  \nhit_referer                                         NaN  \nsession_id    5639623078712724064.1640254056.1640254056  \nhit_date                                     2021-12-23  \nhit_number                                           30  \nevent_action                                  quiz_show  ",
      "text/html": "<div>\n<style scoped>\n    .dataframe tbody tr th:only-of-type {\n        vertical-align: middle;\n    }\n\n    .dataframe tbody tr th {\n        vertical-align: top;\n    }\n\n    .dataframe thead th {\n        text-align: right;\n    }\n</style>\n<table border=\"1\" class=\"dataframe\">\n  <thead>\n    <tr style=\"text-align: right;\">\n      <th></th>\n      <th>Тип данных</th>\n      <th>Уникальных</th>\n      <th>Пропусков</th>\n      <th>% Пропусков</th>\n      <th>Пример значения</th>\n    </tr>\n  </thead>\n  <tbody>\n    <tr>\n      <th>hit_time</th>\n      <td>float64</td>\n      <td>925887</td>\n      <td>9160322</td>\n      <td>58.2</td>\n      <td>597864.0</td>\n    </tr>\n    <tr>\n      <th>hit_referer</th>\n      <td>object</td>\n      <td>37873</td>\n      <td>6274804</td>\n      <td>39.9</td>\n      <td>NaN</td>\n    </tr>\n    <tr>\n      <th>session_id</th>\n      <td>object</td>\n      <td>1734610</td>\n      <td>0</td>\n      <td>0.0</td>\n      <td>5639623078712724064.1640254056.1640254056</td>\n    </tr>\n    <tr>\n      <th>hit_date</th>\n      <td>object</td>\n      <td>226</td>\n      <td>0</td>\n      <td>0.0</td>\n      <td>2021-12-23</td>\n    </tr>\n    <tr>\n      <th>hit_number</th>\n      <td>int64</td>\n      <td>500</td>\n      <td>0</td>\n      <td>0.0</td>\n      <td>30</td>\n    </tr>\n    <tr>\n      <th>event_action</th>\n      <td>object</td>\n      <td>230</td>\n      <td>0</td>\n      <td>0.0</td>\n      <td>quiz_show</td>\n    </tr>\n  </tbody>\n</table>\n</div>"
     },
     "execution_count": 112,
     "metadata": {},
     "output_type": "execute_result"
    }
   ],
   "source": [
    "explore_data_modern(sessions, SESSIONS_FRAME)\n",
    "explore_data_modern(hits, HITS_FRAME)"
   ],
   "metadata": {
    "collapsed": false,
    "ExecuteTime": {
     "end_time": "2025-07-06T16:04:08.269541Z",
     "start_time": "2025-07-06T16:03:52.467755Z"
    }
   },
   "id": "18de3596b6570a6d",
   "execution_count": 112
  },
  {
   "cell_type": "markdown",
   "source": [
    "## Попробуем заполнить пропуски device_brand\n",
    "### Ранее мы отложили missing_brand\n",
    "**Сначала заполним категорию desktop значением NoName**"
   ],
   "metadata": {
    "collapsed": false
   },
   "id": "e4221ba93e658001"
  },
  {
   "cell_type": "code",
   "outputs": [
    {
     "name": "stdout",
     "output_type": "stream",
     "text": [
      "Сохранено: ../data/processed/sessions_20250706_2012.pkl | Лог: ../data/processed/log_sessions.txt\n"
     ]
    }
   ],
   "source": [
    "sessions.loc[sessions['device_brand'].isna() & (sessions['device_category'] == 'desktop'), 'device_brand'] = 'NoName'\n",
    "save_session('Заполнение пропусков в device_brand значениями NoName для категории desktop')"
   ],
   "metadata": {
    "collapsed": false,
    "ExecuteTime": {
     "end_time": "2025-07-06T16:12:24.835726Z",
     "start_time": "2025-07-06T16:12:11.808382Z"
    }
   },
   "id": "3e0de1876a56785",
   "execution_count": 114
  },
  {
   "cell_type": "markdown",
   "source": [
    "**Посмотрим**"
   ],
   "metadata": {
    "collapsed": false
   },
   "id": "992b38c9da6f695f"
  },
  {
   "cell_type": "code",
   "outputs": [
    {
     "name": "stdout",
     "output_type": "stream",
     "text": [
      "\n",
      "🔍 Анализ датафрейма: sessions\n",
      "\n",
      "📊 Основные характеристики колонок:\n"
     ]
    },
    {
     "data": {
      "text/plain": "<pandas.io.formats.style.Styler at 0x282001bb080>",
      "text/html": "<style type=\"text/css\">\n#T_28a8e_row0_col2 {\n  background-color: #67000d;\n  color: #f1f1f1;\n}\n#T_28a8e_row0_col3, #T_28a8e_row1_col2, #T_28a8e_row1_col3, #T_28a8e_row2_col2, #T_28a8e_row2_col3, #T_28a8e_row3_col2, #T_28a8e_row3_col3, #T_28a8e_row4_col2, #T_28a8e_row4_col3, #T_28a8e_row5_col2, #T_28a8e_row5_col3, #T_28a8e_row6_col2, #T_28a8e_row6_col3, #T_28a8e_row7_col2, #T_28a8e_row7_col3, #T_28a8e_row8_col2, #T_28a8e_row8_col3, #T_28a8e_row9_col2, #T_28a8e_row9_col3, #T_28a8e_row10_col2, #T_28a8e_row10_col3, #T_28a8e_row11_col2, #T_28a8e_row11_col3 {\n  background-color: #fff5f0;\n  color: #000000;\n}\n</style>\n<table id=\"T_28a8e\">\n  <thead>\n    <tr>\n      <th class=\"blank level0\" >&nbsp;</th>\n      <th id=\"T_28a8e_level0_col0\" class=\"col_heading level0 col0\" >Тип данных</th>\n      <th id=\"T_28a8e_level0_col1\" class=\"col_heading level0 col1\" >Уникальных</th>\n      <th id=\"T_28a8e_level0_col2\" class=\"col_heading level0 col2\" >Пропусков</th>\n      <th id=\"T_28a8e_level0_col3\" class=\"col_heading level0 col3\" >% Пропусков</th>\n      <th id=\"T_28a8e_level0_col4\" class=\"col_heading level0 col4\" >Пример значения</th>\n    </tr>\n  </thead>\n  <tbody>\n    <tr>\n      <th id=\"T_28a8e_level0_row0\" class=\"row_heading level0 row0\" >device_brand</th>\n      <td id=\"T_28a8e_row0_col0\" class=\"data row0 col0\" >object</td>\n      <td id=\"T_28a8e_row0_col1\" class=\"data row0 col1\" >207</td>\n      <td id=\"T_28a8e_row0_col2\" class=\"data row0 col2\" >93</td>\n      <td id=\"T_28a8e_row0_col3\" class=\"data row0 col3\" >0.0%</td>\n      <td id=\"T_28a8e_row0_col4\" class=\"data row0 col4\" >Huawei</td>\n    </tr>\n    <tr>\n      <th id=\"T_28a8e_level0_row1\" class=\"row_heading level0 row1\" >session_id</th>\n      <td id=\"T_28a8e_row1_col0\" class=\"data row1 col0\" >object</td>\n      <td id=\"T_28a8e_row1_col1\" class=\"data row1 col1\" >1860042</td>\n      <td id=\"T_28a8e_row1_col2\" class=\"data row1 col2\" >0</td>\n      <td id=\"T_28a8e_row1_col3\" class=\"data row1 col3\" >0.0%</td>\n      <td id=\"T_28a8e_row1_col4\" class=\"data row1 col4\" >9055434745589932991.1637753792.1637753792</td>\n    </tr>\n    <tr>\n      <th id=\"T_28a8e_level0_row2\" class=\"row_heading level0 row2\" >client_id</th>\n      <td id=\"T_28a8e_row2_col0\" class=\"data row2 col0\" >object</td>\n      <td id=\"T_28a8e_row2_col1\" class=\"data row2 col1\" >1391719</td>\n      <td id=\"T_28a8e_row2_col2\" class=\"data row2 col2\" >0</td>\n      <td id=\"T_28a8e_row2_col3\" class=\"data row2 col3\" >0.0%</td>\n      <td id=\"T_28a8e_row2_col4\" class=\"data row2 col4\" >2108382700.1637753791</td>\n    </tr>\n    <tr>\n      <th id=\"T_28a8e_level0_row3\" class=\"row_heading level0 row3\" >visit_date</th>\n      <td id=\"T_28a8e_row3_col0\" class=\"data row3 col0\" >object</td>\n      <td id=\"T_28a8e_row3_col1\" class=\"data row3 col1\" >226</td>\n      <td id=\"T_28a8e_row3_col2\" class=\"data row3 col2\" >0</td>\n      <td id=\"T_28a8e_row3_col3\" class=\"data row3 col3\" >0.0%</td>\n      <td id=\"T_28a8e_row3_col4\" class=\"data row3 col4\" >2021-11-24</td>\n    </tr>\n    <tr>\n      <th id=\"T_28a8e_level0_row4\" class=\"row_heading level0 row4\" >visit_time</th>\n      <td id=\"T_28a8e_row4_col0\" class=\"data row4 col0\" >object</td>\n      <td id=\"T_28a8e_row4_col1\" class=\"data row4 col1\" >85318</td>\n      <td id=\"T_28a8e_row4_col2\" class=\"data row4 col2\" >0</td>\n      <td id=\"T_28a8e_row4_col3\" class=\"data row4 col3\" >0.0%</td>\n      <td id=\"T_28a8e_row4_col4\" class=\"data row4 col4\" >14:36:32</td>\n    </tr>\n    <tr>\n      <th id=\"T_28a8e_level0_row5\" class=\"row_heading level0 row5\" >visit_number</th>\n      <td id=\"T_28a8e_row5_col0\" class=\"data row5 col0\" >int64</td>\n      <td id=\"T_28a8e_row5_col1\" class=\"data row5 col1\" >537</td>\n      <td id=\"T_28a8e_row5_col2\" class=\"data row5 col2\" >0</td>\n      <td id=\"T_28a8e_row5_col3\" class=\"data row5 col3\" >0.0%</td>\n      <td id=\"T_28a8e_row5_col4\" class=\"data row5 col4\" >1</td>\n    </tr>\n    <tr>\n      <th id=\"T_28a8e_level0_row6\" class=\"row_heading level0 row6\" >utm_medium</th>\n      <td id=\"T_28a8e_row6_col0\" class=\"data row6 col0\" >object</td>\n      <td id=\"T_28a8e_row6_col1\" class=\"data row6 col1\" >56</td>\n      <td id=\"T_28a8e_row6_col2\" class=\"data row6 col2\" >0</td>\n      <td id=\"T_28a8e_row6_col3\" class=\"data row6 col3\" >0.0%</td>\n      <td id=\"T_28a8e_row6_col4\" class=\"data row6 col4\" >banner</td>\n    </tr>\n    <tr>\n      <th id=\"T_28a8e_level0_row7\" class=\"row_heading level0 row7\" >device_category</th>\n      <td id=\"T_28a8e_row7_col0\" class=\"data row7 col0\" >object</td>\n      <td id=\"T_28a8e_row7_col1\" class=\"data row7 col1\" >3</td>\n      <td id=\"T_28a8e_row7_col2\" class=\"data row7 col2\" >0</td>\n      <td id=\"T_28a8e_row7_col3\" class=\"data row7 col3\" >0.0%</td>\n      <td id=\"T_28a8e_row7_col4\" class=\"data row7 col4\" >mobile</td>\n    </tr>\n    <tr>\n      <th id=\"T_28a8e_level0_row8\" class=\"row_heading level0 row8\" >device_screen_resolution</th>\n      <td id=\"T_28a8e_row8_col0\" class=\"data row8 col0\" >object</td>\n      <td id=\"T_28a8e_row8_col1\" class=\"data row8 col1\" >5039</td>\n      <td id=\"T_28a8e_row8_col2\" class=\"data row8 col2\" >0</td>\n      <td id=\"T_28a8e_row8_col3\" class=\"data row8 col3\" >0.0%</td>\n      <td id=\"T_28a8e_row8_col4\" class=\"data row8 col4\" >360x720</td>\n    </tr>\n    <tr>\n      <th id=\"T_28a8e_level0_row9\" class=\"row_heading level0 row9\" >device_browser</th>\n      <td id=\"T_28a8e_row9_col0\" class=\"data row9 col0\" >object</td>\n      <td id=\"T_28a8e_row9_col1\" class=\"data row9 col1\" >57</td>\n      <td id=\"T_28a8e_row9_col2\" class=\"data row9 col2\" >0</td>\n      <td id=\"T_28a8e_row9_col3\" class=\"data row9 col3\" >0.0%</td>\n      <td id=\"T_28a8e_row9_col4\" class=\"data row9 col4\" >Chrome</td>\n    </tr>\n    <tr>\n      <th id=\"T_28a8e_level0_row10\" class=\"row_heading level0 row10\" >geo_country</th>\n      <td id=\"T_28a8e_row10_col0\" class=\"data row10 col0\" >object</td>\n      <td id=\"T_28a8e_row10_col1\" class=\"data row10 col1\" >166</td>\n      <td id=\"T_28a8e_row10_col2\" class=\"data row10 col2\" >0</td>\n      <td id=\"T_28a8e_row10_col3\" class=\"data row10 col3\" >0.0%</td>\n      <td id=\"T_28a8e_row10_col4\" class=\"data row10 col4\" >Russia</td>\n    </tr>\n    <tr>\n      <th id=\"T_28a8e_level0_row11\" class=\"row_heading level0 row11\" >geo_city</th>\n      <td id=\"T_28a8e_row11_col0\" class=\"data row11 col0\" >object</td>\n      <td id=\"T_28a8e_row11_col1\" class=\"data row11 col1\" >2548</td>\n      <td id=\"T_28a8e_row11_col2\" class=\"data row11 col2\" >0</td>\n      <td id=\"T_28a8e_row11_col3\" class=\"data row11 col3\" >0.0%</td>\n      <td id=\"T_28a8e_row11_col4\" class=\"data row11 col4\" >Zlatoust</td>\n    </tr>\n  </tbody>\n</table>\n"
     },
     "metadata": {},
     "output_type": "display_data"
    },
    {
     "name": "stdout",
     "output_type": "stream",
     "text": [
      "\n",
      "🔍 Анализ датафрейма: missing_devices\n",
      "\n",
      "📊 Основные характеристики колонок:\n"
     ]
    },
    {
     "data": {
      "text/plain": "<pandas.io.formats.style.Styler at 0x280e01a3470>",
      "text/html": "<style type=\"text/css\">\n#T_529b1_row0_col2, #T_529b1_row0_col3, #T_529b1_row1_col2, #T_529b1_row1_col3 {\n  background-color: #67000d;\n  color: #f1f1f1;\n}\n#T_529b1_row2_col2, #T_529b1_row2_col3, #T_529b1_row3_col2, #T_529b1_row3_col3, #T_529b1_row4_col2, #T_529b1_row4_col3, #T_529b1_row5_col2, #T_529b1_row5_col3, #T_529b1_row6_col2, #T_529b1_row6_col3 {\n  background-color: #fff5f0;\n  color: #000000;\n}\n</style>\n<table id=\"T_529b1\">\n  <thead>\n    <tr>\n      <th class=\"blank level0\" >&nbsp;</th>\n      <th id=\"T_529b1_level0_col0\" class=\"col_heading level0 col0\" >Тип данных</th>\n      <th id=\"T_529b1_level0_col1\" class=\"col_heading level0 col1\" >Уникальных</th>\n      <th id=\"T_529b1_level0_col2\" class=\"col_heading level0 col2\" >Пропусков</th>\n      <th id=\"T_529b1_level0_col3\" class=\"col_heading level0 col3\" >% Пропусков</th>\n      <th id=\"T_529b1_level0_col4\" class=\"col_heading level0 col4\" >Пример значения</th>\n    </tr>\n  </thead>\n  <tbody>\n    <tr>\n      <th id=\"T_529b1_level0_row0\" class=\"row_heading level0 row0\" >device_brand</th>\n      <td id=\"T_529b1_row0_col0\" class=\"data row0 col0\" >object</td>\n      <td id=\"T_529b1_row0_col1\" class=\"data row0 col1\" >0</td>\n      <td id=\"T_529b1_row0_col2\" class=\"data row0 col2\" >93</td>\n      <td id=\"T_529b1_row0_col3\" class=\"data row0 col3\" >100.0%</td>\n      <td id=\"T_529b1_row0_col4\" class=\"data row0 col4\" >None</td>\n    </tr>\n    <tr>\n      <th id=\"T_529b1_level0_row1\" class=\"row_heading level0 row1\" >device_model</th>\n      <td id=\"T_529b1_row1_col0\" class=\"data row1 col0\" >object</td>\n      <td id=\"T_529b1_row1_col1\" class=\"data row1 col1\" >0</td>\n      <td id=\"T_529b1_row1_col2\" class=\"data row1 col2\" >93</td>\n      <td id=\"T_529b1_row1_col3\" class=\"data row1 col3\" >100.0%</td>\n      <td id=\"T_529b1_row1_col4\" class=\"data row1 col4\" >nan</td>\n    </tr>\n    <tr>\n      <th id=\"T_529b1_level0_row2\" class=\"row_heading level0 row2\" >device_category</th>\n      <td id=\"T_529b1_row2_col0\" class=\"data row2 col0\" >object</td>\n      <td id=\"T_529b1_row2_col1\" class=\"data row2 col1\" >2</td>\n      <td id=\"T_529b1_row2_col2\" class=\"data row2 col2\" >0</td>\n      <td id=\"T_529b1_row2_col3\" class=\"data row2 col3\" >0.0%</td>\n      <td id=\"T_529b1_row2_col4\" class=\"data row2 col4\" >tablet</td>\n    </tr>\n    <tr>\n      <th id=\"T_529b1_level0_row3\" class=\"row_heading level0 row3\" >device_os</th>\n      <td id=\"T_529b1_row3_col0\" class=\"data row3 col0\" >object</td>\n      <td id=\"T_529b1_row3_col1\" class=\"data row3 col1\" >3</td>\n      <td id=\"T_529b1_row3_col2\" class=\"data row3 col2\" >0</td>\n      <td id=\"T_529b1_row3_col3\" class=\"data row3 col3\" >0.0%</td>\n      <td id=\"T_529b1_row3_col4\" class=\"data row3 col4\" >Macintosh</td>\n    </tr>\n    <tr>\n      <th id=\"T_529b1_level0_row4\" class=\"row_heading level0 row4\" >device_screen_resolution</th>\n      <td id=\"T_529b1_row4_col0\" class=\"data row4 col0\" >object</td>\n      <td id=\"T_529b1_row4_col1\" class=\"data row4 col1\" >26</td>\n      <td id=\"T_529b1_row4_col2\" class=\"data row4 col2\" >0</td>\n      <td id=\"T_529b1_row4_col3\" class=\"data row4 col3\" >0.0%</td>\n      <td id=\"T_529b1_row4_col4\" class=\"data row4 col4\" >810x1080</td>\n    </tr>\n    <tr>\n      <th id=\"T_529b1_level0_row5\" class=\"row_heading level0 row5\" >device_browser</th>\n      <td id=\"T_529b1_row5_col0\" class=\"data row5 col0\" >object</td>\n      <td id=\"T_529b1_row5_col1\" class=\"data row5 col1\" >7</td>\n      <td id=\"T_529b1_row5_col2\" class=\"data row5 col2\" >0</td>\n      <td id=\"T_529b1_row5_col3\" class=\"data row5 col3\" >0.0%</td>\n      <td id=\"T_529b1_row5_col4\" class=\"data row5 col4\" >Safari</td>\n    </tr>\n    <tr>\n      <th id=\"T_529b1_level0_row6\" class=\"row_heading level0 row6\" >original_index</th>\n      <td id=\"T_529b1_row6_col0\" class=\"data row6 col0\" >int64</td>\n      <td id=\"T_529b1_row6_col1\" class=\"data row6 col1\" >93</td>\n      <td id=\"T_529b1_row6_col2\" class=\"data row6 col2\" >0</td>\n      <td id=\"T_529b1_row6_col3\" class=\"data row6 col3\" >0.0%</td>\n      <td id=\"T_529b1_row6_col4\" class=\"data row6 col4\" >69321</td>\n    </tr>\n  </tbody>\n</table>\n"
     },
     "metadata": {},
     "output_type": "display_data"
    },
    {
     "data": {
      "text/plain": "                         Тип данных  Уникальных  Пропусков  % Пропусков  \\\ndevice_brand                 object           0         93        100.0   \ndevice_model                 object           0         93        100.0   \ndevice_category              object           2          0          0.0   \ndevice_os                    object           3          0          0.0   \ndevice_screen_resolution     object          26          0          0.0   \ndevice_browser               object           7          0          0.0   \noriginal_index                int64          93          0          0.0   \n\n                         Пример значения  \ndevice_brand                        None  \ndevice_model                         NaN  \ndevice_category                   tablet  \ndevice_os                      Macintosh  \ndevice_screen_resolution        810x1080  \ndevice_browser                    Safari  \noriginal_index                     69321  ",
      "text/html": "<div>\n<style scoped>\n    .dataframe tbody tr th:only-of-type {\n        vertical-align: middle;\n    }\n\n    .dataframe tbody tr th {\n        vertical-align: top;\n    }\n\n    .dataframe thead th {\n        text-align: right;\n    }\n</style>\n<table border=\"1\" class=\"dataframe\">\n  <thead>\n    <tr style=\"text-align: right;\">\n      <th></th>\n      <th>Тип данных</th>\n      <th>Уникальных</th>\n      <th>Пропусков</th>\n      <th>% Пропусков</th>\n      <th>Пример значения</th>\n    </tr>\n  </thead>\n  <tbody>\n    <tr>\n      <th>device_brand</th>\n      <td>object</td>\n      <td>0</td>\n      <td>93</td>\n      <td>100.0</td>\n      <td>None</td>\n    </tr>\n    <tr>\n      <th>device_model</th>\n      <td>object</td>\n      <td>0</td>\n      <td>93</td>\n      <td>100.0</td>\n      <td>NaN</td>\n    </tr>\n    <tr>\n      <th>device_category</th>\n      <td>object</td>\n      <td>2</td>\n      <td>0</td>\n      <td>0.0</td>\n      <td>tablet</td>\n    </tr>\n    <tr>\n      <th>device_os</th>\n      <td>object</td>\n      <td>3</td>\n      <td>0</td>\n      <td>0.0</td>\n      <td>Macintosh</td>\n    </tr>\n    <tr>\n      <th>device_screen_resolution</th>\n      <td>object</td>\n      <td>26</td>\n      <td>0</td>\n      <td>0.0</td>\n      <td>810x1080</td>\n    </tr>\n    <tr>\n      <th>device_browser</th>\n      <td>object</td>\n      <td>7</td>\n      <td>0</td>\n      <td>0.0</td>\n      <td>Safari</td>\n    </tr>\n    <tr>\n      <th>original_index</th>\n      <td>int64</td>\n      <td>93</td>\n      <td>0</td>\n      <td>0.0</td>\n      <td>69321</td>\n    </tr>\n  </tbody>\n</table>\n</div>"
     },
     "execution_count": 117,
     "metadata": {},
     "output_type": "execute_result"
    }
   ],
   "source": [
    "explore_data_modern(sessions, SESSIONS_FRAME)\n",
    "missing_devices = missing_devices[missing_devices['device_category'] != 'desktop']\n",
    "explore_data_modern(missing_devices, 'missing_devices')"
   ],
   "metadata": {
    "collapsed": false,
    "ExecuteTime": {
     "end_time": "2025-07-06T16:16:24.376430Z",
     "start_time": "2025-07-06T16:16:19.499009Z"
    }
   },
   "id": "de336619a109404a",
   "execution_count": 117
  },
  {
   "cell_type": "code",
   "outputs": [
    {
     "name": "stdout",
     "output_type": "stream",
     "text": [
      "device_os\n",
      "Linux        57\n",
      "Macintosh    20\n",
      "Windows      16\n",
      "Name: count, dtype: int64\n"
     ]
    }
   ],
   "source": [
    "print(missing_devices['device_os'].value_counts())"
   ],
   "metadata": {
    "collapsed": false,
    "ExecuteTime": {
     "end_time": "2025-07-06T16:18:34.948765Z",
     "start_time": "2025-07-06T16:18:34.944041Z"
    }
   },
   "id": "8ab244de36847a65",
   "execution_count": 118
  },
  {
   "cell_type": "code",
   "outputs": [
    {
     "name": "stdout",
     "output_type": "stream",
     "text": [
      "device_brand\n",
      "Apple       551088\n",
      "Samsung     332194\n",
      "Xiaomi      288367\n",
      "            248500\n",
      "Huawei      185853\n",
      "             ...  \n",
      "Vodafone         1\n",
      "Wexler           1\n",
      "KingSing         1\n",
      "Star             1\n",
      "Opera            1\n",
      "Name: count, Length: 207, dtype: int64\n"
     ]
    }
   ],
   "source": [
    "print(sessions['device_brand'].value_counts())"
   ],
   "metadata": {
    "collapsed": false,
    "ExecuteTime": {
     "end_time": "2025-07-06T16:25:59.169864Z",
     "start_time": "2025-07-06T16:25:59.011308Z"
    }
   },
   "id": "d5fe06d016f00acd",
   "execution_count": 119
  },
  {
   "cell_type": "markdown",
   "source": [
    "**Разберёмся с макинтошами**"
   ],
   "metadata": {
    "collapsed": false
   },
   "id": "d33487b26461b2a0"
  },
  {
   "cell_type": "code",
   "outputs": [
    {
     "name": "stdout",
     "output_type": "stream",
     "text": [
      "Сохранено: ../data/processed/sessions_20250706_2039.pkl | Лог: ../data/processed/log_sessions.txt\n"
     ]
    }
   ],
   "source": [
    "mac_indices = missing_brand[missing_brand['device_os'] == 'Macintosh'].index\n",
    "sessions.loc[mac_indices, 'device_brand'] = 'Apple'\n",
    "save_session('Заполнение пропусков в device_brand значениями Apple для os Macintosh')"
   ],
   "metadata": {
    "collapsed": false,
    "ExecuteTime": {
     "end_time": "2025-07-06T16:40:02.419584Z",
     "start_time": "2025-07-06T16:39:48.951591Z"
    }
   },
   "id": "70e6fcc53563b59f",
   "execution_count": 121
  },
  {
   "cell_type": "code",
   "outputs": [
    {
     "name": "stdout",
     "output_type": "stream",
     "text": [
      "\n",
      "🔍 Анализ датафрейма: sessions\n",
      "\n",
      "📊 Основные характеристики колонок:\n"
     ]
    },
    {
     "data": {
      "text/plain": "<pandas.io.formats.style.Styler at 0x281c020f7a0>",
      "text/html": "<style type=\"text/css\">\n#T_c9ad2_row0_col2 {\n  background-color: #67000d;\n  color: #f1f1f1;\n}\n#T_c9ad2_row0_col3, #T_c9ad2_row1_col2, #T_c9ad2_row1_col3, #T_c9ad2_row2_col2, #T_c9ad2_row2_col3, #T_c9ad2_row3_col2, #T_c9ad2_row3_col3, #T_c9ad2_row4_col2, #T_c9ad2_row4_col3, #T_c9ad2_row5_col2, #T_c9ad2_row5_col3, #T_c9ad2_row6_col2, #T_c9ad2_row6_col3, #T_c9ad2_row7_col2, #T_c9ad2_row7_col3, #T_c9ad2_row8_col2, #T_c9ad2_row8_col3, #T_c9ad2_row9_col2, #T_c9ad2_row9_col3, #T_c9ad2_row10_col2, #T_c9ad2_row10_col3, #T_c9ad2_row11_col2, #T_c9ad2_row11_col3 {\n  background-color: #fff5f0;\n  color: #000000;\n}\n</style>\n<table id=\"T_c9ad2\">\n  <thead>\n    <tr>\n      <th class=\"blank level0\" >&nbsp;</th>\n      <th id=\"T_c9ad2_level0_col0\" class=\"col_heading level0 col0\" >Тип данных</th>\n      <th id=\"T_c9ad2_level0_col1\" class=\"col_heading level0 col1\" >Уникальных</th>\n      <th id=\"T_c9ad2_level0_col2\" class=\"col_heading level0 col2\" >Пропусков</th>\n      <th id=\"T_c9ad2_level0_col3\" class=\"col_heading level0 col3\" >% Пропусков</th>\n      <th id=\"T_c9ad2_level0_col4\" class=\"col_heading level0 col4\" >Пример значения</th>\n    </tr>\n  </thead>\n  <tbody>\n    <tr>\n      <th id=\"T_c9ad2_level0_row0\" class=\"row_heading level0 row0\" >device_brand</th>\n      <td id=\"T_c9ad2_row0_col0\" class=\"data row0 col0\" >object</td>\n      <td id=\"T_c9ad2_row0_col1\" class=\"data row0 col1\" >207</td>\n      <td id=\"T_c9ad2_row0_col2\" class=\"data row0 col2\" >73</td>\n      <td id=\"T_c9ad2_row0_col3\" class=\"data row0 col3\" >0.0%</td>\n      <td id=\"T_c9ad2_row0_col4\" class=\"data row0 col4\" >Huawei</td>\n    </tr>\n    <tr>\n      <th id=\"T_c9ad2_level0_row1\" class=\"row_heading level0 row1\" >session_id</th>\n      <td id=\"T_c9ad2_row1_col0\" class=\"data row1 col0\" >object</td>\n      <td id=\"T_c9ad2_row1_col1\" class=\"data row1 col1\" >1860042</td>\n      <td id=\"T_c9ad2_row1_col2\" class=\"data row1 col2\" >0</td>\n      <td id=\"T_c9ad2_row1_col3\" class=\"data row1 col3\" >0.0%</td>\n      <td id=\"T_c9ad2_row1_col4\" class=\"data row1 col4\" >9055434745589932991.1637753792.1637753792</td>\n    </tr>\n    <tr>\n      <th id=\"T_c9ad2_level0_row2\" class=\"row_heading level0 row2\" >client_id</th>\n      <td id=\"T_c9ad2_row2_col0\" class=\"data row2 col0\" >object</td>\n      <td id=\"T_c9ad2_row2_col1\" class=\"data row2 col1\" >1391719</td>\n      <td id=\"T_c9ad2_row2_col2\" class=\"data row2 col2\" >0</td>\n      <td id=\"T_c9ad2_row2_col3\" class=\"data row2 col3\" >0.0%</td>\n      <td id=\"T_c9ad2_row2_col4\" class=\"data row2 col4\" >2108382700.1637753791</td>\n    </tr>\n    <tr>\n      <th id=\"T_c9ad2_level0_row3\" class=\"row_heading level0 row3\" >visit_date</th>\n      <td id=\"T_c9ad2_row3_col0\" class=\"data row3 col0\" >object</td>\n      <td id=\"T_c9ad2_row3_col1\" class=\"data row3 col1\" >226</td>\n      <td id=\"T_c9ad2_row3_col2\" class=\"data row3 col2\" >0</td>\n      <td id=\"T_c9ad2_row3_col3\" class=\"data row3 col3\" >0.0%</td>\n      <td id=\"T_c9ad2_row3_col4\" class=\"data row3 col4\" >2021-11-24</td>\n    </tr>\n    <tr>\n      <th id=\"T_c9ad2_level0_row4\" class=\"row_heading level0 row4\" >visit_time</th>\n      <td id=\"T_c9ad2_row4_col0\" class=\"data row4 col0\" >object</td>\n      <td id=\"T_c9ad2_row4_col1\" class=\"data row4 col1\" >85318</td>\n      <td id=\"T_c9ad2_row4_col2\" class=\"data row4 col2\" >0</td>\n      <td id=\"T_c9ad2_row4_col3\" class=\"data row4 col3\" >0.0%</td>\n      <td id=\"T_c9ad2_row4_col4\" class=\"data row4 col4\" >14:36:32</td>\n    </tr>\n    <tr>\n      <th id=\"T_c9ad2_level0_row5\" class=\"row_heading level0 row5\" >visit_number</th>\n      <td id=\"T_c9ad2_row5_col0\" class=\"data row5 col0\" >int64</td>\n      <td id=\"T_c9ad2_row5_col1\" class=\"data row5 col1\" >537</td>\n      <td id=\"T_c9ad2_row5_col2\" class=\"data row5 col2\" >0</td>\n      <td id=\"T_c9ad2_row5_col3\" class=\"data row5 col3\" >0.0%</td>\n      <td id=\"T_c9ad2_row5_col4\" class=\"data row5 col4\" >1</td>\n    </tr>\n    <tr>\n      <th id=\"T_c9ad2_level0_row6\" class=\"row_heading level0 row6\" >utm_medium</th>\n      <td id=\"T_c9ad2_row6_col0\" class=\"data row6 col0\" >object</td>\n      <td id=\"T_c9ad2_row6_col1\" class=\"data row6 col1\" >56</td>\n      <td id=\"T_c9ad2_row6_col2\" class=\"data row6 col2\" >0</td>\n      <td id=\"T_c9ad2_row6_col3\" class=\"data row6 col3\" >0.0%</td>\n      <td id=\"T_c9ad2_row6_col4\" class=\"data row6 col4\" >banner</td>\n    </tr>\n    <tr>\n      <th id=\"T_c9ad2_level0_row7\" class=\"row_heading level0 row7\" >device_category</th>\n      <td id=\"T_c9ad2_row7_col0\" class=\"data row7 col0\" >object</td>\n      <td id=\"T_c9ad2_row7_col1\" class=\"data row7 col1\" >3</td>\n      <td id=\"T_c9ad2_row7_col2\" class=\"data row7 col2\" >0</td>\n      <td id=\"T_c9ad2_row7_col3\" class=\"data row7 col3\" >0.0%</td>\n      <td id=\"T_c9ad2_row7_col4\" class=\"data row7 col4\" >mobile</td>\n    </tr>\n    <tr>\n      <th id=\"T_c9ad2_level0_row8\" class=\"row_heading level0 row8\" >device_screen_resolution</th>\n      <td id=\"T_c9ad2_row8_col0\" class=\"data row8 col0\" >object</td>\n      <td id=\"T_c9ad2_row8_col1\" class=\"data row8 col1\" >5039</td>\n      <td id=\"T_c9ad2_row8_col2\" class=\"data row8 col2\" >0</td>\n      <td id=\"T_c9ad2_row8_col3\" class=\"data row8 col3\" >0.0%</td>\n      <td id=\"T_c9ad2_row8_col4\" class=\"data row8 col4\" >360x720</td>\n    </tr>\n    <tr>\n      <th id=\"T_c9ad2_level0_row9\" class=\"row_heading level0 row9\" >device_browser</th>\n      <td id=\"T_c9ad2_row9_col0\" class=\"data row9 col0\" >object</td>\n      <td id=\"T_c9ad2_row9_col1\" class=\"data row9 col1\" >57</td>\n      <td id=\"T_c9ad2_row9_col2\" class=\"data row9 col2\" >0</td>\n      <td id=\"T_c9ad2_row9_col3\" class=\"data row9 col3\" >0.0%</td>\n      <td id=\"T_c9ad2_row9_col4\" class=\"data row9 col4\" >Chrome</td>\n    </tr>\n    <tr>\n      <th id=\"T_c9ad2_level0_row10\" class=\"row_heading level0 row10\" >geo_country</th>\n      <td id=\"T_c9ad2_row10_col0\" class=\"data row10 col0\" >object</td>\n      <td id=\"T_c9ad2_row10_col1\" class=\"data row10 col1\" >166</td>\n      <td id=\"T_c9ad2_row10_col2\" class=\"data row10 col2\" >0</td>\n      <td id=\"T_c9ad2_row10_col3\" class=\"data row10 col3\" >0.0%</td>\n      <td id=\"T_c9ad2_row10_col4\" class=\"data row10 col4\" >Russia</td>\n    </tr>\n    <tr>\n      <th id=\"T_c9ad2_level0_row11\" class=\"row_heading level0 row11\" >geo_city</th>\n      <td id=\"T_c9ad2_row11_col0\" class=\"data row11 col0\" >object</td>\n      <td id=\"T_c9ad2_row11_col1\" class=\"data row11 col1\" >2548</td>\n      <td id=\"T_c9ad2_row11_col2\" class=\"data row11 col2\" >0</td>\n      <td id=\"T_c9ad2_row11_col3\" class=\"data row11 col3\" >0.0%</td>\n      <td id=\"T_c9ad2_row11_col4\" class=\"data row11 col4\" >Zlatoust</td>\n    </tr>\n  </tbody>\n</table>\n"
     },
     "metadata": {},
     "output_type": "display_data"
    },
    {
     "name": "stdout",
     "output_type": "stream",
     "text": [
      "\n",
      "🔍 Анализ датафрейма: missing_devices\n",
      "\n",
      "📊 Основные характеристики колонок:\n"
     ]
    },
    {
     "data": {
      "text/plain": "<pandas.io.formats.style.Styler at 0x281000341a0>",
      "text/html": "<style type=\"text/css\">\n#T_660e8_row0_col2, #T_660e8_row0_col3, #T_660e8_row1_col2, #T_660e8_row1_col3 {\n  background-color: #67000d;\n  color: #f1f1f1;\n}\n#T_660e8_row2_col2, #T_660e8_row2_col3, #T_660e8_row3_col2, #T_660e8_row3_col3, #T_660e8_row4_col2, #T_660e8_row4_col3, #T_660e8_row5_col2, #T_660e8_row5_col3, #T_660e8_row6_col2, #T_660e8_row6_col3 {\n  background-color: #fff5f0;\n  color: #000000;\n}\n</style>\n<table id=\"T_660e8\">\n  <thead>\n    <tr>\n      <th class=\"blank level0\" >&nbsp;</th>\n      <th id=\"T_660e8_level0_col0\" class=\"col_heading level0 col0\" >Тип данных</th>\n      <th id=\"T_660e8_level0_col1\" class=\"col_heading level0 col1\" >Уникальных</th>\n      <th id=\"T_660e8_level0_col2\" class=\"col_heading level0 col2\" >Пропусков</th>\n      <th id=\"T_660e8_level0_col3\" class=\"col_heading level0 col3\" >% Пропусков</th>\n      <th id=\"T_660e8_level0_col4\" class=\"col_heading level0 col4\" >Пример значения</th>\n    </tr>\n  </thead>\n  <tbody>\n    <tr>\n      <th id=\"T_660e8_level0_row0\" class=\"row_heading level0 row0\" >device_brand</th>\n      <td id=\"T_660e8_row0_col0\" class=\"data row0 col0\" >object</td>\n      <td id=\"T_660e8_row0_col1\" class=\"data row0 col1\" >0</td>\n      <td id=\"T_660e8_row0_col2\" class=\"data row0 col2\" >73</td>\n      <td id=\"T_660e8_row0_col3\" class=\"data row0 col3\" >100.0%</td>\n      <td id=\"T_660e8_row0_col4\" class=\"data row0 col4\" >None</td>\n    </tr>\n    <tr>\n      <th id=\"T_660e8_level0_row1\" class=\"row_heading level0 row1\" >device_model</th>\n      <td id=\"T_660e8_row1_col0\" class=\"data row1 col0\" >object</td>\n      <td id=\"T_660e8_row1_col1\" class=\"data row1 col1\" >0</td>\n      <td id=\"T_660e8_row1_col2\" class=\"data row1 col2\" >73</td>\n      <td id=\"T_660e8_row1_col3\" class=\"data row1 col3\" >100.0%</td>\n      <td id=\"T_660e8_row1_col4\" class=\"data row1 col4\" >nan</td>\n    </tr>\n    <tr>\n      <th id=\"T_660e8_level0_row2\" class=\"row_heading level0 row2\" >device_category</th>\n      <td id=\"T_660e8_row2_col0\" class=\"data row2 col0\" >object</td>\n      <td id=\"T_660e8_row2_col1\" class=\"data row2 col1\" >2</td>\n      <td id=\"T_660e8_row2_col2\" class=\"data row2 col2\" >0</td>\n      <td id=\"T_660e8_row2_col3\" class=\"data row2 col3\" >0.0%</td>\n      <td id=\"T_660e8_row2_col4\" class=\"data row2 col4\" >mobile</td>\n    </tr>\n    <tr>\n      <th id=\"T_660e8_level0_row3\" class=\"row_heading level0 row3\" >device_os</th>\n      <td id=\"T_660e8_row3_col0\" class=\"data row3 col0\" >object</td>\n      <td id=\"T_660e8_row3_col1\" class=\"data row3 col1\" >2</td>\n      <td id=\"T_660e8_row3_col2\" class=\"data row3 col2\" >0</td>\n      <td id=\"T_660e8_row3_col3\" class=\"data row3 col3\" >0.0%</td>\n      <td id=\"T_660e8_row3_col4\" class=\"data row3 col4\" >Linux</td>\n    </tr>\n    <tr>\n      <th id=\"T_660e8_level0_row4\" class=\"row_heading level0 row4\" >device_screen_resolution</th>\n      <td id=\"T_660e8_row4_col0\" class=\"data row4 col0\" >object</td>\n      <td id=\"T_660e8_row4_col1\" class=\"data row4 col1\" >19</td>\n      <td id=\"T_660e8_row4_col2\" class=\"data row4 col2\" >0</td>\n      <td id=\"T_660e8_row4_col3\" class=\"data row4 col3\" >0.0%</td>\n      <td id=\"T_660e8_row4_col4\" class=\"data row4 col4\" >393x851</td>\n    </tr>\n    <tr>\n      <th id=\"T_660e8_level0_row5\" class=\"row_heading level0 row5\" >device_browser</th>\n      <td id=\"T_660e8_row5_col0\" class=\"data row5 col0\" >object</td>\n      <td id=\"T_660e8_row5_col1\" class=\"data row5 col1\" >5</td>\n      <td id=\"T_660e8_row5_col2\" class=\"data row5 col2\" >0</td>\n      <td id=\"T_660e8_row5_col3\" class=\"data row5 col3\" >0.0%</td>\n      <td id=\"T_660e8_row5_col4\" class=\"data row5 col4\" >Chrome</td>\n    </tr>\n    <tr>\n      <th id=\"T_660e8_level0_row6\" class=\"row_heading level0 row6\" >original_index</th>\n      <td id=\"T_660e8_row6_col0\" class=\"data row6 col0\" >int64</td>\n      <td id=\"T_660e8_row6_col1\" class=\"data row6 col1\" >73</td>\n      <td id=\"T_660e8_row6_col2\" class=\"data row6 col2\" >0</td>\n      <td id=\"T_660e8_row6_col3\" class=\"data row6 col3\" >0.0%</td>\n      <td id=\"T_660e8_row6_col4\" class=\"data row6 col4\" >119227</td>\n    </tr>\n  </tbody>\n</table>\n"
     },
     "metadata": {},
     "output_type": "display_data"
    },
    {
     "data": {
      "text/plain": "                         Тип данных  Уникальных  Пропусков  % Пропусков  \\\ndevice_brand                 object           0         73        100.0   \ndevice_model                 object           0         73        100.0   \ndevice_category              object           2          0          0.0   \ndevice_os                    object           2          0          0.0   \ndevice_screen_resolution     object          19          0          0.0   \ndevice_browser               object           5          0          0.0   \noriginal_index                int64          73          0          0.0   \n\n                         Пример значения  \ndevice_brand                        None  \ndevice_model                         NaN  \ndevice_category                   mobile  \ndevice_os                          Linux  \ndevice_screen_resolution         393x851  \ndevice_browser                    Chrome  \noriginal_index                    119227  ",
      "text/html": "<div>\n<style scoped>\n    .dataframe tbody tr th:only-of-type {\n        vertical-align: middle;\n    }\n\n    .dataframe tbody tr th {\n        vertical-align: top;\n    }\n\n    .dataframe thead th {\n        text-align: right;\n    }\n</style>\n<table border=\"1\" class=\"dataframe\">\n  <thead>\n    <tr style=\"text-align: right;\">\n      <th></th>\n      <th>Тип данных</th>\n      <th>Уникальных</th>\n      <th>Пропусков</th>\n      <th>% Пропусков</th>\n      <th>Пример значения</th>\n    </tr>\n  </thead>\n  <tbody>\n    <tr>\n      <th>device_brand</th>\n      <td>object</td>\n      <td>0</td>\n      <td>73</td>\n      <td>100.0</td>\n      <td>None</td>\n    </tr>\n    <tr>\n      <th>device_model</th>\n      <td>object</td>\n      <td>0</td>\n      <td>73</td>\n      <td>100.0</td>\n      <td>NaN</td>\n    </tr>\n    <tr>\n      <th>device_category</th>\n      <td>object</td>\n      <td>2</td>\n      <td>0</td>\n      <td>0.0</td>\n      <td>mobile</td>\n    </tr>\n    <tr>\n      <th>device_os</th>\n      <td>object</td>\n      <td>2</td>\n      <td>0</td>\n      <td>0.0</td>\n      <td>Linux</td>\n    </tr>\n    <tr>\n      <th>device_screen_resolution</th>\n      <td>object</td>\n      <td>19</td>\n      <td>0</td>\n      <td>0.0</td>\n      <td>393x851</td>\n    </tr>\n    <tr>\n      <th>device_browser</th>\n      <td>object</td>\n      <td>5</td>\n      <td>0</td>\n      <td>0.0</td>\n      <td>Chrome</td>\n    </tr>\n    <tr>\n      <th>original_index</th>\n      <td>int64</td>\n      <td>73</td>\n      <td>0</td>\n      <td>0.0</td>\n      <td>119227</td>\n    </tr>\n  </tbody>\n</table>\n</div>"
     },
     "execution_count": 123,
     "metadata": {},
     "output_type": "execute_result"
    }
   ],
   "source": [
    "explore_data_modern(sessions, SESSIONS_FRAME)\n",
    "missing_devices = missing_devices[missing_devices['device_os'] != 'Macintosh']\n",
    "explore_data_modern(missing_devices, 'missing_devices')"
   ],
   "metadata": {
    "collapsed": false,
    "ExecuteTime": {
     "end_time": "2025-07-06T16:42:53.275744Z",
     "start_time": "2025-07-06T16:42:48.851431Z"
    }
   },
   "id": "a6b1536f27ff3d0c",
   "execution_count": 123
  },
  {
   "cell_type": "code",
   "outputs": [
    {
     "name": "stdout",
     "output_type": "stream",
     "text": [
      "device_browser\n",
      "Chrome              63\n",
      "Samsung Internet     6\n",
      "Edge                 2\n",
      "Firefox              1\n",
      "UC Browser           1\n",
      "Name: count, dtype: int64\n"
     ]
    }
   ],
   "source": [
    "print(missing_devices['device_browser'].value_counts())"
   ],
   "metadata": {
    "collapsed": false,
    "ExecuteTime": {
     "end_time": "2025-07-06T16:51:26.602630Z",
     "start_time": "2025-07-06T16:51:26.598350Z"
    }
   },
   "id": "ea996f640e9ee9d6",
   "execution_count": 128
  },
  {
   "cell_type": "code",
   "outputs": [
    {
     "name": "stdout",
     "output_type": "stream",
     "text": [
      "Сохранено: ../data/processed/sessions_20250706_2103.pkl | Лог: ../data/processed/log_sessions.txt\n"
     ]
    }
   ],
   "source": [
    "sessions.loc[(sessions['device_browser'] == 'Samsung Internet') & (sessions['device_brand'].isna()), 'device_brand'] = 'Samsung'\n",
    "save_session('Заполнение пропусков в device_brand значениями \"Samsung\" для браузера \"Samsung Internet\"')"
   ],
   "metadata": {
    "collapsed": false,
    "ExecuteTime": {
     "end_time": "2025-07-06T17:03:15.912124Z",
     "start_time": "2025-07-06T17:03:02.897555Z"
    }
   },
   "id": "d8eb36ab18e76e7b",
   "execution_count": 129
  },
  {
   "cell_type": "code",
   "outputs": [
    {
     "name": "stdout",
     "output_type": "stream",
     "text": [
      "\n",
      "🔍 Анализ датафрейма: sessions\n",
      "\n",
      "📊 Основные характеристики колонок:\n"
     ]
    },
    {
     "data": {
      "text/plain": "<pandas.io.formats.style.Styler at 0x28360252990>",
      "text/html": "<style type=\"text/css\">\n#T_56b82_row0_col2 {\n  background-color: #67000d;\n  color: #f1f1f1;\n}\n#T_56b82_row0_col3, #T_56b82_row1_col2, #T_56b82_row1_col3, #T_56b82_row2_col2, #T_56b82_row2_col3, #T_56b82_row3_col2, #T_56b82_row3_col3, #T_56b82_row4_col2, #T_56b82_row4_col3, #T_56b82_row5_col2, #T_56b82_row5_col3, #T_56b82_row6_col2, #T_56b82_row6_col3, #T_56b82_row7_col2, #T_56b82_row7_col3, #T_56b82_row8_col2, #T_56b82_row8_col3, #T_56b82_row9_col2, #T_56b82_row9_col3, #T_56b82_row10_col2, #T_56b82_row10_col3, #T_56b82_row11_col2, #T_56b82_row11_col3 {\n  background-color: #fff5f0;\n  color: #000000;\n}\n</style>\n<table id=\"T_56b82\">\n  <thead>\n    <tr>\n      <th class=\"blank level0\" >&nbsp;</th>\n      <th id=\"T_56b82_level0_col0\" class=\"col_heading level0 col0\" >Тип данных</th>\n      <th id=\"T_56b82_level0_col1\" class=\"col_heading level0 col1\" >Уникальных</th>\n      <th id=\"T_56b82_level0_col2\" class=\"col_heading level0 col2\" >Пропусков</th>\n      <th id=\"T_56b82_level0_col3\" class=\"col_heading level0 col3\" >% Пропусков</th>\n      <th id=\"T_56b82_level0_col4\" class=\"col_heading level0 col4\" >Пример значения</th>\n    </tr>\n  </thead>\n  <tbody>\n    <tr>\n      <th id=\"T_56b82_level0_row0\" class=\"row_heading level0 row0\" >device_brand</th>\n      <td id=\"T_56b82_row0_col0\" class=\"data row0 col0\" >object</td>\n      <td id=\"T_56b82_row0_col1\" class=\"data row0 col1\" >207</td>\n      <td id=\"T_56b82_row0_col2\" class=\"data row0 col2\" >67</td>\n      <td id=\"T_56b82_row0_col3\" class=\"data row0 col3\" >0.0%</td>\n      <td id=\"T_56b82_row0_col4\" class=\"data row0 col4\" >Huawei</td>\n    </tr>\n    <tr>\n      <th id=\"T_56b82_level0_row1\" class=\"row_heading level0 row1\" >session_id</th>\n      <td id=\"T_56b82_row1_col0\" class=\"data row1 col0\" >object</td>\n      <td id=\"T_56b82_row1_col1\" class=\"data row1 col1\" >1860042</td>\n      <td id=\"T_56b82_row1_col2\" class=\"data row1 col2\" >0</td>\n      <td id=\"T_56b82_row1_col3\" class=\"data row1 col3\" >0.0%</td>\n      <td id=\"T_56b82_row1_col4\" class=\"data row1 col4\" >9055434745589932991.1637753792.1637753792</td>\n    </tr>\n    <tr>\n      <th id=\"T_56b82_level0_row2\" class=\"row_heading level0 row2\" >client_id</th>\n      <td id=\"T_56b82_row2_col0\" class=\"data row2 col0\" >object</td>\n      <td id=\"T_56b82_row2_col1\" class=\"data row2 col1\" >1391719</td>\n      <td id=\"T_56b82_row2_col2\" class=\"data row2 col2\" >0</td>\n      <td id=\"T_56b82_row2_col3\" class=\"data row2 col3\" >0.0%</td>\n      <td id=\"T_56b82_row2_col4\" class=\"data row2 col4\" >2108382700.1637753791</td>\n    </tr>\n    <tr>\n      <th id=\"T_56b82_level0_row3\" class=\"row_heading level0 row3\" >visit_date</th>\n      <td id=\"T_56b82_row3_col0\" class=\"data row3 col0\" >object</td>\n      <td id=\"T_56b82_row3_col1\" class=\"data row3 col1\" >226</td>\n      <td id=\"T_56b82_row3_col2\" class=\"data row3 col2\" >0</td>\n      <td id=\"T_56b82_row3_col3\" class=\"data row3 col3\" >0.0%</td>\n      <td id=\"T_56b82_row3_col4\" class=\"data row3 col4\" >2021-11-24</td>\n    </tr>\n    <tr>\n      <th id=\"T_56b82_level0_row4\" class=\"row_heading level0 row4\" >visit_time</th>\n      <td id=\"T_56b82_row4_col0\" class=\"data row4 col0\" >object</td>\n      <td id=\"T_56b82_row4_col1\" class=\"data row4 col1\" >85318</td>\n      <td id=\"T_56b82_row4_col2\" class=\"data row4 col2\" >0</td>\n      <td id=\"T_56b82_row4_col3\" class=\"data row4 col3\" >0.0%</td>\n      <td id=\"T_56b82_row4_col4\" class=\"data row4 col4\" >14:36:32</td>\n    </tr>\n    <tr>\n      <th id=\"T_56b82_level0_row5\" class=\"row_heading level0 row5\" >visit_number</th>\n      <td id=\"T_56b82_row5_col0\" class=\"data row5 col0\" >int64</td>\n      <td id=\"T_56b82_row5_col1\" class=\"data row5 col1\" >537</td>\n      <td id=\"T_56b82_row5_col2\" class=\"data row5 col2\" >0</td>\n      <td id=\"T_56b82_row5_col3\" class=\"data row5 col3\" >0.0%</td>\n      <td id=\"T_56b82_row5_col4\" class=\"data row5 col4\" >1</td>\n    </tr>\n    <tr>\n      <th id=\"T_56b82_level0_row6\" class=\"row_heading level0 row6\" >utm_medium</th>\n      <td id=\"T_56b82_row6_col0\" class=\"data row6 col0\" >object</td>\n      <td id=\"T_56b82_row6_col1\" class=\"data row6 col1\" >56</td>\n      <td id=\"T_56b82_row6_col2\" class=\"data row6 col2\" >0</td>\n      <td id=\"T_56b82_row6_col3\" class=\"data row6 col3\" >0.0%</td>\n      <td id=\"T_56b82_row6_col4\" class=\"data row6 col4\" >banner</td>\n    </tr>\n    <tr>\n      <th id=\"T_56b82_level0_row7\" class=\"row_heading level0 row7\" >device_category</th>\n      <td id=\"T_56b82_row7_col0\" class=\"data row7 col0\" >object</td>\n      <td id=\"T_56b82_row7_col1\" class=\"data row7 col1\" >3</td>\n      <td id=\"T_56b82_row7_col2\" class=\"data row7 col2\" >0</td>\n      <td id=\"T_56b82_row7_col3\" class=\"data row7 col3\" >0.0%</td>\n      <td id=\"T_56b82_row7_col4\" class=\"data row7 col4\" >mobile</td>\n    </tr>\n    <tr>\n      <th id=\"T_56b82_level0_row8\" class=\"row_heading level0 row8\" >device_screen_resolution</th>\n      <td id=\"T_56b82_row8_col0\" class=\"data row8 col0\" >object</td>\n      <td id=\"T_56b82_row8_col1\" class=\"data row8 col1\" >5039</td>\n      <td id=\"T_56b82_row8_col2\" class=\"data row8 col2\" >0</td>\n      <td id=\"T_56b82_row8_col3\" class=\"data row8 col3\" >0.0%</td>\n      <td id=\"T_56b82_row8_col4\" class=\"data row8 col4\" >360x720</td>\n    </tr>\n    <tr>\n      <th id=\"T_56b82_level0_row9\" class=\"row_heading level0 row9\" >device_browser</th>\n      <td id=\"T_56b82_row9_col0\" class=\"data row9 col0\" >object</td>\n      <td id=\"T_56b82_row9_col1\" class=\"data row9 col1\" >57</td>\n      <td id=\"T_56b82_row9_col2\" class=\"data row9 col2\" >0</td>\n      <td id=\"T_56b82_row9_col3\" class=\"data row9 col3\" >0.0%</td>\n      <td id=\"T_56b82_row9_col4\" class=\"data row9 col4\" >Chrome</td>\n    </tr>\n    <tr>\n      <th id=\"T_56b82_level0_row10\" class=\"row_heading level0 row10\" >geo_country</th>\n      <td id=\"T_56b82_row10_col0\" class=\"data row10 col0\" >object</td>\n      <td id=\"T_56b82_row10_col1\" class=\"data row10 col1\" >166</td>\n      <td id=\"T_56b82_row10_col2\" class=\"data row10 col2\" >0</td>\n      <td id=\"T_56b82_row10_col3\" class=\"data row10 col3\" >0.0%</td>\n      <td id=\"T_56b82_row10_col4\" class=\"data row10 col4\" >Russia</td>\n    </tr>\n    <tr>\n      <th id=\"T_56b82_level0_row11\" class=\"row_heading level0 row11\" >geo_city</th>\n      <td id=\"T_56b82_row11_col0\" class=\"data row11 col0\" >object</td>\n      <td id=\"T_56b82_row11_col1\" class=\"data row11 col1\" >2548</td>\n      <td id=\"T_56b82_row11_col2\" class=\"data row11 col2\" >0</td>\n      <td id=\"T_56b82_row11_col3\" class=\"data row11 col3\" >0.0%</td>\n      <td id=\"T_56b82_row11_col4\" class=\"data row11 col4\" >Zlatoust</td>\n    </tr>\n  </tbody>\n</table>\n"
     },
     "metadata": {},
     "output_type": "display_data"
    }
   ],
   "source": [
    "explore_data_modern(sessions, SESSIONS_FRAME)\n",
    "missing_devices = missing_devices[missing_devices['device_browser'] != 'Samsung Internet']"
   ],
   "metadata": {
    "collapsed": false,
    "ExecuteTime": {
     "end_time": "2025-07-06T17:05:35.139645Z",
     "start_time": "2025-07-06T17:05:30.785938Z"
    }
   },
   "id": "a4458fc76d5d4086",
   "execution_count": 131
  },
  {
   "cell_type": "code",
   "outputs": [
    {
     "name": "stdout",
     "output_type": "stream",
     "text": [
      "\n",
      "🔍 Анализ датафрейма: missing_devices\n",
      "\n",
      "📊 Основные характеристики колонок:\n"
     ]
    },
    {
     "data": {
      "text/plain": "<pandas.io.formats.style.Styler at 0x281c019c1d0>",
      "text/html": "<style type=\"text/css\">\n#T_8597b_row0_col2, #T_8597b_row0_col3, #T_8597b_row1_col2, #T_8597b_row1_col3 {\n  background-color: #67000d;\n  color: #f1f1f1;\n}\n#T_8597b_row2_col2, #T_8597b_row2_col3, #T_8597b_row3_col2, #T_8597b_row3_col3, #T_8597b_row4_col2, #T_8597b_row4_col3, #T_8597b_row5_col2, #T_8597b_row5_col3, #T_8597b_row6_col2, #T_8597b_row6_col3 {\n  background-color: #fff5f0;\n  color: #000000;\n}\n</style>\n<table id=\"T_8597b\">\n  <thead>\n    <tr>\n      <th class=\"blank level0\" >&nbsp;</th>\n      <th id=\"T_8597b_level0_col0\" class=\"col_heading level0 col0\" >Тип данных</th>\n      <th id=\"T_8597b_level0_col1\" class=\"col_heading level0 col1\" >Уникальных</th>\n      <th id=\"T_8597b_level0_col2\" class=\"col_heading level0 col2\" >Пропусков</th>\n      <th id=\"T_8597b_level0_col3\" class=\"col_heading level0 col3\" >% Пропусков</th>\n      <th id=\"T_8597b_level0_col4\" class=\"col_heading level0 col4\" >Пример значения</th>\n    </tr>\n  </thead>\n  <tbody>\n    <tr>\n      <th id=\"T_8597b_level0_row0\" class=\"row_heading level0 row0\" >device_brand</th>\n      <td id=\"T_8597b_row0_col0\" class=\"data row0 col0\" >object</td>\n      <td id=\"T_8597b_row0_col1\" class=\"data row0 col1\" >0</td>\n      <td id=\"T_8597b_row0_col2\" class=\"data row0 col2\" >67</td>\n      <td id=\"T_8597b_row0_col3\" class=\"data row0 col3\" >100.0%</td>\n      <td id=\"T_8597b_row0_col4\" class=\"data row0 col4\" >None</td>\n    </tr>\n    <tr>\n      <th id=\"T_8597b_level0_row1\" class=\"row_heading level0 row1\" >device_model</th>\n      <td id=\"T_8597b_row1_col0\" class=\"data row1 col0\" >object</td>\n      <td id=\"T_8597b_row1_col1\" class=\"data row1 col1\" >0</td>\n      <td id=\"T_8597b_row1_col2\" class=\"data row1 col2\" >67</td>\n      <td id=\"T_8597b_row1_col3\" class=\"data row1 col3\" >100.0%</td>\n      <td id=\"T_8597b_row1_col4\" class=\"data row1 col4\" >nan</td>\n    </tr>\n    <tr>\n      <th id=\"T_8597b_level0_row2\" class=\"row_heading level0 row2\" >device_category</th>\n      <td id=\"T_8597b_row2_col0\" class=\"data row2 col0\" >object</td>\n      <td id=\"T_8597b_row2_col1\" class=\"data row2 col1\" >2</td>\n      <td id=\"T_8597b_row2_col2\" class=\"data row2 col2\" >0</td>\n      <td id=\"T_8597b_row2_col3\" class=\"data row2 col3\" >0.0%</td>\n      <td id=\"T_8597b_row2_col4\" class=\"data row2 col4\" >mobile</td>\n    </tr>\n    <tr>\n      <th id=\"T_8597b_level0_row3\" class=\"row_heading level0 row3\" >device_os</th>\n      <td id=\"T_8597b_row3_col0\" class=\"data row3 col0\" >object</td>\n      <td id=\"T_8597b_row3_col1\" class=\"data row3 col1\" >2</td>\n      <td id=\"T_8597b_row3_col2\" class=\"data row3 col2\" >0</td>\n      <td id=\"T_8597b_row3_col3\" class=\"data row3 col3\" >0.0%</td>\n      <td id=\"T_8597b_row3_col4\" class=\"data row3 col4\" >Linux</td>\n    </tr>\n    <tr>\n      <th id=\"T_8597b_level0_row4\" class=\"row_heading level0 row4\" >device_screen_resolution</th>\n      <td id=\"T_8597b_row4_col0\" class=\"data row4 col0\" >object</td>\n      <td id=\"T_8597b_row4_col1\" class=\"data row4 col1\" >15</td>\n      <td id=\"T_8597b_row4_col2\" class=\"data row4 col2\" >0</td>\n      <td id=\"T_8597b_row4_col3\" class=\"data row4 col3\" >0.0%</td>\n      <td id=\"T_8597b_row4_col4\" class=\"data row4 col4\" >393x851</td>\n    </tr>\n    <tr>\n      <th id=\"T_8597b_level0_row5\" class=\"row_heading level0 row5\" >device_browser</th>\n      <td id=\"T_8597b_row5_col0\" class=\"data row5 col0\" >object</td>\n      <td id=\"T_8597b_row5_col1\" class=\"data row5 col1\" >4</td>\n      <td id=\"T_8597b_row5_col2\" class=\"data row5 col2\" >0</td>\n      <td id=\"T_8597b_row5_col3\" class=\"data row5 col3\" >0.0%</td>\n      <td id=\"T_8597b_row5_col4\" class=\"data row5 col4\" >Chrome</td>\n    </tr>\n    <tr>\n      <th id=\"T_8597b_level0_row6\" class=\"row_heading level0 row6\" >original_index</th>\n      <td id=\"T_8597b_row6_col0\" class=\"data row6 col0\" >int64</td>\n      <td id=\"T_8597b_row6_col1\" class=\"data row6 col1\" >67</td>\n      <td id=\"T_8597b_row6_col2\" class=\"data row6 col2\" >0</td>\n      <td id=\"T_8597b_row6_col3\" class=\"data row6 col3\" >0.0%</td>\n      <td id=\"T_8597b_row6_col4\" class=\"data row6 col4\" >119227</td>\n    </tr>\n  </tbody>\n</table>\n"
     },
     "metadata": {},
     "output_type": "display_data"
    },
    {
     "name": "stdout",
     "output_type": "stream",
     "text": [
      "Index([ 119227,  121378,  137577,  265642,  276129,  276130,  276131,  412904,\n",
      "        429723,  483498,  537622,  537623,  537624,  553620,  553622,  553624,\n",
      "        605930,  605931,  607704,  607706,  624841,  638499,  652853,  671507,\n",
      "        671508,  787164,  843906,  922551,  922553, 1014397, 1019406, 1057636,\n",
      "       1152139, 1180190, 1193771, 1199700, 1199702, 1272918, 1346304, 1362164,\n",
      "       1395819, 1419719, 1421352, 1421353, 1433829, 1434062, 1471626, 1471631,\n",
      "       1471638, 1471640, 1471641, 1471679, 1471685, 1478907, 1489509, 1489510,\n",
      "       1524279, 1524526, 1531030, 1542872, 1561882, 1671088, 1671089, 1704802,\n",
      "       1716387, 1724652, 1747305],\n",
      "      dtype='int64')\n"
     ]
    }
   ],
   "source": [
    "explore_data_modern(missing_devices, 'missing_devices')\n",
    "unknown_indices = missing_devices.index\n",
    "print(unknown_indices)"
   ],
   "metadata": {
    "collapsed": false,
    "ExecuteTime": {
     "end_time": "2025-07-06T17:35:19.362061Z",
     "start_time": "2025-07-06T17:35:19.345916Z"
    }
   },
   "id": "48536cb1d81ced7",
   "execution_count": 140
  },
  {
   "cell_type": "code",
   "outputs": [
    {
     "name": "stdout",
     "output_type": "stream",
     "text": [
      "Сохранено: ../data/processed/sessions_20250706_2137.pkl | Лог: ../data/processed/log_sessions.txt\n"
     ]
    }
   ],
   "source": [
    "sessions.loc[unknown_indices, 'device_brand'] = 'unknown'\n",
    "save_session('Заполнение оставшихся пропусков в device_brand значениями unknown')"
   ],
   "metadata": {
    "collapsed": false,
    "ExecuteTime": {
     "end_time": "2025-07-06T17:37:21.827484Z",
     "start_time": "2025-07-06T17:37:08.835026Z"
    }
   },
   "id": "892c7d1725a37226",
   "execution_count": 141
  },
  {
   "cell_type": "code",
   "outputs": [
    {
     "name": "stdout",
     "output_type": "stream",
     "text": [
      "\n",
      "🔍 Анализ датафрейма: sessions\n",
      "\n",
      "📊 Основные характеристики колонок:\n"
     ]
    },
    {
     "data": {
      "text/plain": "<pandas.io.formats.style.Styler at 0x281c020f6b0>",
      "text/html": "<style type=\"text/css\">\n#T_28a18_row0_col2, #T_28a18_row0_col3, #T_28a18_row1_col2, #T_28a18_row1_col3, #T_28a18_row2_col2, #T_28a18_row2_col3, #T_28a18_row3_col2, #T_28a18_row3_col3, #T_28a18_row4_col2, #T_28a18_row4_col3, #T_28a18_row5_col2, #T_28a18_row5_col3, #T_28a18_row6_col2, #T_28a18_row6_col3, #T_28a18_row7_col2, #T_28a18_row7_col3, #T_28a18_row8_col2, #T_28a18_row8_col3, #T_28a18_row9_col2, #T_28a18_row9_col3, #T_28a18_row10_col2, #T_28a18_row10_col3, #T_28a18_row11_col2, #T_28a18_row11_col3 {\n  background-color: #fff5f0;\n  color: #000000;\n}\n</style>\n<table id=\"T_28a18\">\n  <thead>\n    <tr>\n      <th class=\"blank level0\" >&nbsp;</th>\n      <th id=\"T_28a18_level0_col0\" class=\"col_heading level0 col0\" >Тип данных</th>\n      <th id=\"T_28a18_level0_col1\" class=\"col_heading level0 col1\" >Уникальных</th>\n      <th id=\"T_28a18_level0_col2\" class=\"col_heading level0 col2\" >Пропусков</th>\n      <th id=\"T_28a18_level0_col3\" class=\"col_heading level0 col3\" >% Пропусков</th>\n      <th id=\"T_28a18_level0_col4\" class=\"col_heading level0 col4\" >Пример значения</th>\n    </tr>\n  </thead>\n  <tbody>\n    <tr>\n      <th id=\"T_28a18_level0_row0\" class=\"row_heading level0 row0\" >session_id</th>\n      <td id=\"T_28a18_row0_col0\" class=\"data row0 col0\" >object</td>\n      <td id=\"T_28a18_row0_col1\" class=\"data row0 col1\" >1860042</td>\n      <td id=\"T_28a18_row0_col2\" class=\"data row0 col2\" >0</td>\n      <td id=\"T_28a18_row0_col3\" class=\"data row0 col3\" >0.0%</td>\n      <td id=\"T_28a18_row0_col4\" class=\"data row0 col4\" >9055434745589932991.1637753792.1637753792</td>\n    </tr>\n    <tr>\n      <th id=\"T_28a18_level0_row1\" class=\"row_heading level0 row1\" >client_id</th>\n      <td id=\"T_28a18_row1_col0\" class=\"data row1 col0\" >object</td>\n      <td id=\"T_28a18_row1_col1\" class=\"data row1 col1\" >1391719</td>\n      <td id=\"T_28a18_row1_col2\" class=\"data row1 col2\" >0</td>\n      <td id=\"T_28a18_row1_col3\" class=\"data row1 col3\" >0.0%</td>\n      <td id=\"T_28a18_row1_col4\" class=\"data row1 col4\" >2108382700.1637753791</td>\n    </tr>\n    <tr>\n      <th id=\"T_28a18_level0_row2\" class=\"row_heading level0 row2\" >visit_date</th>\n      <td id=\"T_28a18_row2_col0\" class=\"data row2 col0\" >object</td>\n      <td id=\"T_28a18_row2_col1\" class=\"data row2 col1\" >226</td>\n      <td id=\"T_28a18_row2_col2\" class=\"data row2 col2\" >0</td>\n      <td id=\"T_28a18_row2_col3\" class=\"data row2 col3\" >0.0%</td>\n      <td id=\"T_28a18_row2_col4\" class=\"data row2 col4\" >2021-11-24</td>\n    </tr>\n    <tr>\n      <th id=\"T_28a18_level0_row3\" class=\"row_heading level0 row3\" >visit_time</th>\n      <td id=\"T_28a18_row3_col0\" class=\"data row3 col0\" >object</td>\n      <td id=\"T_28a18_row3_col1\" class=\"data row3 col1\" >85318</td>\n      <td id=\"T_28a18_row3_col2\" class=\"data row3 col2\" >0</td>\n      <td id=\"T_28a18_row3_col3\" class=\"data row3 col3\" >0.0%</td>\n      <td id=\"T_28a18_row3_col4\" class=\"data row3 col4\" >14:36:32</td>\n    </tr>\n    <tr>\n      <th id=\"T_28a18_level0_row4\" class=\"row_heading level0 row4\" >visit_number</th>\n      <td id=\"T_28a18_row4_col0\" class=\"data row4 col0\" >int64</td>\n      <td id=\"T_28a18_row4_col1\" class=\"data row4 col1\" >537</td>\n      <td id=\"T_28a18_row4_col2\" class=\"data row4 col2\" >0</td>\n      <td id=\"T_28a18_row4_col3\" class=\"data row4 col3\" >0.0%</td>\n      <td id=\"T_28a18_row4_col4\" class=\"data row4 col4\" >1</td>\n    </tr>\n    <tr>\n      <th id=\"T_28a18_level0_row5\" class=\"row_heading level0 row5\" >utm_medium</th>\n      <td id=\"T_28a18_row5_col0\" class=\"data row5 col0\" >object</td>\n      <td id=\"T_28a18_row5_col1\" class=\"data row5 col1\" >56</td>\n      <td id=\"T_28a18_row5_col2\" class=\"data row5 col2\" >0</td>\n      <td id=\"T_28a18_row5_col3\" class=\"data row5 col3\" >0.0%</td>\n      <td id=\"T_28a18_row5_col4\" class=\"data row5 col4\" >banner</td>\n    </tr>\n    <tr>\n      <th id=\"T_28a18_level0_row6\" class=\"row_heading level0 row6\" >device_category</th>\n      <td id=\"T_28a18_row6_col0\" class=\"data row6 col0\" >object</td>\n      <td id=\"T_28a18_row6_col1\" class=\"data row6 col1\" >3</td>\n      <td id=\"T_28a18_row6_col2\" class=\"data row6 col2\" >0</td>\n      <td id=\"T_28a18_row6_col3\" class=\"data row6 col3\" >0.0%</td>\n      <td id=\"T_28a18_row6_col4\" class=\"data row6 col4\" >mobile</td>\n    </tr>\n    <tr>\n      <th id=\"T_28a18_level0_row7\" class=\"row_heading level0 row7\" >device_brand</th>\n      <td id=\"T_28a18_row7_col0\" class=\"data row7 col0\" >object</td>\n      <td id=\"T_28a18_row7_col1\" class=\"data row7 col1\" >208</td>\n      <td id=\"T_28a18_row7_col2\" class=\"data row7 col2\" >0</td>\n      <td id=\"T_28a18_row7_col3\" class=\"data row7 col3\" >0.0%</td>\n      <td id=\"T_28a18_row7_col4\" class=\"data row7 col4\" >Huawei</td>\n    </tr>\n    <tr>\n      <th id=\"T_28a18_level0_row8\" class=\"row_heading level0 row8\" >device_screen_resolution</th>\n      <td id=\"T_28a18_row8_col0\" class=\"data row8 col0\" >object</td>\n      <td id=\"T_28a18_row8_col1\" class=\"data row8 col1\" >5039</td>\n      <td id=\"T_28a18_row8_col2\" class=\"data row8 col2\" >0</td>\n      <td id=\"T_28a18_row8_col3\" class=\"data row8 col3\" >0.0%</td>\n      <td id=\"T_28a18_row8_col4\" class=\"data row8 col4\" >360x720</td>\n    </tr>\n    <tr>\n      <th id=\"T_28a18_level0_row9\" class=\"row_heading level0 row9\" >device_browser</th>\n      <td id=\"T_28a18_row9_col0\" class=\"data row9 col0\" >object</td>\n      <td id=\"T_28a18_row9_col1\" class=\"data row9 col1\" >57</td>\n      <td id=\"T_28a18_row9_col2\" class=\"data row9 col2\" >0</td>\n      <td id=\"T_28a18_row9_col3\" class=\"data row9 col3\" >0.0%</td>\n      <td id=\"T_28a18_row9_col4\" class=\"data row9 col4\" >Chrome</td>\n    </tr>\n    <tr>\n      <th id=\"T_28a18_level0_row10\" class=\"row_heading level0 row10\" >geo_country</th>\n      <td id=\"T_28a18_row10_col0\" class=\"data row10 col0\" >object</td>\n      <td id=\"T_28a18_row10_col1\" class=\"data row10 col1\" >166</td>\n      <td id=\"T_28a18_row10_col2\" class=\"data row10 col2\" >0</td>\n      <td id=\"T_28a18_row10_col3\" class=\"data row10 col3\" >0.0%</td>\n      <td id=\"T_28a18_row10_col4\" class=\"data row10 col4\" >Russia</td>\n    </tr>\n    <tr>\n      <th id=\"T_28a18_level0_row11\" class=\"row_heading level0 row11\" >geo_city</th>\n      <td id=\"T_28a18_row11_col0\" class=\"data row11 col0\" >object</td>\n      <td id=\"T_28a18_row11_col1\" class=\"data row11 col1\" >2548</td>\n      <td id=\"T_28a18_row11_col2\" class=\"data row11 col2\" >0</td>\n      <td id=\"T_28a18_row11_col3\" class=\"data row11 col3\" >0.0%</td>\n      <td id=\"T_28a18_row11_col4\" class=\"data row11 col4\" >Zlatoust</td>\n    </tr>\n  </tbody>\n</table>\n"
     },
     "metadata": {},
     "output_type": "display_data"
    },
    {
     "data": {
      "text/plain": "                         Тип данных  Уникальных  Пропусков  % Пропусков  \\\nsession_id                   object     1860042          0          0.0   \nclient_id                    object     1391719          0          0.0   \nvisit_date                   object         226          0          0.0   \nvisit_time                   object       85318          0          0.0   \nvisit_number                  int64         537          0          0.0   \nutm_medium                   object          56          0          0.0   \ndevice_category              object           3          0          0.0   \ndevice_brand                 object         208          0          0.0   \ndevice_screen_resolution     object        5039          0          0.0   \ndevice_browser               object          57          0          0.0   \ngeo_country                  object         166          0          0.0   \ngeo_city                     object        2548          0          0.0   \n\n                                                    Пример значения  \nsession_id                9055434745589932991.1637753792.1637753792  \nclient_id                                     2108382700.1637753791  \nvisit_date                                               2021-11-24  \nvisit_time                                                 14:36:32  \nvisit_number                                                      1  \nutm_medium                                                   banner  \ndevice_category                                              mobile  \ndevice_brand                                                 Huawei  \ndevice_screen_resolution                                    360x720  \ndevice_browser                                               Chrome  \ngeo_country                                                  Russia  \ngeo_city                                                   Zlatoust  ",
      "text/html": "<div>\n<style scoped>\n    .dataframe tbody tr th:only-of-type {\n        vertical-align: middle;\n    }\n\n    .dataframe tbody tr th {\n        vertical-align: top;\n    }\n\n    .dataframe thead th {\n        text-align: right;\n    }\n</style>\n<table border=\"1\" class=\"dataframe\">\n  <thead>\n    <tr style=\"text-align: right;\">\n      <th></th>\n      <th>Тип данных</th>\n      <th>Уникальных</th>\n      <th>Пропусков</th>\n      <th>% Пропусков</th>\n      <th>Пример значения</th>\n    </tr>\n  </thead>\n  <tbody>\n    <tr>\n      <th>session_id</th>\n      <td>object</td>\n      <td>1860042</td>\n      <td>0</td>\n      <td>0.0</td>\n      <td>9055434745589932991.1637753792.1637753792</td>\n    </tr>\n    <tr>\n      <th>client_id</th>\n      <td>object</td>\n      <td>1391719</td>\n      <td>0</td>\n      <td>0.0</td>\n      <td>2108382700.1637753791</td>\n    </tr>\n    <tr>\n      <th>visit_date</th>\n      <td>object</td>\n      <td>226</td>\n      <td>0</td>\n      <td>0.0</td>\n      <td>2021-11-24</td>\n    </tr>\n    <tr>\n      <th>visit_time</th>\n      <td>object</td>\n      <td>85318</td>\n      <td>0</td>\n      <td>0.0</td>\n      <td>14:36:32</td>\n    </tr>\n    <tr>\n      <th>visit_number</th>\n      <td>int64</td>\n      <td>537</td>\n      <td>0</td>\n      <td>0.0</td>\n      <td>1</td>\n    </tr>\n    <tr>\n      <th>utm_medium</th>\n      <td>object</td>\n      <td>56</td>\n      <td>0</td>\n      <td>0.0</td>\n      <td>banner</td>\n    </tr>\n    <tr>\n      <th>device_category</th>\n      <td>object</td>\n      <td>3</td>\n      <td>0</td>\n      <td>0.0</td>\n      <td>mobile</td>\n    </tr>\n    <tr>\n      <th>device_brand</th>\n      <td>object</td>\n      <td>208</td>\n      <td>0</td>\n      <td>0.0</td>\n      <td>Huawei</td>\n    </tr>\n    <tr>\n      <th>device_screen_resolution</th>\n      <td>object</td>\n      <td>5039</td>\n      <td>0</td>\n      <td>0.0</td>\n      <td>360x720</td>\n    </tr>\n    <tr>\n      <th>device_browser</th>\n      <td>object</td>\n      <td>57</td>\n      <td>0</td>\n      <td>0.0</td>\n      <td>Chrome</td>\n    </tr>\n    <tr>\n      <th>geo_country</th>\n      <td>object</td>\n      <td>166</td>\n      <td>0</td>\n      <td>0.0</td>\n      <td>Russia</td>\n    </tr>\n    <tr>\n      <th>geo_city</th>\n      <td>object</td>\n      <td>2548</td>\n      <td>0</td>\n      <td>0.0</td>\n      <td>Zlatoust</td>\n    </tr>\n  </tbody>\n</table>\n</div>"
     },
     "execution_count": 142,
     "metadata": {},
     "output_type": "execute_result"
    }
   ],
   "source": [
    "explore_data_modern(sessions, SESSIONS_FRAME)"
   ],
   "metadata": {
    "collapsed": false,
    "ExecuteTime": {
     "end_time": "2025-07-06T17:38:13.907536Z",
     "start_time": "2025-07-06T17:38:09.863638Z"
    }
   },
   "id": "4a43c46a858cdf40",
   "execution_count": 142
  },
  {
   "cell_type": "code",
   "outputs": [],
   "source": [],
   "metadata": {
    "collapsed": false,
    "ExecuteTime": {
     "end_time": "2025-07-06T17:39:00.491840Z",
     "start_time": "2025-07-06T17:39:00.489294Z"
    }
   },
   "id": "dc2af3915309ac4",
   "execution_count": 142
  },
  {
   "cell_type": "markdown",
   "source": [
    "## 3. Анализ целевых событий\n",
    "Определяем, какие события считать конверсиями."
   ],
   "metadata": {
    "collapsed": false
   },
   "id": "6471399a41c38b4"
  },
  {
   "cell_type": "code",
   "outputs": [
    {
     "name": "stdout",
     "output_type": "stream",
     "text": [
      "Допустимые события: 146\n",
      "Редкие события (игнорируются): 84\n"
     ]
    }
   ],
   "source": [
    "def get_target_events(df, min_freq=50):\n",
    "    event_stats = df['event_action'].value_counts()\n",
    "    valid_events = event_stats[event_stats >= min_freq].index\n",
    "    rare_events = event_stats[event_stats < min_freq].index\n",
    "    \n",
    "    print(f\"Допустимые события: {len(valid_events)}\")\n",
    "    print(f\"Редкие события (игнорируются): {len(rare_events)}\")\n",
    "    return valid_events\n"
   ],
   "metadata": {
    "collapsed": false,
    "ExecuteTime": {
     "end_time": "2025-07-06T04:15:19.695980Z",
     "start_time": "2025-07-06T04:15:18.605718Z"
    }
   },
   "id": "4dac9d1eda53ca14",
   "execution_count": 19
  },
  {
   "cell_type": "markdown",
   "source": [
    "Топ событий в hits"
   ],
   "metadata": {
    "collapsed": false
   },
   "id": "26464a0a89cfb199"
  },
  {
   "cell_type": "code",
   "outputs": [
    {
     "name": "stdout",
     "output_type": "stream",
     "text": [
      "\n",
      "Топ-10 событий:\n",
      "event_action\n",
      "view_card                  3558985\n",
      "view_new_card              3551009\n",
      "sub_landing                1798117\n",
      "go_to_car_card              973666\n",
      "sub_view_cars_click         791515\n",
      "search_form_region          512069\n",
      "search_form_search_btn      433748\n",
      "sap_search_form_cost_to     356596\n",
      "showed_number_ads           326274\n",
      "pagination_click            248944\n",
      "Name: count, dtype: int64\n"
     ]
    }
   ],
   "source": [
    "print(\"\\nТоп-10 событий:\")\n",
    "print(hits['event_action'].value_counts().head(10))"
   ],
   "metadata": {
    "collapsed": false,
    "ExecuteTime": {
     "end_time": "2025-07-06T04:14:51.563202Z",
     "start_time": "2025-07-06T04:14:50.509432Z"
    }
   },
   "id": "122131a2b6bdd937",
   "execution_count": 18
  },
  {
   "cell_type": "markdown",
   "source": [
    "Попробуем вывести претендентов на целевые события."
   ],
   "metadata": {
    "collapsed": false
   },
   "id": "12b5218ab2881905"
  },
  {
   "cell_type": "code",
   "outputs": [
    {
     "name": "stdout",
     "output_type": "stream",
     "text": [
      "Допустимые события: 146\n",
      "Редкие события (игнорируются): 84\n",
      "1. view_card\n",
      "2. view_new_card\n",
      "3. sub_landing\n",
      "4. go_to_car_card\n",
      "5. sub_view_cars_click\n",
      "6. search_form_region\n",
      "7. search_form_search_btn\n",
      "8. sap_search_form_cost_to\n",
      "9. showed_number_ads\n",
      "10. pagination_click\n",
      "11. search_form_mark_select\n",
      "12. quiz_show\n",
      "13. search_form_model_select\n",
      "14. sap_search_form_cost_from\n",
      "15. photos_all\n",
      "16. search_form_search_car_type_select\n",
      "17. photos\n",
      "18. sub_car_page\n",
      "19. view_more_click\n",
      "20. search_kpp\n",
      "21. sub_header_link_click\n",
      "22. proactive invitation shown\n",
      "23. sub_offer_click\n",
      "24. start_chat\n",
      "25. listing_ads_sort\n",
      "26. search_form_rental\n",
      "27. sub_faq\n",
      "28. quiz_start\n",
      "29. sub_view_faq_click\n",
      "30. search_form_cost_to\n",
      "31. analystlabel\n",
      "32. start_auth\n",
      "33. search_body_type\n",
      "34. sub_car_claim_click\n",
      "35. search_form_model_multiselec\n",
      "36. search_form_year_from\n",
      "37. show_phone_input\n",
      "38. toggle_leasing_cars_show\n",
      "39. click_on_logo\n",
      "40. search_km_to\n",
      "41. search_form_modification_select\n",
      "42. sub_open_dialog_click\n",
      "43. search_engine\n",
      "44. search_form_clear\n",
      "45. search_drive\n",
      "46. search_power_from\n",
      "47. go_to_offer\n",
      "48. sub_submit_success\n",
      "49. click_on_subscription\n",
      "50. search_form_year_to\n",
      "51. phone_entered\n",
      "52. click_on_get_code\n",
      "53. search_steering_wheel\n",
      "54. search_km_from\n",
      "55. search_color\n",
      "56. show_sms_code_input\n",
      "57. search_form_cost_from\n",
      "58. click_on_confirm_sms_code\n",
      "59. search_power_to\n",
      "60. sub_car_claim_submit_click\n",
      "61. greenday_get_gift\n",
      "62. phone_auth_success\n",
      "63. code_sms_entered_success\n",
      "64. open_offer\n",
      "65. click_on_menu\n",
      "66. showed_active_invitation\n",
      "67. show_form_lets_get_acquainted\n",
      "68. name_entered\n",
      "69. scrolling_to_services\n",
      "70. go_to_terms\n",
      "71. proactive invitation rejected\n",
      "72. auto_subscription_click\n",
      "73. typing_in_leasing_chat\n",
      "74. view_used_card\n",
      "75. surname_entered\n",
      "76. sber_id_auth_start\n",
      "77. click_on_start_chatting\n",
      "78. scrolling_to_advantages\n",
      "79. patronymic_entered\n",
      "80. user_message\n",
      "81. go_to_special_offers\n",
      "82. go_to_job\n",
      "83. sub_footer_link_click\n",
      "84. sub_call_number_click\n",
      "85. click_on_my_data\n",
      "86. sub_callback_submit_click\n",
      "87. sub_car_request_submit_click\n",
      "88. automatic_return_to_chat\n",
      "89. go_to_privacy_partners\n",
      "90. go_to_my_idea\n",
      "91. chat requested\n",
      "92. chat established\n",
      "93. greenday_sub_view_cars_click\n",
      "94. sber_id_auth_success\n",
      "95. click_car_buyback\n",
      "96. greenday_go_to_car_card\n",
      "97. greenday_get_discount\n",
      "98. search_form_mark_multiselect\n",
      "99. share_btn\n",
      "100. click_skip_form_lets_get_acquainted\n",
      "101. phone_auth_start\n",
      "102. sub_account_page\n",
      "103. go_to_privacy_policy\n",
      "104. green_day_road_help_banner_show\n",
      "105. go_to_support\n",
      "106. greenday_sub_callback_submit_click\n",
      "107. click_on_category\n",
      "108. new_year_road_help_banner_show\n",
      "109. code_sms_incorrect_in\n",
      "110. add_ad_btn\n",
      "111. tap_on_phone_800\n",
      "112. click_on_my_ads\n",
      "113. user gave contacts during chat\n",
      "114. greenday_sub_submit_success\n",
      "115. tap_on_phone_495\n",
      "116. sub_custom_question_submit_click\n",
      "117. show_popup_this_is_your_account\n",
      "118. click_on_yes_its_me\n",
      "119. showed_call_options\n",
      "120. click_on_contact_us\n",
      "121. client initiate chat\n",
      "122. greenday_sub_view_faq_click\n",
      "123. proactive invitation accepted\n",
      "124. scrolling_to_help_in_finding_banner\n",
      "125. click_auto_subscription\n",
      "126. prechat phrase clicked\n",
      "127. scrolling_to_sub_quick_categories\n",
      "128. click_pos_credit\n",
      "129. go_to_press_center\n",
      "130. scrolling_to_sub_banner\n",
      "131. calculate\n",
      "132. greenday_sub_header_link_click\n",
      "133. send_code_sms_again\n",
      "134. click_no_help_needed\n",
      "135. click_setelem_credit\n",
      "136. jivo_telegram\n",
      "137. click_buy_auto\n",
      "138. code_sms_limit_error\n",
      "139. click_on_wallet\n",
      "140. click_free_car_selection\n",
      "141. back_to_change_phone\n",
      "142. offline form shown\n",
      "143. jivo_viber\n",
      "144. click_on_terms\n",
      "145. forward_to_options\n",
      "146. show_captha_error\n"
     ]
    }
   ],
   "source": [
    "target_events = get_target_events(hits, 100)\n",
    "for idx, event in enumerate(target_events, 1):\n",
    "    print(f\"{idx}. {event}\")"
   ],
   "metadata": {
    "collapsed": false,
    "ExecuteTime": {
     "end_time": "2025-07-06T04:32:52.312196Z",
     "start_time": "2025-07-06T04:32:51.151954Z"
    }
   },
   "id": "3e097dbf662866df",
   "execution_count": 23
  },
  {
   "cell_type": "markdown",
   "source": [
    "Выкинем в файл."
   ],
   "metadata": {
    "collapsed": false
   },
   "id": "919b9bfe27f93c59"
  },
  {
   "cell_type": "code",
   "outputs": [
    {
     "name": "stdout",
     "output_type": "stream",
     "text": [
      "✅ Список сохранён в target_events_list.csv\n"
     ]
    }
   ],
   "source": [
    "with open(\"../data/temp/target_events_list.csv\", \"w\") as f:\n",
    "    f.write(\"\\n\".join(target_events))\n",
    "print(\"✅ Список сохранён в target_events_list.csv\")"
   ],
   "metadata": {
    "collapsed": false,
    "ExecuteTime": {
     "end_time": "2025-07-06T04:43:33.103508Z",
     "start_time": "2025-07-06T04:43:33.099021Z"
    }
   },
   "id": "122ad8cd5fc82771",
   "execution_count": 27
  },
  {
   "cell_type": "code",
   "outputs": [
    {
     "name": "stdout",
     "output_type": "stream",
     "text": [
      "✅ Хеды выгружены в файлы\n"
     ]
    }
   ],
   "source": [
    "head_to_file(sessions, 'sessions')\n",
    "head_to_file(hits, 'hits')\n",
    "print(\"✅ Хеды выгружены в файлы\")"
   ],
   "metadata": {
    "collapsed": false,
    "ExecuteTime": {
     "end_time": "2025-07-06T05:59:54.341174Z",
     "start_time": "2025-07-06T05:59:54.302630Z"
    }
   },
   "id": "aeeba30c63da024",
   "execution_count": 30
  },
  {
   "cell_type": "markdown",
   "source": [
    "Ручной ввод целевых событий."
   ],
   "metadata": {
    "collapsed": false
   },
   "id": "56362e3a6559157"
  },
  {
   "cell_type": "code",
   "outputs": [],
   "source": [
    "target_actions = ['start_chat']"
   ],
   "metadata": {
    "collapsed": false,
    "ExecuteTime": {
     "end_time": "2025-07-06T08:04:37.301930Z",
     "start_time": "2025-07-06T08:04:37.295772Z"
    }
   },
   "id": "d010472e1594456e",
   "execution_count": 31
  }
 ],
 "metadata": {
  "kernelspec": {
   "display_name": "Python 3",
   "language": "python",
   "name": "python3"
  },
  "language_info": {
   "codemirror_mode": {
    "name": "ipython",
    "version": 2
   },
   "file_extension": ".py",
   "mimetype": "text/x-python",
   "name": "python",
   "nbconvert_exporter": "python",
   "pygments_lexer": "ipython2",
   "version": "2.7.6"
  }
 },
 "nbformat": 4,
 "nbformat_minor": 5
}
