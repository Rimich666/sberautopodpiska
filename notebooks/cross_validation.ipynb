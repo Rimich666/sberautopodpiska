{
 "cells": [
  {
   "cell_type": "markdown",
   "source": [
    "## Кроссвалидация"
   ],
   "metadata": {
    "collapsed": false
   },
   "id": "4026c67fd9097917"
  },
  {
   "cell_type": "code",
   "outputs": [],
   "source": [
    "import pandas as pd\n",
    "import numpy as np\n",
    "import matplotlib.pyplot as plt\n",
    "from notebooks.helpers import explore_data_modern, load_latest_params\n",
    "from catboost import Pool,CatBoostClassifier\n",
    "from sklearn.metrics import roc_auc_score\n",
    "from sklearn.model_selection import StratifiedKFold"
   ],
   "metadata": {
    "collapsed": false,
    "ExecuteTime": {
     "end_time": "2025-07-14T17:24:23.330595Z",
     "start_time": "2025-07-14T17:24:23.190063Z"
    }
   },
   "id": "7ccdff1956b4f11a",
   "execution_count": 1
  },
  {
   "cell_type": "markdown",
   "source": [
    "Настройки отображения"
   ],
   "metadata": {
    "collapsed": false
   },
   "id": "830514095fb90850"
  },
  {
   "cell_type": "code",
   "outputs": [],
   "source": [
    "pd.set_option('display.max_columns', 50)\n",
    "plt.style.use('ggplot') "
   ],
   "metadata": {
    "collapsed": false,
    "ExecuteTime": {
     "end_time": "2025-07-14T17:24:23.335383Z",
     "start_time": "2025-07-14T17:24:23.331630Z"
    }
   },
   "id": "36a38e0448182a9b",
   "execution_count": 2
  },
  {
   "cell_type": "markdown",
   "source": [
    "Загрузка данных"
   ],
   "metadata": {
    "collapsed": false
   },
   "id": "91732a4715db39e1"
  },
  {
   "cell_type": "code",
   "outputs": [
    {
     "name": "stdout",
     "output_type": "stream",
     "text": [
      "✅ Данные загружены!\n",
      "Cross validation frame: 1385812 строк\n"
     ]
    }
   ],
   "source": [
    "try:\n",
    "    X_CROSS = pd.read_parquet('../data/datasets/cross.parquet')\n",
    "            \n",
    "    print(\"✅ Данные загружены!\")\n",
    "    print(f\"Cross validation frame: {X_CROSS.shape[0]} строк\")\n",
    "except Exception as e:\n",
    "    print(f\"❌ Ошибка: {e}\")"
   ],
   "metadata": {
    "collapsed": false,
    "ExecuteTime": {
     "end_time": "2025-07-14T17:24:24.890612Z",
     "start_time": "2025-07-14T17:24:23.336448Z"
    }
   },
   "id": "35f404aea2d3969c",
   "execution_count": 3
  },
  {
   "cell_type": "code",
   "outputs": [
    {
     "name": "stdout",
     "output_type": "stream",
     "text": [
      "\n",
      "🔍 Анализ датафрейма: Train\n"
     ]
    },
    {
     "data": {
      "text/plain": "<pandas.io.formats.style.Styler at 0x1f96f91d820>",
      "text/html": "<style type=\"text/css\">\n#T_19b93_row0_col2, #T_19b93_row0_col3, #T_19b93_row1_col2, #T_19b93_row1_col3, #T_19b93_row2_col2, #T_19b93_row2_col3, #T_19b93_row3_col2, #T_19b93_row3_col3, #T_19b93_row4_col2, #T_19b93_row4_col3, #T_19b93_row5_col2, #T_19b93_row5_col3, #T_19b93_row6_col2, #T_19b93_row6_col3, #T_19b93_row7_col2, #T_19b93_row7_col3, #T_19b93_row8_col2, #T_19b93_row8_col3, #T_19b93_row9_col2, #T_19b93_row9_col3, #T_19b93_row10_col2, #T_19b93_row10_col3, #T_19b93_row11_col2, #T_19b93_row11_col3, #T_19b93_row12_col2, #T_19b93_row12_col3, #T_19b93_row13_col2, #T_19b93_row13_col3, #T_19b93_row14_col2, #T_19b93_row14_col3, #T_19b93_row15_col2, #T_19b93_row15_col3, #T_19b93_row16_col2, #T_19b93_row16_col3, #T_19b93_row17_col2, #T_19b93_row17_col3, #T_19b93_row18_col2, #T_19b93_row18_col3, #T_19b93_row19_col2, #T_19b93_row19_col3, #T_19b93_row20_col2, #T_19b93_row20_col3, #T_19b93_row21_col2, #T_19b93_row21_col3, #T_19b93_row22_col2, #T_19b93_row22_col3, #T_19b93_row23_col2, #T_19b93_row23_col3, #T_19b93_row24_col2, #T_19b93_row24_col3, #T_19b93_row25_col2, #T_19b93_row25_col3, #T_19b93_row26_col2, #T_19b93_row26_col3, #T_19b93_row27_col2, #T_19b93_row27_col3, #T_19b93_row28_col2, #T_19b93_row28_col3 {\n  background-color: #fff5f0;\n  color: #000000;\n}\n</style>\n<table id=\"T_19b93\">\n  <thead>\n    <tr>\n      <th class=\"blank level0\" >&nbsp;</th>\n      <th id=\"T_19b93_level0_col0\" class=\"col_heading level0 col0\" >Тип данных</th>\n      <th id=\"T_19b93_level0_col1\" class=\"col_heading level0 col1\" >Уникальных</th>\n      <th id=\"T_19b93_level0_col2\" class=\"col_heading level0 col2\" >Пропусков</th>\n      <th id=\"T_19b93_level0_col3\" class=\"col_heading level0 col3\" >% Пропусков</th>\n      <th id=\"T_19b93_level0_col4\" class=\"col_heading level0 col4\" >Пример значения</th>\n    </tr>\n  </thead>\n  <tbody>\n    <tr>\n      <th id=\"T_19b93_level0_row0\" class=\"row_heading level0 row0\" >client_id</th>\n      <td id=\"T_19b93_row0_col0\" class=\"data row0 col0\" >object</td>\n      <td id=\"T_19b93_row0_col1\" class=\"data row0 col1\" >1091884</td>\n      <td id=\"T_19b93_row0_col2\" class=\"data row0 col2\" >0</td>\n      <td id=\"T_19b93_row0_col3\" class=\"data row0 col3\" >0.0%</td>\n      <td id=\"T_19b93_row0_col4\" class=\"data row0 col4\" >1338357431.1640964866</td>\n    </tr>\n    <tr>\n      <th id=\"T_19b93_level0_row1\" class=\"row_heading level0 row1\" >geo_country</th>\n      <td id=\"T_19b93_row1_col0\" class=\"data row1 col0\" >object</td>\n      <td id=\"T_19b93_row1_col1\" class=\"data row1 col1\" >155</td>\n      <td id=\"T_19b93_row1_col2\" class=\"data row1 col2\" >0</td>\n      <td id=\"T_19b93_row1_col3\" class=\"data row1 col3\" >0.0%</td>\n      <td id=\"T_19b93_row1_col4\" class=\"data row1 col4\" >Russia</td>\n    </tr>\n    <tr>\n      <th id=\"T_19b93_level0_row2\" class=\"row_heading level0 row2\" >is_peak_hour</th>\n      <td id=\"T_19b93_row2_col0\" class=\"data row2 col0\" >int64</td>\n      <td id=\"T_19b93_row2_col1\" class=\"data row2 col1\" >2</td>\n      <td id=\"T_19b93_row2_col2\" class=\"data row2 col2\" >0</td>\n      <td id=\"T_19b93_row2_col3\" class=\"data row2 col3\" >0.0%</td>\n      <td id=\"T_19b93_row2_col4\" class=\"data row2 col4\" >1</td>\n    </tr>\n    <tr>\n      <th id=\"T_19b93_level0_row3\" class=\"row_heading level0 row3\" >is_weekend</th>\n      <td id=\"T_19b93_row3_col0\" class=\"data row3 col0\" >int32</td>\n      <td id=\"T_19b93_row3_col1\" class=\"data row3 col1\" >2</td>\n      <td id=\"T_19b93_row3_col2\" class=\"data row3 col2\" >0</td>\n      <td id=\"T_19b93_row3_col3\" class=\"data row3 col3\" >0.0%</td>\n      <td id=\"T_19b93_row3_col4\" class=\"data row3 col4\" >0</td>\n    </tr>\n    <tr>\n      <th id=\"T_19b93_level0_row4\" class=\"row_heading level0 row4\" >visit_day_week</th>\n      <td id=\"T_19b93_row4_col0\" class=\"data row4 col0\" >int64</td>\n      <td id=\"T_19b93_row4_col1\" class=\"data row4 col1\" >7</td>\n      <td id=\"T_19b93_row4_col2\" class=\"data row4 col2\" >0</td>\n      <td id=\"T_19b93_row4_col3\" class=\"data row4 col3\" >0.0%</td>\n      <td id=\"T_19b93_row4_col4\" class=\"data row4 col4\" >4</td>\n    </tr>\n    <tr>\n      <th id=\"T_19b93_level0_row5\" class=\"row_heading level0 row5\" >visit_season</th>\n      <td id=\"T_19b93_row5_col0\" class=\"data row5 col0\" >object</td>\n      <td id=\"T_19b93_row5_col1\" class=\"data row5 col1\" >4</td>\n      <td id=\"T_19b93_row5_col2\" class=\"data row5 col2\" >0</td>\n      <td id=\"T_19b93_row5_col3\" class=\"data row5 col3\" >0.0%</td>\n      <td id=\"T_19b93_row5_col4\" class=\"data row5 col4\" >winter</td>\n    </tr>\n    <tr>\n      <th id=\"T_19b93_level0_row6\" class=\"row_heading level0 row6\" >visit_month</th>\n      <td id=\"T_19b93_row6_col0\" class=\"data row6 col0\" >int64</td>\n      <td id=\"T_19b93_row6_col1\" class=\"data row6 col1\" >8</td>\n      <td id=\"T_19b93_row6_col2\" class=\"data row6 col2\" >0</td>\n      <td id=\"T_19b93_row6_col3\" class=\"data row6 col3\" >0.0%</td>\n      <td id=\"T_19b93_row6_col4\" class=\"data row6 col4\" >12</td>\n    </tr>\n    <tr>\n      <th id=\"T_19b93_level0_row7\" class=\"row_heading level0 row7\" >frequent_visitor</th>\n      <td id=\"T_19b93_row7_col0\" class=\"data row7 col0\" >int32</td>\n      <td id=\"T_19b93_row7_col1\" class=\"data row7 col1\" >2</td>\n      <td id=\"T_19b93_row7_col2\" class=\"data row7 col2\" >0</td>\n      <td id=\"T_19b93_row7_col3\" class=\"data row7 col3\" >0.0%</td>\n      <td id=\"T_19b93_row7_col4\" class=\"data row7 col4\" >0</td>\n    </tr>\n    <tr>\n      <th id=\"T_19b93_level0_row8\" class=\"row_heading level0 row8\" >brand_tier</th>\n      <td id=\"T_19b93_row8_col0\" class=\"data row8 col0\" >object</td>\n      <td id=\"T_19b93_row8_col1\" class=\"data row8 col1\" >3</td>\n      <td id=\"T_19b93_row8_col2\" class=\"data row8 col2\" >0</td>\n      <td id=\"T_19b93_row8_col3\" class=\"data row8 col3\" >0.0%</td>\n      <td id=\"T_19b93_row8_col4\" class=\"data row8 col4\" >other</td>\n    </tr>\n    <tr>\n      <th id=\"T_19b93_level0_row9\" class=\"row_heading level0 row9\" >is_returning</th>\n      <td id=\"T_19b93_row9_col0\" class=\"data row9 col0\" >int32</td>\n      <td id=\"T_19b93_row9_col1\" class=\"data row9 col1\" >2</td>\n      <td id=\"T_19b93_row9_col2\" class=\"data row9 col2\" >0</td>\n      <td id=\"T_19b93_row9_col3\" class=\"data row9 col3\" >0.0%</td>\n      <td id=\"T_19b93_row9_col4\" class=\"data row9 col4\" >0</td>\n    </tr>\n    <tr>\n      <th id=\"T_19b93_level0_row10\" class=\"row_heading level0 row10\" >visit_time_minutes</th>\n      <td id=\"T_19b93_row10_col0\" class=\"data row10 col0\" >int64</td>\n      <td id=\"T_19b93_row10_col1\" class=\"data row10 col1\" >1440</td>\n      <td id=\"T_19b93_row10_col2\" class=\"data row10 col2\" >0</td>\n      <td id=\"T_19b93_row10_col3\" class=\"data row10 col3\" >0.0%</td>\n      <td id=\"T_19b93_row10_col4\" class=\"data row10 col4\" >1114</td>\n    </tr>\n    <tr>\n      <th id=\"T_19b93_level0_row11\" class=\"row_heading level0 row11\" >has_utm_keyword</th>\n      <td id=\"T_19b93_row11_col0\" class=\"data row11 col0\" >int32</td>\n      <td id=\"T_19b93_row11_col1\" class=\"data row11 col1\" >2</td>\n      <td id=\"T_19b93_row11_col2\" class=\"data row11 col2\" >0</td>\n      <td id=\"T_19b93_row11_col3\" class=\"data row11 col3\" >0.0%</td>\n      <td id=\"T_19b93_row11_col4\" class=\"data row11 col4\" >1</td>\n    </tr>\n    <tr>\n      <th id=\"T_19b93_level0_row12\" class=\"row_heading level0 row12\" >target</th>\n      <td id=\"T_19b93_row12_col0\" class=\"data row12 col0\" >int32</td>\n      <td id=\"T_19b93_row12_col1\" class=\"data row12 col1\" >2</td>\n      <td id=\"T_19b93_row12_col2\" class=\"data row12 col2\" >0</td>\n      <td id=\"T_19b93_row12_col3\" class=\"data row12 col3\" >0.0%</td>\n      <td id=\"T_19b93_row12_col4\" class=\"data row12 col4\" >0</td>\n    </tr>\n    <tr>\n      <th id=\"T_19b93_level0_row13\" class=\"row_heading level0 row13\" >geo_city</th>\n      <td id=\"T_19b93_row13_col0\" class=\"data row13 col0\" >object</td>\n      <td id=\"T_19b93_row13_col1\" class=\"data row13 col1\" >2201</td>\n      <td id=\"T_19b93_row13_col2\" class=\"data row13 col2\" >0</td>\n      <td id=\"T_19b93_row13_col3\" class=\"data row13 col3\" >0.0%</td>\n      <td id=\"T_19b93_row13_col4\" class=\"data row13 col4\" >Tula</td>\n    </tr>\n    <tr>\n      <th id=\"T_19b93_level0_row14\" class=\"row_heading level0 row14\" >device_browser</th>\n      <td id=\"T_19b93_row14_col0\" class=\"data row14 col0\" >object</td>\n      <td id=\"T_19b93_row14_col1\" class=\"data row14 col1\" >54</td>\n      <td id=\"T_19b93_row14_col2\" class=\"data row14 col2\" >0</td>\n      <td id=\"T_19b93_row14_col3\" class=\"data row14 col3\" >0.0%</td>\n      <td id=\"T_19b93_row14_col4\" class=\"data row14 col4\" >Chrome</td>\n    </tr>\n    <tr>\n      <th id=\"T_19b93_level0_row15\" class=\"row_heading level0 row15\" >visit_date</th>\n      <td id=\"T_19b93_row15_col0\" class=\"data row15 col0\" >object</td>\n      <td id=\"T_19b93_row15_col1\" class=\"data row15 col1\" >226</td>\n      <td id=\"T_19b93_row15_col2\" class=\"data row15 col2\" >0</td>\n      <td id=\"T_19b93_row15_col3\" class=\"data row15 col3\" >0.0%</td>\n      <td id=\"T_19b93_row15_col4\" class=\"data row15 col4\" >2021-12-31</td>\n    </tr>\n    <tr>\n      <th id=\"T_19b93_level0_row16\" class=\"row_heading level0 row16\" >device_screen_resolution</th>\n      <td id=\"T_19b93_row16_col0\" class=\"data row16 col0\" >object</td>\n      <td id=\"T_19b93_row16_col1\" class=\"data row16 col1\" >4414</td>\n      <td id=\"T_19b93_row16_col2\" class=\"data row16 col2\" >0</td>\n      <td id=\"T_19b93_row16_col3\" class=\"data row16 col3\" >0.0%</td>\n      <td id=\"T_19b93_row16_col4\" class=\"data row16 col4\" >1792x1120</td>\n    </tr>\n    <tr>\n      <th id=\"T_19b93_level0_row17\" class=\"row_heading level0 row17\" >device_model</th>\n      <td id=\"T_19b93_row17_col0\" class=\"data row17 col0\" >object</td>\n      <td id=\"T_19b93_row17_col1\" class=\"data row17 col1\" >102</td>\n      <td id=\"T_19b93_row17_col2\" class=\"data row17 col2\" >0</td>\n      <td id=\"T_19b93_row17_col3\" class=\"data row17 col3\" >0.0%</td>\n      <td id=\"T_19b93_row17_col4\" class=\"data row17 col4\" >unknown</td>\n    </tr>\n    <tr>\n      <th id=\"T_19b93_level0_row18\" class=\"row_heading level0 row18\" >device_brand</th>\n      <td id=\"T_19b93_row18_col0\" class=\"data row18 col0\" >object</td>\n      <td id=\"T_19b93_row18_col1\" class=\"data row18 col1\" >194</td>\n      <td id=\"T_19b93_row18_col2\" class=\"data row18 col2\" >0</td>\n      <td id=\"T_19b93_row18_col3\" class=\"data row18 col3\" >0.0%</td>\n      <td id=\"T_19b93_row18_col4\" class=\"data row18 col4\" >unknown</td>\n    </tr>\n    <tr>\n      <th id=\"T_19b93_level0_row19\" class=\"row_heading level0 row19\" >device_os</th>\n      <td id=\"T_19b93_row19_col0\" class=\"data row19 col0\" >object</td>\n      <td id=\"T_19b93_row19_col1\" class=\"data row19 col1\" >14</td>\n      <td id=\"T_19b93_row19_col2\" class=\"data row19 col2\" >0</td>\n      <td id=\"T_19b93_row19_col3\" class=\"data row19 col3\" >0.0%</td>\n      <td id=\"T_19b93_row19_col4\" class=\"data row19 col4\" >Macintosh</td>\n    </tr>\n    <tr>\n      <th id=\"T_19b93_level0_row20\" class=\"row_heading level0 row20\" >device_category</th>\n      <td id=\"T_19b93_row20_col0\" class=\"data row20 col0\" >object</td>\n      <td id=\"T_19b93_row20_col1\" class=\"data row20 col1\" >3</td>\n      <td id=\"T_19b93_row20_col2\" class=\"data row20 col2\" >0</td>\n      <td id=\"T_19b93_row20_col3\" class=\"data row20 col3\" >0.0%</td>\n      <td id=\"T_19b93_row20_col4\" class=\"data row20 col4\" >desktop</td>\n    </tr>\n    <tr>\n      <th id=\"T_19b93_level0_row21\" class=\"row_heading level0 row21\" >utm_keyword</th>\n      <td id=\"T_19b93_row21_col0\" class=\"data row21 col0\" >object</td>\n      <td id=\"T_19b93_row21_col1\" class=\"data row21 col1\" >1143</td>\n      <td id=\"T_19b93_row21_col2\" class=\"data row21 col2\" >0</td>\n      <td id=\"T_19b93_row21_col3\" class=\"data row21 col3\" >0.0%</td>\n      <td id=\"T_19b93_row21_col4\" class=\"data row21 col4\" >qUcotcWimEOQiboVPcCx</td>\n    </tr>\n    <tr>\n      <th id=\"T_19b93_level0_row22\" class=\"row_heading level0 row22\" >utm_adcontent</th>\n      <td id=\"T_19b93_row22_col0\" class=\"data row22 col0\" >object</td>\n      <td id=\"T_19b93_row22_col1\" class=\"data row22 col1\" >273</td>\n      <td id=\"T_19b93_row22_col2\" class=\"data row22 col2\" >0</td>\n      <td id=\"T_19b93_row22_col3\" class=\"data row22 col3\" >0.0%</td>\n      <td id=\"T_19b93_row22_col4\" class=\"data row22 col4\" >yYdBRbPmBMUZHXwqGxNx</td>\n    </tr>\n    <tr>\n      <th id=\"T_19b93_level0_row23\" class=\"row_heading level0 row23\" >utm_campaign</th>\n      <td id=\"T_19b93_row23_col0\" class=\"data row23 col0\" >object</td>\n      <td id=\"T_19b93_row23_col1\" class=\"data row23 col1\" >400</td>\n      <td id=\"T_19b93_row23_col2\" class=\"data row23 col2\" >0</td>\n      <td id=\"T_19b93_row23_col3\" class=\"data row23 col3\" >0.0%</td>\n      <td id=\"T_19b93_row23_col4\" class=\"data row23 col4\" >FTjNLDyTrXaWYgZymFkV</td>\n    </tr>\n    <tr>\n      <th id=\"T_19b93_level0_row24\" class=\"row_heading level0 row24\" >utm_medium</th>\n      <td id=\"T_19b93_row24_col0\" class=\"data row24 col0\" >object</td>\n      <td id=\"T_19b93_row24_col1\" class=\"data row24 col1\" >50</td>\n      <td id=\"T_19b93_row24_col2\" class=\"data row24 col2\" >0</td>\n      <td id=\"T_19b93_row24_col3\" class=\"data row24 col3\" >0.0%</td>\n      <td id=\"T_19b93_row24_col4\" class=\"data row24 col4\" >cpm</td>\n    </tr>\n    <tr>\n      <th id=\"T_19b93_level0_row25\" class=\"row_heading level0 row25\" >utm_source</th>\n      <td id=\"T_19b93_row25_col0\" class=\"data row25 col0\" >object</td>\n      <td id=\"T_19b93_row25_col1\" class=\"data row25 col1\" >263</td>\n      <td id=\"T_19b93_row25_col2\" class=\"data row25 col2\" >0</td>\n      <td id=\"T_19b93_row25_col3\" class=\"data row25 col3\" >0.0%</td>\n      <td id=\"T_19b93_row25_col4\" class=\"data row25 col4\" >fgymSoTvjKPEgaIJqsiH</td>\n    </tr>\n    <tr>\n      <th id=\"T_19b93_level0_row26\" class=\"row_heading level0 row26\" >visit_number</th>\n      <td id=\"T_19b93_row26_col0\" class=\"data row26 col0\" >int64</td>\n      <td id=\"T_19b93_row26_col1\" class=\"data row26 col1\" >502</td>\n      <td id=\"T_19b93_row26_col2\" class=\"data row26 col2\" >0</td>\n      <td id=\"T_19b93_row26_col3\" class=\"data row26 col3\" >0.0%</td>\n      <td id=\"T_19b93_row26_col4\" class=\"data row26 col4\" >1</td>\n    </tr>\n    <tr>\n      <th id=\"T_19b93_level0_row27\" class=\"row_heading level0 row27\" >visit_time</th>\n      <td id=\"T_19b93_row27_col0\" class=\"data row27 col0\" >object</td>\n      <td id=\"T_19b93_row27_col1\" class=\"data row27 col1\" >84081</td>\n      <td id=\"T_19b93_row27_col2\" class=\"data row27 col2\" >0</td>\n      <td id=\"T_19b93_row27_col3\" class=\"data row27 col3\" >0.0%</td>\n      <td id=\"T_19b93_row27_col4\" class=\"data row27 col4\" >18:34:37</td>\n    </tr>\n    <tr>\n      <th id=\"T_19b93_level0_row28\" class=\"row_heading level0 row28\" >time_of_day</th>\n      <td id=\"T_19b93_row28_col0\" class=\"data row28 col0\" >object</td>\n      <td id=\"T_19b93_row28_col1\" class=\"data row28 col1\" >4</td>\n      <td id=\"T_19b93_row28_col2\" class=\"data row28 col2\" >0</td>\n      <td id=\"T_19b93_row28_col3\" class=\"data row28 col3\" >0.0%</td>\n      <td id=\"T_19b93_row28_col4\" class=\"data row28 col4\" >evening</td>\n    </tr>\n  </tbody>\n</table>\n"
     },
     "metadata": {},
     "output_type": "display_data"
    }
   ],
   "source": [
    "display(explore_data_modern(X_CROSS, 'Train'))"
   ],
   "metadata": {
    "collapsed": false,
    "ExecuteTime": {
     "end_time": "2025-07-14T17:24:27.836628Z",
     "start_time": "2025-07-14T17:24:24.891676Z"
    }
   },
   "id": "c459e8877910e864",
   "execution_count": 4
  },
  {
   "cell_type": "code",
   "outputs": [],
   "source": [
    "def cross_validation(features, cat_features, best_params=None):\n",
    "    print(f\"Feature set {features}\")\n",
    "    default_params = {\n",
    "            'iterations': 500,\n",
    "            'random_seed': 42,\n",
    "            'auto_class_weights': 'Balanced',\n",
    "            'verbose': 0,\n",
    "            'task_type': 'GPU',\n",
    "            'devices': '0'\n",
    "        }\n",
    "    params = best_params if best_params else default_params\n",
    "    print(params)\n",
    "    X = X_CROSS[features]\n",
    "    y = X_CROSS['target']\n",
    "    # Настройки кросс-валидации\n",
    "    n_splits = 5\n",
    "    skf = StratifiedKFold(n_splits=n_splits, shuffle=True, random_state=42)\n",
    "\n",
    "    # Хранение результатов\n",
    "    auc_scores = []\n",
    "    iteration = 0\n",
    "    for train_index, val_index in skf.split(X, y):\n",
    "        iteration += 1\n",
    "        # Разбиение данных с учетом стратификации\n",
    "        X_train, X_val = X.iloc[train_index], X.iloc[val_index]\n",
    "        y_train, y_val = y.iloc[train_index], y.iloc[val_index]\n",
    "    \n",
    "        # Создание Pool объектов (оптимизировано для CatBoost)\n",
    "        train_pool = Pool(X_train, y_train, cat_features=cat_features)\n",
    "        val_pool = Pool(X_val, y_val, cat_features=cat_features)\n",
    "    \n",
    "        # Обучение модели\n",
    "        model = CatBoostClassifier(**params)\n",
    "        model.fit(train_pool, eval_set=val_pool)\n",
    "    \n",
    "        # Предсказание и оценка\n",
    "        y_pred = model.predict_proba(X_val)[:, 1]\n",
    "        auc = roc_auc_score(y_val, y_pred)\n",
    "        auc_scores.append(auc)\n",
    "        print(f\"Фолд {iteration} ROC-AUC: {auc:.4f}\")\n",
    "\n",
    "    # Итоговые метрики\n",
    "    print(f\"\\nСредний AUC: {np.mean(auc_scores):.4f} ± {np.std(auc_scores):.4f}\")"
   ],
   "metadata": {
    "collapsed": false,
    "ExecuteTime": {
     "end_time": "2025-07-14T17:24:31.018262Z",
     "start_time": "2025-07-14T17:24:31.011175Z"
    }
   },
   "id": "cceb62650346f05",
   "execution_count": 5
  },
  {
   "cell_type": "code",
   "outputs": [],
   "source": [
    "loads_params = load_latest_params()"
   ],
   "metadata": {
    "collapsed": false,
    "ExecuteTime": {
     "end_time": "2025-07-14T17:24:39.807176Z",
     "start_time": "2025-07-14T17:24:39.802483Z"
    }
   },
   "id": "57aab7c01b609b77",
   "execution_count": 6
  },
  {
   "cell_type": "code",
   "outputs": [],
   "source": [
    "param_features = ['utm_source', 'utm_medium', 'device_brand', 'visit_number', 'utm_campaign', 'utm_keyword']\n",
    "category_features = ['utm_source', 'utm_medium', 'device_brand', 'utm_campaign', 'utm_keyword']"
   ],
   "metadata": {
    "collapsed": false,
    "ExecuteTime": {
     "end_time": "2025-07-12T04:46:36.124993Z",
     "start_time": "2025-07-12T04:46:36.121324Z"
    }
   },
   "id": "951d5c43460cfb05",
   "execution_count": 31
  },
  {
   "cell_type": "code",
   "outputs": [
    {
     "name": "stdout",
     "output_type": "stream",
     "text": [
      "Feature set ['utm_source', 'utm_medium', 'device_brand', 'visit_number', 'utm_campaign', 'utm_keyword']\n",
      "{'iterations': 672, 'depth': 8, 'learning_rate': 0.08743604703974947, 'l2_leaf_reg': 4, 'random_seed': 42, 'task_type': 'GPU', 'devices': '0', 'auto_class_weights': 'Balanced', 'verbose': 0}\n",
      "Фолд 1 ROC-AUC: 0.7067\n",
      "Фолд 2 ROC-AUC: 0.7130\n",
      "Фолд 3 ROC-AUC: 0.7152\n",
      "Фолд 4 ROC-AUC: 0.7105\n",
      "Фолд 5 ROC-AUC: 0.7136\n",
      "\n",
      "Средний AUC: 0.7118 ± 0.0030\n"
     ]
    }
   ],
   "source": [
    "cross_validation(param_features, category_features, loads_params)"
   ],
   "metadata": {
    "collapsed": false,
    "ExecuteTime": {
     "end_time": "2025-07-12T04:53:31.397217Z",
     "start_time": "2025-07-12T04:46:38.816873Z"
    }
   },
   "id": "7aab0fd63fd4c250",
   "execution_count": 32
  },
  {
   "cell_type": "code",
   "outputs": [],
   "source": [
    "param_features = ['utm_source', 'utm_medium', 'device_brand', 'visit_number', 'utm_campaign', 'has_utm_keyword']\n",
    "category_features = ['utm_source', 'utm_medium', 'device_brand', 'utm_campaign']"
   ],
   "metadata": {
    "collapsed": false,
    "ExecuteTime": {
     "end_time": "2025-07-12T04:02:48.626809Z",
     "start_time": "2025-07-12T04:02:48.623541Z"
    }
   },
   "id": "6c5c2dc4ce21d8bd",
   "execution_count": 23
  },
  {
   "cell_type": "code",
   "outputs": [
    {
     "name": "stdout",
     "output_type": "stream",
     "text": [
      "Feature set ['utm_source', 'utm_medium', 'device_brand', 'visit_number', 'utm_campaign', 'has_utm_keyword']\n",
      "{'iterations': 672, 'depth': 8, 'learning_rate': 0.08743604703974947, 'l2_leaf_reg': 4, 'random_seed': 42, 'task_type': 'GPU', 'devices': '0', 'auto_class_weights': 'Balanced', 'verbose': 0}\n",
      "Фолд 1 ROC-AUC: 0.7066\n",
      "Фолд 2 ROC-AUC: 0.7132\n",
      "Фолд 3 ROC-AUC: 0.7145\n",
      "Фолд 4 ROC-AUC: 0.7100\n",
      "Фолд 5 ROC-AUC: 0.7134\n",
      "\n",
      "Средний AUC: 0.7115 ± 0.0029\n"
     ]
    }
   ],
   "source": [
    "cross_validation(param_features, category_features, loads_params)"
   ],
   "metadata": {
    "collapsed": false,
    "ExecuteTime": {
     "end_time": "2025-07-12T04:13:24.530215Z",
     "start_time": "2025-07-12T04:02:50.168269Z"
    }
   },
   "id": "e1a5b15f11e4b7a",
   "execution_count": 24
  },
  {
   "cell_type": "code",
   "outputs": [],
   "source": [
    "param_features = ['utm_source', 'utm_medium', 'device_brand', 'is_returning', 'utm_campaign', 'has_utm_keyword']\n",
    "category_features = ['utm_source', 'utm_medium', 'device_brand', 'utm_campaign']"
   ],
   "metadata": {
    "collapsed": false,
    "ExecuteTime": {
     "end_time": "2025-07-12T04:21:54.735263Z",
     "start_time": "2025-07-12T04:21:54.731222Z"
    }
   },
   "id": "5267ea70eca2aa89",
   "execution_count": 25
  },
  {
   "cell_type": "code",
   "outputs": [
    {
     "name": "stdout",
     "output_type": "stream",
     "text": [
      "Feature set ['utm_source', 'utm_medium', 'device_brand', 'is_returning', 'utm_campaign', 'has_utm_keyword']\n",
      "{'iterations': 672, 'depth': 8, 'learning_rate': 0.08743604703974947, 'l2_leaf_reg': 4, 'random_seed': 42, 'task_type': 'GPU', 'devices': '0', 'auto_class_weights': 'Balanced', 'verbose': 0}\n",
      "Фолд 1 ROC-AUC: 0.7038\n",
      "Фолд 2 ROC-AUC: 0.7106\n",
      "Фолд 3 ROC-AUC: 0.7111\n",
      "Фолд 4 ROC-AUC: 0.7065\n",
      "Фолд 5 ROC-AUC: 0.7098\n",
      "\n",
      "Средний AUC: 0.7084 ± 0.0028\n"
     ]
    }
   ],
   "source": [
    "cross_validation(param_features, category_features, loads_params)"
   ],
   "metadata": {
    "collapsed": false,
    "ExecuteTime": {
     "end_time": "2025-07-12T04:28:42.545925Z",
     "start_time": "2025-07-12T04:21:56.117187Z"
    }
   },
   "id": "23024e1f2e043f1",
   "execution_count": 26
  },
  {
   "cell_type": "markdown",
   "source": [],
   "metadata": {
    "collapsed": false
   },
   "id": "9502248601d4a098"
  },
  {
   "cell_type": "code",
   "outputs": [],
   "source": [
    "param_features = ['utm_source', 'utm_medium', 'device_brand', 'visit_number', 'utm_campaign', 'utm_keyword', 'visit_month']\n",
    "category_features = ['utm_source', 'utm_medium', 'device_brand', 'utm_campaign', 'utm_keyword']"
   ],
   "metadata": {
    "collapsed": false,
    "ExecuteTime": {
     "end_time": "2025-07-14T17:25:01.725713Z",
     "start_time": "2025-07-14T17:25:01.721579Z"
    }
   },
   "id": "104f2ec6f5404d46",
   "execution_count": 7
  },
  {
   "cell_type": "code",
   "outputs": [
    {
     "name": "stdout",
     "output_type": "stream",
     "text": [
      "Feature set ['utm_source', 'utm_medium', 'device_brand', 'visit_number', 'utm_campaign', 'utm_keyword', 'visit_month']\n",
      "{'iterations': 672, 'depth': 8, 'learning_rate': 0.08743604703974947, 'l2_leaf_reg': 4, 'random_seed': 42, 'task_type': 'GPU', 'devices': '0', 'auto_class_weights': 'Balanced', 'verbose': 0}\n",
      "Фолд 1 ROC-AUC: 0.7331\n",
      "Фолд 2 ROC-AUC: 0.7350\n",
      "Фолд 3 ROC-AUC: 0.7354\n",
      "Фолд 4 ROC-AUC: 0.7322\n",
      "Фолд 5 ROC-AUC: 0.7356\n",
      "\n",
      "Средний AUC: 0.7343 ± 0.0013\n"
     ]
    }
   ],
   "source": [
    "cross_validation(param_features, category_features, loads_params)"
   ],
   "metadata": {
    "collapsed": false,
    "ExecuteTime": {
     "end_time": "2025-07-14T17:32:50.241935Z",
     "start_time": "2025-07-14T17:25:02.999978Z"
    }
   },
   "id": "a388cbb2741296ce",
   "execution_count": 8
  },
  {
   "cell_type": "code",
   "outputs": [],
   "source": [
    "del X_CROSS"
   ],
   "metadata": {
    "collapsed": false,
    "ExecuteTime": {
     "end_time": "2025-07-10T15:38:24.787821Z",
     "start_time": "2025-07-10T15:38:24.675830Z"
    }
   },
   "id": "38e021fa90104dda",
   "execution_count": 12
  },
  {
   "cell_type": "code",
   "outputs": [],
   "source": [],
   "metadata": {
    "collapsed": false
   },
   "id": "b57a75d4a39b5902"
  }
 ],
 "metadata": {
  "kernelspec": {
   "display_name": "Python 3",
   "language": "python",
   "name": "python3"
  },
  "language_info": {
   "codemirror_mode": {
    "name": "ipython",
    "version": 2
   },
   "file_extension": ".py",
   "mimetype": "text/x-python",
   "name": "python",
   "nbconvert_exporter": "python",
   "pygments_lexer": "ipython2",
   "version": "2.7.6"
  }
 },
 "nbformat": 4,
 "nbformat_minor": 5
}
